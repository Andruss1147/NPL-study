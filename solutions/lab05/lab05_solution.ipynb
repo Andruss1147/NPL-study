{
 "cells": [
  {
   "cell_type": "markdown",
   "metadata": {
    "deletable": true,
    "editable": true
   },
   "source": [
    "# Лаба 5: Определение принадлежности текстов к заданной тематике"
   ]
  },
  {
   "cell_type": "code",
   "execution_count": null,
   "metadata": {
    "collapsed": true
   },
   "outputs": [],
   "source": [
    "# -*- coding: utf-8 -*-\n",
    "#from __future__ import unicode_literals\n",
    "import numpy as np\n",
    "\n",
    "from bs4 import BeautifulSoup\n",
    "\n",
    "import codecs\n",
    "\n",
    "from sklearn.feature_extraction.text import TfidfVectorizer\n",
    "from sklearn.metrics.pairwise import cosine_similarity\n",
    "\n",
    "%matplotlib inline\n",
    "from matplotlib import pyplot as plt\n",
    "import seaborn"
   ]
  },
  {
   "cell_type": "code",
   "execution_count": 107,
   "metadata": {
    "collapsed": false,
    "deletable": true,
    "editable": true
   },
   "outputs": [],
   "source": [
    "from pymystem3 import Mystem\n",
    "m = Mystem()\n",
    "\n",
    "from nltk.tokenize import RegexpTokenizer\n",
    "tokenizer = RegexpTokenizer(u'[A-Za-zА-Яа-яёЁ]+')"
   ]
  },
  {
   "cell_type": "code",
   "execution_count": 3,
   "metadata": {
    "collapsed": true,
    "deletable": true,
    "editable": true
   },
   "outputs": [],
   "source": [
    "def cos_m(x,y):\n",
    "    return abs(cosine_similarity(x,y)[0][0])\n",
    "\n",
    "#TODO - generator?\n",
    "def tokenize(text):\n",
    "    tokens = tokenizer.tokenize(text)\n",
    "    lemms = []\n",
    "    for i in tokens:\n",
    "        if len(i)>2:\n",
    "            lemms.append(m.lemmatize(i)[0])\n",
    "    return lemms"
   ]
  },
  {
   "cell_type": "code",
   "execution_count": 146,
   "metadata": {
    "collapsed": true,
    "deletable": true,
    "editable": true
   },
   "outputs": [],
   "source": [
    "#ids of texts you need to classify\n",
    "ids=[3078, 1689, 2062, 1040, 2066, 3603, 1911, 2583, 24, 30, 945, 548, 2087, 1885, 2603, 1580, 45, 46, 1074, 56, 2618, 572, 3647, 3649, 3931, 70, 587, 588, 589, 1616, 3001, 1107, 2646, 1113, 1626, 1117, 2918, 612, 1639, 2668, 109, 1136, 3700, 2166, 2167, 1658, 2496, 2173, 3203, 3180, 1669, 3719, 3722, 536, 658, 2195, 2708, 3927, 2712, 2201, 1690, 3184, 1183, 1697, 3235, 1188, 2215, 174, 1054, 1201, 808, 1717, 695, 2232, 1723, 1725, 1227, 3775, 3264, 705, 1740, 2758, 3783, 712, 715, 1228, 2253, 2259, 3285, 2372, 2682, 219, 740, 1831, 2280, 3818, 748, 1747, 2799, 1406, 1270, 1273, 213, 384, 766, 1279, 2816, 1281, 913, 2313, 3800, 269, 3715, 777, 2324, 789, 3795, 2332, 1311, 1825, 290, 1827, 2343, 1586, 298, 2861, 3886, 3375, 2353, 2355, 2356, 1343, 1345, 2370, 1347, 324, 1355, 1361, 2901, 1367, 1371, 861, 3426, 2806, 356, 358, 3433, 364, 372, 375, 3454, 1920, 903, 3906, 2954, 907, 2456, 909, 910, 3566, 1937, 402, 1428, 751, 3738, 1289, 413, 2977, 1180, 2469, 2982, 1967, 2480, 1457, 441, 3318, 450, 3526, 3530, 1016, 3025, 978, 2003, 468, 562, 3544, 479, 409, 484, 2026, 2028, 2030, 496, 1524, 1013, 887, 1015, 870, 836, 511]\n",
    "\n",
    "texts_index = list(zip(range(200), ids))"
   ]
  },
  {
   "cell_type": "code",
   "execution_count": 147,
   "metadata": {
    "collapsed": false
   },
   "outputs": [
    {
     "data": {
      "text/plain": [
       "(200, 200)"
      ]
     },
     "execution_count": 147,
     "metadata": {},
     "output_type": "execute_result"
    }
   ],
   "source": [
    "len(ids), len(texts_index)"
   ]
  },
  {
   "cell_type": "code",
   "execution_count": 111,
   "metadata": {
    "collapsed": false,
    "deletable": true,
    "editable": true
   },
   "outputs": [
    {
     "data": {
      "text/plain": [
       "20"
      ]
     },
     "execution_count": 111,
     "metadata": {},
     "output_type": "execute_result"
    }
   ],
   "source": [
    "texts = []\n",
    "for i in range(1,21):\n",
    "    f = codecs.open('/data/lab05data/data/base_'+str(i)+'.txt', 'r', 'utf-8')\n",
    "    text = f.readlines()\n",
    "    texts.append(BeautifulSoup(text[0], \"lxml\").text.lower())\n",
    "len(texts)"
   ]
  },
  {
   "cell_type": "code",
   "execution_count": 112,
   "metadata": {
    "collapsed": false,
    "deletable": true,
    "editable": true
   },
   "outputs": [
    {
     "data": {
      "text/plain": [
       "220"
      ]
     },
     "execution_count": 112,
     "metadata": {},
     "output_type": "execute_result"
    }
   ],
   "source": [
    "for i in ids:\n",
    "    f = codecs.open('/data/lab05data/data/test_'+str(i)+'.txt', 'r', 'utf-8')\n",
    "    text = f.readlines()\n",
    "    texts.append(BeautifulSoup(text[0], \"lxml\").text.lower())\n",
    "len(texts)"
   ]
  },
  {
   "cell_type": "code",
   "execution_count": 64,
   "metadata": {
    "collapsed": true
   },
   "outputs": [
    {
     "name": "stdout",
     "output_type": "stream",
     "text": [
      "ищем прекрасного программиста 1с в дружный отдел сотрудников сферы it с неутомительным режимом работы. у нас есть 1с 8.2, 8.3, бухгалтерия строительной организации, жкх, зуп + самописные. что надо делать: - доработать существующие конфигурации,- разработать новые конфигураций,- отчеты, базы данных...- осуществлять поддержку наших продвинутых пользователей режим работы с 10 до 18 по вторникам и пятницам (строго!).  \n",
      "предлагаем уникальную возможность присоединиться к команде, разрабатывающей и выпускающей следующее поколение корпоративных антивирусных продуктов. вам будет отведена важная роль в разработке как основного продукта так и смежных инфраструктурных проектов и кастомизиций.   чем придется заниматься:   участие в разработке основной линейки антивирусных продуктов лаборатории касперского   работа в ключевой команде опытных разработчиков лк     что нужно знать и уметь:   отличное знание c# и .net framework.   отличное знание c++ и опыт практического использования (win32).   понимание парадигм ооп.   умение разбираться в чужом коде   технический английский   ответственность, исполнительность, инициативность, внимание к деталям.   умение самостоятельно и полностью доводить до конца поставленные задачи.     приветствуется:   опыт работы с tfs     условия:   белая заработная плата   трудоустройство по тк рф   отличная программа дмс  \n",
      "netcracker technology corp., a large software development company and one of the world’s most respected toms solutions (telecommunications operations and management solutions) companies, has an opening for:   technical managerresponsibilities:    managing a team of 3-8 or more developers; carrying out various development projects of the duration from 1 week up to several months through the full cycle starting from the requirements gathering and up to product implementation and documentation preparation; participating customer implementation projects; carrying out presales demonstration projects, resulting in presenting demonstrations basing on customer requirements.  qualification:  high technical degree; minimum of 3 years experience as a developer/lead developer; minimum of 2 years technical management experience; excellent knowledge of java, j2ee; very good technical english verbal/writing skills; successful experience in managing it projects; excellent communication and team building abilities; business-like presence and ability to interact professionally with customers; willingness to work as a lead java developer for the starting period; experience in working in telecommunications areas; excellent english language; ability to travel both within the country and abroad.  we offer:  opportunities for career development; opportunities to make business trips (europe, canada, usa, australia, etc); professional growth in the international business environment; medical insurance for employees; friendly atmosphere, sports activities and corporate events; salary will be discussed individually with the successful candidate. \n",
      "senior java software engineer в отдел разработки графических приложений netcracker technology   о компании: компания netcracker technology – мировой лидер в области создания и внедрения комплексных bss/oss-решений для провайдеров услуг связи, крупных предприятий и государственных учреждений. наши успехи в области предоставления решений и сервисов по управлению телекоммуникационными операциями признаны ведущими консалтинговыми компаниями и аналитическими агентствами, включая gartner, analysys mason и stratecast. вместе с тем, компания netcracker получила наивысшее признание от двух ведущих организаций по стандартизации в индустрии информационно-коммуникационных технологий - tm forum и университета carnegie mellon. благодаря обширным экспертным знаниям и многолетнему опыту разработки и внедрения решений netcracker предоставляет большие возможности для профессионального развития и карьерного роста.   об отделе: мы занимаемся разработкой пользовательских интерфейсов, в которых ключевым элементом является графическое представление данных и манипуляция с данными в графическом виде. иногда лучше увидеть 1 картинку, чем 100 таблиц. схемы топологии сети, представление данных в привязке к географической карте, визуализация телекоммуникационных ресурсов – вот лишь некоторые примеры приложений, которые мы разрабатываем. помимо разработки интерфейсов и рабочих мест, с которыми работают конечные пользователи нашей системы, мы также отвечаем за разработку и развитие платформы netcracker для построения графических приложений. на основе этой платформы строятся наши собственные приложения и приложения, разрабатываемые другими отделами разработки продукта для своих предметных областей, а также решения под конкретных заказчиков, разрабатываемые командами внедрений. мы уделяем большое внимание не только тому, что мы делаем, но и тому, как мы это делаем, активно применяя в своей работе такие практики разработки как unit testing, code review, continuous integration, pair programming. senior java software engineer: вам предстоит:  вместе с командой создавать новые и развивать существующие графические приложения в составе продукта netcracker; принимать непосредственное участие в создании и развитии графической платформы netcracker на базе gwt с использованием средств html5; вместе с командой принимать технические и архитектурные решения.    требования:  опыт промышленной разработки на платформе java- от 3х лет; хорошие знания java se; знание ооп; знание паттернов и анти-паттернов проектирования по; умение написания unit test’ов; ответственность, самостоятельность, организованность; умение работать в команде;  плюсами будут:  понимание основ построения пользовательских интерфейсов; знание и опыт работы с gwt, restful services; опыт разработки ria на любой платформе; знание и опыт работы с maven; опыт работы с di frameworks; опыт применения таких практик разработки как tdd, continuous integration, code review, pair programming; опыт работы по agile методологиям ведения проектов; знание java script; знакомство с html, css; опыт работы c html/js gis библиотеками; опыт работы с графическими библиотеками на базе html5; знание java ee;  условия:  место работы: нижний новгород, деловой центр \"ока\"; возможность для профессионального и карьерного роста в компании; медицинская страховка (включая стоматологию); спортивные и корпоративные мероприятия; дружный коллектив; заработная плата обсуждается по результатам интервью. \n",
      "netcracker technology corp., a large software development company and one of the world’s most respected toms solutions (telecommunications operations and management solutions) companies, has an opening for: software developer responsibilities:  writing code in java and sql; taking part in system design, creating specifications; taking part in internal, customer and pre-sales projects as a developer.  qualification:  high technical degree; minimum 2 years experience as a developer; minimum 1 year experience in java, j2ee technologies; experience in commercial projects; good technical english verbal/writing skills; good english skills is an advantage.   optional requirements:  experience in working in telecommunications areas; experience in working with oracle server (sql, pl-sql); experience in development of web-based systems.  we offer:  opportunities for career development; opportunities to make business trips (europe, canada, usa, australia, etc); professional growth in the international business environment;  medical insurance for employees; friendly atmosphere, sports activities and corporate events; salary will be discussed individually with the successful candidate. \n"
     ]
    }
   ],
   "source": [
    "print(\"\\n\".join(texts[:5]))"
   ]
  },
  {
   "cell_type": "code",
   "execution_count": 113,
   "metadata": {
    "collapsed": true
   },
   "outputs": [],
   "source": [
    "stop_words = [\"еще\", \"него\", \"сказать\", \"а\", \"ж\", \"нее\", \"со\", \"без\", \"же\", \"ней\", \"совсем\", \"более\", \"жизнь\", \n",
    "              \"нельзя\", \"так\", \"больше\", \"за\", \"нет\", \"такой\", \"будет\", \"зачем\", \"ни\", \"там\", \"будто\", \"здесь\", \n",
    "              \"нибудь\", \"тебя\", \"бы\", \"и\", \"никогда\", \"тем\", \"был\", \"из\", \"ним\", \"теперь\", \"была\", \"из\", \"за\",\n",
    "              \"них\", \"то\", \"были\", \"или\", \"ничего\", \"тогда\", \"было\", \"им\", \"но\", \"того\", \"быть\", \"иногда\", \"ну\", \n",
    "              \"тоже\", \"в\", \"их\", \"о\", \"только\", \"вам\", \"к\", \"об\", \"том\", \"вас\", \"кажется\", \"один\", \"тот\", \"вдруг\",\n",
    "              \"как\", \"он\", \"три\", \"ведь\", \"какая\", \"она\", \"тут\", \"во\", \"какой\", \"они\", \"ты\", \"вот\", \"когда\", \"опять\",\n",
    "              \"у\", \"впрочем\", \"конечно\", \"от\", \"уж\", \"все\", \"которого\", \"перед\", \"уже\", \"всегда\", \"которые\", \"по\",\n",
    "              \"хорошо\", \"всего\", \"кто\", \"под\", \"хоть\", \"всех\", \"куда\", \"после\", \"чего\", \"всю\", \"ли\", \"потом\", \"человек\",\n",
    "              \"вы\", \"лучше\", \"потому\", \"чем\", \"г\", \"между\", \"почти\", \"через\", \"где\", \"меня\", \"при\", \"что\", \"говорил\",\n",
    "              \"мне\", \"про\", \"чтоб\", \"да\", \"много\", \"раз\", \"чтобы\", \"даже\", \"может\", \"разве\", \"чуть\", \"два\", \"можно\",\n",
    "              \"с\", \"эти\", \"для\", \"мой\", \"сам\", \"этого\", \"до\", \"моя\", \"свое\", \"этой\", \"другой\", \"мы\", \"свою\", \"этом\",\n",
    "              \"его\", \"на\", \"себе\", \"этот\", \"ее\", \"над\", \"себя\", \"эту\", \"ей\", \"надо\", \"сегодня\", \"я\", \"ему\", \"наконец\",\n",
    "              \"сейчас\", \"если\", \"нас\", \"сказал\", \"есть\", \"не\", \"сказала\"]"
   ]
  },
  {
   "cell_type": "code",
   "execution_count": 114,
   "metadata": {
    "collapsed": false,
    "scrolled": true
   },
   "outputs": [],
   "source": [
    "\n",
    "tfidf_vec = TfidfVectorizer(norm=None, \n",
    "                            smooth_idf=False, \n",
    "                            token_pattern=u'[A-Za-zА-Яа-яёЁ]+', \n",
    "                            stop_words=stop_words)\n",
    "m_tfidf = tfidf_vec.fit_transform(texts)\n",
    "matrix_tfidf = m_tfidf.toarray()"
   ]
  },
  {
   "cell_type": "code",
   "execution_count": 115,
   "metadata": {
    "collapsed": false
   },
   "outputs": [
    {
     "data": {
      "text/plain": [
       "(220, 6605)"
      ]
     },
     "execution_count": 115,
     "metadata": {},
     "output_type": "execute_result"
    }
   ],
   "source": [
    "m_tfidf.shape"
   ]
  },
  {
   "cell_type": "code",
   "execution_count": 35,
   "metadata": {
    "collapsed": false,
    "scrolled": true
   },
   "outputs": [
    {
     "data": {
      "text/plain": [
       "(1, 6605)"
      ]
     },
     "execution_count": 35,
     "metadata": {},
     "output_type": "execute_result"
    }
   ],
   "source": [
    "m_tfidf.todense()[0].shape"
   ]
  },
  {
   "cell_type": "code",
   "execution_count": 116,
   "metadata": {
    "collapsed": false,
    "deletable": true,
    "editable": true
   },
   "outputs": [
    {
     "name": "stdout",
     "output_type": "stream",
     "text": [
      "CPU times: user 2h 2min 7s, sys: 6h 28min 48s, total: 8h 30min 55s\n",
      "Wall time: 17min 28s\n"
     ]
    }
   ],
   "source": [
    "%%time\n",
    "y = []\n",
    "for i in matrix_tfidf[20:]:\n",
    "    s = 0\n",
    "    for j in matrix_tfidf[:20]:\n",
    "        s += cos_m(j.reshape(-1, 1), i.reshape(-1, 1))  \n",
    "    y.append( s )"
   ]
  },
  {
   "cell_type": "code",
   "execution_count": 125,
   "metadata": {
    "collapsed": true
   },
   "outputs": [],
   "source": [
    "from joblib import Parallel, delayed\n",
    "\n",
    "def cosine_p(i):\n",
    "    s = 0\n",
    "    for j in range(0,20):\n",
    "        s += cos_m(matrix_tfidf[j].reshape(-1, 1), matrix_tfidf[i].reshape(-1, 1))  \n",
    "    return s"
   ]
  },
  {
   "cell_type": "code",
   "execution_count": 126,
   "metadata": {
    "collapsed": false
   },
   "outputs": [
    {
     "name": "stdout",
     "output_type": "stream",
     "text": [
      "CPU times: user 0 ns, sys: 0 ns, total: 0 ns\n",
      "Wall time: 13.1 µs\n"
     ]
    },
    {
     "name": "stderr",
     "output_type": "stream",
     "text": [
      "[Parallel(n_jobs=-1)]: Done  88 tasks      | elapsed:  2.0min\n",
      "[Parallel(n_jobs=-1)]: Done 200 out of 200 | elapsed:  3.4min finished\n"
     ]
    }
   ],
   "source": [
    "%%time\n",
    "results = Parallel(n_jobs=-1, verbose=1, backend=\"multiprocessing\")(\n",
    "             map(delayed(cosine_p), range(20,len(matrix_tfidf)))\n",
    ")"
   ]
  },
  {
   "cell_type": "code",
   "execution_count": 117,
   "metadata": {
    "collapsed": false,
    "scrolled": false
   },
   "outputs": [
    {
     "data": {
      "text/plain": [
       "array([[ 0.        ,  0.        ,  0.        , ...,  0.        ,\n",
       "         0.        ,  0.        ],\n",
       "       [ 0.        ,  0.        ,  0.        , ...,  0.        ,\n",
       "         0.        ,  0.        ],\n",
       "       [18.40747231,  0.        ,  0.        , ...,  0.        ,\n",
       "         0.        ,  0.        ],\n",
       "       ...,\n",
       "       [ 0.        ,  0.        ,  0.        , ...,  0.        ,\n",
       "         0.        ,  0.        ],\n",
       "       [ 0.        ,  0.        ,  0.        , ...,  0.        ,\n",
       "         0.        ,  0.        ],\n",
       "       [ 0.        ,  0.        ,  0.        , ...,  0.        ,\n",
       "         0.        ,  0.        ]])"
      ]
     },
     "execution_count": 117,
     "metadata": {},
     "output_type": "execute_result"
    }
   ],
   "source": [
    "matrix_tfidf"
   ]
  },
  {
   "cell_type": "code",
   "execution_count": 119,
   "metadata": {
    "collapsed": false
   },
   "outputs": [
    {
     "data": {
      "text/plain": [
       "220"
      ]
     },
     "execution_count": 119,
     "metadata": {},
     "output_type": "execute_result"
    }
   ],
   "source": [
    "len(matrix_tfidf)"
   ]
  },
  {
   "cell_type": "code",
   "execution_count": null,
   "metadata": {
    "collapsed": true
   },
   "outputs": [],
   "source": [
    "from numba import jit\n",
    "from numpy import arange"
   ]
  },
  {
   "cell_type": "code",
   "execution_count": 127,
   "metadata": {
    "collapsed": false,
    "deletable": true,
    "editable": true,
    "scrolled": false
   },
   "outputs": [
    {
     "data": {
      "text/plain": [
       "[<matplotlib.lines.Line2D at 0x7f380d87e550>]"
      ]
     },
     "execution_count": 127,
     "metadata": {},
     "output_type": "execute_result"
    },
    {
     "data": {
      "image/png": "[encoded data removed]",
      "text/plain": [
       "<matplotlib.figure.Figure at 0x7f380dab2a90>"
      ]
     },
     "metadata": {},
     "output_type": "display_data"
    }
   ],
   "source": [
    "plt.plot(sorted(results))"
   ]
  },
  {
   "cell_type": "code",
   "execution_count": 42,
   "metadata": {
    "collapsed": false,
    "scrolled": true
   },
   "outputs": [
    {
     "name": "stdout",
     "output_type": "stream",
     "text": [
      "CPU times: user 282 ms, sys: 0 ns, total: 282 ms\n",
      "Wall time: 341 ms\n"
     ]
    }
   ],
   "source": [
    "%%time\n",
    "from scipy.spatial.distance import pdist\n",
    "y_cosine = pdist(matrix_tfidf, metric='cosine')"
   ]
  },
  {
   "cell_type": "code",
   "execution_count": 43,
   "metadata": {
    "collapsed": false
   },
   "outputs": [
    {
     "data": {
      "text/plain": [
       "array([0.9981821 , 0.99571929, 0.96855195, ..., 0.97834534, 0.99072965,\n",
       "       0.97093302])"
      ]
     },
     "execution_count": 43,
     "metadata": {},
     "output_type": "execute_result"
    }
   ],
   "source": [
    "y_cosine"
   ]
  },
  {
   "cell_type": "code",
   "execution_count": 41,
   "metadata": {
    "collapsed": false,
    "scrolled": true
   },
   "outputs": [
    {
     "ename": "ValueError",
     "evalue": "Found array with dim 3. check_pairwise_arrays expected <= 2.",
     "output_type": "error",
     "traceback": [
      "\u001b[0;31m---------------------------------------------------------------------------\u001b[0m",
      "\u001b[0;31mValueError\u001b[0m                                Traceback (most recent call last)",
      "\u001b[0;32m<ipython-input-41-002eb82281c5>\u001b[0m in \u001b[0;36m<module>\u001b[0;34m()\u001b[0m\n\u001b[1;32m      1\u001b[0m \u001b[0;32mimport\u001b[0m \u001b[0mnumpy\u001b[0m \u001b[0;32mas\u001b[0m \u001b[0mnp\u001b[0m\u001b[0;34m\u001b[0m\u001b[0m\n\u001b[0;32m----> 2\u001b[0;31m \u001b[0my_np\u001b[0m \u001b[0;34m=\u001b[0m \u001b[0mnp\u001b[0m\u001b[0;34m.\u001b[0m\u001b[0msum\u001b[0m\u001b[0;34m(\u001b[0m\u001b[0mcosine_similarity\u001b[0m\u001b[0;34m(\u001b[0m\u001b[0mmatrix_tfidf\u001b[0m\u001b[0;34m[\u001b[0m\u001b[0;32mNone\u001b[0m\u001b[0;34m,\u001b[0m\u001b[0;34m:\u001b[0m\u001b[0;34m]\u001b[0m\u001b[0;34m,\u001b[0m \u001b[0mmatrix_tfidf\u001b[0m\u001b[0;34m[\u001b[0m\u001b[0;34m:\u001b[0m\u001b[0;34m,\u001b[0m \u001b[0;32mNone\u001b[0m\u001b[0;34m]\u001b[0m\u001b[0;34m)\u001b[0m\u001b[0;34m,\u001b[0m \u001b[0;34m-\u001b[0m\u001b[0;36m1\u001b[0m\u001b[0;34m)\u001b[0m\u001b[0;34m\u001b[0m\u001b[0m\n\u001b[0m",
      "\u001b[0;32m/usr/local/lib/python3.6/dist-packages/sklearn/metrics/pairwise.py\u001b[0m in \u001b[0;36mcosine_similarity\u001b[0;34m(X, Y, dense_output)\u001b[0m\n\u001b[1;32m    915\u001b[0m     \u001b[0;31m# to avoid recursive import\u001b[0m\u001b[0;34m\u001b[0m\u001b[0;34m\u001b[0m\u001b[0m\n\u001b[1;32m    916\u001b[0m \u001b[0;34m\u001b[0m\u001b[0m\n\u001b[0;32m--> 917\u001b[0;31m     \u001b[0mX\u001b[0m\u001b[0;34m,\u001b[0m \u001b[0mY\u001b[0m \u001b[0;34m=\u001b[0m \u001b[0mcheck_pairwise_arrays\u001b[0m\u001b[0;34m(\u001b[0m\u001b[0mX\u001b[0m\u001b[0;34m,\u001b[0m \u001b[0mY\u001b[0m\u001b[0;34m)\u001b[0m\u001b[0;34m\u001b[0m\u001b[0m\n\u001b[0m\u001b[1;32m    918\u001b[0m \u001b[0;34m\u001b[0m\u001b[0m\n\u001b[1;32m    919\u001b[0m     \u001b[0mX_normalized\u001b[0m \u001b[0;34m=\u001b[0m \u001b[0mnormalize\u001b[0m\u001b[0;34m(\u001b[0m\u001b[0mX\u001b[0m\u001b[0;34m,\u001b[0m \u001b[0mcopy\u001b[0m\u001b[0;34m=\u001b[0m\u001b[0;32mTrue\u001b[0m\u001b[0;34m)\u001b[0m\u001b[0;34m\u001b[0m\u001b[0m\n",
      "\u001b[0;32m/usr/local/lib/python3.6/dist-packages/sklearn/metrics/pairwise.py\u001b[0m in \u001b[0;36mcheck_pairwise_arrays\u001b[0;34m(X, Y, precomputed, dtype)\u001b[0m\n\u001b[1;32m    108\u001b[0m     \u001b[0;32melse\u001b[0m\u001b[0;34m:\u001b[0m\u001b[0;34m\u001b[0m\u001b[0m\n\u001b[1;32m    109\u001b[0m         X = check_array(X, accept_sparse='csr', dtype=dtype,\n\u001b[0;32m--> 110\u001b[0;31m                         warn_on_dtype=warn_on_dtype, estimator=estimator)\n\u001b[0m\u001b[1;32m    111\u001b[0m         Y = check_array(Y, accept_sparse='csr', dtype=dtype,\n\u001b[1;32m    112\u001b[0m                         warn_on_dtype=warn_on_dtype, estimator=estimator)\n",
      "\u001b[0;32m/usr/local/lib/python3.6/dist-packages/sklearn/utils/validation.py\u001b[0m in \u001b[0;36mcheck_array\u001b[0;34m(array, accept_sparse, dtype, order, copy, force_all_finite, ensure_2d, allow_nd, ensure_min_samples, ensure_min_features, warn_on_dtype, estimator)\u001b[0m\n\u001b[1;32m    449\u001b[0m         \u001b[0;32mif\u001b[0m \u001b[0;32mnot\u001b[0m \u001b[0mallow_nd\u001b[0m \u001b[0;32mand\u001b[0m \u001b[0marray\u001b[0m\u001b[0;34m.\u001b[0m\u001b[0mndim\u001b[0m \u001b[0;34m>=\u001b[0m \u001b[0;36m3\u001b[0m\u001b[0;34m:\u001b[0m\u001b[0;34m\u001b[0m\u001b[0m\n\u001b[1;32m    450\u001b[0m             raise ValueError(\"Found array with dim %d. %s expected <= 2.\"\n\u001b[0;32m--> 451\u001b[0;31m                              % (array.ndim, estimator_name))\n\u001b[0m\u001b[1;32m    452\u001b[0m         \u001b[0;32mif\u001b[0m \u001b[0mforce_all_finite\u001b[0m\u001b[0;34m:\u001b[0m\u001b[0;34m\u001b[0m\u001b[0m\n\u001b[1;32m    453\u001b[0m             \u001b[0m_assert_all_finite\u001b[0m\u001b[0;34m(\u001b[0m\u001b[0marray\u001b[0m\u001b[0;34m)\u001b[0m\u001b[0;34m\u001b[0m\u001b[0m\n",
      "\u001b[0;31mValueError\u001b[0m: Found array with dim 3. check_pairwise_arrays expected <= 2."
     ]
    }
   ],
   "source": [
    "import numpy as np\n",
    "#y_np = np.sum(cosine_similarity(matrix_tfidf[None,:], matrix_tfidf[:, None]), -1)"
   ]
  },
  {
   "cell_type": "code",
   "execution_count": 14,
   "metadata": {
    "collapsed": false
   },
   "outputs": [
    {
     "data": {
      "text/plain": [
       "(420, 6605)"
      ]
     },
     "execution_count": 14,
     "metadata": {},
     "output_type": "execute_result"
    }
   ],
   "source": [
    "matrix_tfidf.shape"
   ]
  },
  {
   "cell_type": "code",
   "execution_count": 18,
   "metadata": {
    "collapsed": false
   },
   "outputs": [
    {
     "data": {
      "text/plain": [
       "400"
      ]
     },
     "execution_count": 18,
     "metadata": {},
     "output_type": "execute_result"
    }
   ],
   "source": [
    "len(y)"
   ]
  },
  {
   "cell_type": "code",
   "execution_count": 30,
   "metadata": {
    "collapsed": false
   },
   "outputs": [
    {
     "data": {
      "text/plain": [
       "(87990,)"
      ]
     },
     "execution_count": 30,
     "metadata": {},
     "output_type": "execute_result"
    }
   ],
   "source": [
    "y_cosine.shape"
   ]
  },
  {
   "cell_type": "code",
   "execution_count": 31,
   "metadata": {
    "collapsed": false
   },
   "outputs": [
    {
     "data": {
      "text/plain": [
       "array([0.9981821 , 0.99571929, 0.96855195, ..., 0.97834534, 0.99072965,\n",
       "       0.97093302])"
      ]
     },
     "execution_count": 31,
     "metadata": {},
     "output_type": "execute_result"
    }
   ],
   "source": [
    "y_cosine"
   ]
  },
  {
   "cell_type": "code",
   "execution_count": 21,
   "metadata": {
    "collapsed": false
   },
   "outputs": [
    {
     "data": {
      "text/plain": [
       "[0.0,\n",
       " 0.0,\n",
       " 0.0,\n",
       " 0.0,\n",
       " 0.0,\n",
       " 0.0,\n",
       " 0.0,\n",
       " 0.0,\n",
       " 0.0,\n",
       " 0.0,\n",
       " 0.0,\n",
       " 0.0,\n",
       " 0.0,\n",
       " 0.0,\n",
       " 0.0,\n",
       " 0.0,\n",
       " 0.0,\n",
       " 0.0,\n",
       " 0.0,\n",
       " 0.0,\n",
       " 0.0,\n",
       " 0.0,\n",
       " 0.0,\n",
       " 0.0,\n",
       " 0.0,\n",
       " 0.0,\n",
       " 0.0,\n",
       " 0.0,\n",
       " 0.0,\n",
       " 0.0,\n",
       " 0.0,\n",
       " 0.0,\n",
       " 0.0,\n",
       " 0.0,\n",
       " 0.0,\n",
       " 0.0,\n",
       " 0.0,\n",
       " 0.0,\n",
       " 0.0,\n",
       " 0.0,\n",
       " 0.0,\n",
       " 0.0,\n",
       " 0.0,\n",
       " 0.0,\n",
       " 0.0,\n",
       " 0.0,\n",
       " 0.0,\n",
       " 0.0,\n",
       " 0.0,\n",
       " 0.0,\n",
       " 0.0,\n",
       " 0.0,\n",
       " 0.0,\n",
       " 0.0,\n",
       " 0.0,\n",
       " 0.0,\n",
       " 0.0,\n",
       " 0.0,\n",
       " 0.0,\n",
       " 0.0,\n",
       " 0.0,\n",
       " 0.0,\n",
       " 0.0,\n",
       " 0.0,\n",
       " 0.0,\n",
       " 0.0,\n",
       " 0.0,\n",
       " 0.0,\n",
       " 0.0,\n",
       " 0.0,\n",
       " 0.0,\n",
       " 0.0,\n",
       " 0.0,\n",
       " 0.0,\n",
       " 0.0,\n",
       " 0.0,\n",
       " 0.0,\n",
       " 0.0,\n",
       " 0.0,\n",
       " 0.0,\n",
       " 0.0,\n",
       " 0.0,\n",
       " 0.0,\n",
       " 0.0,\n",
       " 3.0,\n",
       " 0.0,\n",
       " 0.0,\n",
       " 0.0,\n",
       " 0.0,\n",
       " 0.0,\n",
       " 0.0,\n",
       " 0.0,\n",
       " 0.0,\n",
       " 0.0,\n",
       " 0.0,\n",
       " 0.0,\n",
       " 0.0,\n",
       " 0.0,\n",
       " 0.0,\n",
       " 0.0,\n",
       " 0.0,\n",
       " 0.0,\n",
       " 0.0,\n",
       " 3.0,\n",
       " 0.0,\n",
       " 0.0,\n",
       " 0.0,\n",
       " 0.0,\n",
       " 0.0,\n",
       " 0.0,\n",
       " 0.0,\n",
       " 0.0,\n",
       " 0.0,\n",
       " 0.0,\n",
       " 3.0,\n",
       " 0.0,\n",
       " 0.0,\n",
       " 0.0,\n",
       " 0.0,\n",
       " 0.0,\n",
       " 0.0,\n",
       " 0.0,\n",
       " 0.0,\n",
       " 0.0,\n",
       " 0.0,\n",
       " 0.0,\n",
       " 0.0,\n",
       " 0.0,\n",
       " 0.0,\n",
       " 0.0,\n",
       " 0.0,\n",
       " 0.0,\n",
       " 0.0,\n",
       " 0.0,\n",
       " 0.0,\n",
       " 0.0,\n",
       " 0.0,\n",
       " 0.0,\n",
       " 0.0,\n",
       " 0.0,\n",
       " 0.0,\n",
       " 0.0,\n",
       " 0.0,\n",
       " 0.0,\n",
       " 0.0,\n",
       " 0.0,\n",
       " 0.0,\n",
       " 0.0,\n",
       " 0.0,\n",
       " 0.0,\n",
       " 0.0,\n",
       " 0.0,\n",
       " 0.0,\n",
       " 0.0,\n",
       " 0.0,\n",
       " 0.0,\n",
       " 0.0,\n",
       " 0.0,\n",
       " 0.0,\n",
       " 0.0,\n",
       " 0.0,\n",
       " 0.0,\n",
       " 0.0,\n",
       " 0.0,\n",
       " 0.0,\n",
       " 0.0,\n",
       " 0.0,\n",
       " 0.0,\n",
       " 0.0,\n",
       " 0.0,\n",
       " 0.0,\n",
       " 0.0,\n",
       " 0.0,\n",
       " 0.0,\n",
       " 0.0,\n",
       " 0.0,\n",
       " 0.0,\n",
       " 0.0,\n",
       " 0.0,\n",
       " 0.0,\n",
       " 0.0,\n",
       " 0.0,\n",
       " 0.0,\n",
       " 0.0,\n",
       " 0.0,\n",
       " 0.0,\n",
       " 0.0,\n",
       " 0.0,\n",
       " 0.0,\n",
       " 0.0,\n",
       " 0.0,\n",
       " 0.0,\n",
       " 0.0,\n",
       " 0.0,\n",
       " 0.0,\n",
       " 0.0,\n",
       " 0.0,\n",
       " 0.0,\n",
       " 0.0,\n",
       " 0.0,\n",
       " 0.0,\n",
       " 0.0,\n",
       " 0.0,\n",
       " 0.0,\n",
       " 0.0,\n",
       " 0.0,\n",
       " 0.0,\n",
       " 0.0,\n",
       " 0.0,\n",
       " 0.0,\n",
       " 0.0,\n",
       " 0.0,\n",
       " 0.0,\n",
       " 0.0,\n",
       " 0.0,\n",
       " 0.0,\n",
       " 0.0,\n",
       " 0.0,\n",
       " 0.0,\n",
       " 0.0,\n",
       " 0.0,\n",
       " 0.0,\n",
       " 0.0,\n",
       " 0.0,\n",
       " 0.0,\n",
       " 0.0,\n",
       " 0.0,\n",
       " 0.0,\n",
       " 0.0,\n",
       " 0.0,\n",
       " 0.0,\n",
       " 0.0,\n",
       " 0.0,\n",
       " 0.0,\n",
       " 0.0,\n",
       " 0.0,\n",
       " 0.0,\n",
       " 0.0,\n",
       " 0.0,\n",
       " 0.0,\n",
       " 0.0,\n",
       " 0.0,\n",
       " 0.0,\n",
       " 0.0,\n",
       " 0.0,\n",
       " 0.0,\n",
       " 0.0,\n",
       " 0.0,\n",
       " 0.0,\n",
       " 0.0,\n",
       " 0.0,\n",
       " 0.0,\n",
       " 0.0,\n",
       " 0.0,\n",
       " 0.0,\n",
       " 0.0,\n",
       " 0.0,\n",
       " 0.0,\n",
       " 0.0,\n",
       " 0.0,\n",
       " 0.0,\n",
       " 0.0,\n",
       " 0.0,\n",
       " 0.0,\n",
       " 0.0,\n",
       " 0.0,\n",
       " 0.0,\n",
       " 0.0,\n",
       " 0.0,\n",
       " 0.0,\n",
       " 0.0,\n",
       " 0.0,\n",
       " 0.0,\n",
       " 0.0,\n",
       " 0.0,\n",
       " 0.0,\n",
       " 0.0,\n",
       " 0.0,\n",
       " 0.0,\n",
       " 0.0,\n",
       " 0.0,\n",
       " 0.0,\n",
       " 0.0,\n",
       " 0.0,\n",
       " 3.0,\n",
       " 0.0,\n",
       " 0.0,\n",
       " 0.0,\n",
       " 0.0,\n",
       " 0.0,\n",
       " 0.0,\n",
       " 0.0,\n",
       " 0.0,\n",
       " 0.0,\n",
       " 0.0,\n",
       " 0.0,\n",
       " 0.0,\n",
       " 0.0,\n",
       " 0.0,\n",
       " 0.0,\n",
       " 0.0,\n",
       " 0.0,\n",
       " 0.0,\n",
       " 3.0,\n",
       " 0.0,\n",
       " 0.0,\n",
       " 0.0,\n",
       " 0.0,\n",
       " 0.0,\n",
       " 0.0,\n",
       " 0.0,\n",
       " 0.0,\n",
       " 0.0,\n",
       " 0.0,\n",
       " 3.0,\n",
       " 0.0,\n",
       " 0.0,\n",
       " 0.0,\n",
       " 0.0,\n",
       " 0.0,\n",
       " 0.0,\n",
       " 0.0,\n",
       " 0.0,\n",
       " 0.0,\n",
       " 0.0,\n",
       " 0.0,\n",
       " 0.0,\n",
       " 0.0,\n",
       " 0.0,\n",
       " 0.0,\n",
       " 0.0,\n",
       " 0.0,\n",
       " 0.0,\n",
       " 0.0,\n",
       " 0.0,\n",
       " 0.0,\n",
       " 0.0,\n",
       " 0.0,\n",
       " 0.0,\n",
       " 0.0,\n",
       " 0.0,\n",
       " 0.0,\n",
       " 0.0,\n",
       " 0.0,\n",
       " 0.0,\n",
       " 0.0,\n",
       " 0.0,\n",
       " 0.0,\n",
       " 0.0,\n",
       " 0.0,\n",
       " 0.0,\n",
       " 0.0,\n",
       " 0.0,\n",
       " 0.0,\n",
       " 0.0,\n",
       " 0.0,\n",
       " 0.0,\n",
       " 0.0,\n",
       " 0.0,\n",
       " 0.0,\n",
       " 0.0,\n",
       " 0.0,\n",
       " 0.0,\n",
       " 0.0,\n",
       " 0.0,\n",
       " 0.0,\n",
       " 0.0,\n",
       " 0.0,\n",
       " 0.0,\n",
       " 0.0,\n",
       " 0.0,\n",
       " 0.0,\n",
       " 0.0,\n",
       " 0.0,\n",
       " 0.0,\n",
       " 0.0,\n",
       " 0.0,\n",
       " 0.0,\n",
       " 0.0,\n",
       " 0.0,\n",
       " 0.0,\n",
       " 0.0,\n",
       " 0.0,\n",
       " 0.0,\n",
       " 0.0,\n",
       " 0.0,\n",
       " 0.0,\n",
       " 0.0,\n",
       " 0.0,\n",
       " 0.0,\n",
       " 0.0,\n",
       " 0.0,\n",
       " 0.0,\n",
       " 0.0,\n",
       " 0.0,\n",
       " 0.0,\n",
       " 0.0,\n",
       " 0.0,\n",
       " 0.0,\n",
       " 0.0]"
      ]
     },
     "execution_count": 21,
     "metadata": {},
     "output_type": "execute_result"
    }
   ],
   "source": [
    "y"
   ]
  },
  {
   "cell_type": "code",
   "execution_count": 68,
   "metadata": {
    "collapsed": true
   },
   "outputs": [],
   "source": [
    "from sklearn.metrics.pairwise import pairwise_distances"
   ]
  },
  {
   "cell_type": "code",
   "execution_count": 129,
   "metadata": {
    "collapsed": false
   },
   "outputs": [
    {
     "name": "stdout",
     "output_type": "stream",
     "text": [
      "CPU times: user 1.41 ms, sys: 38.7 ms, total: 40.1 ms\n",
      "Wall time: 39.2 ms\n"
     ]
    }
   ],
   "source": [
    "%%time\n",
    "d = pairwise_distances(matrix_tfidf, metric='cosine')"
   ]
  },
  {
   "cell_type": "code",
   "execution_count": 131,
   "metadata": {
    "collapsed": false
   },
   "outputs": [
    {
     "data": {
      "text/plain": [
       "(220, 220)"
      ]
     },
     "execution_count": 131,
     "metadata": {},
     "output_type": "execute_result"
    }
   ],
   "source": [
    "d.shape"
   ]
  },
  {
   "cell_type": "code",
   "execution_count": 139,
   "metadata": {
    "collapsed": false
   },
   "outputs": [
    {
     "data": {
      "text/plain": [
       "array([[1.        , 0.09943672, 0.09212314, ..., 0.01653624, 0.06625641,\n",
       "        0.03008297],\n",
       "       [0.09943672, 1.        , 0.10812431, ..., 0.0233162 , 0.07178526,\n",
       "        0.04281089],\n",
       "       [0.09212314, 0.10812431, 1.        , ..., 0.04088049, 0.10697972,\n",
       "        0.03314048],\n",
       "       ...,\n",
       "       [0.01653624, 0.0233162 , 0.04088049, ..., 1.        , 0.0219725 ,\n",
       "        0.00939713],\n",
       "       [0.06625641, 0.07178526, 0.10697972, ..., 0.0219725 , 1.        ,\n",
       "        0.02958395],\n",
       "       [0.03008297, 0.04281089, 0.03314048, ..., 0.00939713, 0.02958395,\n",
       "        1.        ]])"
      ]
     },
     "execution_count": 139,
     "metadata": {},
     "output_type": "execute_result"
    }
   ],
   "source": [
    "#отсортировать\n",
    "1 - abs(d[20:,20:])"
   ]
  },
  {
   "cell_type": "code",
   "execution_count": 134,
   "metadata": {
    "collapsed": true
   },
   "outputs": [],
   "source": [
    "y = list(1 - d[0][20:])"
   ]
  },
  {
   "cell_type": "markdown",
   "metadata": {},
   "source": [
    "\"Так как текстов заданной тематики несколько, результирующую метрику на неизвестный текст можно получить путем сложения косинусной меры этого текста со всеми эталонными текстами. При этом сумма косинусных мер может оказаться больше единицы.\""
   ]
  },
  {
   "cell_type": "code",
   "execution_count": 140,
   "metadata": {
    "collapsed": false
   },
   "outputs": [],
   "source": [
    "d20=1 - abs(d[:20][:])"
   ]
  },
  {
   "cell_type": "code",
   "execution_count": 141,
   "metadata": {
    "collapsed": false
   },
   "outputs": [
    {
     "data": {
      "text/plain": [
       "(20, 220)"
      ]
     },
     "execution_count": 141,
     "metadata": {},
     "output_type": "execute_result"
    }
   ],
   "source": [
    "d20.shape"
   ]
  },
  {
   "cell_type": "code",
   "execution_count": 142,
   "metadata": {
    "collapsed": false
   },
   "outputs": [],
   "source": [
    "y=list(d20.sum(axis=0)[20:])"
   ]
  },
  {
   "cell_type": "code",
   "execution_count": null,
   "metadata": {
    "collapsed": true,
    "deletable": true,
    "editable": true
   },
   "outputs": [],
   "source": [
    "tfidf_vec = TfidfVectorizer(norm=None, \n",
    "                            smooth_idf=False, \n",
    "                            tokenizer=tokenize, \n",
    "                            stop_words=stop_words)\n",
    "matrix_tfidf = tfidf_vec.fit_transform(texts).toarray()\n",
    "y = []\n",
    "for i in matrix_tfidf[20:]:\n",
    "    s = 0\n",
    "    for j in matrix_tfidf[:20]:\n",
    "        s += cos_m(j.reshape(-1, 1), i.reshape(-1, 1))  \n",
    "    y.append( s )"
   ]
  },
  {
   "cell_type": "code",
   "execution_count": 143,
   "metadata": {
    "collapsed": false,
    "deletable": true,
    "editable": true
   },
   "outputs": [
    {
     "data": {
      "text/plain": [
       "[<matplotlib.lines.Line2D at 0x7f38993304a8>]"
      ]
     },
     "execution_count": 143,
     "metadata": {},
     "output_type": "execute_result"
    },
    {
     "data": {
      "image/png": "[encoded data removed]",
      "text/plain": [
       "<matplotlib.figure.Figure at 0x7f38993b7518>"
      ]
     },
     "metadata": {},
     "output_type": "display_data"
    }
   ],
   "source": [
    "plt.plot(sorted(y))"
   ]
  },
  {
   "cell_type": "code",
   "execution_count": 144,
   "metadata": {
    "collapsed": false,
    "deletable": true,
    "editable": true
   },
   "outputs": [
    {
     "name": "stdout",
     "output_type": "stream",
     "text": [
      "200\n",
      "151.92491865588863\n",
      "(220, 6605)\n"
     ]
    }
   ],
   "source": [
    "print(len(y))\n",
    "print(sum(y))\n",
    "print(matrix_tfidf.shape)"
   ]
  },
  {
   "cell_type": "code",
   "execution_count": 145,
   "metadata": {
    "collapsed": false,
    "deletable": true,
    "editable": true
   },
   "outputs": [
    {
     "name": "stdout",
     "output_type": "stream",
     "text": [
      "0.7596245932794432\n"
     ]
    }
   ],
   "source": [
    "average = sum(y)/200\n",
    "print(average)"
   ]
  },
  {
   "cell_type": "code",
   "execution_count": 106,
   "metadata": {
    "collapsed": false,
    "deletable": true,
    "editable": true,
    "scrolled": true
   },
   "outputs": [
    {
     "name": "stdout",
     "output_type": "stream",
     "text": [
      "{'defined': [1111, 522, 3084, 2968, 2588, 2603, 1580, 52, 2101, 63, 587, 588, 1115, 2066, 2668, 2067, 3183, 3184, 133, 196, 3927, 538, 668, 2206, 1200, 177, 1717, 3264, 1218, 710, 3783, 1740, 2224, 548, 724, 2682, 3925, 1806, 3180, 1273, 213, 1323, 1798, 1289, 3850, 2323, 3352, 1669, 290, 1827, 1320, 2696, 301, 2357, 311, 1343, 1345, 2370, 2374, 1166, 3300, 2389, 859, 352, 3939, 658, 880, 1394, 1396, 1911, 377, 384, 897, 903, 3473, 1689, 1860, 917, 2456, 3481, 2973, 414, 2467, 1961, 3827, 2480, 945, 1469, 758, 3526, 3025, 1344, 1500, 2526, 3551, 665, 3564, 2901, 2200, 1024], 'other': [2561, 4, 5, 3090, 3343, 534, 2583, 536, 2565, 2591, 2084, 2606, 1072, 1074, 572, 2622, 2624, 3649, 1602, 78, 1294, 3154, 2134, 599, 89, 1632, 2148, 1125, 701, 1137, 2167, 1658, 3708, 1152, 3713, 2692, 2184, 3214, 3730, 3222, 2201, 161, 680, 176, 2228, 2744, 3468, 2238, 3775, 3268, 712, 1747, 3285, 3804, 1404, 2855, 2259, 1779, 3317, 3318, 1281, 812, 2316, 3854, 783, 3886, 3357, 1825, 2343, 299, 814, 2353, 822, 832, 1347, 1348, 2379, 854, 3415, 2144, 879, 2427, 3904, 1406, 1928, 908, 1423, 3472, 421, 429, 441, 3829, 3013, 2003, 468, 3030, 2535, 3562, 1519, 510]}\n"
     ]
    }
   ],
   "source": [
    "json = {\n",
    "    'defined': [],\n",
    "    'other': []\n",
    "}\n",
    "\n",
    "for i in y:\n",
    "    if i > average:\n",
    "        json['defined'].append(texts_index[y.index(i)][1])\n",
    "    else:\n",
    "        json['other'].append(texts_index[y.index(i)][1])\n",
    "print(json)"
   ]
  },
  {
   "cell_type": "code",
   "execution_count": 86,
   "metadata": {
    "collapsed": false,
    "deletable": true,
    "editable": true
   },
   "outputs": [
    {
     "name": "stdout",
     "output_type": "stream",
     "text": [
      "мы ищем талантливых и целеустремленных специалистов для работы в санкт-петербургском центре разработок. вам предстоит:  разрабатывать и сопровождать систему автоматической установки и конфигурирования программных сред. проектировать архитектуру, выбирать программные средства. работать с отделами разработки, тестирования и администрирования: сбор требований, расширение функционала системы, выпуск новых версий.    наши ожидания:  опыт разработки программного обеспечения от 5-ти лет. опыт разработки back-end систем на python. опыт разработки web-интерфейсов с использованием html, js, css, python, django. опыт работы с субд: postgresql. владение объектно-ориентированной методологией, шаблонами проектирования (ood patterns). опыт разработки high availability систем. english - intermediate.    мы предлагаем:  индексируемую заработную плату. 100% оплату больничного. отпуск 28 календарных дней, оплачиваемый 100% в соответствии с текущей ставкой. медицинское сопровождение (дмс, офисный врач, стоматология). корпоративные обучающие программы, курсы английского языка. широкие возможности для самореализации, профессионального и карьерного роста. возможность командировок и дальнейшей работы в зарубежных представительствах компании (в т.ч. h1-b сша, филиппины, китай). комфортные условия работы, современный бизнес-центр, удобные кресла, велопарковку, оборудованные кухни, чай, кофе, прохладительные напитки и сладости. корпоративные праздники, выезды, спорт. офис в 10-ти минутах ходьбы от метро. иногородним кандидатам предоставляется relocation bonus и помощь в поиске жилья в санкт-петербурге. \n"
     ]
    }
   ],
   "source": [
    "print(texts[[i[1] for i in texts_index].index(2561) + 20])"
   ]
  },
  {
   "cell_type": "code",
   "execution_count": null,
   "metadata": {
    "collapsed": true,
    "deletable": true,
    "editable": true
   },
   "outputs": [],
   "source": []
  }
 ],
 "metadata": {
  "kernelspec": {
   "display_name": "Python 3",
   "language": "python",
   "name": "python3"
  },
  "language_info": {
   "codemirror_mode": {
    "name": "ipython",
    "version": 3
   },
   "file_extension": ".py",
   "mimetype": "text/x-python",
   "name": "python",
   "nbconvert_exporter": "python",
   "pygments_lexer": "ipython3",
   "version": "3.6.4"
  }
 },
 "nbformat": 4,
 "nbformat_minor": 1
}
