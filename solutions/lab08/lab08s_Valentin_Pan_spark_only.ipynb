{
 "cells": [
  {
   "cell_type": "code",
   "execution_count": 1,
   "metadata": {
    "collapsed": false,
    "deletable": true,
    "editable": true
   },
   "outputs": [
    {
     "name": "stdout",
     "output_type": "stream",
     "text": [
      "Welcome to\n",
      "      ____              __\n",
      "     / __/__  ___ _____/ /__\n",
      "    _\\ \\/ _ \\/ _ `/ __/  '_/\n",
      "   /__ / .__/\\_,_/_/ /_/\\_\\   version 2.3.0\n",
      "      /_/\n",
      "\n",
      "Using Python version 3.6.4 (default, Jan 28 2018 00:00:00)\n",
      "SparkSession available as 'spark'.\n"
     ]
    }
   ],
   "source": [
    "import os\n",
    "import sys\n",
    "os.environ[\"PYSPARK_SUBMIT_ARGS\"]='--packages com.databricks:spark-csv_2.10:1.2.0 pyspark-shell'\n",
    "os.environ[\"PYSPARK_PYTHON\"]='python3'\n",
    "os.environ[\"SPARK_HOME\"]='/usr/hdp/current/spark2-client'\n",
    "\n",
    "spark_home = os.environ.get('SPARK_HOME', None)\n",
    "if not spark_home:\n",
    "    raise ValueError('SPARK_HOME environment variable is not set')\n",
    "sys.path.insert(0, os.path.join(spark_home, 'python'))\n",
    "sys.path.insert(0, os.path.join(spark_home, 'python/lib/py4j-0.10.4-src.zip'))\n",
    "\n",
    "exec(open(os.path.join(spark_home, 'python/pyspark/shell.py')).read())"
   ]
  },
  {
   "cell_type": "markdown",
   "metadata": {
    "deletable": true,
    "editable": true
   },
   "source": [
    "[The author's github-->](https://github.com/osboo)"
   ]
  },
  {
   "cell_type": "markdown",
   "metadata": {
    "deletable": true,
    "editable": true
   },
   "source": [
    "# Imports"
   ]
  },
  {
   "cell_type": "code",
   "execution_count": 2,
   "metadata": {
    "collapsed": true,
    "deletable": true,
    "editable": true
   },
   "outputs": [],
   "source": [
    "from pyspark.sql import functions as F\n",
    "from pyspark.sql.functions import col, udf, desc, lit\n",
    "\n",
    "from pyspark.sql.types import *"
   ]
  },
  {
   "cell_type": "code",
   "execution_count": 3,
   "metadata": {
    "collapsed": true,
    "deletable": true,
    "editable": true
   },
   "outputs": [],
   "source": [
    "from math import sqrt\n",
    "\n",
    "import math"
   ]
  },
  {
   "cell_type": "code",
   "execution_count": 4,
   "metadata": {
    "collapsed": true,
    "deletable": true,
    "editable": true
   },
   "outputs": [],
   "source": [
    "import json\n",
    "from json import encoder\n",
    "#encoder.FLOAT_REPR = lambda o: format(o, '.4f')"
   ]
  },
  {
   "cell_type": "code",
   "execution_count": 5,
   "metadata": {
    "collapsed": true,
    "deletable": true,
    "editable": true
   },
   "outputs": [],
   "source": [
    "import pandas as pd"
   ]
  },
  {
   "cell_type": "markdown",
   "metadata": {
    "deletable": true,
    "editable": true
   },
   "source": [
    "# Input data"
   ]
  },
  {
   "cell_type": "code",
   "execution_count": 6,
   "metadata": {
    "collapsed": false,
    "deletable": true,
    "editable": true
   },
   "outputs": [],
   "source": [
    "u_data = spark.read.csv('/labs/lab08data/u.data', sep='\\t')"
   ]
  },
  {
   "cell_type": "markdown",
   "metadata": {
    "deletable": true,
    "editable": true
   },
   "source": [
    "**u_data format**:\n",
    "\n",
    "user id | item id | rating | timestamp"
   ]
  },
  {
   "cell_type": "markdown",
   "metadata": {
    "deletable": true,
    "editable": true
   },
   "source": [
    "**u_item format**\n",
    "\n",
    "movie id | movie title | release date | video release date |\n",
    "IMDb URL | unknown | Action | Adventure | Animation |\n",
    "Children's | Comedy | Crime | Documentary | Drama | Fantasy |\n",
    "Film-Noir | Horror | Musical | Mystery | Romance | Sci-Fi |\n",
    "Thriller | War | Western |\n",
    "\n",
    "The last 19 fields are the genres, a 1 indicates the movie\n",
    "is of that genre, a 0 indicates it is not; movies can be in\n",
    "several genres at once.\n",
    "The movie ids are the ones used in the u.data data set.\n"
   ]
  },
  {
   "cell_type": "code",
   "execution_count": 7,
   "metadata": {
    "collapsed": true,
    "deletable": true,
    "editable": true
   },
   "outputs": [],
   "source": [
    "u_data = u_data.selectExpr(\"_c0 as user_id\", \"_c1 as item_id\", \"_c2 as rating\",  \"_c3 as timestamp\")"
   ]
  },
  {
   "cell_type": "code",
   "execution_count": 8,
   "metadata": {
    "collapsed": false,
    "deletable": true,
    "editable": true
   },
   "outputs": [
    {
     "name": "stdout",
     "output_type": "stream",
     "text": [
      "+-------+-------+------+---------+\n",
      "|user_id|item_id|rating|timestamp|\n",
      "+-------+-------+------+---------+\n",
      "|    196|    242|     3|881250949|\n",
      "|    186|    302|     3|891717742|\n",
      "|     22|    377|     1|878887116|\n",
      "|    244|     51|     2|880606923|\n",
      "|    166|    346|     1|886397596|\n",
      "+-------+-------+------+---------+\n",
      "only showing top 5 rows\n",
      "\n"
     ]
    }
   ],
   "source": [
    "u_data.show(n=5)"
   ]
  },
  {
   "cell_type": "code",
   "execution_count": 9,
   "metadata": {
    "collapsed": true,
    "deletable": true,
    "editable": true
   },
   "outputs": [],
   "source": [
    "u_item = spark.read.csv('/labs/lab08data/u.item', sep='|')"
   ]
  },
  {
   "cell_type": "code",
   "execution_count": 10,
   "metadata": {
    "collapsed": true,
    "deletable": true,
    "editable": true
   },
   "outputs": [],
   "source": [
    "u_item = u_item.selectExpr(\"_c0 as movie_id\", \"_c1 as movie_title\")"
   ]
  },
  {
   "cell_type": "code",
   "execution_count": 11,
   "metadata": {
    "collapsed": false,
    "deletable": true,
    "editable": true
   },
   "outputs": [
    {
     "name": "stdout",
     "output_type": "stream",
     "text": [
      "+--------+-----------------+\n",
      "|movie_id|      movie_title|\n",
      "+--------+-----------------+\n",
      "|       1| Toy Story (1995)|\n",
      "|       2| GoldenEye (1995)|\n",
      "|       3|Four Rooms (1995)|\n",
      "|       4|Get Shorty (1995)|\n",
      "|       5|   Copycat (1995)|\n",
      "+--------+-----------------+\n",
      "only showing top 5 rows\n",
      "\n"
     ]
    }
   ],
   "source": [
    "u_item.show(n=5)"
   ]
  },
  {
   "cell_type": "code",
   "execution_count": 12,
   "metadata": {
    "collapsed": true,
    "deletable": true,
    "editable": true
   },
   "outputs": [],
   "source": [
    "target_id = 450"
   ]
  },
  {
   "cell_type": "markdown",
   "metadata": {
    "deletable": true,
    "editable": true
   },
   "source": [
    "# Задача"
   ]
  },
  {
   "cell_type": "markdown",
   "metadata": {
    "deletable": true,
    "editable": true
   },
   "source": [
    "## Часть 1. Основные характеристики данных MovieLens:"
   ]
  },
  {
   "cell_type": "markdown",
   "metadata": {
    "deletable": true,
    "editable": true
   },
   "source": [
    "Найдите количество всех пользователей и количество всех фильмов в данных (общее число пользователей и фильмов в датасете)."
   ]
  },
  {
   "cell_type": "code",
   "execution_count": 13,
   "metadata": {
    "collapsed": true,
    "deletable": true,
    "editable": true
   },
   "outputs": [],
   "source": [
    "all_users_number = u_data.select(u_data.user_id).distinct().count()"
   ]
  },
  {
   "cell_type": "code",
   "execution_count": 14,
   "metadata": {
    "collapsed": false,
    "deletable": true,
    "editable": true,
    "scrolled": true
   },
   "outputs": [
    {
     "data": {
      "text/plain": [
       "943"
      ]
     },
     "execution_count": 14,
     "metadata": {},
     "output_type": "execute_result"
    }
   ],
   "source": [
    "all_users_number"
   ]
  },
  {
   "cell_type": "code",
   "execution_count": 15,
   "metadata": {
    "collapsed": true,
    "deletable": true,
    "editable": true
   },
   "outputs": [],
   "source": [
    "all_films_number = u_item.select(u_item.movie_id).distinct().count()"
   ]
  },
  {
   "cell_type": "code",
   "execution_count": 16,
   "metadata": {
    "collapsed": false,
    "deletable": true,
    "editable": true
   },
   "outputs": [
    {
     "data": {
      "text/plain": [
       "1682"
      ]
     },
     "execution_count": 16,
     "metadata": {},
     "output_type": "execute_result"
    }
   ],
   "source": [
    "all_films_number"
   ]
  },
  {
   "cell_type": "markdown",
   "metadata": {
    "deletable": true,
    "editable": true
   },
   "source": [
    "Сколько пользователь в среднем ставит рейтингов? Подсчитать количество рейтингов / количество пользователей. Поле average_user_ratings."
   ]
  },
  {
   "cell_type": "code",
   "execution_count": 17,
   "metadata": {
    "collapsed": true,
    "deletable": true,
    "editable": true
   },
   "outputs": [],
   "source": [
    "all_ratings_number = u_data.select(u_data.rating).count()"
   ]
  },
  {
   "cell_type": "code",
   "execution_count": 18,
   "metadata": {
    "collapsed": false,
    "deletable": true,
    "editable": true
   },
   "outputs": [
    {
     "data": {
      "text/plain": [
       "100000"
      ]
     },
     "execution_count": 18,
     "metadata": {},
     "output_type": "execute_result"
    }
   ],
   "source": [
    "all_ratings_number"
   ]
  },
  {
   "cell_type": "code",
   "execution_count": 19,
   "metadata": {
    "collapsed": true,
    "deletable": true,
    "editable": true
   },
   "outputs": [],
   "source": [
    "average_user_ratings = all_ratings_number * 1.0 / all_users_number"
   ]
  },
  {
   "cell_type": "code",
   "execution_count": 20,
   "metadata": {
    "collapsed": false,
    "deletable": true,
    "editable": true
   },
   "outputs": [
    {
     "data": {
      "text/plain": [
       "106.04453870625663"
      ]
     },
     "execution_count": 20,
     "metadata": {},
     "output_type": "execute_result"
    }
   ],
   "source": [
    "average_user_ratings"
   ]
  },
  {
   "cell_type": "markdown",
   "metadata": {
    "deletable": true,
    "editable": true
   },
   "source": [
    "Сколько фильм в среднем имеет рейтингов? Подсчитать количество рейтингов / количество фильмов. Поле average_film_ratings."
   ]
  },
  {
   "cell_type": "code",
   "execution_count": 21,
   "metadata": {
    "collapsed": true,
    "deletable": true,
    "editable": true
   },
   "outputs": [],
   "source": [
    "average_film_ratings = all_ratings_number * 1.0 / all_films_number"
   ]
  },
  {
   "cell_type": "code",
   "execution_count": 22,
   "metadata": {
    "collapsed": false,
    "deletable": true,
    "editable": true
   },
   "outputs": [
    {
     "data": {
      "text/plain": [
       "59.45303210463734"
      ]
     },
     "execution_count": 22,
     "metadata": {},
     "output_type": "execute_result"
    }
   ],
   "source": [
    "average_film_ratings"
   ]
  },
  {
   "cell_type": "markdown",
   "metadata": {
    "deletable": true,
    "editable": true
   },
   "source": [
    "Найдите процент заполненных ячеек в данных: количество рейтингов / (количество пользователей * количество фильмов). Поле completeness."
   ]
  },
  {
   "cell_type": "code",
   "execution_count": 23,
   "metadata": {
    "collapsed": true,
    "deletable": true,
    "editable": true
   },
   "outputs": [],
   "source": [
    "completeness = all_ratings_number * 1.0 / all_users_number / all_films_number"
   ]
  },
  {
   "cell_type": "code",
   "execution_count": 24,
   "metadata": {
    "collapsed": false,
    "deletable": true,
    "editable": true
   },
   "outputs": [
    {
     "data": {
      "text/plain": [
       "0.06304669364224533"
      ]
     },
     "execution_count": 24,
     "metadata": {},
     "output_type": "execute_result"
    }
   ],
   "source": [
    "completeness"
   ]
  },
  {
   "cell_type": "markdown",
   "metadata": {
    "deletable": true,
    "editable": true
   },
   "source": [
    "## Часть 2. User-user CF:"
   ]
  },
  {
   "cell_type": "markdown",
   "metadata": {
    "deletable": true,
    "editable": true
   },
   "source": [
    "Для каждого пользователя найдите его средний рейтинг (сумма рейтингов пользователя/количество рейтингов пользователя). Здесь Ia — множество фильмов, по которым у пользователя есть рейтинги rui. Здесь и далее |Ia| обозначает количество элементов в множестве Ia."
   ]
  },
  {
   "cell_type": "markdown",
   "metadata": {
    "deletable": true,
    "editable": true
   },
   "source": [
    "<img src=\"https://camo.githubusercontent.com/51b4bdca1c1bfcd4f9f6228da4d63eb017a920a6/687474703a2f2f646174612e6e657770726f6c61622e636f6d2f7075626c69632d6e657770726f6c61622d636f6d2f6c61626130385f725f615f6176672e706e67\" alt=\"Drawing\" style=\"width: 100px;\"/>"
   ]
  },
  {
   "cell_type": "code",
   "execution_count": 25,
   "metadata": {
    "collapsed": true,
    "deletable": true,
    "editable": true
   },
   "outputs": [],
   "source": [
    "average_rating = u_data.groupBy(u_data.user_id).agg(F.avg(u_data.rating).alias('avg_rating'))"
   ]
  },
  {
   "cell_type": "code",
   "execution_count": 26,
   "metadata": {
    "collapsed": false,
    "deletable": true,
    "editable": true
   },
   "outputs": [
    {
     "name": "stdout",
     "output_type": "stream",
     "text": [
      "+-------+------------------+\n",
      "|user_id|        avg_rating|\n",
      "+-------+------------------+\n",
      "|    296|4.1768707482993195|\n",
      "|    467|3.6818181818181817|\n",
      "|    691|           4.21875|\n",
      "|    675|3.7058823529411766|\n",
      "|    829|          3.546875|\n",
      "+-------+------------------+\n",
      "only showing top 5 rows\n",
      "\n"
     ]
    }
   ],
   "source": [
    "average_rating.show(n=5)"
   ]
  },
  {
   "cell_type": "code",
   "execution_count": 29,
   "metadata": {
    "collapsed": true,
    "deletable": true,
    "editable": true
   },
   "outputs": [],
   "source": [
    "average_rating_target_value = average_rating\\\n",
    "   .filter(average_rating['user_id'] == target_id)\\\n",
    "   .take(1)[0]['avg_rating']"
   ]
  },
  {
   "cell_type": "code",
   "execution_count": 30,
   "metadata": {
    "collapsed": false,
    "deletable": true,
    "editable": true
   },
   "outputs": [
    {
     "data": {
      "text/plain": [
       "3.8648148148148147"
      ]
     },
     "execution_count": 30,
     "metadata": {},
     "output_type": "execute_result"
    }
   ],
   "source": [
    "average_rating_target_value"
   ]
  },
  {
   "cell_type": "markdown",
   "metadata": {
    "deletable": true,
    "editable": true
   },
   "source": [
    "Для выданного вам пользователя (ID в личном кабинете):\n",
    "\n",
    "Посчитайте меру близости Пирсона выданного вам пользователя со всеми остальными пользователями. Обратите внимание, что корреляция Пирсона считается только на пересечении, то есть вклад вносят только фильмы, оцененные совместно (Ia, Iu — множества оцененных пользователями a и u фильмов). Корреляция с константой (ситуация, когда у пользователя все оценки одинаковые) равна нулю."
   ]
  },
  {
   "cell_type": "markdown",
   "metadata": {
    "deletable": true,
    "editable": true
   },
   "source": [
    "<img src=\"https://camo.githubusercontent.com/9cf99dc94ec99d4f501f07230404d22473ba6fea/687474703a2f2f646174612e6e657770726f6c61622e636f6d2f7075626c69632d6e657770726f6c61622d636f6d2f6c61626130385f70656172736f6e2e706e67\" alt=\"Drawing\" style=\"width: 400px;\"/>"
   ]
  },
  {
   "cell_type": "code",
   "execution_count": 31,
   "metadata": {
    "collapsed": true,
    "deletable": true,
    "editable": true
   },
   "outputs": [],
   "source": [
    "target_user_ratings = u_data.filter(u_data.user_id == target_id).select(\n",
    "    u_data.item_id,\n",
    "    u_data.rating.alias('target_rating'))"
   ]
  },
  {
   "cell_type": "code",
   "execution_count": 32,
   "metadata": {
    "collapsed": false,
    "deletable": true,
    "editable": true
   },
   "outputs": [
    {
     "name": "stdout",
     "output_type": "stream",
     "text": [
      "+-------+-------------+\n",
      "|item_id|target_rating|\n",
      "+-------+-------------+\n",
      "|    470|            5|\n",
      "|    783|            3|\n",
      "|   1147|            4|\n",
      "|    100|            4|\n",
      "|     58|            3|\n",
      "+-------+-------------+\n",
      "only showing top 5 rows\n",
      "\n"
     ]
    }
   ],
   "source": [
    "target_user_ratings.show(n=5)"
   ]
  },
  {
   "cell_type": "code",
   "execution_count": 33,
   "metadata": {
    "collapsed": false,
    "deletable": true,
    "editable": true
   },
   "outputs": [
    {
     "data": {
      "text/plain": [
       "540"
      ]
     },
     "execution_count": 33,
     "metadata": {},
     "output_type": "execute_result"
    }
   ],
   "source": [
    "target_user_ratings.select(target_user_ratings.item_id).distinct().count()"
   ]
  },
  {
   "cell_type": "code",
   "execution_count": 34,
   "metadata": {
    "collapsed": true,
    "deletable": true,
    "editable": true
   },
   "outputs": [],
   "source": [
    "target_items = [row.item_id for row in target_user_ratings.select(target_user_ratings.item_id).distinct().collect()]"
   ]
  },
  {
   "cell_type": "code",
   "execution_count": 35,
   "metadata": {
    "collapsed": true,
    "deletable": true,
    "editable": true
   },
   "outputs": [],
   "source": [
    "u_data = u_data.select('user_id',\n",
    "                        'item_id',\n",
    "                        'rating',\n",
    "                        F.when(u_data.item_id.isin(target_items), 1).otherwise(0).alias('is_in_target'))"
   ]
  },
  {
   "cell_type": "code",
   "execution_count": 36,
   "metadata": {
    "collapsed": false,
    "deletable": true,
    "editable": true
   },
   "outputs": [
    {
     "name": "stdout",
     "output_type": "stream",
     "text": [
      "+-------+-------+------+------------+\n",
      "|user_id|item_id|rating|is_in_target|\n",
      "+-------+-------+------+------------+\n",
      "|    196|    242|     3|           0|\n",
      "|    186|    302|     3|           1|\n",
      "|     22|    377|     1|           0|\n",
      "|    244|     51|     2|           1|\n",
      "|    166|    346|     1|           0|\n",
      "+-------+-------+------+------------+\n",
      "only showing top 5 rows\n",
      "\n"
     ]
    }
   ],
   "source": [
    "u_data.show(n=5)"
   ]
  },
  {
   "cell_type": "code",
   "execution_count": 37,
   "metadata": {
    "collapsed": true,
    "deletable": true,
    "editable": true
   },
   "outputs": [],
   "source": [
    "u_data_common = u_data.filter(u_data.is_in_target == 1)"
   ]
  },
  {
   "cell_type": "code",
   "execution_count": 38,
   "metadata": {
    "collapsed": true,
    "deletable": true,
    "editable": true
   },
   "outputs": [],
   "source": [
    "u_data_common = u_data_common.join(target_user_ratings,\n",
    "                      on=u_data_common.item_id == target_user_ratings.item_id,\n",
    "                      how='inner').select(u_data_common.user_id,\n",
    "                                          u_data_common.item_id,\n",
    "                                          u_data_common.rating,\n",
    "                                          target_user_ratings.target_rating)"
   ]
  },
  {
   "cell_type": "code",
   "execution_count": 39,
   "metadata": {
    "collapsed": false,
    "deletable": true,
    "editable": true
   },
   "outputs": [
    {
     "name": "stdout",
     "output_type": "stream",
     "text": [
      "+-------+-------+------+-------------+\n",
      "|user_id|item_id|rating|target_rating|\n",
      "+-------+-------+------+-------------+\n",
      "|    186|    302|     3|            5|\n",
      "|    244|     51|     2|            4|\n",
      "|    298|    474|     4|            5|\n",
      "|    115|    265|     2|            5|\n",
      "|    253|    465|     5|            4|\n",
      "+-------+-------+------+-------------+\n",
      "only showing top 5 rows\n",
      "\n"
     ]
    }
   ],
   "source": [
    "u_data_common.show(n=5)"
   ]
  },
  {
   "cell_type": "code",
   "execution_count": 40,
   "metadata": {
    "collapsed": true,
    "deletable": true,
    "editable": true
   },
   "outputs": [],
   "source": [
    "s = u_data_common.join(\n",
    "    average_rating, on='user_id' \n",
    ").withColumn('avg_rating_target', lit(average_rating_target_value))"
   ]
  },
  {
   "cell_type": "code",
   "execution_count": 41,
   "metadata": {
    "collapsed": false,
    "deletable": true,
    "editable": true
   },
   "outputs": [
    {
     "name": "stdout",
     "output_type": "stream",
     "text": [
      "+-------+-------+------+-------------+------------------+------------------+\n",
      "|user_id|item_id|rating|target_rating|        avg_rating| avg_rating_target|\n",
      "+-------+-------+------+-------------+------------------+------------------+\n",
      "|    186|    302|     3|            5|3.4130434782608696|3.8648148148148147|\n",
      "|    244|     51|     2|            4|3.6512605042016806|3.8648148148148147|\n",
      "|    298|    474|     4|            5| 4.031496062992126|3.8648148148148147|\n",
      "|    115|    265|     2|            5|3.9347826086956523|3.8648148148148147|\n",
      "|    253|    465|     5|            4| 3.979381443298969|3.8648148148148147|\n",
      "+-------+-------+------+-------------+------------------+------------------+\n",
      "only showing top 5 rows\n",
      "\n"
     ]
    }
   ],
   "source": [
    "s.show(n=5)"
   ]
  },
  {
   "cell_type": "code",
   "execution_count": 42,
   "metadata": {
    "collapsed": true,
    "deletable": true,
    "editable": true
   },
   "outputs": [],
   "source": [
    "covariance = F.sum( (s['target_rating'] - s['avg_rating_target']) * (s['rating'] - s['avg_rating']) )"
   ]
  },
  {
   "cell_type": "code",
   "execution_count": 43,
   "metadata": {
    "collapsed": true,
    "deletable": true,
    "editable": true,
    "scrolled": true
   },
   "outputs": [],
   "source": [
    "sigma_target = F.sqrt( F.sum( (s['target_rating'] - s['avg_rating_target']) * (s['target_rating'] - s['avg_rating_target']) ) )"
   ]
  },
  {
   "cell_type": "code",
   "execution_count": 44,
   "metadata": {
    "collapsed": true,
    "deletable": true,
    "editable": true,
    "scrolled": true
   },
   "outputs": [],
   "source": [
    "sigma_user = F.sqrt( F.sum( (s['rating'] - s['avg_rating']) * (s['rating'] - s['avg_rating']) ) )"
   ]
  },
  {
   "cell_type": "code",
   "execution_count": 45,
   "metadata": {
    "collapsed": true,
    "deletable": true,
    "editable": true
   },
   "outputs": [],
   "source": [
    "pearson_df = s.groupBy('user_id').agg(\n",
    "     (covariance / sigma_target / sigma_user).alias('corr_with_target')\n",
    ")"
   ]
  },
  {
   "cell_type": "code",
   "execution_count": 46,
   "metadata": {
    "collapsed": false,
    "deletable": true,
    "editable": true
   },
   "outputs": [
    {
     "name": "stdout",
     "output_type": "stream",
     "text": [
      "+-------+-------------------+\n",
      "|user_id|   corr_with_target|\n",
      "+-------+-------------------+\n",
      "|    296|  0.321953212360758|\n",
      "|    467| 0.3133498222995453|\n",
      "|    691|0.45668991285499855|\n",
      "|    675| 0.5375077311703701|\n",
      "|    829|0.09159053662753726|\n",
      "+-------+-------------------+\n",
      "only showing top 5 rows\n",
      "\n"
     ]
    }
   ],
   "source": [
    "pearson_df.show(n=5)"
   ]
  },
  {
   "cell_type": "markdown",
   "metadata": {
    "deletable": true,
    "editable": true
   },
   "source": [
    "pearson_df = pearson_df.select('user_id', F.when(F.isnan(pearson_df['corr_with_target']), 0.0).otherwise(pearson_df['corr_with_target']).alias('corr_with_target'))"
   ]
  },
  {
   "cell_type": "code",
   "execution_count": 47,
   "metadata": {
    "collapsed": false,
    "deletable": true,
    "editable": true,
    "scrolled": true
   },
   "outputs": [
    {
     "name": "stdout",
     "output_type": "stream",
     "text": [
      "+-------+------------------+\n",
      "|user_id|  corr_with_target|\n",
      "+-------+------------------+\n",
      "|    450|0.9999999999999998|\n",
      "|    531|0.8150616162958754|\n",
      "|    596|0.7839397071861639|\n",
      "|    631|0.7657052985051976|\n",
      "|    544| 0.734355793439825|\n",
      "+-------+------------------+\n",
      "only showing top 5 rows\n",
      "\n"
     ]
    }
   ],
   "source": [
    "pearson_df.sort(desc('corr_with_target')).show(n=5)"
   ]
  },
  {
   "cell_type": "markdown",
   "metadata": {
    "deletable": true,
    "editable": true
   },
   "source": [
    "Посчитайте поправочный коэффициент для корреляции Пирсона на нехватку данных:"
   ]
  },
  {
   "cell_type": "markdown",
   "metadata": {
    "deletable": true,
    "editable": true
   },
   "source": [
    "<img src=\"https://camo.githubusercontent.com/3422e0424837cd1ca9b6ff3ccf556ae3fbdb4875/687474703a2f2f646174612e6e657770726f6c61622e636f6d2f7075626c69632d6e657770726f6c61622d636f6d2f6c61626130385f7265675f636f65662e706e67\" alt=\"Drawing\" style=\"width: 200px;\"/>"
   ]
  },
  {
   "cell_type": "code",
   "execution_count": 48,
   "metadata": {
    "collapsed": true,
    "deletable": true,
    "editable": true
   },
   "outputs": [],
   "source": [
    "intersection_power = u_data.groupby('user_id').agg(F.sum('is_in_target').alias('intersection_power'))"
   ]
  },
  {
   "cell_type": "code",
   "execution_count": 49,
   "metadata": {
    "collapsed": false,
    "deletable": true,
    "editable": true
   },
   "outputs": [
    {
     "name": "stdout",
     "output_type": "stream",
     "text": [
      "+-------+------------------+\n",
      "|user_id|intersection_power|\n",
      "+-------+------------------+\n",
      "|    296|                95|\n",
      "|    467|                20|\n",
      "|    691|                27|\n",
      "|    675|                17|\n",
      "|    829|                32|\n",
      "+-------+------------------+\n",
      "only showing top 5 rows\n",
      "\n"
     ]
    }
   ],
   "source": [
    "intersection_power.show(n=5)"
   ]
  },
  {
   "cell_type": "code",
   "execution_count": 50,
   "metadata": {
    "collapsed": true,
    "deletable": true,
    "editable": true
   },
   "outputs": [],
   "source": [
    "def calculate_missing_data_coeff(intersection_power):\n",
    "    result = min(intersection_power * 1.0 / 50, 1.0)\n",
    "    if math.isnan(result):\n",
    "        return 0.0\n",
    "    return result"
   ]
  },
  {
   "cell_type": "code",
   "execution_count": 51,
   "metadata": {
    "collapsed": true,
    "deletable": true,
    "editable": true
   },
   "outputs": [],
   "source": [
    "calculate_missing_data_coeff_udf = udf(calculate_missing_data_coeff, returnType=DoubleType())"
   ]
  },
  {
   "cell_type": "code",
   "execution_count": 52,
   "metadata": {
    "collapsed": true,
    "deletable": true,
    "editable": true
   },
   "outputs": [],
   "source": [
    "data_miss_coeffs = intersection_power.select('user_id', calculate_missing_data_coeff_udf('intersection_power').alias('coeff'))"
   ]
  },
  {
   "cell_type": "code",
   "execution_count": 53,
   "metadata": {
    "collapsed": false,
    "deletable": true,
    "editable": true
   },
   "outputs": [
    {
     "name": "stdout",
     "output_type": "stream",
     "text": [
      "+-------+-----+\n",
      "|user_id|coeff|\n",
      "+-------+-----+\n",
      "|    296|  1.0|\n",
      "|    467|  0.4|\n",
      "|    691| 0.54|\n",
      "|    675| 0.34|\n",
      "|    829| 0.64|\n",
      "+-------+-----+\n",
      "only showing top 5 rows\n",
      "\n"
     ]
    }
   ],
   "source": [
    "data_miss_coeffs.show(n=5)"
   ]
  },
  {
   "cell_type": "code",
   "execution_count": 54,
   "metadata": {
    "collapsed": true,
    "deletable": true,
    "editable": true
   },
   "outputs": [],
   "source": [
    "pearson_adjusted = pearson_df.join(\n",
    "    data_miss_coeffs,\n",
    "    on='user_id').select('user_id', (data_miss_coeffs.coeff * pearson_df.corr_with_target).alias('adjusted_corr'))"
   ]
  },
  {
   "cell_type": "code",
   "execution_count": 55,
   "metadata": {
    "collapsed": false,
    "deletable": true,
    "editable": true
   },
   "outputs": [
    {
     "name": "stdout",
     "output_type": "stream",
     "text": [
      "+-------+-------------------+\n",
      "|user_id|      adjusted_corr|\n",
      "+-------+-------------------+\n",
      "|    296|  0.321953212360758|\n",
      "|    467|0.12533992891981813|\n",
      "|    691|0.24661255294169923|\n",
      "|    675|0.18275262859792585|\n",
      "|    829|0.05861794344162385|\n",
      "+-------+-------------------+\n",
      "only showing top 5 rows\n",
      "\n"
     ]
    }
   ],
   "source": [
    "pearson_adjusted.show(n=5)"
   ]
  },
  {
   "cell_type": "markdown",
   "metadata": {
    "deletable": true,
    "editable": true
   },
   "source": [
    "Найдите 30 ближайших пользователей-соседей данного пользователя (pearson_neighbours), используя поправленную корреляцию Пирсона"
   ]
  },
  {
   "cell_type": "markdown",
   "metadata": {
    "deletable": true,
    "editable": true
   },
   "source": [
    "<img src=\"https://camo.githubusercontent.com/3eb5eaf1fe854c9e9f3769d0693cd39925a4eee4/687474703a2f2f646174612e6e657770726f6c61622e636f6d2f7075626c69632d6e657770726f6c61622d636f6d2f6c61626130385f70656172736f6e5f7265675f636f65662e706e67\" alt=\"Drawing\" style=\"width: 600px;\"/>"
   ]
  },
  {
   "cell_type": "code",
   "execution_count": 56,
   "metadata": {
    "collapsed": true,
    "deletable": true,
    "editable": true
   },
   "outputs": [],
   "source": [
    "pearson_neighbours = pearson_adjusted.sort(desc('adjusted_corr')).limit(31).filter(pearson_adjusted['user_id'] != target_id)"
   ]
  },
  {
   "cell_type": "code",
   "execution_count": 57,
   "metadata": {
    "collapsed": false,
    "deletable": true,
    "editable": true
   },
   "outputs": [
    {
     "name": "stdout",
     "output_type": "stream",
     "text": [
      "+-------+-------------------+\n",
      "|user_id|      adjusted_corr|\n",
      "+-------+-------------------+\n",
      "|    676| 0.5821028120925269|\n",
      "|    717| 0.4789577727155448|\n",
      "|     37| 0.4657835535024892|\n",
      "|    392| 0.4562689486068854|\n",
      "|    913|0.45023721265337413|\n",
      "|    223| 0.4489437695459474|\n",
      "|    600| 0.4485246966206234|\n",
      "|    721| 0.4444237073588581|\n",
      "|    838|0.44249581559698503|\n",
      "|    933| 0.4358564231732711|\n",
      "|     22| 0.4320161621327069|\n",
      "|    610| 0.4306770303685678|\n",
      "|    654| 0.4265634199155747|\n",
      "|    615| 0.4254387883213246|\n",
      "|     82|0.41657913205322117|\n",
      "|    922|0.41352743092168226|\n",
      "|    323| 0.4066081544307002|\n",
      "|    715|0.40444251565511524|\n",
      "|    806| 0.4030703460284211|\n",
      "|    826| 0.4027635095201348|\n",
      "|    394| 0.4013196832641033|\n",
      "|    773|0.40082392641382486|\n",
      "|    663|  0.399404974853165|\n",
      "|     26|0.39627067473094857|\n",
      "|     70|0.39150914724756347|\n",
      "|    445|0.38976260680486696|\n",
      "|    106|0.38752111202261746|\n",
      "|    464| 0.3847159354040692|\n",
      "|    836| 0.3820278139930449|\n",
      "|    830|0.37233666915504304|\n",
      "+-------+-------------------+\n",
      "\n"
     ]
    }
   ],
   "source": [
    "pearson_neighbours.show(n=30)"
   ]
  },
  {
   "cell_type": "markdown",
   "metadata": {
    "deletable": true,
    "editable": true
   },
   "source": [
    "Дальше мы будем использовать только этих соседей для прогноза. Заметим, что строя предсказание для некоторого фильма, мы из фиксированных 30 ближайших пользователей-соседей выбираем только тех, у кого есть оценки для данного фильма, то есть используемых пользователей-соседей для прогноза может быть сильно меньше"
   ]
  },
  {
   "cell_type": "markdown",
   "metadata": {
    "deletable": true,
    "editable": true
   },
   "source": [
    "Для всех фильмов найдите прогноз оценки по формуле ниже. Здесь N(a) — множество пользователей-соседей, s(a,u) — мера близости пользователей из предыдущих пунктов, |s(a,u)| — модуль меры близости"
   ]
  },
  {
   "cell_type": "markdown",
   "metadata": {
    "deletable": true,
    "editable": true
   },
   "source": [
    "<img src=\"https://camo.githubusercontent.com/eb7ac8c08051ade220eab5843a26f2a7717e01a9/687474703a2f2f646174612e6e657770726f6c61622e636f6d2f7075626c69632d6e657770726f6c61622d636f6d2f6c61626130385f757365725f757365725f63662e706e67\" alt=\"Drawing\" style=\"width: 300px;\"/>"
   ]
  },
  {
   "cell_type": "code",
   "execution_count": 58,
   "metadata": {
    "collapsed": false,
    "deletable": true,
    "editable": true,
    "scrolled": true
   },
   "outputs": [
    {
     "name": "stdout",
     "output_type": "stream",
     "text": [
      "+--------+-----------------+\n",
      "|movie_id|      movie_title|\n",
      "+--------+-----------------+\n",
      "|       1| Toy Story (1995)|\n",
      "|       2| GoldenEye (1995)|\n",
      "|       3|Four Rooms (1995)|\n",
      "|       4|Get Shorty (1995)|\n",
      "|       5|   Copycat (1995)|\n",
      "+--------+-----------------+\n",
      "only showing top 5 rows\n",
      "\n"
     ]
    }
   ],
   "source": [
    "u_item.show(n=5)"
   ]
  },
  {
   "cell_type": "code",
   "execution_count": 59,
   "metadata": {
    "collapsed": true,
    "deletable": true,
    "editable": true
   },
   "outputs": [],
   "source": [
    "unrated_films = u_item.select(\n",
    "    'movie_id',\n",
    "    'movie_title',\n",
    "    F.when(u_item.movie_id.isin(target_items), 0).otherwise(1).alias('is_unrated')).filter('is_unrated = 1').select(\n",
    "    'movie_id',\n",
    "    'movie_title')"
   ]
  },
  {
   "cell_type": "code",
   "execution_count": 60,
   "metadata": {
    "collapsed": false,
    "deletable": true,
    "editable": true
   },
   "outputs": [
    {
     "name": "stdout",
     "output_type": "stream",
     "text": [
      "+--------+--------------------+\n",
      "|movie_id|         movie_title|\n",
      "+--------+--------------------+\n",
      "|       5|      Copycat (1995)|\n",
      "|       6|Shanghai Triad (Y...|\n",
      "|       8|         Babe (1995)|\n",
      "|       9|Dead Man Walking ...|\n",
      "|      14|  Postino, Il (1994)|\n",
      "+--------+--------------------+\n",
      "only showing top 5 rows\n",
      "\n"
     ]
    }
   ],
   "source": [
    "unrated_films.show(n=5)"
   ]
  },
  {
   "cell_type": "code",
   "execution_count": 61,
   "metadata": {
    "collapsed": false,
    "deletable": true,
    "editable": true,
    "scrolled": true
   },
   "outputs": [
    {
     "name": "stdout",
     "output_type": "stream",
     "text": [
      "+-------+-------+------+------------+\n",
      "|user_id|item_id|rating|is_in_target|\n",
      "+-------+-------+------+------------+\n",
      "|    196|    242|     3|           0|\n",
      "|    186|    302|     3|           1|\n",
      "|     22|    377|     1|           0|\n",
      "|    244|     51|     2|           1|\n",
      "|    166|    346|     1|           0|\n",
      "+-------+-------+------+------------+\n",
      "only showing top 5 rows\n",
      "\n"
     ]
    }
   ],
   "source": [
    "u_data.show(n=5)"
   ]
  },
  {
   "cell_type": "code",
   "execution_count": 62,
   "metadata": {
    "collapsed": false,
    "deletable": true,
    "editable": true
   },
   "outputs": [
    {
     "data": {
      "text/plain": [
       "Row(user_id='450', avg_rating=3.8648148148148147)"
      ]
     },
     "execution_count": 62,
     "metadata": {},
     "output_type": "execute_result"
    }
   ],
   "source": [
    "average_rating.filter(average_rating['user_id'] == target_id).take(1)[0]"
   ]
  },
  {
   "cell_type": "code",
   "execution_count": 63,
   "metadata": {
    "collapsed": true,
    "deletable": true,
    "editable": true
   },
   "outputs": [],
   "source": [
    "t = unrated_films.join(\n",
    "    u_data, on=u_data['item_id'] == unrated_films['movie_id'] # get unrated u_data\n",
    ").join(\n",
    "    average_rating, on=average_rating['user_id'] == u_data['user_id'] # get average ratings for each user\n",
    ").join(\n",
    "    pearson_neighbours, on='user_id' # get only neighbours u_data\n",
    ").select('movie_id',\n",
    "         'movie_title',\n",
    "         pearson_neighbours['user_id'].alias('neighbour_id'),\n",
    "         'rating',\n",
    "         pearson_neighbours['adjusted_corr'].alias('corr'),\n",
    "         'avg_rating'\n",
    ").withColumn('avg_rating_target', lit(average_rating_target_value))"
   ]
  },
  {
   "cell_type": "code",
   "execution_count": 64,
   "metadata": {
    "collapsed": false,
    "deletable": true,
    "editable": true,
    "scrolled": true
   },
   "outputs": [
    {
     "name": "stdout",
     "output_type": "stream",
     "text": [
      "+--------+--------------------+------------+------+-------------------+------------------+------------------+\n",
      "|movie_id|         movie_title|neighbour_id|rating|               corr|        avg_rating| avg_rating_target|\n",
      "+--------+--------------------+------------+------+-------------------+------------------+------------------+\n",
      "|     377| Heavyweights (1994)|          22|     1| 0.4320161621327069|         3.3515625|3.8648148148148147|\n",
      "|    1134|Get on the Bus (1...|          82|     2|0.41657913205322117|3.0714285714285716|3.8648148148148147|\n",
      "|     930|Chain Reaction (1...|          26|     2|0.39627067473094857|  2.94392523364486|3.8648148148148147|\n",
      "|     746|  Real Genius (1985)|          70|     3|0.39150914724756347|3.4656488549618323|3.8648148148148147|\n",
      "|    1015|       Shiloh (1997)|          26|     3|0.39627067473094857|  2.94392523364486|3.8648148148148147|\n",
      "+--------+--------------------+------------+------+-------------------+------------------+------------------+\n",
      "only showing top 5 rows\n",
      "\n"
     ]
    }
   ],
   "source": [
    "t.show(n=5)"
   ]
  },
  {
   "cell_type": "code",
   "execution_count": 65,
   "metadata": {
    "collapsed": true,
    "deletable": true,
    "editable": true
   },
   "outputs": [],
   "source": [
    "r = t.groupBy('movie_id').agg((\n",
    "    F.first(t['avg_rating_target']) + F.sum(t['corr'] * (t['rating'] - t['avg_rating'])) / F.sum(t['corr'])\n",
    ").alias('rating_prediction')\n",
    ").withColumn('movie_id', t['movie_id'].cast(IntegerType()))"
   ]
  },
  {
   "cell_type": "code",
   "execution_count": 66,
   "metadata": {
    "collapsed": false,
    "deletable": true,
    "editable": true
   },
   "outputs": [
    {
     "name": "stdout",
     "output_type": "stream",
     "text": [
      "+--------+------------------+\n",
      "|movie_id| rating_prediction|\n",
      "+--------+------------------+\n",
      "|     829|2.8796296296296298|\n",
      "|     675| 4.400332586665641|\n",
      "|     944|2.4815812818806835|\n",
      "|     919|4.3257379118475825|\n",
      "|    1265| 3.329100529100529|\n",
      "|     666| 2.000737144911902|\n",
      "|    1528|3.8796296296296298|\n",
      "|     124|3.7613844867700865|\n",
      "|     447|2.7346950909469507|\n",
      "|     475| 4.096542080232443|\n",
      "|     718| 4.746535244922342|\n",
      "|     740| 2.793386243386243|\n",
      "|     544| 4.155982123262637|\n",
      "|     581| 2.329100529100529|\n",
      "|     577|2.1162945835168916|\n",
      "|     334|2.2453616454139285|\n",
      "|     975| 2.702675788603072|\n",
      "|     743|2.4815812818806835|\n",
      "|    1008|3.4045702310771757|\n",
      "|     886|3.3338083416820083|\n",
      "+--------+------------------+\n",
      "only showing top 20 rows\n",
      "\n"
     ]
    }
   ],
   "source": [
    "r.show()"
   ]
  },
  {
   "cell_type": "code",
   "execution_count": 67,
   "metadata": {
    "collapsed": true,
    "deletable": true,
    "editable": true
   },
   "outputs": [],
   "source": [
    "pearson_top10 = r.sort(['rating_prediction', 'movie_id'], ascending=[0, 1]).limit(10)"
   ]
  },
  {
   "cell_type": "code",
   "execution_count": 68,
   "metadata": {
    "collapsed": false,
    "deletable": true,
    "editable": true
   },
   "outputs": [
    {
     "data": {
      "text/html": [
       "<div>\n",
       "<style>\n",
       "    .dataframe thead tr:only-child th {\n",
       "        text-align: right;\n",
       "    }\n",
       "\n",
       "    .dataframe thead th {\n",
       "        text-align: left;\n",
       "    }\n",
       "\n",
       "    .dataframe tbody tr th {\n",
       "        vertical-align: top;\n",
       "    }\n",
       "</style>\n",
       "<table border=\"1\" class=\"dataframe\">\n",
       "  <thead>\n",
       "    <tr style=\"text-align: right;\">\n",
       "      <th></th>\n",
       "      <th>movie_id</th>\n",
       "      <th>rating_prediction</th>\n",
       "    </tr>\n",
       "  </thead>\n",
       "  <tbody>\n",
       "    <tr>\n",
       "      <th>0</th>\n",
       "      <td>1591</td>\n",
       "      <td>5.879630</td>\n",
       "    </tr>\n",
       "    <tr>\n",
       "      <th>1</th>\n",
       "      <td>1367</td>\n",
       "      <td>5.585312</td>\n",
       "    </tr>\n",
       "    <tr>\n",
       "      <th>2</th>\n",
       "      <td>1529</td>\n",
       "      <td>5.585312</td>\n",
       "    </tr>\n",
       "    <tr>\n",
       "      <th>3</th>\n",
       "      <td>19</td>\n",
       "      <td>5.342088</td>\n",
       "    </tr>\n",
       "    <tr>\n",
       "      <th>4</th>\n",
       "      <td>990</td>\n",
       "      <td>5.329101</td>\n",
       "    </tr>\n",
       "    <tr>\n",
       "      <th>5</th>\n",
       "      <td>1021</td>\n",
       "      <td>5.284317</td>\n",
       "    </tr>\n",
       "    <tr>\n",
       "      <th>6</th>\n",
       "      <td>916</td>\n",
       "      <td>5.280399</td>\n",
       "    </tr>\n",
       "    <tr>\n",
       "      <th>7</th>\n",
       "      <td>856</td>\n",
       "      <td>5.221958</td>\n",
       "    </tr>\n",
       "    <tr>\n",
       "      <th>8</th>\n",
       "      <td>888</td>\n",
       "      <td>5.155137</td>\n",
       "    </tr>\n",
       "    <tr>\n",
       "      <th>9</th>\n",
       "      <td>1137</td>\n",
       "      <td>5.155137</td>\n",
       "    </tr>\n",
       "  </tbody>\n",
       "</table>\n",
       "</div>"
      ],
      "text/plain": [
       "   movie_id  rating_prediction\n",
       "0      1591           5.879630\n",
       "1      1367           5.585312\n",
       "2      1529           5.585312\n",
       "3        19           5.342088\n",
       "4       990           5.329101\n",
       "5      1021           5.284317\n",
       "6       916           5.280399\n",
       "7       856           5.221958\n",
       "8       888           5.155137\n",
       "9      1137           5.155137"
      ]
     },
     "execution_count": 68,
     "metadata": {},
     "output_type": "execute_result"
    }
   ],
   "source": [
    "user_user_advise = pearson_top10.toPandas()\n",
    "user_user_advise"
   ]
  },
  {
   "cell_type": "code",
   "execution_count": 69,
   "metadata": {
    "collapsed": true,
    "deletable": true,
    "editable": true
   },
   "outputs": [],
   "source": [
    "neighbours = [int(row.user_id) for row in pearson_neighbours.select('user_id').collect()]"
   ]
  },
  {
   "cell_type": "code",
   "execution_count": 70,
   "metadata": {
    "collapsed": true,
    "deletable": true,
    "editable": true
   },
   "outputs": [],
   "source": [
    "advise = [row.movie_id for row in pearson_top10.select('movie_id').collect()]"
   ]
  },
  {
   "cell_type": "code",
   "execution_count": 71,
   "metadata": {
    "collapsed": true,
    "deletable": true,
    "editable": true
   },
   "outputs": [],
   "source": [
    "d = {\n",
    "    'average_film_ratings': average_film_ratings,\n",
    "    'average_user_ratings': average_user_ratings,\n",
    "    'completeness': completeness,\n",
    "    'pearson_neighbours': neighbours,\n",
    "    'pearson_top10': advise\n",
    "}"
   ]
  },
  {
   "cell_type": "code",
   "execution_count": 72,
   "metadata": {
    "collapsed": false,
    "deletable": true,
    "editable": true
   },
   "outputs": [
    {
     "data": {
      "text/plain": [
       "[1591, 1367, 1529, 19, 990, 1021, 916, 856, 888, 1137]"
      ]
     },
     "execution_count": 72,
     "metadata": {},
     "output_type": "execute_result"
    }
   ],
   "source": [
    "advise"
   ]
  },
  {
   "cell_type": "code",
   "execution_count": 73,
   "metadata": {
    "collapsed": true,
    "deletable": true,
    "editable": true
   },
   "outputs": [],
   "source": [
    "with open('../lab08.json', 'w') as f:\n",
    "    json.dump(d, f)"
   ]
  },
  {
   "cell_type": "markdown",
   "metadata": {
    "collapsed": true,
    "deletable": true,
    "editable": true
   },
   "source": [
    "## Часть 3. Базовые предикторы:"
   ]
  },
  {
   "cell_type": "markdown",
   "metadata": {
    "deletable": true,
    "editable": true
   },
   "source": [
    "Глобальное среднее 𝞵 (average_rating) по всему датасету. Сумма всех оценок по всем фильмам / Количество всех оценок по всем фильмам."
   ]
  },
  {
   "cell_type": "code",
   "execution_count": 74,
   "metadata": {
    "collapsed": true,
    "deletable": true,
    "editable": true
   },
   "outputs": [],
   "source": [
    "mu = u_data.select((F.sum('rating') * 1.0 / all_ratings_number).alias('mu')).collect()[0].mu"
   ]
  },
  {
   "cell_type": "code",
   "execution_count": 75,
   "metadata": {
    "collapsed": false,
    "deletable": true,
    "editable": true
   },
   "outputs": [
    {
     "data": {
      "text/plain": [
       "3.52986"
      ]
     },
     "execution_count": 75,
     "metadata": {},
     "output_type": "execute_result"
    }
   ],
   "source": [
    "mu"
   ]
  },
  {
   "cell_type": "markdown",
   "metadata": {
    "deletable": true,
    "editable": true
   },
   "source": [
    "Базовый предиктор для каждого пользователя (суммирование по фильмам, оцененным данным пользователем). Здесь Ia — множество фильмов, по которым у пользователя есть рейтинги, а |Ia| — их количество."
   ]
  },
  {
   "cell_type": "markdown",
   "metadata": {
    "deletable": true,
    "editable": true
   },
   "source": [
    "<img src=\"https://camo.githubusercontent.com/850e16e503d0516733266579d1fdb8ed5cb13ad9/687474703a2f2f646174612e6e657770726f6c61622e636f6d2f7075626c69632d6e657770726f6c61622d636f6d2f6c6162613038735f626173655f752e706e67\" alt=\"Drawing\" style=\"width: 300px;\"/>"
   ]
  },
  {
   "cell_type": "code",
   "execution_count": 76,
   "metadata": {
    "collapsed": true,
    "deletable": true,
    "editable": true
   },
   "outputs": [],
   "source": [
    "bu = u_data.groupBy('user_id').agg( (1.0 / (F.count('item_id') + 10) * F.sum(u_data['rating'] - mu) ).alias('bu'))"
   ]
  },
  {
   "cell_type": "code",
   "execution_count": 77,
   "metadata": {
    "collapsed": false,
    "deletable": true,
    "editable": true
   },
   "outputs": [
    {
     "name": "stdout",
     "output_type": "stream",
     "text": [
      "+-------+--------------------+\n",
      "|user_id|                  bu|\n",
      "+-------+--------------------+\n",
      "|    296|  0.6057998726114655|\n",
      "|    467| 0.12381777777777758|\n",
      "|    691|  0.5248685714285717|\n",
      "|    675|  0.1360172727272726|\n",
      "|    829|0.014715675675675487|\n",
      "+-------+--------------------+\n",
      "only showing top 5 rows\n",
      "\n"
     ]
    }
   ],
   "source": [
    "bu.show(n=5)"
   ]
  },
  {
   "cell_type": "markdown",
   "metadata": {
    "deletable": true,
    "editable": true
   },
   "source": [
    "Базовый предиктор для каждого фильма (суммирование по пользователям, поставившим оценку данному фильму). Здесь Ui — множество пользователей, которые оценили данный фильм, а |Ui| — их количество."
   ]
  },
  {
   "cell_type": "markdown",
   "metadata": {
    "deletable": true,
    "editable": true
   },
   "source": [
    "<img src=\"https://camo.githubusercontent.com/1b01851726c5f7c5e20b373f8a26e858193643e3/687474703a2f2f646174612e6e657770726f6c61622e636f6d2f7075626c69632d6e657770726f6c61622d636f6d2f6c6162613038735f626173655f692e706e67\" alt=\"Drawing\" style=\"width: 300px;\"/>"
   ]
  },
  {
   "cell_type": "code",
   "execution_count": 78,
   "metadata": {
    "collapsed": true,
    "deletable": true,
    "editable": true
   },
   "outputs": [],
   "source": [
    "bi = u_data.join(\n",
    "    bu, on='user_id'\n",
    ").groupBy('item_id').agg((1.0 / (F.count('user_id') + 25) * F.sum(u_data['rating'] - bu['bu'] - mu)).alias('bi'))"
   ]
  },
  {
   "cell_type": "code",
   "execution_count": 79,
   "metadata": {
    "collapsed": false,
    "deletable": true,
    "editable": true
   },
   "outputs": [
    {
     "name": "stdout",
     "output_type": "stream",
     "text": [
      "+-------+--------------------+\n",
      "|item_id|                  bi|\n",
      "+-------+--------------------+\n",
      "|    829| -0.4270513400199922|\n",
      "|   1436|-0.04295878652633463|\n",
      "|    467| 0.16690701840272296|\n",
      "|    691| 0.05546248651815944|\n",
      "|   1090| -0.5930556738185061|\n",
      "+-------+--------------------+\n",
      "only showing top 5 rows\n",
      "\n"
     ]
    }
   ],
   "source": [
    "bi.show(n=5)"
   ]
  },
  {
   "cell_type": "markdown",
   "metadata": {
    "deletable": true,
    "editable": true
   },
   "source": [
    "Базовый предиктор для каждого пользователя и каждого фильма:"
   ]
  },
  {
   "cell_type": "markdown",
   "metadata": {
    "deletable": true,
    "editable": true
   },
   "source": [
    "<img src=\"https://camo.githubusercontent.com/2feb726fa37d1bddbb5cfd55d02bb104cc514840/687474703a2f2f646174612e6e657770726f6c61622e636f6d2f7075626c69632d6e657770726f6c61622d636f6d2f6c6162613038735f626173655f75692e706e67\" alt=\"Drawing\" style=\"width: 300px;\"/>"
   ]
  },
  {
   "cell_type": "code",
   "execution_count": 80,
   "metadata": {
    "collapsed": false,
    "deletable": true,
    "editable": true
   },
   "outputs": [
    {
     "name": "stdout",
     "output_type": "stream",
     "text": [
      "CPU times: user 988 µs, sys: 1.67 ms, total: 2.66 ms\n",
      "Wall time: 78.5 ms\n"
     ]
    }
   ],
   "source": [
    "%%time\n",
    "base_predictors = u_data.join(\n",
    "    bu, on='user_id'\n",
    ").join(\n",
    "    bi, on='item_id'\n",
    ").withColumn(\n",
    "    'mu', lit(mu)\n",
    ").withColumn(\n",
    "    'base_predictor', col('mu') + col('bu') + col('bi')\n",
    ")"
   ]
  },
  {
   "cell_type": "code",
   "execution_count": 81,
   "metadata": {
    "collapsed": false,
    "deletable": true,
    "editable": true,
    "scrolled": true
   },
   "outputs": [
    {
     "name": "stdout",
     "output_type": "stream",
     "text": [
      "+-------+-------+------+------------+--------------------+-------------------+-------+------------------+\n",
      "|item_id|user_id|rating|is_in_target|                  bu|                 bi|     mu|    base_predictor|\n",
      "+-------+-------+------+------------+--------------------+-------------------+-------+------------------+\n",
      "|   1090|     56|     3|           0| 0.10617350253807144|-0.5930556738185061|3.52986|3.0429778287195655|\n",
      "|   1090|    303|     1|           0|-0.16083449392712493|-0.5930556738185061|3.52986|2.7759698322543693|\n",
      "|   1090|    268|     2|           0| -0.5703966863905363|-0.5930556738185061|3.52986| 2.366407639790958|\n",
      "|   1090|    145|     2|           0|-0.18845325153374187|-0.5930556738185061|3.52986|2.7483510746477524|\n",
      "|   1090|    320|     3|           0|  0.1792778048780491|-0.5930556738185061|3.52986|3.1160821310595432|\n",
      "+-------+-------+------+------------+--------------------+-------------------+-------+------------------+\n",
      "only showing top 5 rows\n",
      "\n",
      "CPU times: user 0 ns, sys: 0 ns, total: 0 ns\n",
      "Wall time: 5.26 s\n"
     ]
    }
   ],
   "source": [
    "%%time\n",
    "base_predictors.show(n=5)"
   ]
  },
  {
   "cell_type": "code",
   "execution_count": 82,
   "metadata": {
    "collapsed": false,
    "deletable": true,
    "editable": true
   },
   "outputs": [
    {
     "name": "stdout",
     "output_type": "stream",
     "text": [
      "+-------+-------+------+------------+------------------+--------------------+-------+------------------+\n",
      "|item_id|user_id|rating|is_in_target|                bu|                  bi|     mu|    base_predictor|\n",
      "+-------+-------+------+------------+------------------+--------------------+-------+------------------+\n",
      "|      1|    450|     4|           1|0.3288647272727238| 0.29292488601631045|3.52986| 4.151649613289035|\n",
      "|      2|    450|     4|           1|0.3288647272727238|-0.21303169608613212|3.52986|3.6456930311865916|\n",
      "|      3|    450|     4|           1|0.3288647272727238| -0.3202843059213391|3.52986| 3.538440421351385|\n",
      "|      4|    450|     3|           1|0.3288647272727238|-0.01991182388493691|3.52986| 3.838812903387787|\n",
      "|      7|    450|     4|           1|0.3288647272727238|  0.2330837545391526|3.52986| 4.091808481811876|\n",
      "|     10|    450|     4|           1|0.3288647272727238| 0.20804857270047783|3.52986| 4.066773299973201|\n",
      "|     11|    450|     5|           1|0.3288647272727238|  0.2503739320667407|3.52986| 4.109098659339464|\n",
      "|     12|    450|     4|           1|0.3288647272727238|   0.720924264385796|3.52986|4.5796489916585195|\n",
      "|     13|    450|     3|           1|0.3288647272727238|-0.11385236230753572|3.52986|3.7448723649651883|\n",
      "|     15|    450|     3|           1|0.3288647272727238|  0.1919742326943424|3.52986| 4.050698959967066|\n",
      "|     22|    450|     5|           1|0.3288647272727238|  0.5161608176944671|3.52986| 4.374885544967191|\n",
      "|     23|    450|     5|           1|0.3288647272727238|  0.4363346542625049|3.52986|4.2950593815352285|\n",
      "|     25|    450|     3|           1|0.3288647272727238|-0.09720958849843943|3.52986|3.7615151387742842|\n",
      "|     26|    450|     5|           1|0.3288647272727238|-0.08432104108013225|3.52986|3.7744036861925916|\n",
      "|     28|    450|     4|           1|0.3288647272727238| 0.31268987467959314|3.52986| 4.171414601952317|\n",
      "|     29|    450|     3|           1|0.3288647272727238| -0.6438257001660418|3.52986| 3.214899027106682|\n",
      "|     33|    450|     5|           1|0.3288647272727238|  -0.038544492347316|3.52986|3.8201802349254077|\n",
      "|     35|    450|     2|           1|0.3288647272727238|-0.35770498480461244|3.52986|3.5010197424681113|\n",
      "|     38|    450|     4|           1|0.3288647272727238|-0.40536135205439217|3.52986|3.4533633752183315|\n",
      "|     39|    450|     4|           1|0.3288647272727238|-0.17925338898167711|3.52986|3.6794713382910467|\n",
      "+-------+-------+------+------------+------------------+--------------------+-------+------------------+\n",
      "only showing top 20 rows\n",
      "\n",
      "CPU times: user 1.02 ms, sys: 0 ns, total: 1.02 ms\n",
      "Wall time: 4.05 s\n"
     ]
    }
   ],
   "source": [
    "%%time\n",
    "base_predictors[base_predictors.user_id == target_id].sort(col('item_id').cast(IntegerType())).show()"
   ]
  },
  {
   "cell_type": "markdown",
   "metadata": {
    "deletable": true,
    "editable": true
   },
   "source": [
    "## Часть 4. Item-item CF:"
   ]
  },
  {
   "cell_type": "code",
   "execution_count": 83,
   "metadata": {
    "collapsed": false,
    "deletable": true,
    "editable": true
   },
   "outputs": [
    {
     "data": {
      "text/plain": [
       "450"
      ]
     },
     "execution_count": 83,
     "metadata": {},
     "output_type": "execute_result"
    }
   ],
   "source": [
    "target_id"
   ]
  },
  {
   "cell_type": "markdown",
   "metadata": {
    "deletable": true,
    "editable": true
   },
   "source": [
    "Вычесть из всех рейтингов rui базовый предиктор bui из пункта 4, часть 3 (для всей таблицы рейтингов). Если рейтинга нет, то можно поставить 0."
   ]
  },
  {
   "cell_type": "code",
   "execution_count": 84,
   "metadata": {
    "collapsed": true,
    "deletable": true,
    "editable": true
   },
   "outputs": [],
   "source": [
    "unbiased_ratings = base_predictors.withColumn('R', col('rating') - col('base_predictor')).select(\n",
    "    'item_id', 'user_id', 'rating', 'R')"
   ]
  },
  {
   "cell_type": "code",
   "execution_count": 85,
   "metadata": {
    "collapsed": false,
    "deletable": true,
    "editable": true,
    "scrolled": true
   },
   "outputs": [
    {
     "name": "stdout",
     "output_type": "stream",
     "text": [
      "+-------+-------+------+--------------------+\n",
      "|item_id|user_id|rating|                   R|\n",
      "+-------+-------+------+--------------------+\n",
      "|   1090|     56|     3|-0.04297782871956546|\n",
      "|   1090|    303|     1| -1.7759698322543693|\n",
      "|   1090|    268|     2|-0.36640763979095814|\n",
      "|   1090|    145|     2| -0.7483510746477524|\n",
      "|   1090|    320|     3|-0.11608213105954324|\n",
      "+-------+-------+------+--------------------+\n",
      "only showing top 5 rows\n",
      "\n"
     ]
    }
   ],
   "source": [
    "unbiased_ratings.show(n=5)"
   ]
  },
  {
   "cell_type": "markdown",
   "metadata": {
    "deletable": true,
    "editable": true
   },
   "source": [
    "Найдите попарные меры близости (косинус) для всех фильмов, используя очищенные оценки из пункта 1, часть 4. Суммирование идет по всем пользователям."
   ]
  },
  {
   "cell_type": "markdown",
   "metadata": {
    "deletable": true,
    "editable": true
   },
   "source": [
    "<img src=\"https://camo.githubusercontent.com/c54dcc01e0cb1f2f1b314f18b71ccc58477d0eca/687474703a2f2f646174612e6e657770726f6c61622e636f6d2f7075626c69632d6e657770726f6c61622d636f6d2f6c6162613038735f636f73696e655f6974656d732e706e67\" alt=\"Drawing\" style=\"width: 300px;\"/>"
   ]
  },
  {
   "cell_type": "code",
   "execution_count": 86,
   "metadata": {
    "collapsed": false,
    "deletable": true,
    "editable": true
   },
   "outputs": [
    {
     "name": "stdout",
     "output_type": "stream",
     "text": [
      "CPU times: user 292 µs, sys: 4.68 ms, total: 4.97 ms\n",
      "Wall time: 56.9 ms\n"
     ]
    }
   ],
   "source": [
    "%%time\n",
    "item_norms = unbiased_ratings.groupBy('item_id').agg((F.sqrt(F.sum( unbiased_ratings['R'] * unbiased_ratings['R'] ))).alias('R_norm'))"
   ]
  },
  {
   "cell_type": "code",
   "execution_count": 87,
   "metadata": {
    "collapsed": false,
    "deletable": true,
    "editable": true
   },
   "outputs": [
    {
     "name": "stdout",
     "output_type": "stream",
     "text": [
      "+-------+------------------+\n",
      "|item_id|            R_norm|\n",
      "+-------+------------------+\n",
      "|   1090| 6.819856286480186|\n",
      "|   1159| 3.759215459245026|\n",
      "|   1436|0.8965977998605799|\n",
      "|   1512|3.5276459597877206|\n",
      "|   1572| 0.824192410668307|\n",
      "+-------+------------------+\n",
      "only showing top 5 rows\n",
      "\n",
      "CPU times: user 3.12 ms, sys: 0 ns, total: 3.12 ms\n",
      "Wall time: 1.99 s\n"
     ]
    }
   ],
   "source": [
    "%%time\n",
    "item_norms.show(n=5)"
   ]
  },
  {
   "cell_type": "code",
   "execution_count": 88,
   "metadata": {
    "collapsed": false,
    "deletable": true,
    "editable": true
   },
   "outputs": [
    {
     "name": "stdout",
     "output_type": "stream",
     "text": [
      "CPU times: user 594 µs, sys: 0 ns, total: 594 µs\n",
      "Wall time: 88.8 ms\n"
     ]
    }
   ],
   "source": [
    "%%time\n",
    "unbiased_ratings = unbiased_ratings.join(item_norms, on='item_id')"
   ]
  },
  {
   "cell_type": "code",
   "execution_count": 89,
   "metadata": {
    "collapsed": false,
    "deletable": true,
    "editable": true,
    "scrolled": true
   },
   "outputs": [
    {
     "name": "stdout",
     "output_type": "stream",
     "text": [
      "+-------+-------+------+--------------------+-----------------+\n",
      "|item_id|user_id|rating|                   R|           R_norm|\n",
      "+-------+-------+------+--------------------+-----------------+\n",
      "|   1090|     56|     3|-0.04297782871956546|6.819856286480186|\n",
      "|   1090|    303|     1| -1.7759698322543693|6.819856286480186|\n",
      "|   1090|    268|     2|-0.36640763979095814|6.819856286480186|\n",
      "|   1090|    145|     2| -0.7483510746477524|6.819856286480186|\n",
      "|   1090|    320|     3|-0.11608213105954324|6.819856286480186|\n",
      "+-------+-------+------+--------------------+-----------------+\n",
      "only showing top 5 rows\n",
      "\n",
      "CPU times: user 0 ns, sys: 1.99 ms, total: 1.99 ms\n",
      "Wall time: 2.19 s\n"
     ]
    }
   ],
   "source": [
    "%%time\n",
    "unbiased_ratings.show(n=5)"
   ]
  },
  {
   "cell_type": "code",
   "execution_count": 90,
   "metadata": {
    "collapsed": false,
    "deletable": true,
    "editable": true
   },
   "outputs": [
    {
     "name": "stdout",
     "output_type": "stream",
     "text": [
      "CPU times: user 0 ns, sys: 1.26 ms, total: 1.26 ms\n",
      "Wall time: 4.05 s\n"
     ]
    },
    {
     "data": {
      "text/plain": [
       "1682"
      ]
     },
     "execution_count": 90,
     "metadata": {},
     "output_type": "execute_result"
    }
   ],
   "source": [
    "%%time\n",
    "unbiased_ratings.select('item_id').distinct().count()"
   ]
  },
  {
   "cell_type": "code",
   "execution_count": 91,
   "metadata": {
    "collapsed": false,
    "deletable": true,
    "editable": true
   },
   "outputs": [
    {
     "name": "stdout",
     "output_type": "stream",
     "text": [
      "CPU times: user 0 ns, sys: 3.1 ms, total: 3.1 ms\n",
      "Wall time: 7.45 ms\n"
     ]
    }
   ],
   "source": [
    "%%time\n",
    "i = unbiased_ratings.toDF('i', 'user_id', 'rating', 'R_i', 'R_norm_i')\n",
    "j = unbiased_ratings.toDF('j', 'user_id', 'rating', 'R_j', 'R_norm_j')"
   ]
  },
  {
   "cell_type": "code",
   "execution_count": 92,
   "metadata": {
    "collapsed": false,
    "deletable": true,
    "editable": true
   },
   "outputs": [
    {
     "name": "stdout",
     "output_type": "stream",
     "text": [
      "CPU times: user 782 µs, sys: 2.39 ms, total: 3.17 ms\n",
      "Wall time: 97.2 ms\n"
     ]
    }
   ],
   "source": [
    "%%time\n",
    "s = i.join(\n",
    "    j, on=(i.user_id == j.user_id)\n",
    ").filter((i.i.cast(IntegerType()) < j.j.cast(IntegerType())))"
   ]
  },
  {
   "cell_type": "code",
   "execution_count": 93,
   "metadata": {
    "collapsed": false,
    "deletable": true,
    "editable": true,
    "scrolled": false
   },
   "outputs": [
    {
     "name": "stdout",
     "output_type": "stream",
     "text": [
      "CPU times: user 11.4 ms, sys: 106 µs, total: 11.5 ms\n",
      "Wall time: 16.9 s\n"
     ]
    },
    {
     "data": {
      "text/html": [
       "<div>\n",
       "<style>\n",
       "    .dataframe thead tr:only-child th {\n",
       "        text-align: right;\n",
       "    }\n",
       "\n",
       "    .dataframe thead th {\n",
       "        text-align: left;\n",
       "    }\n",
       "\n",
       "    .dataframe tbody tr th {\n",
       "        vertical-align: top;\n",
       "    }\n",
       "</style>\n",
       "<table border=\"1\" class=\"dataframe\">\n",
       "  <thead>\n",
       "    <tr style=\"text-align: right;\">\n",
       "      <th></th>\n",
       "      <th>i</th>\n",
       "      <th>user_id</th>\n",
       "      <th>rating</th>\n",
       "      <th>R_i</th>\n",
       "      <th>R_norm_i</th>\n",
       "      <th>j</th>\n",
       "      <th>user_id</th>\n",
       "      <th>rating</th>\n",
       "      <th>R_j</th>\n",
       "      <th>R_norm_j</th>\n",
       "    </tr>\n",
       "  </thead>\n",
       "  <tbody>\n",
       "    <tr>\n",
       "      <th>0</th>\n",
       "      <td>15</td>\n",
       "      <td>168</td>\n",
       "      <td>5</td>\n",
       "      <td>1.449816</td>\n",
       "      <td>15.69754</td>\n",
       "      <td>1278</td>\n",
       "      <td>168</td>\n",
       "      <td>3</td>\n",
       "      <td>-0.395918</td>\n",
       "      <td>4.258124</td>\n",
       "    </tr>\n",
       "    <tr>\n",
       "      <th>1</th>\n",
       "      <td>15</td>\n",
       "      <td>168</td>\n",
       "      <td>5</td>\n",
       "      <td>1.449816</td>\n",
       "      <td>15.69754</td>\n",
       "      <td>300</td>\n",
       "      <td>168</td>\n",
       "      <td>5</td>\n",
       "      <td>1.537886</td>\n",
       "      <td>19.619104</td>\n",
       "    </tr>\n",
       "    <tr>\n",
       "      <th>2</th>\n",
       "      <td>15</td>\n",
       "      <td>168</td>\n",
       "      <td>5</td>\n",
       "      <td>1.449816</td>\n",
       "      <td>15.69754</td>\n",
       "      <td>1016</td>\n",
       "      <td>168</td>\n",
       "      <td>5</td>\n",
       "      <td>1.693435</td>\n",
       "      <td>11.237004</td>\n",
       "    </tr>\n",
       "    <tr>\n",
       "      <th>3</th>\n",
       "      <td>15</td>\n",
       "      <td>168</td>\n",
       "      <td>5</td>\n",
       "      <td>1.449816</td>\n",
       "      <td>15.69754</td>\n",
       "      <td>619</td>\n",
       "      <td>168</td>\n",
       "      <td>3</td>\n",
       "      <td>-0.156058</td>\n",
       "      <td>6.636030</td>\n",
       "    </tr>\n",
       "    <tr>\n",
       "      <th>4</th>\n",
       "      <td>15</td>\n",
       "      <td>168</td>\n",
       "      <td>5</td>\n",
       "      <td>1.449816</td>\n",
       "      <td>15.69754</td>\n",
       "      <td>819</td>\n",
       "      <td>168</td>\n",
       "      <td>4</td>\n",
       "      <td>1.101109</td>\n",
       "      <td>5.966964</td>\n",
       "    </tr>\n",
       "    <tr>\n",
       "      <th>5</th>\n",
       "      <td>15</td>\n",
       "      <td>168</td>\n",
       "      <td>5</td>\n",
       "      <td>1.449816</td>\n",
       "      <td>15.69754</td>\n",
       "      <td>259</td>\n",
       "      <td>168</td>\n",
       "      <td>2</td>\n",
       "      <td>-0.702001</td>\n",
       "      <td>14.554239</td>\n",
       "    </tr>\n",
       "    <tr>\n",
       "      <th>6</th>\n",
       "      <td>15</td>\n",
       "      <td>168</td>\n",
       "      <td>5</td>\n",
       "      <td>1.449816</td>\n",
       "      <td>15.69754</td>\n",
       "      <td>930</td>\n",
       "      <td>168</td>\n",
       "      <td>3</td>\n",
       "      <td>0.203780</td>\n",
       "      <td>8.148895</td>\n",
       "    </tr>\n",
       "    <tr>\n",
       "      <th>7</th>\n",
       "      <td>15</td>\n",
       "      <td>168</td>\n",
       "      <td>5</td>\n",
       "      <td>1.449816</td>\n",
       "      <td>15.69754</td>\n",
       "      <td>222</td>\n",
       "      <td>168</td>\n",
       "      <td>5</td>\n",
       "      <td>1.538985</td>\n",
       "      <td>17.211553</td>\n",
       "    </tr>\n",
       "    <tr>\n",
       "      <th>8</th>\n",
       "      <td>15</td>\n",
       "      <td>168</td>\n",
       "      <td>5</td>\n",
       "      <td>1.449816</td>\n",
       "      <td>15.69754</td>\n",
       "      <td>225</td>\n",
       "      <td>168</td>\n",
       "      <td>5</td>\n",
       "      <td>2.082636</td>\n",
       "      <td>10.212448</td>\n",
       "    </tr>\n",
       "    <tr>\n",
       "      <th>9</th>\n",
       "      <td>15</td>\n",
       "      <td>168</td>\n",
       "      <td>5</td>\n",
       "      <td>1.449816</td>\n",
       "      <td>15.69754</td>\n",
       "      <td>235</td>\n",
       "      <td>168</td>\n",
       "      <td>2</td>\n",
       "      <td>-0.761611</td>\n",
       "      <td>16.432934</td>\n",
       "    </tr>\n",
       "  </tbody>\n",
       "</table>\n",
       "</div>"
      ],
      "text/plain": [
       "    i user_id rating       R_i  R_norm_i     j user_id rating       R_j  \\\n",
       "0  15     168      5  1.449816  15.69754  1278     168      3 -0.395918   \n",
       "1  15     168      5  1.449816  15.69754   300     168      5  1.537886   \n",
       "2  15     168      5  1.449816  15.69754  1016     168      5  1.693435   \n",
       "3  15     168      5  1.449816  15.69754   619     168      3 -0.156058   \n",
       "4  15     168      5  1.449816  15.69754   819     168      4  1.101109   \n",
       "5  15     168      5  1.449816  15.69754   259     168      2 -0.702001   \n",
       "6  15     168      5  1.449816  15.69754   930     168      3  0.203780   \n",
       "7  15     168      5  1.449816  15.69754   222     168      5  1.538985   \n",
       "8  15     168      5  1.449816  15.69754   225     168      5  2.082636   \n",
       "9  15     168      5  1.449816  15.69754   235     168      2 -0.761611   \n",
       "\n",
       "    R_norm_j  \n",
       "0   4.258124  \n",
       "1  19.619104  \n",
       "2  11.237004  \n",
       "3   6.636030  \n",
       "4   5.966964  \n",
       "5  14.554239  \n",
       "6   8.148895  \n",
       "7  17.211553  \n",
       "8  10.212448  \n",
       "9  16.432934  "
      ]
     },
     "execution_count": 93,
     "metadata": {},
     "output_type": "execute_result"
    }
   ],
   "source": [
    "%%time\n",
    "s.limit(10).toPandas()"
   ]
  },
  {
   "cell_type": "code",
   "execution_count": 94,
   "metadata": {
    "collapsed": false,
    "deletable": true,
    "editable": true
   },
   "outputs": [
    {
     "name": "stdout",
     "output_type": "stream",
     "text": [
      "CPU times: user 0 ns, sys: 2.93 ms, total: 2.93 ms\n",
      "Wall time: 259 ms\n"
     ]
    }
   ],
   "source": [
    "%%time\n",
    "s2 = s.groupBy(['i', 'j']).agg(\n",
    "    (F.sum(s['R_i'] * s['R_j']) / F.first(s['R_norm_i']) / F.first(s['R_norm_j']) ).alias('cos')\n",
    ")"
   ]
  },
  {
   "cell_type": "code",
   "execution_count": 95,
   "metadata": {
    "collapsed": false,
    "deletable": true,
    "editable": true
   },
   "outputs": [
    {
     "name": "stdout",
     "output_type": "stream",
     "text": [
      "CPU times: user 804 µs, sys: 1.69 ms, total: 2.49 ms\n",
      "Wall time: 7.92 ms\n"
     ]
    }
   ],
   "source": [
    "%%time\n",
    "s2_swap = s2.select(s2['j'].alias('i'), s2['i'].alias('j'), 'cos')"
   ]
  },
  {
   "cell_type": "code",
   "execution_count": 96,
   "metadata": {
    "collapsed": false,
    "deletable": true,
    "editable": true
   },
   "outputs": [
    {
     "name": "stdout",
     "output_type": "stream",
     "text": [
      "CPU times: user 0 ns, sys: 737 µs, total: 737 µs\n",
      "Wall time: 14.9 ms\n"
     ]
    }
   ],
   "source": [
    "%%time\n",
    "cos_m = s2.unionAll(s2_swap)"
   ]
  },
  {
   "cell_type": "code",
   "execution_count": 97,
   "metadata": {
    "collapsed": false,
    "deletable": true,
    "editable": true
   },
   "outputs": [
    {
     "name": "stdout",
     "output_type": "stream",
     "text": [
      "+---+---+--------------------+\n",
      "|  i|  j|                 cos|\n",
      "+---+---+--------------------+\n",
      "|168|429| 0.03112394874557793|\n",
      "| 56|151|0.027668171110027763|\n",
      "|323|682| 0.07774651863192829|\n",
      "|319|905|0.014361342031837762|\n",
      "|319|752|-0.02975612881029736|\n",
      "+---+---+--------------------+\n",
      "only showing top 5 rows\n",
      "\n",
      "CPU times: user 2.24 ms, sys: 232 µs, total: 2.47 ms\n",
      "Wall time: 18.4 s\n"
     ]
    }
   ],
   "source": [
    "%%time\n",
    "cos_m.show(n=5)"
   ]
  },
  {
   "cell_type": "code",
   "execution_count": 98,
   "metadata": {
    "collapsed": false,
    "deletable": true,
    "editable": true
   },
   "outputs": [
    {
     "name": "stdout",
     "output_type": "stream",
     "text": [
      "CPU times: user 3.61 ms, sys: 0 ns, total: 3.61 ms\n",
      "Wall time: 26 s\n"
     ]
    },
    {
     "data": {
      "text/plain": [
       "1682"
      ]
     },
     "execution_count": 98,
     "metadata": {},
     "output_type": "execute_result"
    }
   ],
   "source": [
    "%%time\n",
    "cos_m.select('i').distinct().count()"
   ]
  },
  {
   "cell_type": "code",
   "execution_count": 99,
   "metadata": {
    "collapsed": false,
    "deletable": true,
    "editable": true
   },
   "outputs": [
    {
     "name": "stdout",
     "output_type": "stream",
     "text": [
      "CPU times: user 3.25 ms, sys: 0 ns, total: 3.25 ms\n",
      "Wall time: 12.5 s\n"
     ]
    },
    {
     "data": {
      "text/plain": [
       "1682"
      ]
     },
     "execution_count": 99,
     "metadata": {},
     "output_type": "execute_result"
    }
   ],
   "source": [
    "%%time\n",
    "cos_m.select('j').distinct().count()"
   ]
  },
  {
   "cell_type": "markdown",
   "metadata": {
    "deletable": true,
    "editable": true
   },
   "source": [
    "Для каждого фильма, по которому у данного пользователя не стоит рейтинг, найдите:"
   ]
  },
  {
   "cell_type": "markdown",
   "metadata": {
    "deletable": true,
    "editable": true
   },
   "source": [
    "[a] 30 ближайших фильмов-соседей для этого фильма (среди всех фильмов, а не фильмов, оценённых пользователем)."
   ]
  },
  {
   "cell_type": "code",
   "execution_count": 100,
   "metadata": {
    "collapsed": false,
    "deletable": true,
    "editable": true
   },
   "outputs": [
    {
     "data": {
      "text/plain": [
       "1142"
      ]
     },
     "execution_count": 100,
     "metadata": {},
     "output_type": "execute_result"
    }
   ],
   "source": [
    "unrated_films.count()"
   ]
  },
  {
   "cell_type": "code",
   "execution_count": 101,
   "metadata": {
    "collapsed": false,
    "deletable": true,
    "editable": true
   },
   "outputs": [
    {
     "name": "stdout",
     "output_type": "stream",
     "text": [
      "+--------+--------------------+\n",
      "|movie_id|         movie_title|\n",
      "+--------+--------------------+\n",
      "|       5|      Copycat (1995)|\n",
      "|       6|Shanghai Triad (Y...|\n",
      "|       8|         Babe (1995)|\n",
      "|       9|Dead Man Walking ...|\n",
      "|      14|  Postino, Il (1994)|\n",
      "+--------+--------------------+\n",
      "only showing top 5 rows\n",
      "\n"
     ]
    }
   ],
   "source": [
    "unrated_films.show(n=5)"
   ]
  },
  {
   "cell_type": "code",
   "execution_count": 102,
   "metadata": {
    "collapsed": false,
    "deletable": true,
    "editable": true
   },
   "outputs": [
    {
     "name": "stdout",
     "output_type": "stream",
     "text": [
      "CPU times: user 451 µs, sys: 941 µs, total: 1.39 ms\n",
      "Wall time: 167 ms\n"
     ]
    }
   ],
   "source": [
    "%%time\n",
    "unrated_items_with_dist = unrated_films.join(\n",
    "    cos_m, on=unrated_films['movie_id'] == cos_m['i']\n",
    ")"
   ]
  },
  {
   "cell_type": "code",
   "execution_count": 103,
   "metadata": {
    "collapsed": false,
    "deletable": true,
    "editable": true
   },
   "outputs": [
    {
     "name": "stdout",
     "output_type": "stream",
     "text": [
      "CPU times: user 1.1 ms, sys: 1.84 ms, total: 2.93 ms\n",
      "Wall time: 12.4 s\n"
     ]
    },
    {
     "data": {
      "text/plain": [
       "1142"
      ]
     },
     "execution_count": 103,
     "metadata": {},
     "output_type": "execute_result"
    }
   ],
   "source": [
    "%%time\n",
    "unrated_items_with_dist.groupby('i').count().count()"
   ]
  },
  {
   "cell_type": "code",
   "execution_count": 104,
   "metadata": {
    "collapsed": true,
    "deletable": true,
    "editable": true
   },
   "outputs": [],
   "source": [
    "from pyspark.sql.window import Window"
   ]
  },
  {
   "cell_type": "code",
   "execution_count": 105,
   "metadata": {
    "collapsed": true,
    "deletable": true,
    "editable": true
   },
   "outputs": [],
   "source": [
    "from pyspark.sql.functions import rank, row_number"
   ]
  },
  {
   "cell_type": "code",
   "execution_count": 106,
   "metadata": {
    "collapsed": true,
    "deletable": true,
    "editable": true
   },
   "outputs": [],
   "source": [
    "window = Window.partitionBy(\n",
    "    unrated_items_with_dist['i']\n",
    ").orderBy(\n",
    "    unrated_items_with_dist['cos'].desc(),\n",
    "    unrated_items_with_dist['j'].cast(IntegerType()).asc()\n",
    ")"
   ]
  },
  {
   "cell_type": "code",
   "execution_count": 107,
   "metadata": {
    "collapsed": false,
    "deletable": true,
    "editable": true
   },
   "outputs": [
    {
     "name": "stdout",
     "output_type": "stream",
     "text": [
      "CPU times: user 831 µs, sys: 1.72 ms, total: 2.56 ms\n",
      "Wall time: 32.3 ms\n"
     ]
    }
   ],
   "source": [
    "%%time\n",
    "neighbour_items = unrated_items_with_dist.select('movie_title', 'i', 'j', 'cos', row_number().over(window).alias('#')) \\\n",
    "  .filter(col('#') < 31)"
   ]
  },
  {
   "cell_type": "markdown",
   "metadata": {
    "deletable": true,
    "editable": true
   },
   "source": [
    "прогноз оценки пользователя по формуле (базовый предиктор из пункта 4, часть 3). Здесь S(i)- множество фильмов-соседей для фильма i, по которым у данного пользователя есть оценка. "
   ]
  },
  {
   "cell_type": "markdown",
   "metadata": {
    "deletable": true,
    "editable": true
   },
   "source": [
    "<img src=\"https://camo.githubusercontent.com/246d2acb23de63e3d19ef415eb3e1e9fb5717c8e/687474703a2f2f646174612e6e657770726f6c61622e636f6d2f7075626c69632d6e657770726f6c61622d636f6d2f6c6162613038735f6974656d5f6974656d5f63662e706e67\" alt=\"Drawing\" style=\"width: 300px;\"/>"
   ]
  },
  {
   "cell_type": "code",
   "execution_count": 108,
   "metadata": {
    "collapsed": true,
    "deletable": true,
    "editable": true
   },
   "outputs": [],
   "source": [
    "base_predictors_target = bu.filter(bu.user_id == target_id)"
   ]
  },
  {
   "cell_type": "code",
   "execution_count": 109,
   "metadata": {
    "collapsed": false,
    "deletable": true,
    "editable": true
   },
   "outputs": [
    {
     "data": {
      "text/plain": [
       "0.3288647272727238"
      ]
     },
     "execution_count": 109,
     "metadata": {},
     "output_type": "execute_result"
    }
   ],
   "source": [
    "bu_target = base_predictors_target.take(1)[0].bu\n",
    "bu_target"
   ]
  },
  {
   "cell_type": "code",
   "execution_count": 110,
   "metadata": {
    "collapsed": true,
    "deletable": true,
    "editable": true
   },
   "outputs": [],
   "source": [
    "bi2 = bi.toDF('id', 'bi')"
   ]
  },
  {
   "cell_type": "code",
   "execution_count": 111,
   "metadata": {
    "collapsed": false,
    "deletable": true,
    "editable": true
   },
   "outputs": [
    {
     "name": "stdout",
     "output_type": "stream",
     "text": [
      "+----+--------------------+\n",
      "|  id|                  bi|\n",
      "+----+--------------------+\n",
      "| 829| -0.4270513400199922|\n",
      "|1436|-0.04295878652633463|\n",
      "| 467| 0.16690701840272296|\n",
      "| 691| 0.05546248651815944|\n",
      "|1090| -0.5930556738185061|\n",
      "+----+--------------------+\n",
      "only showing top 5 rows\n",
      "\n"
     ]
    }
   ],
   "source": [
    "bi2.show(n=5)"
   ]
  },
  {
   "cell_type": "code",
   "execution_count": 112,
   "metadata": {
    "collapsed": true,
    "deletable": true,
    "editable": true
   },
   "outputs": [],
   "source": [
    "unbiased_ratings_target = unbiased_ratings.filter(unbiased_ratings['user_id'] == target_id)"
   ]
  },
  {
   "cell_type": "code",
   "execution_count": 113,
   "metadata": {
    "collapsed": false,
    "deletable": true,
    "editable": true
   },
   "outputs": [
    {
     "name": "stdout",
     "output_type": "stream",
     "text": [
      "+-------+-------+------+--------------------+------------------+\n",
      "|item_id|user_id|rating|                   R|            R_norm|\n",
      "+-------+-------+------+--------------------+------------------+\n",
      "|    467|    450|     4|-0.02563174567544646| 5.623730725521247|\n",
      "|    125|    450|     4|  0.1266474717889623|14.235703723304308|\n",
      "|    451|    450|     4| 0.30270955408295785|14.735546959488957|\n",
      "|    926|    450|     4|  0.7143827033904318| 9.496854770596856|\n",
      "|     51|    450|     4| 0.19425981326141084| 9.633276880528523|\n",
      "+-------+-------+------+--------------------+------------------+\n",
      "only showing top 5 rows\n",
      "\n",
      "CPU times: user 760 µs, sys: 1.37 ms, total: 2.13 ms\n",
      "Wall time: 1.57 s\n"
     ]
    }
   ],
   "source": [
    "%%time\n",
    "unbiased_ratings_target.show(n=5)"
   ]
  },
  {
   "cell_type": "code",
   "execution_count": 114,
   "metadata": {
    "collapsed": false,
    "deletable": true,
    "editable": true
   },
   "outputs": [
    {
     "name": "stdout",
     "output_type": "stream",
     "text": [
      "+-------------+----+----+------------------+---+\n",
      "|  movie_title|   i|   j|               cos|  #|\n",
      "+-------------+----+----+------------------+---+\n",
      "|Sliver (1993)|1090|1292|0.3268461799143295|  1|\n",
      "|Sliver (1993)|1090|1239|0.3079501997849308|  2|\n",
      "|Sliver (1993)|1090| 759|0.2801750499768897|  3|\n",
      "|Sliver (1993)|1090| 725|0.2749508927803329|  4|\n",
      "|Sliver (1993)|1090| 397|0.2621255648643679|  5|\n",
      "+-------------+----+----+------------------+---+\n",
      "only showing top 5 rows\n",
      "\n"
     ]
    }
   ],
   "source": [
    "neighbour_items.show(n=5)"
   ]
  },
  {
   "cell_type": "code",
   "execution_count": 115,
   "metadata": {
    "collapsed": false,
    "deletable": true,
    "editable": true
   },
   "outputs": [
    {
     "name": "stdout",
     "output_type": "stream",
     "text": [
      "CPU times: user 1.56 ms, sys: 3.18 ms, total: 4.74 ms\n",
      "Wall time: 447 ms\n"
     ]
    }
   ],
   "source": [
    "%%time\n",
    "predict_item_base = neighbour_items.join(\n",
    "    unbiased_ratings_target, on=neighbour_items['j'] == unbiased_ratings_target['item_id'] # add r[uj] - b[uj] for each neighbour\n",
    ").join(\n",
    "    bi2, on=neighbour_items['i'] == bi2.id\n",
    ").select('i', 'j', 'cos', 'R', 'movie_title', (bi2.bi + mu + bu_target).alias('bui'))"
   ]
  },
  {
   "cell_type": "code",
   "execution_count": 116,
   "metadata": {
    "collapsed": false,
    "deletable": true,
    "editable": true
   },
   "outputs": [
    {
     "data": {
      "text/html": [
       "<div>\n",
       "<style>\n",
       "    .dataframe thead tr:only-child th {\n",
       "        text-align: right;\n",
       "    }\n",
       "\n",
       "    .dataframe thead th {\n",
       "        text-align: left;\n",
       "    }\n",
       "\n",
       "    .dataframe tbody tr th {\n",
       "        vertical-align: top;\n",
       "    }\n",
       "</style>\n",
       "<table border=\"1\" class=\"dataframe\">\n",
       "  <thead>\n",
       "    <tr style=\"text-align: right;\">\n",
       "      <th></th>\n",
       "      <th>i</th>\n",
       "      <th>j</th>\n",
       "      <th>cos</th>\n",
       "      <th>R</th>\n",
       "      <th>movie_title</th>\n",
       "      <th>bui</th>\n",
       "    </tr>\n",
       "  </thead>\n",
       "  <tbody>\n",
       "    <tr>\n",
       "      <th>0</th>\n",
       "      <td>1090</td>\n",
       "      <td>783</td>\n",
       "      <td>0.179511</td>\n",
       "      <td>-0.423888</td>\n",
       "      <td>Sliver (1993)</td>\n",
       "      <td>3.265669</td>\n",
       "    </tr>\n",
       "    <tr>\n",
       "      <th>1</th>\n",
       "      <td>1090</td>\n",
       "      <td>734</td>\n",
       "      <td>0.240344</td>\n",
       "      <td>-1.416972</td>\n",
       "      <td>Sliver (1993)</td>\n",
       "      <td>3.265669</td>\n",
       "    </tr>\n",
       "    <tr>\n",
       "      <th>2</th>\n",
       "      <td>1090</td>\n",
       "      <td>801</td>\n",
       "      <td>0.252078</td>\n",
       "      <td>0.388498</td>\n",
       "      <td>Sliver (1993)</td>\n",
       "      <td>3.265669</td>\n",
       "    </tr>\n",
       "    <tr>\n",
       "      <th>3</th>\n",
       "      <td>1090</td>\n",
       "      <td>583</td>\n",
       "      <td>0.185779</td>\n",
       "      <td>0.407883</td>\n",
       "      <td>Sliver (1993)</td>\n",
       "      <td>3.265669</td>\n",
       "    </tr>\n",
       "    <tr>\n",
       "      <th>4</th>\n",
       "      <td>1090</td>\n",
       "      <td>43</td>\n",
       "      <td>0.234634</td>\n",
       "      <td>0.433374</td>\n",
       "      <td>Sliver (1993)</td>\n",
       "      <td>3.265669</td>\n",
       "    </tr>\n",
       "    <tr>\n",
       "      <th>5</th>\n",
       "      <td>1090</td>\n",
       "      <td>725</td>\n",
       "      <td>0.274951</td>\n",
       "      <td>-0.648570</td>\n",
       "      <td>Sliver (1993)</td>\n",
       "      <td>3.265669</td>\n",
       "    </tr>\n",
       "    <tr>\n",
       "      <th>6</th>\n",
       "      <td>1436</td>\n",
       "      <td>1490</td>\n",
       "      <td>0.601438</td>\n",
       "      <td>-0.821264</td>\n",
       "      <td>Mr. Jones (1993)</td>\n",
       "      <td>3.815766</td>\n",
       "    </tr>\n",
       "    <tr>\n",
       "      <th>7</th>\n",
       "      <td>1436</td>\n",
       "      <td>1479</td>\n",
       "      <td>0.309764</td>\n",
       "      <td>-0.729831</td>\n",
       "      <td>Mr. Jones (1993)</td>\n",
       "      <td>3.815766</td>\n",
       "    </tr>\n",
       "    <tr>\n",
       "      <th>8</th>\n",
       "      <td>1436</td>\n",
       "      <td>1053</td>\n",
       "      <td>0.367971</td>\n",
       "      <td>-0.815396</td>\n",
       "      <td>Mr. Jones (1993)</td>\n",
       "      <td>3.815766</td>\n",
       "    </tr>\n",
       "    <tr>\n",
       "      <th>9</th>\n",
       "      <td>1436</td>\n",
       "      <td>794</td>\n",
       "      <td>0.324642</td>\n",
       "      <td>1.103522</td>\n",
       "      <td>Mr. Jones (1993)</td>\n",
       "      <td>3.815766</td>\n",
       "    </tr>\n",
       "  </tbody>\n",
       "</table>\n",
       "</div>"
      ],
      "text/plain": [
       "      i     j       cos         R       movie_title       bui\n",
       "0  1090   783  0.179511 -0.423888     Sliver (1993)  3.265669\n",
       "1  1090   734  0.240344 -1.416972     Sliver (1993)  3.265669\n",
       "2  1090   801  0.252078  0.388498     Sliver (1993)  3.265669\n",
       "3  1090   583  0.185779  0.407883     Sliver (1993)  3.265669\n",
       "4  1090    43  0.234634  0.433374     Sliver (1993)  3.265669\n",
       "5  1090   725  0.274951 -0.648570     Sliver (1993)  3.265669\n",
       "6  1436  1490  0.601438 -0.821264  Mr. Jones (1993)  3.815766\n",
       "7  1436  1479  0.309764 -0.729831  Mr. Jones (1993)  3.815766\n",
       "8  1436  1053  0.367971 -0.815396  Mr. Jones (1993)  3.815766\n",
       "9  1436   794  0.324642  1.103522  Mr. Jones (1993)  3.815766"
      ]
     },
     "execution_count": 116,
     "metadata": {},
     "output_type": "execute_result"
    }
   ],
   "source": [
    "predict_item_base.limit(10).toPandas()"
   ]
  },
  {
   "cell_type": "code",
   "execution_count": 117,
   "metadata": {
    "collapsed": false,
    "deletable": true,
    "editable": true
   },
   "outputs": [
    {
     "name": "stdout",
     "output_type": "stream",
     "text": [
      "CPU times: user 6.07 ms, sys: 0 ns, total: 6.07 ms\n",
      "Wall time: 620 ms\n"
     ]
    }
   ],
   "source": [
    "%%time\n",
    "predict_item = predict_item_base.groupby('i').agg(\n",
    "    (F.first('bui') + F.sum(col('cos') * col('R')) / F.sum( F.abs(col('cos')) )).alias('predict')\n",
    ").join(u_item, on=predict_item_base.i == u_item.movie_id)"
   ]
  },
  {
   "cell_type": "code",
   "execution_count": 118,
   "metadata": {
    "collapsed": false,
    "deletable": true,
    "editable": true
   },
   "outputs": [
    {
     "name": "stdout",
     "output_type": "stream",
     "text": [
      "CPU times: user 620 µs, sys: 456 µs, total: 1.08 ms\n",
      "Wall time: 7.06 ms\n"
     ]
    }
   ],
   "source": [
    "%%time\n",
    "predict_item = predict_item.select('i', 'predict', col('movie_title').alias('title'))"
   ]
  },
  {
   "cell_type": "code",
   "execution_count": 119,
   "metadata": {
    "collapsed": false,
    "deletable": true,
    "editable": true
   },
   "outputs": [
    {
     "name": "stdout",
     "output_type": "stream",
     "text": [
      "+----+------------------+--------------------+\n",
      "|   i|           predict|               title|\n",
      "+----+------------------+--------------------+\n",
      "|1090| 3.031933298995327|       Sliver (1993)|\n",
      "|1436|3.4031201931052593|    Mr. Jones (1993)|\n",
      "|1512| 4.762531114770054|World of Apu, The...|\n",
      "| 675|3.6797664565015613|Nosferatu (Nosfer...|\n",
      "| 691| 4.749241034266128|    Dark City (1998)|\n",
      "+----+------------------+--------------------+\n",
      "only showing top 5 rows\n",
      "\n",
      "CPU times: user 775 µs, sys: 1.56 ms, total: 2.33 ms\n",
      "Wall time: 14 s\n"
     ]
    }
   ],
   "source": [
    "%%time\n",
    "predict_item.show(n=5)"
   ]
  },
  {
   "cell_type": "markdown",
   "metadata": {
    "deletable": true,
    "editable": true
   },
   "source": [
    "Рекомендуйте пользователю 10 фильмов (predicators_top10) с самыми высокими оценками из пункта 3, часть 4."
   ]
  },
  {
   "cell_type": "code",
   "execution_count": 120,
   "metadata": {
    "collapsed": false,
    "deletable": true,
    "editable": true
   },
   "outputs": [
    {
     "name": "stdout",
     "output_type": "stream",
     "text": [
      "CPU times: user 3.39 ms, sys: 0 ns, total: 3.39 ms\n",
      "Wall time: 6.11 ms\n"
     ]
    }
   ],
   "source": [
    "%%time\n",
    "predicators_top10 = predict_item.sort(predict_item.predict.desc()).limit(10)"
   ]
  },
  {
   "cell_type": "code",
   "execution_count": 121,
   "metadata": {
    "collapsed": false,
    "deletable": true,
    "editable": true
   },
   "outputs": [
    {
     "name": "stdout",
     "output_type": "stream",
     "text": [
      "CPU times: user 5.26 ms, sys: 1.41 ms, total: 6.66 ms\n",
      "Wall time: 13.3 s\n"
     ]
    }
   ],
   "source": [
    "%%time\n",
    "item_item_prediction = predicators_top10.toPandas()\n",
    "item_item_prediction"
   ]
  },
  {
   "cell_type": "code",
   "execution_count": 122,
   "metadata": {
    "collapsed": false,
    "deletable": true,
    "editable": true
   },
   "outputs": [
    {
     "data": {
      "text/html": [
       "<div>\n",
       "<style>\n",
       "    .dataframe thead tr:only-child th {\n",
       "        text-align: right;\n",
       "    }\n",
       "\n",
       "    .dataframe thead th {\n",
       "        text-align: left;\n",
       "    }\n",
       "\n",
       "    .dataframe tbody tr th {\n",
       "        vertical-align: top;\n",
       "    }\n",
       "</style>\n",
       "<table border=\"1\" class=\"dataframe\">\n",
       "  <thead>\n",
       "    <tr style=\"text-align: right;\">\n",
       "      <th></th>\n",
       "      <th>movie_id</th>\n",
       "      <th>rating_prediction</th>\n",
       "    </tr>\n",
       "  </thead>\n",
       "  <tbody>\n",
       "    <tr>\n",
       "      <th>0</th>\n",
       "      <td>1591</td>\n",
       "      <td>5.879630</td>\n",
       "    </tr>\n",
       "    <tr>\n",
       "      <th>1</th>\n",
       "      <td>1367</td>\n",
       "      <td>5.585312</td>\n",
       "    </tr>\n",
       "    <tr>\n",
       "      <th>2</th>\n",
       "      <td>1529</td>\n",
       "      <td>5.585312</td>\n",
       "    </tr>\n",
       "    <tr>\n",
       "      <th>3</th>\n",
       "      <td>19</td>\n",
       "      <td>5.342088</td>\n",
       "    </tr>\n",
       "    <tr>\n",
       "      <th>4</th>\n",
       "      <td>990</td>\n",
       "      <td>5.329101</td>\n",
       "    </tr>\n",
       "    <tr>\n",
       "      <th>5</th>\n",
       "      <td>1021</td>\n",
       "      <td>5.284317</td>\n",
       "    </tr>\n",
       "    <tr>\n",
       "      <th>6</th>\n",
       "      <td>916</td>\n",
       "      <td>5.280399</td>\n",
       "    </tr>\n",
       "    <tr>\n",
       "      <th>7</th>\n",
       "      <td>856</td>\n",
       "      <td>5.221958</td>\n",
       "    </tr>\n",
       "    <tr>\n",
       "      <th>8</th>\n",
       "      <td>888</td>\n",
       "      <td>5.155137</td>\n",
       "    </tr>\n",
       "    <tr>\n",
       "      <th>9</th>\n",
       "      <td>1137</td>\n",
       "      <td>5.155137</td>\n",
       "    </tr>\n",
       "  </tbody>\n",
       "</table>\n",
       "</div>"
      ],
      "text/plain": [
       "   movie_id  rating_prediction\n",
       "0      1591           5.879630\n",
       "1      1367           5.585312\n",
       "2      1529           5.585312\n",
       "3        19           5.342088\n",
       "4       990           5.329101\n",
       "5      1021           5.284317\n",
       "6       916           5.280399\n",
       "7       856           5.221958\n",
       "8       888           5.155137\n",
       "9      1137           5.155137"
      ]
     },
     "execution_count": 122,
     "metadata": {},
     "output_type": "execute_result"
    }
   ],
   "source": [
    "user_user_advise"
   ]
  },
  {
   "cell_type": "markdown",
   "metadata": {
    "deletable": true,
    "editable": true
   },
   "source": [
    "При подсчете прогноза по формуле из пункта 3, часть 4 отфильтруйте всех соседей с отрицательной близостью."
   ]
  },
  {
   "cell_type": "markdown",
   "metadata": {
    "deletable": true,
    "editable": true
   },
   "source": [
    "<img src=\"https://camo.githubusercontent.com/246d2acb23de63e3d19ef415eb3e1e9fb5717c8e/687474703a2f2f646174612e6e657770726f6c61622e636f6d2f7075626c69632d6e657770726f6c61622d636f6d2f6c6162613038735f6974656d5f6974656d5f63662e706e67\" alt=\"Drawing\" style=\"width: 300px;\"/>"
   ]
  },
  {
   "cell_type": "code",
   "execution_count": 123,
   "metadata": {
    "collapsed": true,
    "deletable": true,
    "editable": true
   },
   "outputs": [],
   "source": [
    "temp = predict_item_base.select('*', (F.when(col('cos') < 0.0, 0.0).otherwise(col('cos'))).alias('adj_cos'))"
   ]
  },
  {
   "cell_type": "code",
   "execution_count": 124,
   "metadata": {
    "collapsed": true,
    "deletable": true,
    "editable": true
   },
   "outputs": [],
   "source": [
    "predict_item_positive = temp.groupby('i').agg(\n",
    "    (F.first('bui') + F.sum( col('cos') * col('R')) / F.sum( F.abs(col('cos')) )).alias('predict')\n",
    ").join(u_item, on=predict_item_base.i == u_item.movie_id)"
   ]
  },
  {
   "cell_type": "code",
   "execution_count": 125,
   "metadata": {
    "collapsed": false,
    "deletable": true,
    "editable": true
   },
   "outputs": [
    {
     "name": "stdout",
     "output_type": "stream",
     "text": [
      "+----+------------------+--------+--------------------+\n",
      "|   i|           predict|movie_id|         movie_title|\n",
      "+----+------------------+--------+--------------------+\n",
      "|1090| 3.031933298995327|    1090|       Sliver (1993)|\n",
      "|1436|3.4031201931052597|    1436|    Mr. Jones (1993)|\n",
      "|1512| 4.762531114770054|    1512|World of Apu, The...|\n",
      "| 675|3.6797664565015613|     675|Nosferatu (Nosfer...|\n",
      "| 691| 4.749241034266128|     691|    Dark City (1998)|\n",
      "+----+------------------+--------+--------------------+\n",
      "only showing top 5 rows\n",
      "\n"
     ]
    }
   ],
   "source": [
    "predict_item_positive.show(n=5)"
   ]
  },
  {
   "cell_type": "markdown",
   "metadata": {
    "deletable": true,
    "editable": true
   },
   "source": [
    "Рекомендуйте пользователю 10 фильмов (predicators_positive_top10) с самыми высокими оценками из пункта 5, часть 4."
   ]
  },
  {
   "cell_type": "code",
   "execution_count": 126,
   "metadata": {
    "collapsed": true,
    "deletable": true,
    "editable": true
   },
   "outputs": [],
   "source": [
    "predicators_positive_top10 = predict_item_positive.sort(predict_item_positive.predict.desc()).limit(10)"
   ]
  },
  {
   "cell_type": "code",
   "execution_count": 127,
   "metadata": {
    "collapsed": false,
    "deletable": true,
    "editable": true,
    "scrolled": true
   },
   "outputs": [
    {
     "data": {
      "text/html": [
       "<div>\n",
       "<style>\n",
       "    .dataframe thead tr:only-child th {\n",
       "        text-align: right;\n",
       "    }\n",
       "\n",
       "    .dataframe thead th {\n",
       "        text-align: left;\n",
       "    }\n",
       "\n",
       "    .dataframe tbody tr th {\n",
       "        vertical-align: top;\n",
       "    }\n",
       "</style>\n",
       "<table border=\"1\" class=\"dataframe\">\n",
       "  <thead>\n",
       "    <tr style=\"text-align: right;\">\n",
       "      <th></th>\n",
       "      <th>i</th>\n",
       "      <th>predict</th>\n",
       "      <th>movie_id</th>\n",
       "      <th>movie_title</th>\n",
       "    </tr>\n",
       "  </thead>\n",
       "  <tbody>\n",
       "    <tr>\n",
       "      <th>0</th>\n",
       "      <td>1194</td>\n",
       "      <td>5.252189</td>\n",
       "      <td>1194</td>\n",
       "      <td>Once Were Warriors (1994)</td>\n",
       "    </tr>\n",
       "    <tr>\n",
       "      <th>1</th>\n",
       "      <td>694</td>\n",
       "      <td>5.075911</td>\n",
       "      <td>694</td>\n",
       "      <td>Persuasion (1995)</td>\n",
       "    </tr>\n",
       "    <tr>\n",
       "      <th>2</th>\n",
       "      <td>1167</td>\n",
       "      <td>5.069466</td>\n",
       "      <td>1167</td>\n",
       "      <td>Sum of Us, The (1994)</td>\n",
       "    </tr>\n",
       "    <tr>\n",
       "      <th>3</th>\n",
       "      <td>1368</td>\n",
       "      <td>5.060906</td>\n",
       "      <td>1368</td>\n",
       "      <td>Mina Tannenbaum (1994)</td>\n",
       "    </tr>\n",
       "    <tr>\n",
       "      <th>4</th>\n",
       "      <td>48</td>\n",
       "      <td>5.048244</td>\n",
       "      <td>48</td>\n",
       "      <td>Hoop Dreams (1994)</td>\n",
       "    </tr>\n",
       "    <tr>\n",
       "      <th>5</th>\n",
       "      <td>361</td>\n",
       "      <td>5.029601</td>\n",
       "      <td>361</td>\n",
       "      <td>Incognito (1997)</td>\n",
       "    </tr>\n",
       "    <tr>\n",
       "      <th>6</th>\n",
       "      <td>915</td>\n",
       "      <td>5.024281</td>\n",
       "      <td>915</td>\n",
       "      <td>Primary Colors (1998)</td>\n",
       "    </tr>\n",
       "    <tr>\n",
       "      <th>7</th>\n",
       "      <td>408</td>\n",
       "      <td>4.991821</td>\n",
       "      <td>408</td>\n",
       "      <td>Close Shave, A (1995)</td>\n",
       "    </tr>\n",
       "    <tr>\n",
       "      <th>8</th>\n",
       "      <td>889</td>\n",
       "      <td>4.974996</td>\n",
       "      <td>889</td>\n",
       "      <td>Tango Lesson, The (1997)</td>\n",
       "    </tr>\n",
       "    <tr>\n",
       "      <th>9</th>\n",
       "      <td>793</td>\n",
       "      <td>4.968650</td>\n",
       "      <td>793</td>\n",
       "      <td>Crooklyn (1994)</td>\n",
       "    </tr>\n",
       "  </tbody>\n",
       "</table>\n",
       "</div>"
      ],
      "text/plain": [
       "      i   predict movie_id                movie_title\n",
       "0  1194  5.252189     1194  Once Were Warriors (1994)\n",
       "1   694  5.075911      694          Persuasion (1995)\n",
       "2  1167  5.069466     1167      Sum of Us, The (1994)\n",
       "3  1368  5.060906     1368     Mina Tannenbaum (1994)\n",
       "4    48  5.048244       48         Hoop Dreams (1994)\n",
       "5   361  5.029601      361           Incognito (1997)\n",
       "6   915  5.024281      915      Primary Colors (1998)\n",
       "7   408  4.991821      408      Close Shave, A (1995)\n",
       "8   889  4.974996      889   Tango Lesson, The (1997)\n",
       "9   793  4.968650      793            Crooklyn (1994)"
      ]
     },
     "execution_count": 127,
     "metadata": {},
     "output_type": "execute_result"
    }
   ],
   "source": [
    "item_item_prediction_pos = predicators_positive_top10.toPandas()\n",
    "item_item_prediction_pos"
   ]
  },
  {
   "cell_type": "code",
   "execution_count": 128,
   "metadata": {
    "collapsed": false,
    "deletable": true,
    "editable": true
   },
   "outputs": [
    {
     "data": {
      "text/html": [
       "<div>\n",
       "<style>\n",
       "    .dataframe thead tr:only-child th {\n",
       "        text-align: right;\n",
       "    }\n",
       "\n",
       "    .dataframe thead th {\n",
       "        text-align: left;\n",
       "    }\n",
       "\n",
       "    .dataframe tbody tr th {\n",
       "        vertical-align: top;\n",
       "    }\n",
       "</style>\n",
       "<table border=\"1\" class=\"dataframe\">\n",
       "  <thead>\n",
       "    <tr style=\"text-align: right;\">\n",
       "      <th></th>\n",
       "      <th>movie_id</th>\n",
       "      <th>rating_prediction</th>\n",
       "      <th>movie_title</th>\n",
       "    </tr>\n",
       "  </thead>\n",
       "  <tbody>\n",
       "    <tr>\n",
       "      <th>0</th>\n",
       "      <td>19</td>\n",
       "      <td>5.342088</td>\n",
       "      <td>Antonia's Line (1995)</td>\n",
       "    </tr>\n",
       "    <tr>\n",
       "      <th>1</th>\n",
       "      <td>856</td>\n",
       "      <td>5.221958</td>\n",
       "      <td>Night on Earth (1991)</td>\n",
       "    </tr>\n",
       "    <tr>\n",
       "      <th>2</th>\n",
       "      <td>888</td>\n",
       "      <td>5.155137</td>\n",
       "      <td>One Night Stand (1997)</td>\n",
       "    </tr>\n",
       "    <tr>\n",
       "      <th>3</th>\n",
       "      <td>916</td>\n",
       "      <td>5.280399</td>\n",
       "      <td>Lost in Space (1998)</td>\n",
       "    </tr>\n",
       "    <tr>\n",
       "      <th>4</th>\n",
       "      <td>990</td>\n",
       "      <td>5.329101</td>\n",
       "      <td>Anna Karenina (1997)</td>\n",
       "    </tr>\n",
       "    <tr>\n",
       "      <th>5</th>\n",
       "      <td>1021</td>\n",
       "      <td>5.284317</td>\n",
       "      <td>8 1/2 (1963)</td>\n",
       "    </tr>\n",
       "    <tr>\n",
       "      <th>6</th>\n",
       "      <td>1137</td>\n",
       "      <td>5.155137</td>\n",
       "      <td>Beautiful Thing (1996)</td>\n",
       "    </tr>\n",
       "    <tr>\n",
       "      <th>7</th>\n",
       "      <td>1367</td>\n",
       "      <td>5.585312</td>\n",
       "      <td>Faust (1994)</td>\n",
       "    </tr>\n",
       "    <tr>\n",
       "      <th>8</th>\n",
       "      <td>1529</td>\n",
       "      <td>5.585312</td>\n",
       "      <td>Underground (1995)</td>\n",
       "    </tr>\n",
       "    <tr>\n",
       "      <th>9</th>\n",
       "      <td>1591</td>\n",
       "      <td>5.879630</td>\n",
       "      <td>Duoluo tianshi (1995)</td>\n",
       "    </tr>\n",
       "  </tbody>\n",
       "</table>\n",
       "</div>"
      ],
      "text/plain": [
       "   movie_id  rating_prediction             movie_title\n",
       "0        19           5.342088   Antonia's Line (1995)\n",
       "1       856           5.221958   Night on Earth (1991)\n",
       "2       888           5.155137  One Night Stand (1997)\n",
       "3       916           5.280399    Lost in Space (1998)\n",
       "4       990           5.329101    Anna Karenina (1997)\n",
       "5      1021           5.284317            8 1/2 (1963)\n",
       "6      1137           5.155137  Beautiful Thing (1996)\n",
       "7      1367           5.585312            Faust (1994)\n",
       "8      1529           5.585312      Underground (1995)\n",
       "9      1591           5.879630   Duoluo tianshi (1995)"
      ]
     },
     "execution_count": 128,
     "metadata": {},
     "output_type": "execute_result"
    }
   ],
   "source": [
    "pearson_top10.join(u_item, on='movie_id').toPandas()"
   ]
  },
  {
   "cell_type": "code",
   "execution_count": 129,
   "metadata": {
    "collapsed": true,
    "deletable": true,
    "editable": true
   },
   "outputs": [],
   "source": [
    "ds = {\n",
    "    'average_rating': mu,\n",
    "    'predicators_positive_top10': [int(id) for id in item_item_prediction_pos.movie_id.tolist()],\n",
    "    'predicators_top10': [int(id) for id in item_item_prediction.i.tolist()]\n",
    "}"
   ]
  },
  {
   "cell_type": "code",
   "execution_count": 130,
   "metadata": {
    "collapsed": true,
    "deletable": true,
    "editable": true
   },
   "outputs": [],
   "source": [
    "with open('../lab08s.json', 'w') as f:\n",
    "    json.dump(ds, f)"
   ]
  },
  {
   "cell_type": "code",
   "execution_count": null,
   "metadata": {
    "collapsed": true,
    "deletable": true,
    "editable": true
   },
   "outputs": [],
   "source": []
  }
 ],
 "metadata": {
  "kernelspec": {
   "display_name": "Python 3",
   "language": "python",
   "name": "python3"
  },
  "language_info": {
   "codemirror_mode": {
    "name": "ipython",
    "version": 3
   },
   "file_extension": ".py",
   "mimetype": "text/x-python",
   "name": "python",
   "nbconvert_exporter": "python",
   "pygments_lexer": "ipython3",
   "version": "3.6.4"
  }
 },
 "nbformat": 4,
 "nbformat_minor": 2
}
