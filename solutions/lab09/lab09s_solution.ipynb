{
 "cells": [
  {
   "cell_type": "code",
   "execution_count": 2,
   "metadata": {
    "collapsed": false
   },
   "outputs": [
    {
     "name": "stdout",
     "output_type": "stream",
     "text": [
      "Welcome to\n",
      "      ____              __\n",
      "     / __/__  ___ _____/ /__\n",
      "    _\\ \\/ _ \\/ _ `/ __/  '_/\n",
      "   /__ / .__/\\_,_/_/ /_/\\_\\   version 2.3.0\n",
      "      /_/\n",
      "\n",
      "Using Python version 3.6.4 (default, Jan 28 2018 00:00:00)\n",
      "SparkSession available as 'spark'.\n"
     ]
    }
   ],
   "source": [
    "import os\n",
    "import sys\n",
    "os.environ[\"PYSPARK_SUBMIT_ARGS\"]='--packages com.databricks:spark-csv_2.10:1.2.0 pyspark-shell'\n",
    "os.environ[\"PYSPARK_PYTHON\"]='python3'\n",
    "os.environ[\"SPARK_HOME\"]='/usr/hdp/current/spark2-client'\n",
    "\n",
    "spark_home = os.environ.get('SPARK_HOME', None)\n",
    "if not spark_home:\n",
    "    raise ValueError('SPARK_HOME environment variable is not set')\n",
    "\n",
    "sys.path.insert(0, os.path.join(spark_home, 'python'))\n",
    "sys.path.insert(0, os.path.join(spark_home, 'python/lib/py4j-0.10.4-src.zip'))\n",
    "\n",
    "exec(open(os.path.join(spark_home, 'python/pyspark/shell.py')).read())"
   ]
  },
  {
   "cell_type": "code",
   "execution_count": 3,
   "metadata": {
    "collapsed": true
   },
   "outputs": [],
   "source": [
    "import pyspark.sql.functions as F\n",
    "from pyspark.ml.recommendation import ALS\n",
    "from pyspark.sql.types import StructType,\\\n",
    "                              StructField,\\\n",
    "                              IntegerType,\\\n",
    "                              FloatType"
   ]
  },
  {
   "cell_type": "code",
   "execution_count": 4,
   "metadata": {
    "collapsed": true
   },
   "outputs": [],
   "source": [
    "test = spark.read.csv(\n",
    "    '/labs/lab09data/test.csv',\n",
    "    sep=',',\n",
    "    header=True,\n",
    "    schema=StructType([StructField(\"userId\", IntegerType(), True),\n",
    "                       StructField(\"movieId\", IntegerType(), True),\n",
    "                       StructField(\"rating\", FloatType(), True)]))"
   ]
  },
  {
   "cell_type": "code",
   "execution_count": 5,
   "metadata": {
    "collapsed": true
   },
   "outputs": [],
   "source": [
    "train = spark.read.csv(\n",
    "    '/labs/lab09data/train.csv',\n",
    "    sep=',',\n",
    "    header=True,\n",
    "    schema=StructType([StructField(\"userId\", IntegerType(), True),\n",
    "                       StructField(\"movieId\", IntegerType(), True),\n",
    "                       StructField(\"rating\", FloatType(), True)]))\n",
    "\n",
    "train_count = train.count()"
   ]
  },
  {
   "cell_type": "code",
   "execution_count": 6,
   "metadata": {
    "collapsed": true
   },
   "outputs": [],
   "source": [
    "train_avg = train.groupBy('movieId').agg(F.avg(F.col('rating')).name('avg'))"
   ]
  },
  {
   "cell_type": "code",
   "execution_count": 7,
   "metadata": {
    "collapsed": false
   },
   "outputs": [
    {
     "data": {
      "text/plain": [
       "ALS_40138de8ca7720226665"
      ]
     },
     "execution_count": 7,
     "metadata": {},
     "output_type": "execute_result"
    }
   ],
   "source": [
    "als = ALS()\n",
    "als.setMaxIter(20)\\\n",
    "   .setRank(26)\\\n",
    "   .setSeed(train_count)\\\n",
    "   .setRegParam(0.1)\\\n",
    "   .setUserCol('userId')\\\n",
    "   .setItemCol('movieId')\\\n",
    "   .setRatingCol('rating') "
   ]
  },
  {
   "cell_type": "code",
   "execution_count": 8,
   "metadata": {
    "collapsed": true
   },
   "outputs": [],
   "source": [
    "model = als.fit(train)"
   ]
  },
  {
   "cell_type": "code",
   "execution_count": 9,
   "metadata": {
    "collapsed": true
   },
   "outputs": [],
   "source": [
    "df = model.transform(test)\\\n",
    "          .join(train_avg.select(['movieId', 'avg']), on='movieId', how='left')\\\n",
    "          .select('userId', \n",
    "                  'movieId', \n",
    "                  'rating',\n",
    "                  F.nanvl(F.col('prediction'), F.col('avg')).name('prediction'))\\\n",
    "          .select('userId', 'movieId', F.col('prediction').name('rating'))\\\n",
    "          .orderBy(['userId', 'movieId'])\n",
    "\n",
    "#write to HDFS\n",
    "# df.coalesce(1)\\\n",
    "#   .write\\\n",
    "#   .format(\"com.databricks.spark.csv\")\\\n",
    "#   .option(\"header\", \"true\")\\\n",
    "#   .save('lab09.csv')"
   ]
  },
  {
   "cell_type": "code",
   "execution_count": 10,
   "metadata": {
    "collapsed": false
   },
   "outputs": [],
   "source": [
    "#write to local file system\n",
    "df.toPandas().to_csv(\"lab09s.csv\",index=False)"
   ]
  }
 ],
 "metadata": {
  "kernelspec": {
   "display_name": "Python 3",
   "language": "python",
   "name": "python3"
  },
  "language_info": {
   "codemirror_mode": {
    "name": "ipython",
    "version": 3
   },
   "file_extension": ".py",
   "mimetype": "text/x-python",
   "name": "python",
   "nbconvert_exporter": "python",
   "pygments_lexer": "ipython3",
   "version": "3.6.4"
  }
 },
 "nbformat": 4,
 "nbformat_minor": 2
}
