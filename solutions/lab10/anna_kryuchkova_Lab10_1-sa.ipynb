{
 "cells": [
  {
   "cell_type": "code",
   "execution_count": 1,
   "metadata": {
    "collapsed": false,
    "deletable": true,
    "editable": true
   },
   "outputs": [
    {
     "name": "stdout",
     "output_type": "stream",
     "text": [
      "Welcome to\n",
      "      ____              __\n",
      "     / __/__  ___ _____/ /__\n",
      "    _\\ \\/ _ \\/ _ `/ __/  '_/\n",
      "   /__ / .__/\\_,_/_/ /_/\\_\\   version 2.1.1\n",
      "      /_/\n",
      "\n",
      "Using Python version 2.7.6 (default, Oct 26 2016 20:30:19)\n",
      "SparkSession available as 'spark'.\n"
     ]
    }
   ],
   "source": [
    "# -*- coding: utf-8 -*-\n",
    "import os\n",
    "import sys\n",
    "os.environ[\"PYSPARK_SUBMIT_ARGS\"]='--packages com.databricks:spark-csv_2.10:1.2.0 pyspark-shell'\n",
    "spark_home = os.environ.get('SPARK_HOME', None)\n",
    "sys.path.insert(0, spark_home + \"/python\")\n",
    "execfile(os.path.join(spark_home, 'python/pyspark/shell.py'))"
   ]
  },
  {
   "cell_type": "code",
   "execution_count": 2,
   "metadata": {
    "collapsed": true,
    "deletable": true,
    "editable": true
   },
   "outputs": [],
   "source": [
    "from pyspark import SparkConf, SparkContext, SQLContext\n",
    "from pyspark import sql\n",
    "from pyspark.sql import Row\n",
    "from pyspark.sql.types import *\n",
    "from pyspark.sql.functions import *\n",
    "import pyspark.sql.functions as F\n",
    "from pyspark.ml.linalg import Vectors\n",
    "from pyspark.ml.feature import StringIndexer\n",
    "from pyspark.ml import Pipeline\n",
    "from pyspark.ml.feature import OneHotEncoder, StringIndexer, VectorAssembler\n",
    "from pyspark.ml.feature import Word2Vec\n",
    "import pandas as pd"
   ]
  },
  {
   "cell_type": "markdown",
   "metadata": {
    "deletable": true,
    "editable": true
   },
   "source": [
    "    Load the whole datasets"
   ]
  },
  {
   "cell_type": "code",
   "execution_count": 3,
   "metadata": {
    "collapsed": true,
    "deletable": true,
    "editable": true
   },
   "outputs": [],
   "source": [
    "train_path = os.path.join('/labs/lab10data/', 'lab10_train.csv')\n",
    "item_path = os.path.join('/labs/lab10data/', 'lab10_items.csv')\n",
    "test_path = os.path.join('/labs/lab10data/', 'lab10_test.csv')\n",
    "views_programmes = os.path.join('/labs/lab10data', 'lab10_views_programmes.csv')\n",
    "res_path = os.path.join('/user/artem.moskalets/')"
   ]
  },
  {
   "cell_type": "code",
   "execution_count": 4,
   "metadata": {
    "collapsed": true,
    "deletable": true,
    "editable": true
   },
   "outputs": [],
   "source": [
    "train_fields = [StructField('user_id', LongType(), True),\n",
    "                StructField('item_id', LongType(), True),\n",
    "               StructField('purchase', ByteType(), True)]\n",
    "schema_train = StructType(train_fields)\n",
    "df_train = spark.read.csv(header = 'true', schema = schema_train, path = train_path, sep=',')"
   ]
  },
  {
   "cell_type": "code",
   "execution_count": 5,
   "metadata": {
    "collapsed": false,
    "deletable": true,
    "editable": true
   },
   "outputs": [
    {
     "name": "stdout",
     "output_type": "stream",
     "text": [
      "root\n",
      " |-- user_id: long (nullable = true)\n",
      " |-- item_id: long (nullable = true)\n",
      " |-- purchase: byte (nullable = true)\n",
      "\n"
     ]
    }
   ],
   "source": [
    "df_train.printSchema()"
   ]
  },
  {
   "cell_type": "code",
   "execution_count": 6,
   "metadata": {
    "collapsed": false,
    "deletable": true,
    "editable": true
   },
   "outputs": [
    {
     "name": "stdout",
     "output_type": "stream",
     "text": [
      "+-------+-------+--------+\n",
      "|user_id|item_id|purchase|\n",
      "+-------+-------+--------+\n",
      "|   1654|  74107|       0|\n",
      "|   1654|  89249|       0|\n",
      "|   1654|  99982|       0|\n",
      "|   1654|  89901|       0|\n",
      "|   1654| 100504|       0|\n",
      "|   1654|  66187|       0|\n",
      "|   1654|  84350|       0|\n",
      "|   1654|  92854|       0|\n",
      "|   1654|  72811|       0|\n",
      "|   1654|  86876|       0|\n",
      "|   1654| 102657|       0|\n",
      "|   1654| 100482|       0|\n",
      "|   1654|  89677|       0|\n",
      "|   1654|  99419|       0|\n",
      "|   1654|  66603|       0|\n",
      "|   1654|   7363|       0|\n",
      "|   1654|   1320|       0|\n",
      "|   1654|  88892|       0|\n",
      "|   1654|  66671|       0|\n",
      "|   1654|  75925|       0|\n",
      "+-------+-------+--------+\n",
      "only showing top 20 rows\n",
      "\n"
     ]
    }
   ],
   "source": [
    "df_train.show()"
   ]
  },
  {
   "cell_type": "code",
   "execution_count": 7,
   "metadata": {
    "collapsed": false,
    "deletable": true,
    "editable": true
   },
   "outputs": [],
   "source": [
    "item_fields = [StructField('item_id', LongType(), True),\n",
    "               StructField('channel_id', DoubleType(), True),\n",
    "               StructField('datetime_availability_start', TimestampType(), True),\n",
    "               StructField('datetime_availability_stop', TimestampType(), True),\n",
    "               StructField('datetime_show_start', TimestampType(), True),\n",
    "               StructField('datetime_show_stop', TimestampType(), True),\n",
    "               StructField('content_type', ByteType(), True),\n",
    "               StructField('title', StringType(), True),\n",
    "               StructField('year', DoubleType(), True),\n",
    "               StructField('genres', StringType(), True),\n",
    "               StructField('region_id', FloatType(), True)]               \n",
    "schema_item = StructType(item_fields)\n",
    "df_item = spark.read.csv(header = 'true', schema = schema_item, path = item_path, sep='\\t')"
   ]
  },
  {
   "cell_type": "code",
   "execution_count": 8,
   "metadata": {
    "collapsed": false,
    "deletable": true,
    "editable": true
   },
   "outputs": [
    {
     "name": "stdout",
     "output_type": "stream",
     "text": [
      "+--------------------+\n",
      "|              genres|\n",
      "+--------------------+\n",
      "|             Эротика|\n",
      "|             Эротика|\n",
      "|             Эротика|\n",
      "|             Эротика|\n",
      "|             Эротика|\n",
      "|             Комедии|\n",
      "|   Комедии,Мелодрамы|\n",
      "|Ужасы,Триллеры,Др...|\n",
      "|Ужасы,Комедии,Фан...|\n",
      "|Комедии,Мелодрамы...|\n",
      "|Детективы,Триллер...|\n",
      "|Фантастика,Боевик...|\n",
      "|Детективы,Триллер...|\n",
      "|Детективы,Триллер...|\n",
      "|Ужасы,Детективы,Т...|\n",
      "|Комедии,Драмы,Зар...|\n",
      "|Военные,Боевики,Наши|\n",
      "|Приключения,Истор...|\n",
      "|Военные,Драмы,Ист...|\n",
      "|Комедии,Драмы,Мел...|\n",
      "+--------------------+\n",
      "only showing top 20 rows\n",
      "\n"
     ]
    }
   ],
   "source": [
    "names = df_item. select('genres')\n",
    "names.show()"
   ]
  },
  {
   "cell_type": "code",
   "execution_count": 9,
   "metadata": {
    "collapsed": false
   },
   "outputs": [
    {
     "name": "stdout",
     "output_type": "stream",
     "text": [
      "root\n",
      " |-- genres: string (nullable = true)\n",
      " |-- genres_s: array (nullable = true)\n",
      " |    |-- element: string (containsNull = true)\n",
      "\n"
     ]
    }
   ],
   "source": [
    "names = names.withColumn('genres_s',F.split(\"genres\",','))\n",
    "names.printSchema()"
   ]
  },
  {
   "cell_type": "code",
   "execution_count": 10,
   "metadata": {
    "collapsed": true
   },
   "outputs": [],
   "source": [
    "names = names.select(F.explode('genres_s').alias('genres_s')).groupby().agg(F.collect_set('genres_s'))\n",
    "names_genres = names.rdd.flatMap(lambda x: x).collect()"
   ]
  },
  {
   "cell_type": "code",
   "execution_count": 11,
   "metadata": {
    "collapsed": false
   },
   "outputs": [
    {
     "name": "stdout",
     "output_type": "stream",
     "text": [
      " сказка\n",
      "General\n",
      "Анимация\n",
      "Аниме\n",
      "Арт-хаус\n",
      "Артхаус\n",
      "Биография\n",
      "Боевик\n",
      "Боевики\n",
      "Вестерн\n",
      "Видеоигры\n",
      "Военные\n",
      "Военный\n",
      "Детективы\n",
      "Детские\n",
      "Детские песни\n",
      "Для взрослых\n",
      "Для всей семьи\n",
      "Для детей\n",
      "Для самых маленьких\n",
      "Документальные\n",
      "Документальный\n",
      "Драма\n",
      "Драмы\n",
      "Западные мультфильмы\n",
      "Зарубежные\n",
      "Игры\n",
      "Исторические\n",
      "Исторический\n",
      "Комедии\n",
      "Комедия\n",
      "Короткометражки\n",
      "Короткометражные\n",
      "Криминал\n",
      "Кулинария\n",
      "Мелодрама\n",
      "Мелодрамы\n",
      "Мистические\n",
      "Музыкальные\n",
      "Музыкальный\n",
      "Мультсериалы\n",
      "Мультфильм\n",
      "Мультфильмы\n",
      "Мультфильмы в 3D\n",
      "Мюзиклы\n",
      "Научная фантастика\n",
      "Наши\n",
      "О здоровье\n",
      "Охота и рыбалка\n",
      "Передачи\n",
      "Познавательные\n",
      "Полнометражные\n",
      "Приключение\n",
      "Приключения\n",
      "Про животных\n",
      "Прочие\n",
      "Развивающие\n",
      "Развлекательные\n",
      "Реалити-шоу\n",
      "Романтические\n",
      "Русские\n",
      "Русские мультфильмы\n",
      "Семейные\n",
      "Семейный\n",
      "Сериалы\n",
      "Сказки\n",
      "Советские\n",
      "Советское кино\n",
      "Союзмультфильм\n",
      "Спорт\n",
      "Спортивные\n",
      "Триллер\n",
      "Триллеры\n",
      "Ужасы\n",
      "Фантастика\n",
      "Фантастические\n",
      "Фильмы\n",
      "Фильмы в 3D\n",
      "Фильмы-спектакли\n",
      "Фэнтези\n",
      "Хочу всё знать\n",
      "Экранизации\n",
      "Эротика\n",
      "Юмористические\n"
     ]
    }
   ],
   "source": [
    "for i in names_genres:\n",
    "    for j in sorted(i):\n",
    "        print j"
   ]
  },
  {
   "cell_type": "code",
   "execution_count": 12,
   "metadata": {
    "collapsed": true
   },
   "outputs": [],
   "source": [
    "dictionary = {u'арт-хаус': u'артхаус',             \n",
    "u'военный': u'военные',\\\n",
    "u'боевики': u'боевик',\\\n",
    "u'вестерн': u'вестерн',\\\n",
    "u'видеоигры': u'видеоигры, игры',\\\n",
    "u'детективы':u'детективы',\\\n",
    "u'документальный': u'документальные',\\\n",
    "u'драмы': u'драма',\\\n",
    "u'исторический': u'исторические',\\\n",
    "u'комедия': u'комедии',\\\n",
    "u'короткометражные':u'короткометражки',\n",
    "u'мелодрама': u'мелодрамы',\\\n",
    "u'мистические': u'мистические',\\\n",
    "u'музыкальные': u'музыкальный',\\\n",
    "u'мьюзиклы': u'мьюзиклы,музыкальный',\\\n",
    "u'приключение': u'приключения',\\\n",
    "u'романтические': u'мелодрамы',\\\n",
    "u'семейный': u'семейные',\\\n",
    "u'для всей семьи': u'семейные',\\\n",
    "u'советское кино': u'советские, русские',\\\n",
    "u'наши': u'русские',\\\n",
    "u'спортивные': u'спорт',\\\n",
    "u'ужасы': u'триллер, ужасы',\\\n",
    "u'фантастика': u'фантастические',\\\n",
    "u'фильмы в 3d': u'фильмы,3d',\\\n",
    "u'фэнтези': u'фэнтези,фантастические',\\\n",
    "u'научная фантастика': u'научные,фантастические',\\\n",
    "u'хочу всё знать': u'познавательные, развивающие',\\\n",
    "u'познавательные': u'познавательные, развивающие',\\\n",
    "u'детские песни': u'детские,песни',\\\n",
    "u'для детей': u'детские',\\\n",
    "u'для самых маленьких': u'детские',\\\n",
    "u'западные мультфильмы': u'детские, мультфильм,западные',\\\n",
    "u'западные детские' : u'западные, детские',\n",
    "u'русские детские' : u'русские, детские',             \n",
    "u'зарубежные': u'зарубежные,западные',\n",
    "u'мультсериалы': u'детские, мультфильм',\\\n",
    "u'мультфильмы': u'детские,мультфильм',\\\n",
    "u'мультфильм в 3d': u'детские,мультфильм, 3d',\\\n",
    "u'русские мультфильмы': u'детские,мультфильм,русские',\\\n",
    "u'развивающие': u'детские,развивающие',\\\n",
    "u'сказки': u'детские,сказки',\\\n",
    "u'сказка': u'детские,сказки',\\\n",
    "u'триллеры': u'триллер',\\\n",
    "u'союзмультфильм': u'детские,мультфильм',\\\n",
    "u'анимация': u'детские,мультфильм',\\\n",
    "u'эротика': u'эротика, для взрослых'}\n"
   ]
  },
  {
   "cell_type": "code",
   "execution_count": 13,
   "metadata": {
    "collapsed": false,
    "deletable": true,
    "editable": true
   },
   "outputs": [],
   "source": [
    "test_fields = [StructField('user_id', LongType(), True),\n",
    "              StructField('item_id', LongType(), True),\n",
    "              StructField('purchase', ByteType(), True)]\n",
    "schema_test = StructType(test_fields)\n",
    "df_test = spark.read.csv(header = 'true', schema = schema_test, path = test_path, sep=',')"
   ]
  },
  {
   "cell_type": "code",
   "execution_count": 14,
   "metadata": {
    "collapsed": false,
    "deletable": true,
    "editable": true
   },
   "outputs": [
    {
     "name": "stdout",
     "output_type": "stream",
     "text": [
      "root\n",
      " |-- user_id: long (nullable = true)\n",
      " |-- item_id: long (nullable = true)\n",
      " |-- purchase: byte (nullable = true)\n",
      "\n"
     ]
    }
   ],
   "source": [
    "df_test.printSchema()"
   ]
  },
  {
   "cell_type": "code",
   "execution_count": 15,
   "metadata": {
    "collapsed": true,
    "deletable": true,
    "editable": true
   },
   "outputs": [],
   "source": [
    "views_programmes_fields = [StructField('user_id', LongType(), True),\n",
    "                           StructField('item_id', LongType(), True),\n",
    "                           StructField('ts_start', LongType(), True),\n",
    "                           StructField('ts_end', LongType(), True),\n",
    "                           StructField('item_type', StringType(), True)]\n",
    "schema_views_programmes = StructType(views_programmes_fields)\n",
    "df_views_programmes = spark.read.csv(header = 'true', schema = schema_views_programmes, path = views_programmes, sep=',')"
   ]
  },
  {
   "cell_type": "code",
   "execution_count": 16,
   "metadata": {
    "collapsed": false,
    "deletable": true,
    "editable": true
   },
   "outputs": [
    {
     "name": "stdout",
     "output_type": "stream",
     "text": [
      "root\n",
      " |-- user_id: long (nullable = true)\n",
      " |-- item_id: long (nullable = true)\n",
      " |-- ts_start: long (nullable = true)\n",
      " |-- ts_end: long (nullable = true)\n",
      " |-- item_type: string (nullable = true)\n",
      "\n"
     ]
    }
   ],
   "source": [
    "df_views_programmes.printSchema()"
   ]
  },
  {
   "cell_type": "markdown",
   "metadata": {
    "deletable": true,
    "editable": true
   },
   "source": [
    "    Feature engineering"
   ]
  },
  {
   "cell_type": "code",
   "execution_count": 17,
   "metadata": {
    "collapsed": true,
    "deletable": true,
    "editable": true
   },
   "outputs": [],
   "source": [
    "df_features = df_train.join(df_item, df_train.item_id == df_item.item_id, \"inner\").drop(df_item.item_id)"
   ]
  },
  {
   "cell_type": "code",
   "execution_count": 18,
   "metadata": {
    "collapsed": false,
    "deletable": true,
    "editable": true
   },
   "outputs": [],
   "source": [
    "df_features = df_features.select('user_id','item_id','purchase','year','genres')"
   ]
  },
  {
   "cell_type": "code",
   "execution_count": 19,
   "metadata": {
    "collapsed": false,
    "deletable": true,
    "editable": true
   },
   "outputs": [],
   "source": [
    "df_features = df_features.select('*', coalesce(df_features[\"year\"], lit(0.0)).alias('year_0'))\n"
   ]
  },
  {
   "cell_type": "code",
   "execution_count": 20,
   "metadata": {
    "collapsed": false,
    "deletable": true,
    "editable": true
   },
   "outputs": [],
   "source": [
    "df_features = df_features.drop(\"year\").select('*', col('year_0').alias(\"year\")).drop('year_0')"
   ]
  },
  {
   "cell_type": "code",
   "execution_count": 21,
   "metadata": {
    "collapsed": false,
    "deletable": true,
    "editable": true
   },
   "outputs": [],
   "source": [
    "df_features = df_features.fillna('noname')"
   ]
  },
  {
   "cell_type": "code",
   "execution_count": 22,
   "metadata": {
    "collapsed": false,
    "deletable": true,
    "editable": true
   },
   "outputs": [],
   "source": [
    "def gen(films):\n",
    "    lst =  films.split(',')\n",
    "    res = ''\n",
    "    for l in lst:\n",
    "        l = l.lower().strip()\n",
    "        for key in dictionary.iterkeys():\n",
    "            l = l.replace(key, dictionary[key])\n",
    "        res = res + ','+ l +','\n",
    "    return res\n",
    "gen =  udf(gen,StringType())  "
   ]
  },
  {
   "cell_type": "code",
   "execution_count": 23,
   "metadata": {
    "collapsed": false,
    "deletable": true,
    "editable": true
   },
   "outputs": [],
   "source": [
    "df_features = df_features.withColumn('Words', gen(df_features.genres))"
   ]
  },
  {
   "cell_type": "code",
   "execution_count": 24,
   "metadata": {
    "collapsed": false,
    "deletable": true,
    "editable": true
   },
   "outputs": [
    {
     "name": "stdout",
     "output_type": "stream",
     "text": [
      "+--------------------+\n",
      "|               Words|\n",
      "+--------------------+\n",
      "|,триллер, ужасы,,...|\n",
      "|,триллер, ужасы,,...|\n",
      "|,триллер, ужасы,,...|\n",
      "|,триллер, ужасы,,...|\n",
      "|,триллер, ужасы,,...|\n",
      "|,триллер, ужасы,,...|\n",
      "|,триллер, ужасы,,...|\n",
      "|,триллер, ужасы,,...|\n",
      "|,триллер, ужасы,,...|\n",
      "|,триллер, ужасы,,...|\n",
      "|,триллер, ужасы,,...|\n",
      "|,триллер, ужасы,,...|\n",
      "|,триллер, ужасы,,...|\n",
      "|,триллер, ужасы,,...|\n",
      "|,триллер, ужасы,,...|\n",
      "|,триллер, ужасы,,...|\n",
      "|,триллер, ужасы,,...|\n",
      "|,триллер, ужасы,,...|\n",
      "|,триллер, ужасы,,...|\n",
      "|,триллер, ужасы,,...|\n",
      "+--------------------+\n",
      "only showing top 20 rows\n",
      "\n"
     ]
    }
   ],
   "source": [
    "df_features.select(df_features.Words).show()"
   ]
  },
  {
   "cell_type": "code",
   "execution_count": 25,
   "metadata": {
    "collapsed": false,
    "deletable": true,
    "editable": true
   },
   "outputs": [],
   "source": [
    "def un(one, two, three, four):\n",
    "    return str(one)+','+str(two) +','+str(three)+','+(four)\n",
    "un = udf(un,StringType())\n",
    "df_features = df_features.withColumn('all_features', un('user_id','item_id','year','words'))"
   ]
  },
  {
   "cell_type": "code",
   "execution_count": 26,
   "metadata": {
    "collapsed": false,
    "deletable": true,
    "editable": true
   },
   "outputs": [
    {
     "name": "stdout",
     "output_type": "stream",
     "text": [
      "+------------------------------------------------------------------------+\n",
      "|all_features                                                            |\n",
      "+------------------------------------------------------------------------+\n",
      "|1654,3764,2013.0,,триллер, ужасы,,триллер,,драма,,зарубежные,западные,  |\n",
      "|510087,3764,2013.0,,триллер, ужасы,,триллер,,драма,,зарубежные,западные,|\n",
      "|522798,3764,2013.0,,триллер, ужасы,,триллер,,драма,,зарубежные,западные,|\n",
      "|529632,3764,2013.0,,триллер, ужасы,,триллер,,драма,,зарубежные,западные,|\n",
      "|566758,3764,2013.0,,триллер, ужасы,,триллер,,драма,,зарубежные,западные,|\n",
      "|613775,3764,2013.0,,триллер, ужасы,,триллер,,драма,,зарубежные,западные,|\n",
      "|619378,3764,2013.0,,триллер, ужасы,,триллер,,драма,,зарубежные,западные,|\n",
      "|625638,3764,2013.0,,триллер, ужасы,,триллер,,драма,,зарубежные,западные,|\n",
      "|632495,3764,2013.0,,триллер, ужасы,,триллер,,драма,,зарубежные,западные,|\n",
      "|639612,3764,2013.0,,триллер, ужасы,,триллер,,драма,,зарубежные,западные,|\n",
      "|651811,3764,2013.0,,триллер, ужасы,,триллер,,драма,,зарубежные,западные,|\n",
      "|659698,3764,2013.0,,триллер, ужасы,,триллер,,драма,,зарубежные,западные,|\n",
      "|706816,3764,2013.0,,триллер, ужасы,,триллер,,драма,,зарубежные,западные,|\n",
      "|717302,3764,2013.0,,триллер, ужасы,,триллер,,драма,,зарубежные,западные,|\n",
      "|719149,3764,2013.0,,триллер, ужасы,,триллер,,драма,,зарубежные,западные,|\n",
      "|725821,3764,2013.0,,триллер, ужасы,,триллер,,драма,,зарубежные,западные,|\n",
      "|728909,3764,2013.0,,триллер, ужасы,,триллер,,драма,,зарубежные,западные,|\n",
      "|728960,3764,2013.0,,триллер, ужасы,,триллер,,драма,,зарубежные,западные,|\n",
      "|729785,3764,2013.0,,триллер, ужасы,,триллер,,драма,,зарубежные,западные,|\n",
      "|731490,3764,2013.0,,триллер, ужасы,,триллер,,драма,,зарубежные,западные,|\n",
      "+------------------------------------------------------------------------+\n",
      "only showing top 20 rows\n",
      "\n"
     ]
    }
   ],
   "source": [
    "df_features.select('all_features').show(truncate = False)"
   ]
  },
  {
   "cell_type": "code",
   "execution_count": 27,
   "metadata": {
    "collapsed": false,
    "deletable": true,
    "editable": true
   },
   "outputs": [
    {
     "data": {
      "text/plain": [
       "5032624"
      ]
     },
     "execution_count": 27,
     "metadata": {},
     "output_type": "execute_result"
    }
   ],
   "source": [
    "df_features.select(df_features.Words).count()"
   ]
  },
  {
   "cell_type": "code",
   "execution_count": 28,
   "metadata": {
    "collapsed": false,
    "deletable": true,
    "editable": true
   },
   "outputs": [],
   "source": [
    "from pyspark.ml.feature import HashingTF, IDF, Tokenizer, RegexTokenizer\n",
    "\n",
    "tokenizer = RegexTokenizer(inputCol=\"all_features\", outputCol=\"lst\", gaps=False, \n",
    "                           pattern=ur\"[a-zA-Zа-яА-ЯёáéíóúüñÑýÁÉÍÓÚÝ0-9_\\-]{2,}\")\n",
    "df_features = tokenizer.transform(df_features)\n"
   ]
  },
  {
   "cell_type": "code",
   "execution_count": 29,
   "metadata": {
    "collapsed": false,
    "deletable": true,
    "editable": true
   },
   "outputs": [
    {
     "name": "stdout",
     "output_type": "stream",
     "text": [
      "+--------------------------------------------------------------------------+\n",
      "|lst                                                                       |\n",
      "+--------------------------------------------------------------------------+\n",
      "|[896745, 3764, 2013, триллер, ужасы, триллер, драма, зарубежные, западные]|\n",
      "|[896756, 3764, 2013, триллер, ужасы, триллер, драма, зарубежные, западные]|\n",
      "|[896772, 3764, 2013, триллер, ужасы, триллер, драма, зарубежные, западные]|\n",
      "|[896897, 3764, 2013, триллер, ужасы, триллер, драма, зарубежные, западные]|\n",
      "|[896954, 3764, 2013, триллер, ужасы, триллер, драма, зарубежные, западные]|\n",
      "|[896973, 3764, 2013, триллер, ужасы, триллер, драма, зарубежные, западные]|\n",
      "|[897151, 3764, 2013, триллер, ужасы, триллер, драма, зарубежные, западные]|\n",
      "|[897162, 3764, 2013, триллер, ужасы, триллер, драма, зарубежные, западные]|\n",
      "|[897214, 3764, 2013, триллер, ужасы, триллер, драма, зарубежные, западные]|\n",
      "|[897389, 3764, 2013, триллер, ужасы, триллер, драма, зарубежные, западные]|\n",
      "|[897492, 3764, 2013, триллер, ужасы, триллер, драма, зарубежные, западные]|\n",
      "|[897549, 3764, 2013, триллер, ужасы, триллер, драма, зарубежные, западные]|\n",
      "|[897570, 3764, 2013, триллер, ужасы, триллер, драма, зарубежные, западные]|\n",
      "|[897574, 3764, 2013, триллер, ужасы, триллер, драма, зарубежные, западные]|\n",
      "|[897620, 3764, 2013, триллер, ужасы, триллер, драма, зарубежные, западные]|\n",
      "|[897999, 3764, 2013, триллер, ужасы, триллер, драма, зарубежные, западные]|\n",
      "|[898450, 3764, 2013, триллер, ужасы, триллер, драма, зарубежные, западные]|\n",
      "|[898473, 3764, 2013, триллер, ужасы, триллер, драма, зарубежные, западные]|\n",
      "|[898481, 3764, 2013, триллер, ужасы, триллер, драма, зарубежные, западные]|\n",
      "|[898609, 3764, 2013, триллер, ужасы, триллер, драма, зарубежные, западные]|\n",
      "+--------------------------------------------------------------------------+\n",
      "only showing top 20 rows\n",
      "\n"
     ]
    }
   ],
   "source": [
    "df_features.select('lst').show(truncate = False)"
   ]
  },
  {
   "cell_type": "code",
   "execution_count": 30,
   "metadata": {
    "collapsed": true,
    "deletable": true,
    "editable": true
   },
   "outputs": [],
   "source": [
    "from pyspark.ml.feature import CountVectorizer\n",
    "from pyspark.ml.linalg import Vectors\n"
   ]
  },
  {
   "cell_type": "code",
   "execution_count": 31,
   "metadata": {
    "collapsed": false,
    "deletable": true,
    "editable": true
   },
   "outputs": [],
   "source": [
    "cv = CountVectorizer(inputCol= \"lst\", outputCol=\"features\")\n",
    "model_cv = cv.fit(df_features)"
   ]
  },
  {
   "cell_type": "code",
   "execution_count": 32,
   "metadata": {
    "collapsed": true,
    "deletable": true,
    "editable": true
   },
   "outputs": [],
   "source": [
    "df_features = model_cv.transform(df_features)\n"
   ]
  },
  {
   "cell_type": "code",
   "execution_count": 33,
   "metadata": {
    "collapsed": false,
    "deletable": true,
    "editable": true
   },
   "outputs": [
    {
     "name": "stdout",
     "output_type": "stream",
     "text": [
      "+-------+-------+--------+--------------------+------+--------------------+--------------------+--------------------+--------------------+\n",
      "|user_id|item_id|purchase|              genres|  year|               Words|        all_features|                 lst|            features|\n",
      "+-------+-------+--------+--------------------+------+--------------------+--------------------+--------------------+--------------------+\n",
      "| 899432|   3764|       0|Ужасы,Триллеры,Др...|2013.0|,триллер, ужасы,,...|899432,3764,2013....|[899432, 3764, 20...|(5784,[0,1,4,5,12...|\n",
      "| 899478|   3764|       0|Ужасы,Триллеры,Др...|2013.0|,триллер, ужасы,,...|899478,3764,2013....|[899478, 3764, 20...|(5784,[0,1,4,5,12...|\n",
      "| 899541|   3764|       0|Ужасы,Триллеры,Др...|2013.0|,триллер, ужасы,,...|899541,3764,2013....|[899541, 3764, 20...|(5784,[0,1,4,5,12...|\n",
      "| 899588|   3764|       0|Ужасы,Триллеры,Др...|2013.0|,триллер, ужасы,,...|899588,3764,2013....|[899588, 3764, 20...|(5784,[0,1,4,5,12...|\n",
      "| 899669|   3764|       0|Ужасы,Триллеры,Др...|2013.0|,триллер, ужасы,,...|899669,3764,2013....|[899669, 3764, 20...|(5784,[0,1,4,5,12...|\n",
      "| 899680|   3764|       0|Ужасы,Триллеры,Др...|2013.0|,триллер, ужасы,,...|899680,3764,2013....|[899680, 3764, 20...|(5784,[0,1,4,5,12...|\n",
      "| 899682|   3764|       0|Ужасы,Триллеры,Др...|2013.0|,триллер, ужасы,,...|899682,3764,2013....|[899682, 3764, 20...|(5784,[0,1,4,5,12...|\n",
      "| 899758|   3764|       0|Ужасы,Триллеры,Др...|2013.0|,триллер, ужасы,,...|899758,3764,2013....|[899758, 3764, 20...|(5784,[0,1,4,5,12...|\n",
      "| 899764|   3764|       0|Ужасы,Триллеры,Др...|2013.0|,триллер, ужасы,,...|899764,3764,2013....|[899764, 3764, 20...|(5784,[0,1,4,5,12...|\n",
      "| 899771|   3764|       0|Ужасы,Триллеры,Др...|2013.0|,триллер, ужасы,,...|899771,3764,2013....|[899771, 3764, 20...|(5784,[0,1,4,5,12...|\n",
      "| 899773|   3764|       0|Ужасы,Триллеры,Др...|2013.0|,триллер, ужасы,,...|899773,3764,2013....|[899773, 3764, 20...|(5784,[0,1,4,5,12...|\n",
      "| 899815|   3764|       0|Ужасы,Триллеры,Др...|2013.0|,триллер, ужасы,,...|899815,3764,2013....|[899815, 3764, 20...|(5784,[0,1,4,5,12...|\n",
      "| 899829|   3764|       0|Ужасы,Триллеры,Др...|2013.0|,триллер, ужасы,,...|899829,3764,2013....|[899829, 3764, 20...|(5784,[0,1,4,5,12...|\n",
      "| 899846|   3764|       0|Ужасы,Триллеры,Др...|2013.0|,триллер, ужасы,,...|899846,3764,2013....|[899846, 3764, 20...|(5784,[0,1,4,5,12...|\n",
      "| 899877|   3764|       0|Ужасы,Триллеры,Др...|2013.0|,триллер, ужасы,,...|899877,3764,2013....|[899877, 3764, 20...|(5784,[0,1,4,5,12...|\n",
      "| 899878|   3764|       0|Ужасы,Триллеры,Др...|2013.0|,триллер, ужасы,,...|899878,3764,2013....|[899878, 3764, 20...|(5784,[0,1,4,5,12...|\n",
      "| 899890|   3764|       0|Ужасы,Триллеры,Др...|2013.0|,триллер, ужасы,,...|899890,3764,2013....|[899890, 3764, 20...|(5784,[0,1,4,5,12...|\n",
      "| 899903|   3764|       0|Ужасы,Триллеры,Др...|2013.0|,триллер, ужасы,,...|899903,3764,2013....|[899903, 3764, 20...|(5784,[0,1,4,5,12...|\n",
      "| 899905|   3764|       0|Ужасы,Триллеры,Др...|2013.0|,триллер, ужасы,,...|899905,3764,2013....|[899905, 3764, 20...|(5784,[0,1,4,5,12...|\n",
      "| 899932|   3764|       0|Ужасы,Триллеры,Др...|2013.0|,триллер, ужасы,,...|899932,3764,2013....|[899932, 3764, 20...|(5784,[0,1,4,5,12...|\n",
      "+-------+-------+--------+--------------------+------+--------------------+--------------------+--------------------+--------------------+\n",
      "only showing top 20 rows\n",
      "\n"
     ]
    }
   ],
   "source": [
    "df_features.show()"
   ]
  },
  {
   "cell_type": "code",
   "execution_count": 34,
   "metadata": {
    "collapsed": false,
    "deletable": true,
    "editable": true
   },
   "outputs": [],
   "source": [
    "df_features = df_features.drop('genres','Words','user_id','item_id','all_features','genres','year','lst')"
   ]
  },
  {
   "cell_type": "code",
   "execution_count": 35,
   "metadata": {
    "collapsed": false,
    "deletable": true,
    "editable": true
   },
   "outputs": [
    {
     "name": "stdout",
     "output_type": "stream",
     "text": [
      "+--------+--------------------+\n",
      "|purchase|            features|\n",
      "+--------+--------------------+\n",
      "|       0|(5784,[0,1,4,5,12...|\n",
      "|       0|(5784,[0,1,4,5,12...|\n",
      "|       0|(5784,[0,1,4,5,12...|\n",
      "|       0|(5784,[0,1,4,5,12...|\n",
      "|       0|(5784,[0,1,4,5,12...|\n",
      "|       0|(5784,[0,1,4,5,12...|\n",
      "|       0|(5784,[0,1,4,5,12...|\n",
      "|       0|(5784,[0,1,4,5,12...|\n",
      "|       0|(5784,[0,1,4,5,12...|\n",
      "|       0|(5784,[0,1,4,5,12...|\n",
      "|       0|(5784,[0,1,4,5,12...|\n",
      "|       0|(5784,[0,1,4,5,12...|\n",
      "|       0|(5784,[0,1,4,5,12...|\n",
      "|       0|(5784,[0,1,4,5,12...|\n",
      "|       0|(5784,[0,1,4,5,12...|\n",
      "|       0|(5784,[0,1,4,5,12...|\n",
      "|       0|(5784,[0,1,4,5,12...|\n",
      "|       0|(5784,[0,1,4,5,12...|\n",
      "|       0|(5784,[0,1,4,5,12...|\n",
      "|       0|(5784,[0,1,4,5,12...|\n",
      "+--------+--------------------+\n",
      "only showing top 20 rows\n",
      "\n"
     ]
    }
   ],
   "source": [
    "df_features.show()"
   ]
  },
  {
   "cell_type": "raw",
   "metadata": {
    "collapsed": false,
    "deletable": true,
    "editable": true
   },
   "source": [
    "# Index labels, adding metadata to the label column.\n",
    "from pyspark.ml.feature import StringIndexer, VectorIndexer\n",
    "\n",
    "# Fit on whole dataset to include all labels in index.\n",
    "#labelIndexer = StringIndexer(inputCol=\"purchase\", outputCol=\"indexedLabel\").fit(df_features)\n",
    "# Automatically identify categorical features, and index them.\n",
    "# Set maxCategories so features with > 4 distinct values are treated as continuous.\n",
    "#featureIndexer =\\\n",
    "VectorIndexer(inputCol=\"features\", outputCol=\"indexedFeatures\").fit(df_features)\n",
    "\n",
    "# Split the data into training and test sets (30% held out for testing)\n",
    "(trainingData, testData) = df_features.randomSplit([0.7, 0.3])\n",
    "\n"
   ]
  },
  {
   "cell_type": "code",
   "execution_count": null,
   "metadata": {
    "collapsed": true,
    "deletable": true,
    "editable": true
   },
   "outputs": [],
   "source": []
  },
  {
   "cell_type": "code",
   "execution_count": 36,
   "metadata": {
    "collapsed": false,
    "deletable": true,
    "editable": true
   },
   "outputs": [],
   "source": [
    "from pyspark.ml.classification import RandomForestClassifier, RandomForestClassificationModel\n",
    "\n",
    "# Train a RandomForest model.\n",
    "#rf = RandomForestClassifier(numTrees = 1000, maxDepth = 20, labelCol=\"purchase\", featuresCol=\"features\")\n",
    "\n",
    "# Chain indexers and forest in a Pipeline\n",
    "#pipeline = Pipeline(stages=[labelIndexer, featureIndexer, rf])\n",
    "\n",
    "# Train model.  This also runs the indexers.\n",
    "#model = rf.fit(df_features)\n",
    "\n",
    "# Make predictions.\n",
    "\n",
    "#model.save('RF_lab10_1.sav')\n",
    "model = RandomForestClassificationModel.load('RF_lab10_1.sav')"
   ]
  },
  {
   "cell_type": "code",
   "execution_count": 37,
   "metadata": {
    "collapsed": false,
    "deletable": true,
    "editable": true
   },
   "outputs": [
    {
     "name": "stdout",
     "output_type": "stream",
     "text": [
      "+-------+-------+--------+\n",
      "|user_id|item_id|purchase|\n",
      "+-------+-------+--------+\n",
      "|   1654|  94814|    null|\n",
      "|   1654|  93629|    null|\n",
      "|   1654|   9980|    null|\n",
      "|   1654|  95099|    null|\n",
      "|   1654|  11265|    null|\n",
      "|   1654|  88896|    null|\n",
      "|   1654|  67740|    null|\n",
      "|   1654|  74271|    null|\n",
      "|   1654|  99871|    null|\n",
      "|   1654|  78570|    null|\n",
      "|   1654|  71942|    null|\n",
      "|   1654|  74367|    null|\n",
      "|   1654|  98628|    null|\n",
      "|   1654|  95887|    null|\n",
      "|   1654|  77795|    null|\n",
      "|   1654|  75152|    null|\n",
      "|   1654|  74905|    null|\n",
      "|   1654|   9068|    null|\n",
      "|   1654|  72954|    null|\n",
      "|   1654| 102431|    null|\n",
      "+-------+-------+--------+\n",
      "only showing top 20 rows\n",
      "\n"
     ]
    }
   ],
   "source": [
    "df_test.show()"
   ]
  },
  {
   "cell_type": "code",
   "execution_count": 38,
   "metadata": {
    "collapsed": false,
    "deletable": true,
    "editable": true
   },
   "outputs": [],
   "source": [
    "df_test = spark.read.csv(header = 'true', schema = schema_test, path = test_path, sep=',')\n",
    "df_test = df_test.join(df_item, df_test.item_id == df_item.item_id, \"inner\").drop(df_item.item_id)\n",
    "df_test = df_test.select('user_id','item_id','year','genres')\n",
    "df_test = df_test.select('*', coalesce(df_test[\"year\"], lit(0.0)).alias('year_0'))\n",
    "df_test = df_test.drop(\"year\").select('*', col('year_0').alias(\"year\")).drop('year_0')\n",
    "df_test = df_test.fillna('noname')\n",
    "df_test = df_test.withColumn('Words', gen(df_test.genres))\n",
    "df_test = df_test.withColumn('all_features', un('user_id','item_id','year','words'))\n",
    "df_test = tokenizer.transform(df_test)\n",
    "df_test = model_cv.transform(df_test)\n",
    "df_test = df_test.drop('genres','Words','all_features','genres','year','lst','purchase')"
   ]
  },
  {
   "cell_type": "code",
   "execution_count": 39,
   "metadata": {
    "collapsed": false,
    "deletable": true,
    "editable": true
   },
   "outputs": [
    {
     "name": "stdout",
     "output_type": "stream",
     "text": [
      "+-------+-------+--------------------+\n",
      "|user_id|item_id|            features|\n",
      "+-------+-------+--------------------+\n",
      "| 900203|   3764|(5784,[0,1,4,5,12...|\n",
      "| 900223|   3764|(5784,[0,1,4,5,12...|\n",
      "| 900367|   3764|(5784,[0,1,4,5,12...|\n",
      "| 900450|   3764|(5784,[0,1,4,5,12...|\n",
      "| 900597|   3764|(5784,[0,1,4,5,12...|\n",
      "| 900634|   3764|(5784,[0,1,4,5,12...|\n",
      "| 900663|   3764|(5784,[0,1,4,5,12...|\n",
      "| 900697|   3764|(5784,[0,1,4,5,12...|\n",
      "| 900736|   3764|(5784,[0,1,4,5,12...|\n",
      "| 900788|   3764|(5784,[0,1,4,5,12...|\n",
      "| 900816|   3764|(5784,[0,1,4,5,12...|\n",
      "| 900914|   3764|(5784,[0,1,4,5,12...|\n",
      "| 900968|   3764|(5784,[0,1,4,5,12...|\n",
      "| 901589|   3764|(5784,[0,1,4,5,12...|\n",
      "| 901744|   3764|(5784,[0,1,4,5,12...|\n",
      "| 901882|   3764|(5784,[0,1,4,5,12...|\n",
      "| 902209|   3764|(5784,[0,1,4,5,12...|\n",
      "| 902359|   3764|(5784,[0,1,4,5,12...|\n",
      "| 902467|   3764|(5784,[0,1,4,5,12...|\n",
      "| 902480|   3764|(5784,[0,1,4,5,12...|\n",
      "+-------+-------+--------------------+\n",
      "only showing top 20 rows\n",
      "\n"
     ]
    }
   ],
   "source": [
    "df_test.show()"
   ]
  },
  {
   "cell_type": "code",
   "execution_count": 40,
   "metadata": {
    "collapsed": false,
    "deletable": true,
    "editable": true
   },
   "outputs": [
    {
     "data": {
      "text/plain": [
       "2156840"
      ]
     },
     "execution_count": 40,
     "metadata": {},
     "output_type": "execute_result"
    }
   ],
   "source": [
    "df_test.count()"
   ]
  },
  {
   "cell_type": "code",
   "execution_count": 41,
   "metadata": {
    "collapsed": false,
    "deletable": true,
    "editable": true
   },
   "outputs": [
    {
     "data": {
      "text/plain": [
       "2156840"
      ]
     },
     "execution_count": 41,
     "metadata": {},
     "output_type": "execute_result"
    }
   ],
   "source": [
    "2156840"
   ]
  },
  {
   "cell_type": "code",
   "execution_count": 42,
   "metadata": {
    "collapsed": false,
    "deletable": true,
    "editable": true
   },
   "outputs": [
    {
     "name": "stdout",
     "output_type": "stream",
     "text": [
      "+-------+-------+--------------------+\n",
      "|user_id|item_id|            features|\n",
      "+-------+-------+--------------------+\n",
      "| 517612|   3764|(5784,[0,1,4,5,12...|\n",
      "| 520446|   3764|(5784,[0,1,4,5,12...|\n",
      "| 523860|   3764|(5784,[0,1,4,5,12...|\n",
      "| 556825|   3764|(5784,[0,1,4,5,12...|\n",
      "| 566701|   3764|(5784,[0,1,4,5,12...|\n",
      "| 575248|   3764|(5784,[0,1,4,5,12...|\n",
      "| 588378|   3764|(5784,[0,1,4,5,12...|\n",
      "| 625678|   3764|(5784,[0,1,4,5,12...|\n",
      "| 627053|   3764|(5784,[0,1,4,5,12...|\n",
      "| 636572|   3764|(5784,[0,1,4,5,12...|\n",
      "| 642397|   3764|(5784,[0,1,4,5,12...|\n",
      "| 668112|   3764|(5784,[0,1,4,5,12...|\n",
      "| 703514|   3764|(5784,[0,1,4,5,12...|\n",
      "| 711308|   3764|(5784,[0,1,4,5,12...|\n",
      "| 736010|   3764|(5784,[0,1,4,5,12...|\n",
      "| 739215|   3764|(5784,[0,1,4,5,12...|\n",
      "| 740405|   3764|(5784,[0,1,4,5,12...|\n",
      "| 742324|   3764|(5784,[0,1,4,5,12...|\n",
      "| 742986|   3764|(5784,[0,1,4,5,12...|\n",
      "| 746959|   3764|(5784,[0,1,4,5,12...|\n",
      "+-------+-------+--------------------+\n",
      "only showing top 20 rows\n",
      "\n"
     ]
    }
   ],
   "source": [
    "df_test.show()"
   ]
  },
  {
   "cell_type": "code",
   "execution_count": 43,
   "metadata": {
    "collapsed": true,
    "deletable": true,
    "editable": true
   },
   "outputs": [],
   "source": [
    "predictions = model.transform(df_test)\n"
   ]
  },
  {
   "cell_type": "code",
   "execution_count": 44,
   "metadata": {
    "collapsed": false,
    "deletable": true,
    "editable": true
   },
   "outputs": [],
   "source": [
    "def proba1(vector):\n",
    "    from pyspark.ml.linalg import Vectors\n",
    "   # res = float(vector.dot(Vectors.dense([0.0, 1.0])))\n",
    "    res = float(vector[1])\n",
    "    return res\n",
    "proba1 = udf(proba1, FloatType())"
   ]
  },
  {
   "cell_type": "code",
   "execution_count": 45,
   "metadata": {
    "collapsed": true,
    "deletable": true,
    "editable": true
   },
   "outputs": [],
   "source": [
    "predictions1 = predictions.select('*', proba1('probability').alias('purchase'))"
   ]
  },
  {
   "cell_type": "code",
   "execution_count": 46,
   "metadata": {
    "collapsed": false,
    "deletable": true,
    "editable": true
   },
   "outputs": [
    {
     "name": "stdout",
     "output_type": "stream",
     "text": [
      "+-------+-------+--------------------+--------------------+--------------------+----------+------------+\n",
      "|user_id|item_id|            features|       rawPrediction|         probability|prediction|    purchase|\n",
      "+-------+-------+--------------------+--------------------+--------------------+----------+------------+\n",
      "| 517612|   3764|(5784,[0,1,4,5,12...|[698.553832711902...|[0.99793404673129...|       0.0|0.0020659533|\n",
      "| 520446|   3764|(5784,[0,1,4,5,12...|[698.553832711902...|[0.99793404673129...|       0.0|0.0020659533|\n",
      "| 523860|   3764|(5784,[0,1,4,5,12...|[698.553832711902...|[0.99793404673129...|       0.0|0.0020659533|\n",
      "| 556825|   3764|(5784,[0,1,4,5,12...|[698.525148221201...|[0.99789306888743...|       0.0| 0.002106931|\n",
      "| 566701|   3764|(5784,[0,1,4,5,12...|[698.538050204086...|[0.99791150029155...|       0.0|0.0020884997|\n",
      "| 575248|   3764|(5784,[0,1,4,5,12...|[698.553832711902...|[0.99793404673129...|       0.0|0.0020659533|\n",
      "| 588378|   3764|(5784,[0,1,4,5,12...|[698.553832711902...|[0.99793404673129...|       0.0|0.0020659533|\n",
      "| 625678|   3764|(5784,[0,1,4,5,12...|[698.553832711902...|[0.99793404673129...|       0.0|0.0020659533|\n",
      "| 627053|   3764|(5784,[0,1,4,5,12...|[698.553832711902...|[0.99793404673129...|       0.0|0.0020659533|\n",
      "| 636572|   3764|(5784,[0,1,4,5,12...|[698.553832711902...|[0.99793404673129...|       0.0|0.0020659533|\n",
      "| 642397|   3764|(5784,[0,1,4,5,12...|[698.553832711902...|[0.99793404673129...|       0.0|0.0020659533|\n",
      "| 668112|   3764|(5784,[0,1,4,5,12...|[698.553832711902...|[0.99793404673129...|       0.0|0.0020659533|\n",
      "| 703514|   3764|(5784,[0,1,4,5,12...|[698.553832711902...|[0.99793404673129...|       0.0|0.0020659533|\n",
      "| 711308|   3764|(5784,[0,1,4,5,12...|[698.553832711902...|[0.99793404673129...|       0.0|0.0020659533|\n",
      "| 736010|   3764|(5784,[0,1,4,5,12...|[698.553832711902...|[0.99793404673129...|       0.0|0.0020659533|\n",
      "| 739215|   3764|(5784,[0,1,4,5,12...|[698.553832711902...|[0.99793404673129...|       0.0|0.0020659533|\n",
      "| 740405|   3764|(5784,[0,1,4,5,12...|[698.553832711902...|[0.99793404673129...|       0.0|0.0020659533|\n",
      "| 742324|   3764|(5784,[0,1,4,5,12...|[698.553832711902...|[0.99793404673129...|       0.0|0.0020659533|\n",
      "| 742986|   3764|(5784,[0,1,4,5,12...|[698.553832711902...|[0.99793404673129...|       0.0|0.0020659533|\n",
      "| 746959|   3764|(5784,[0,1,4,5,12...|[698.553832711902...|[0.99793404673129...|       0.0|0.0020659533|\n",
      "+-------+-------+--------------------+--------------------+--------------------+----------+------------+\n",
      "only showing top 20 rows\n",
      "\n"
     ]
    }
   ],
   "source": [
    "predictions1.show()"
   ]
  },
  {
   "cell_type": "code",
   "execution_count": 47,
   "metadata": {
    "collapsed": false,
    "deletable": true,
    "editable": true
   },
   "outputs": [
    {
     "data": {
      "text/plain": [
       "2156840"
      ]
     },
     "execution_count": 47,
     "metadata": {},
     "output_type": "execute_result"
    }
   ],
   "source": [
    "predictions1.count()"
   ]
  },
  {
   "cell_type": "code",
   "execution_count": 48,
   "metadata": {
    "collapsed": true,
    "deletable": true,
    "editable": true
   },
   "outputs": [],
   "source": [
    "Res = predictions1.select(\"user_id\",\"item_id\",\"purchase\").\\\n",
    "                    sort(\"user_id\",\"item_id\")\n"
   ]
  },
  {
   "cell_type": "code",
   "execution_count": 49,
   "metadata": {
    "collapsed": false,
    "deletable": true,
    "editable": true
   },
   "outputs": [],
   "source": [
    "Res.coalesce(1).write.mode(\"overwrite\").option(\"header\", \"true\").csv(\"lab10_rfs.csv\")\n",
    "!hadoop fs -getmerge lab10_rfs.csv lab10_4sa.csv\n"
   ]
  }
 ],
 "metadata": {
  "kernelspec": {
   "display_name": "Python 2",
   "language": "python",
   "name": "python2"
  },
  "language_info": {
   "codemirror_mode": {
    "name": "ipython",
    "version": 2
   },
   "file_extension": ".py",
   "mimetype": "text/x-python",
   "name": "python",
   "nbconvert_exporter": "python",
   "pygments_lexer": "ipython2",
   "version": "2.7.6"
  }
 },
 "nbformat": 4,
 "nbformat_minor": 2
}
