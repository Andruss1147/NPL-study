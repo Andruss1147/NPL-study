{
 "cells": [
  {
   "cell_type": "markdown",
   "metadata": {
    "deletable": true,
    "editable": true
   },
   "source": [
    "## <center>Лабораторная работа №10.</center>\n",
    "## <center>Построение рекомендательной системы видеоконтента с implicit feedback</center>"
   ]
  },
  {
   "cell_type": "markdown",
   "metadata": {
    "deletable": true,
    "editable": true
   },
   "source": [
    "На базе датасета с фактами покупок абонентами телепередач от компании E-Contenta нужно предсказать вероятность покупки других передач этими, а, возможно, и другими абонентами."
   ]
  },
  {
   "cell_type": "markdown",
   "metadata": {
    "deletable": true,
    "editable": true
   },
   "source": [
    "### Вступление. Немного про выбор метода решения (Factorization Machines)"
   ]
  },
  {
   "cell_type": "markdown",
   "metadata": {
    "deletable": true,
    "editable": true
   },
   "source": [
    "   При решении 9-й лабораторной работы методом ALS на базе user-item-rating информации можно было достичь необходимого результата по RMSE без использования доп.фичей. А так хотелось...но было непонятно как. Метод [Factorization Machines](http://www.algo.uni-konstanz.de/members/rendle/pdf/Rendle2010FM.pdf) предоставляет такую возможность. \n",
    "   Ключевыми плюсами этого метода я бы выделил:\n",
    " - возможность добавлять неограниченное количество \"фичей\" за счёт работы с форматом sparse-векторов\n",
    " - нелинейную основу алгоритма (когда учитываются не только сами по себе \"фичи\", но и их взаимодействие между собой)\n",
    " - относительно высокую скорость вычислений ($O(kn)$, где $n$ - число \"фичей\", а $k$ - гиперпараметр модели, который определяет размерность взаимодействующих векторов (как далее будет показано - эта величина была меньше 10)\n",
    "Есть несколько реализаций представленного в статье алгоритма:\n",
    " - библиотека [LibFM](http://www.libfm.org/) от автора статьи\n",
    " - библиотека [FastFM](https://github.com/ibayer/fastFM)\n",
    " - библиотека [pylibFM](https://github.com/coreylynch/pyFM)\n",
    "\n",
    "При всём желании воспользоваться решением на Python (pylibFM), сравнение методов было не в его пользу ([Testing implementations of LibFM](http://arogozhnikov.github.io/2016/02/15/TestingLibFM.html). В итоге была выбрана библиотека libFM, которая требует подготовки исходных файлов в заданном формате. После методов онлайн-обучения типа VowpalWabbit это уже знакомая процедура.\n",
    "\n",
    "   Библиотека [LibFM](http://www.libfm.org/) представляет несколько способов обучения модели (подбора весов коэффициентов $w_{ij}$):\n",
    " - MCMC ([Markov chain Monte Carlo](https://en.wikipedia.org/wiki/Markov_chain_Monte_Carlo))\n",
    " - SGD ([Stochastic gradient descent](https://en.wikipedia.org/wiki/Stochastic_gradient_descent))\n",
    " - SGDA ([Adaptive Stochastic gradient descent](https://en.wikipedia.org/wiki/Stochastic_gradient_descent#AdaGrad))\n",
    " - ALS ([Alternating Least Squares](https://bugra.github.io/work/notes/2014-04-19/alternating-least-squares-method-for-collaborative-filtering/))\n",
    " \n",
    "В работе ниже были опробованы методы MCMC, SGD и ALS. Максимальную эффективность дал ALS.\n",
    "\n",
    "Порядок установки и работы с libFM описан в инструкции к библиотеке и в статье [Factorization Machines with libFM](http://citeseerx.ist.psu.edu/viewdoc/download?doi=10.1.1.442.5724&rep=rep1&type=pdf) от автора алгоритма.\n",
    "Запускается расчёт следующей командой в командной строке:"
   ]
  },
  {
   "cell_type": "code",
   "execution_count": null,
   "metadata": {
    "collapsed": true,
    "deletable": true,
    "editable": true
   },
   "outputs": [],
   "source": [
    "!./libFM -task c -train train.libfm -test test.libfm -method als -dim '1,1,8' -iter 200 \\\n",
    "         -regular ’0,0,15’ -init_stdev 0.1 -out prob9.txt"
   ]
  },
  {
   "cell_type": "markdown",
   "metadata": {
    "deletable": true,
    "editable": true
   },
   "source": [
    "### Часть 1. Подготовка файла с пользователями и фильмами. Первая проверка работоспособности алгоритма FM на примере libFM."
   ]
  },
  {
   "cell_type": "code",
   "execution_count": 1,
   "metadata": {
    "collapsed": true,
    "deletable": true,
    "editable": true
   },
   "outputs": [],
   "source": [
    "import pandas as pd\n",
    "import numpy as np\n",
    "from tqdm import tqdm\n",
    "from datetime import datetime\n",
    "from sklearn.preprocessing import MinMaxScaler\n",
    "import warnings\n",
    "warnings.simplefilter('ignore')"
   ]
  },
  {
   "cell_type": "markdown",
   "metadata": {
    "deletable": true,
    "editable": true
   },
   "source": [
    "Загружаем данные из train и test"
   ]
  },
  {
   "cell_type": "code",
   "execution_count": 2,
   "metadata": {
    "collapsed": false,
    "deletable": true,
    "editable": true
   },
   "outputs": [],
   "source": [
    "train = pd.read_csv('data/lab10_train.csv')\n",
    "test = pd.read_csv('data/lab10_test.csv')"
   ]
  },
  {
   "cell_type": "code",
   "execution_count": 3,
   "metadata": {
    "collapsed": false,
    "deletable": true,
    "editable": true
   },
   "outputs": [
    {
     "name": "stdout",
     "output_type": "stream",
     "text": [
      "('Train:', (5032624, 3))\n",
      "('Test:', (2156840, 3))\n"
     ]
    }
   ],
   "source": [
    "print('Train:', train.shape)\n",
    "print('Test:', test.shape)"
   ]
  },
  {
   "cell_type": "code",
   "execution_count": 4,
   "metadata": {
    "collapsed": false,
    "deletable": true,
    "editable": true
   },
   "outputs": [
    {
     "name": "stdout",
     "output_type": "stream",
     "text": [
      "('Nums of users:', 1941)\n",
      "('Nums of items:', 3704)\n"
     ]
    }
   ],
   "source": [
    "print('Nums of users:', len(train['user_id'].unique()))\n",
    "print('Nums of items:', len(train['item_id'].unique()))"
   ]
  },
  {
   "cell_type": "markdown",
   "metadata": {
    "deletable": true,
    "editable": true
   },
   "source": [
    "Сортируем train и test и объединяем в единый датафрейм"
   ]
  },
  {
   "cell_type": "code",
   "execution_count": 5,
   "metadata": {
    "collapsed": false,
    "deletable": true,
    "editable": true
   },
   "outputs": [],
   "source": [
    "train.sort_values(by = ['user_id', 'item_id'], ascending=[True, True], inplace=True)\n",
    "train.reset_index(drop=True, inplace=True)\n",
    "test.sort_values(by = ['user_id', 'item_id'], ascending=[True, True], inplace=True)\n",
    "test.reset_index(drop=True, inplace=True)"
   ]
  },
  {
   "cell_type": "code",
   "execution_count": 6,
   "metadata": {
    "collapsed": false,
    "deletable": true,
    "editable": true
   },
   "outputs": [],
   "source": [
    "full_df = pd.concat([train, test]) \n",
    "full_df.reset_index(drop=True, inplace=True)\n",
    "full_df.reset_index(drop=True, inplace=True)"
   ]
  },
  {
   "cell_type": "markdown",
   "metadata": {
    "deletable": true,
    "editable": true
   },
   "source": [
    "Формируем словари для перевода поля user_id в формат libFM (\"номер непустой колонки:1\") и подставляем полученное значение в сводный датафрейм"
   ]
  },
  {
   "cell_type": "code",
   "execution_count": 7,
   "metadata": {
    "collapsed": true,
    "deletable": true,
    "editable": true
   },
   "outputs": [],
   "source": [
    "users = list(set(full_df['user_id']))\n",
    "users.sort()\n",
    "\n",
    "user_dic = {}\n",
    "for idx, usr in enumerate(users):\n",
    "    user_dic[usr] = idx\n",
    "\n",
    "full_df['fm_user'] = full_df['user_id'].apply(lambda x: str(user_dic[x])+':1')"
   ]
  },
  {
   "cell_type": "markdown",
   "metadata": {
    "deletable": true,
    "editable": true
   },
   "source": [
    "Аналогично переводим поле item_id с тем учётом, что нумерация колонок начинается не с 0, а с количества уникальных юзеров"
   ]
  },
  {
   "cell_type": "code",
   "execution_count": 8,
   "metadata": {
    "collapsed": true,
    "deletable": true,
    "editable": true
   },
   "outputs": [],
   "source": [
    "point1=len(user_dic)"
   ]
  },
  {
   "cell_type": "code",
   "execution_count": 9,
   "metadata": {
    "collapsed": true,
    "deletable": true,
    "editable": true
   },
   "outputs": [],
   "source": [
    "films = list(set(full_df['item_id']))\n",
    "films.sort()\n",
    "\n",
    "film_dic = {}\n",
    "for idx, flm in enumerate(films):\n",
    "    film_dic[flm] = idx+point1\n",
    "\n",
    "full_df['fm_item'] = full_df['item_id'].apply(lambda x: str(film_dic[x])+':1')"
   ]
  },
  {
   "cell_type": "code",
   "execution_count": 10,
   "metadata": {
    "collapsed": false,
    "deletable": true,
    "editable": true
   },
   "outputs": [
    {
     "data": {
      "text/html": [
       "<div>\n",
       "<table border=\"1\" class=\"dataframe\">\n",
       "  <thead>\n",
       "    <tr style=\"text-align: right;\">\n",
       "      <th></th>\n",
       "      <th>user_id</th>\n",
       "      <th>item_id</th>\n",
       "      <th>purchase</th>\n",
       "      <th>fm_user</th>\n",
       "      <th>fm_item</th>\n",
       "    </tr>\n",
       "  </thead>\n",
       "  <tbody>\n",
       "    <tr>\n",
       "      <th>0</th>\n",
       "      <td>1654</td>\n",
       "      <td>326</td>\n",
       "      <td>0.0</td>\n",
       "      <td>0:1</td>\n",
       "      <td>1941:1</td>\n",
       "    </tr>\n",
       "    <tr>\n",
       "      <th>1</th>\n",
       "      <td>1654</td>\n",
       "      <td>357</td>\n",
       "      <td>0.0</td>\n",
       "      <td>0:1</td>\n",
       "      <td>1943:1</td>\n",
       "    </tr>\n",
       "    <tr>\n",
       "      <th>2</th>\n",
       "      <td>1654</td>\n",
       "      <td>396</td>\n",
       "      <td>0.0</td>\n",
       "      <td>0:1</td>\n",
       "      <td>1944:1</td>\n",
       "    </tr>\n",
       "    <tr>\n",
       "      <th>3</th>\n",
       "      <td>1654</td>\n",
       "      <td>400</td>\n",
       "      <td>0.0</td>\n",
       "      <td>0:1</td>\n",
       "      <td>1945:1</td>\n",
       "    </tr>\n",
       "    <tr>\n",
       "      <th>4</th>\n",
       "      <td>1654</td>\n",
       "      <td>423</td>\n",
       "      <td>0.0</td>\n",
       "      <td>0:1</td>\n",
       "      <td>1946:1</td>\n",
       "    </tr>\n",
       "  </tbody>\n",
       "</table>\n",
       "</div>"
      ],
      "text/plain": [
       "   user_id  item_id  purchase fm_user fm_item\n",
       "0     1654      326       0.0     0:1  1941:1\n",
       "1     1654      357       0.0     0:1  1943:1\n",
       "2     1654      396       0.0     0:1  1944:1\n",
       "3     1654      400       0.0     0:1  1945:1\n",
       "4     1654      423       0.0     0:1  1946:1"
      ]
     },
     "execution_count": 10,
     "metadata": {},
     "output_type": "execute_result"
    }
   ],
   "source": [
    "full_df.head()"
   ]
  },
  {
   "cell_type": "markdown",
   "metadata": {
    "deletable": true,
    "editable": true
   },
   "source": [
    "Проверим - насколько эффективно сработает FM только на данных о том, кто что купил"
   ]
  },
  {
   "cell_type": "code",
   "execution_count": 12,
   "metadata": {
    "collapsed": false,
    "deletable": true,
    "editable": true
   },
   "outputs": [],
   "source": [
    "fm_train_1 = full_df.iloc[0:train.shape[0],2:]\n",
    "fm_test_1 = full_df.iloc[train.shape[0]:,2:]\n",
    "\n",
    "fm_test_1['purchase'].fillna(0, inplace=True)\n",
    "fm_test_1['purchase'] = fm_test_1['purchase'].astype(int)\n",
    "fm_train_1['purchase'] = fm_train_1['purchase'].astype(int)\n",
    "\n",
    "fm_train_1.to_csv('train_1.libfm', header = None, index = False, sep = ' ')\n",
    "fm_test_1.to_csv('test_1.libfm', header = None, index = False, sep = ' ')"
   ]
  },
  {
   "cell_type": "code",
   "execution_count": 37,
   "metadata": {
    "collapsed": true,
    "deletable": true,
    "editable": true
   },
   "outputs": [],
   "source": [
    "prob = pd.read_csv('prob_1.txt', header = None)\n",
    "out_test = full_df.iloc[train.shape[0]:,0:2]\n",
    "out_test.reset_index(drop=True, inplace=True)\n",
    "out_test['purchase'] = prob\n",
    "out_test.to_csv('../lab10.csv', index=False)"
   ]
  },
  {
   "cell_type": "markdown",
   "metadata": {
    "deletable": true,
    "editable": true
   },
   "source": [
    "**ROC AUC: 0.922830212573**"
   ]
  },
  {
   "cell_type": "markdown",
   "metadata": {
    "deletable": true,
    "editable": true
   },
   "source": [
    "Результат хороший, но проверим - сколько даст добавление информации по жанрам и по году выпуска. Задаём смещение номера колонки для следующих данных:"
   ]
  },
  {
   "cell_type": "code",
   "execution_count": 13,
   "metadata": {
    "collapsed": false,
    "deletable": true,
    "editable": true
   },
   "outputs": [],
   "source": [
    "point2 = point1+len(film_dic)"
   ]
  },
  {
   "cell_type": "markdown",
   "metadata": {
    "deletable": true,
    "editable": true
   },
   "source": [
    "### Часть 2.1. Обработка данных по телепередачам. Формирование данных для дальнейшего кодирования"
   ]
  },
  {
   "cell_type": "markdown",
   "metadata": {
    "deletable": true,
    "editable": true
   },
   "source": [
    "Загружаем данные по передачам"
   ]
  },
  {
   "cell_type": "code",
   "execution_count": 14,
   "metadata": {
    "collapsed": false,
    "deletable": true,
    "editable": true
   },
   "outputs": [
    {
     "data": {
      "text/html": [
       "<div>\n",
       "<table border=\"1\" class=\"dataframe\">\n",
       "  <thead>\n",
       "    <tr style=\"text-align: right;\">\n",
       "      <th></th>\n",
       "      <th>item_id</th>\n",
       "      <th>channel_id</th>\n",
       "      <th>datetime_availability_start</th>\n",
       "      <th>datetime_availability_stop</th>\n",
       "      <th>datetime_show_start</th>\n",
       "      <th>datetime_show_stop</th>\n",
       "      <th>content_type</th>\n",
       "      <th>title</th>\n",
       "      <th>year</th>\n",
       "      <th>genres</th>\n",
       "      <th>region_id</th>\n",
       "    </tr>\n",
       "  </thead>\n",
       "  <tbody>\n",
       "    <tr>\n",
       "      <th>0</th>\n",
       "      <td>65667</td>\n",
       "      <td>NaN</td>\n",
       "      <td>1970-01-01T00:00:00Z</td>\n",
       "      <td>2018-01-01T00:00:00Z</td>\n",
       "      <td>NaN</td>\n",
       "      <td>NaN</td>\n",
       "      <td>1</td>\n",
       "      <td>на пробах только девушки (all girl auditions)</td>\n",
       "      <td>2013.0</td>\n",
       "      <td>Эротика</td>\n",
       "      <td>NaN</td>\n",
       "    </tr>\n",
       "    <tr>\n",
       "      <th>1</th>\n",
       "      <td>65669</td>\n",
       "      <td>NaN</td>\n",
       "      <td>1970-01-01T00:00:00Z</td>\n",
       "      <td>2018-01-01T00:00:00Z</td>\n",
       "      <td>NaN</td>\n",
       "      <td>NaN</td>\n",
       "      <td>1</td>\n",
       "      <td>скуби ду: эротическая пародия (scooby doo: a x...</td>\n",
       "      <td>2011.0</td>\n",
       "      <td>Эротика</td>\n",
       "      <td>NaN</td>\n",
       "    </tr>\n",
       "  </tbody>\n",
       "</table>\n",
       "</div>"
      ],
      "text/plain": [
       "   item_id  channel_id datetime_availability_start datetime_availability_stop  \\\n",
       "0    65667         NaN        1970-01-01T00:00:00Z       2018-01-01T00:00:00Z   \n",
       "1    65669         NaN        1970-01-01T00:00:00Z       2018-01-01T00:00:00Z   \n",
       "\n",
       "  datetime_show_start datetime_show_stop  content_type  \\\n",
       "0                 NaN                NaN             1   \n",
       "1                 NaN                NaN             1   \n",
       "\n",
       "                                               title    year   genres  \\\n",
       "0      на пробах только девушки (all girl auditions)  2013.0  Эротика   \n",
       "1  скуби ду: эротическая пародия (scooby doo: a x...  2011.0  Эротика   \n",
       "\n",
       "   region_id  \n",
       "0        NaN  \n",
       "1        NaN  "
      ]
     },
     "execution_count": 14,
     "metadata": {},
     "output_type": "execute_result"
    }
   ],
   "source": [
    "items_df = pd.read_csv('data/lab10_items.csv', sep = '\\t')\n",
    "items_df.head(2)"
   ]
  },
  {
   "cell_type": "markdown",
   "metadata": {
    "deletable": true,
    "editable": true
   },
   "source": [
    "В таблице много ненужной информации. Оставим следующие поля: item_id, year (год выпуска передачи), genres (жанры передачи)"
   ]
  },
  {
   "cell_type": "code",
   "execution_count": 15,
   "metadata": {
    "collapsed": true,
    "deletable": true,
    "editable": true
   },
   "outputs": [],
   "source": [
    "col2 = [u'item_id', u'year', u'genres']\n",
    "new_items = items_df[col2]\n",
    "new_items.sort_values(by = 'item_id', ascending=True, inplace=True)"
   ]
  },
  {
   "cell_type": "markdown",
   "metadata": {
    "deletable": true,
    "editable": true
   },
   "source": [
    "Также в таблице есть информация по бесплатным телепередачам, которая в первом приближении нам не потребуется. Выделим только платный контент, который есть в train и test"
   ]
  },
  {
   "cell_type": "code",
   "execution_count": 16,
   "metadata": {
    "collapsed": true,
    "deletable": true,
    "editable": true
   },
   "outputs": [],
   "source": [
    "train_items = train['item_id'].unique()\n",
    "train_items.sort()\n",
    "tr_items = pd.DataFrame(train_items, columns = ['item_id'])\n",
    "items = pd.merge(tr_items, new_items, how = 'left', on = 'item_id')"
   ]
  },
  {
   "cell_type": "code",
   "execution_count": 17,
   "metadata": {
    "collapsed": false,
    "deletable": true,
    "editable": true
   },
   "outputs": [
    {
     "data": {
      "text/html": [
       "<div>\n",
       "<table border=\"1\" class=\"dataframe\">\n",
       "  <thead>\n",
       "    <tr style=\"text-align: right;\">\n",
       "      <th></th>\n",
       "      <th>item_id</th>\n",
       "      <th>year</th>\n",
       "      <th>genres</th>\n",
       "    </tr>\n",
       "  </thead>\n",
       "  <tbody>\n",
       "    <tr>\n",
       "      <th>0</th>\n",
       "      <td>326</td>\n",
       "      <td>2012.0</td>\n",
       "      <td>Ужасы,Триллеры,Драмы,Фантастика,Зарубежные</td>\n",
       "    </tr>\n",
       "    <tr>\n",
       "      <th>1</th>\n",
       "      <td>336</td>\n",
       "      <td>2012.0</td>\n",
       "      <td>Ужасы,Комедии,Фантастика,Зарубежные</td>\n",
       "    </tr>\n",
       "    <tr>\n",
       "      <th>2</th>\n",
       "      <td>357</td>\n",
       "      <td>2012.0</td>\n",
       "      <td>Комедии,Мелодрамы,Наши</td>\n",
       "    </tr>\n",
       "    <tr>\n",
       "      <th>3</th>\n",
       "      <td>396</td>\n",
       "      <td>2007.0</td>\n",
       "      <td>Детективы,Триллеры,Драмы,Фантастика,Зарубежные</td>\n",
       "    </tr>\n",
       "    <tr>\n",
       "      <th>4</th>\n",
       "      <td>400</td>\n",
       "      <td>2010.0</td>\n",
       "      <td>Фантастика,Боевики,Зарубежные</td>\n",
       "    </tr>\n",
       "  </tbody>\n",
       "</table>\n",
       "</div>"
      ],
      "text/plain": [
       "   item_id    year                                          genres\n",
       "0      326  2012.0      Ужасы,Триллеры,Драмы,Фантастика,Зарубежные\n",
       "1      336  2012.0             Ужасы,Комедии,Фантастика,Зарубежные\n",
       "2      357  2012.0                          Комедии,Мелодрамы,Наши\n",
       "3      396  2007.0  Детективы,Триллеры,Драмы,Фантастика,Зарубежные\n",
       "4      400  2010.0                   Фантастика,Боевики,Зарубежные"
      ]
     },
     "execution_count": 17,
     "metadata": {},
     "output_type": "execute_result"
    }
   ],
   "source": [
    "items.head()"
   ]
  },
  {
   "cell_type": "markdown",
   "metadata": {
    "deletable": true,
    "editable": true
   },
   "source": [
    "### Часть 2.2 Кодирование информации для libFM по свойствам телепередач"
   ]
  },
  {
   "cell_type": "markdown",
   "metadata": {
    "deletable": true,
    "editable": true
   },
   "source": [
    "Определим множество жанров телепередач"
   ]
  },
  {
   "cell_type": "code",
   "execution_count": 18,
   "metadata": {
    "collapsed": false,
    "deletable": true,
    "editable": true
   },
   "outputs": [
    {
     "name": "stderr",
     "output_type": "stream",
     "text": [
      "100%|██████████| 3704/3704 [00:02<00:00, 1757.53it/s]\n"
     ]
    }
   ],
   "source": [
    "# первым шагом создаём для каждой телепередачи множество её жанров\n",
    "item_genre_dic = {}\n",
    "genre = []\n",
    "for i in tqdm(range(items.shape[0])):\n",
    "    try:\n",
    "        item_genre_dic[items.iloc[i,0]] = list(items.iloc[i,2].split(','))\n",
    "    except:\n",
    "        AttributeError\n",
    "        item_genre_dic[items.iloc[i,0]] = ['No']\n",
    "        continue\n",
    "gnrs = set()\n",
    "# вторым шагом создаём итоговое множество всех представленных жанров\n",
    "for k in item_genre_dic.keys():\n",
    "    gnrs = gnrs.union(set(item_genre_dic[k]))\n",
    "gnrs = list(gnrs)\n",
    "gnrs.sort()"
   ]
  },
  {
   "cell_type": "code",
   "execution_count": 19,
   "metadata": {
    "collapsed": false,
    "deletable": true,
    "editable": true
   },
   "outputs": [
    {
     "name": "stdout",
     "output_type": "stream",
     "text": [
      "Total genres: 84\n"
     ]
    }
   ],
   "source": [
    "print('Total genres: ' + str(len(gnrs)))"
   ]
  },
  {
   "cell_type": "markdown",
   "metadata": {
    "deletable": true,
    "editable": true
   },
   "source": [
    "Создадим словарь, который каждому жанру будет задавать значение порядкового номера колонки в общем сводном файле. Начинается нумерация со значения point2 = 5645"
   ]
  },
  {
   "cell_type": "code",
   "execution_count": 20,
   "metadata": {
    "collapsed": false,
    "deletable": true,
    "editable": true
   },
   "outputs": [],
   "source": [
    "gnr_dic = {}\n",
    "for idx, gnr in enumerate(gnrs):\n",
    "    gnr_dic[gnr] = idx+point2"
   ]
  },
  {
   "cell_type": "markdown",
   "metadata": {
    "deletable": true,
    "editable": true
   },
   "source": [
    "Для кодирования поля genres в формате libFM с учётом того, что в ячейке может быть указано несколько жанров, создадим вспомогательную функцию, которая на базе строки с жанрами формирует строку с номерами колонок в формате \"номер колонки:1\" через пробел"
   ]
  },
  {
   "cell_type": "code",
   "execution_count": 21,
   "metadata": {
    "collapsed": true,
    "deletable": true,
    "editable": true
   },
   "outputs": [],
   "source": [
    "def gnr_to_fm(stroka, diction):\n",
    "    fm_gnr = []\n",
    "    for gnr in stroka.split(','):\n",
    "        try:\n",
    "            fm_gnr.append(str(diction[gnr])+':1')\n",
    "        except:\n",
    "            KeyError\n",
    "            continue\n",
    "    fm_gnr.sort()\n",
    "    return ' '.join(fm_gnr)  "
   ]
  },
  {
   "cell_type": "markdown",
   "metadata": {
    "deletable": true,
    "editable": true
   },
   "source": [
    "Для каждой передачи (фильма) переводим жанр в формат libFM"
   ]
  },
  {
   "cell_type": "code",
   "execution_count": 22,
   "metadata": {
    "collapsed": false,
    "deletable": true,
    "editable": true
   },
   "outputs": [
    {
     "name": "stderr",
     "output_type": "stream",
     "text": [
      "100%|██████████| 3704/3704 [00:03<00:00, 1055.59it/s]\n"
     ]
    }
   ],
   "source": [
    "items['fm_genr'] = 0\n",
    "for i in tqdm(range(items.shape[0])):\n",
    "    items.iloc[i,3] = gnr_to_fm(str(items.iloc[i,2]), gnr_dic)"
   ]
  },
  {
   "cell_type": "markdown",
   "metadata": {
    "deletable": true,
    "editable": true
   },
   "source": [
    "Задаём очередное смещение колонки для данных по году:"
   ]
  },
  {
   "cell_type": "code",
   "execution_count": 23,
   "metadata": {
    "collapsed": false,
    "deletable": true,
    "editable": true
   },
   "outputs": [
    {
     "data": {
      "text/plain": [
       "5729"
      ]
     },
     "execution_count": 23,
     "metadata": {},
     "output_type": "execute_result"
    }
   ],
   "source": [
    "point3 = point2+len(gnrs)\n",
    "point3"
   ]
  },
  {
   "cell_type": "markdown",
   "metadata": {
    "deletable": true,
    "editable": true
   },
   "source": [
    "Аналогичным образом обрабатываем поле с годом (заменяем пропуски нулями, приводим к int)"
   ]
  },
  {
   "cell_type": "code",
   "execution_count": 24,
   "metadata": {
    "collapsed": false,
    "deletable": true,
    "editable": true
   },
   "outputs": [],
   "source": [
    "#Очищаем данные и создаём список годов выпуска фильмов\n",
    "items['year'].fillna(0, inplace=True)\n",
    "items['year'] = items['year'].astype(int)\n",
    "years = items['year'].unique()\n",
    "years.sort()\n",
    "#Создаём словарь для заполнения в дальнейшем колонки в формате libFM\n",
    "years_dic = {}\n",
    "for idx, yea in enumerate(years):\n",
    "    years_dic[yea] = idx+point3"
   ]
  },
  {
   "cell_type": "markdown",
   "metadata": {
    "deletable": true,
    "editable": true
   },
   "source": [
    "Приводим поле с годом к формату libFM:"
   ]
  },
  {
   "cell_type": "code",
   "execution_count": 25,
   "metadata": {
    "collapsed": false,
    "deletable": true,
    "editable": true
   },
   "outputs": [
    {
     "name": "stderr",
     "output_type": "stream",
     "text": [
      "100%|██████████| 3704/3704 [00:03<00:00, 1078.41it/s]\n"
     ]
    }
   ],
   "source": [
    "items['fm_year'] = 0\n",
    "for i in tqdm(range(items.shape[0])):\n",
    "    items.iloc[i,4] = str(years_dic[items.iloc[i,1]])+':1'"
   ]
  },
  {
   "cell_type": "code",
   "execution_count": 26,
   "metadata": {
    "collapsed": false,
    "deletable": true,
    "editable": true
   },
   "outputs": [
    {
     "data": {
      "text/html": [
       "<div>\n",
       "<table border=\"1\" class=\"dataframe\">\n",
       "  <thead>\n",
       "    <tr style=\"text-align: right;\">\n",
       "      <th></th>\n",
       "      <th>item_id</th>\n",
       "      <th>year</th>\n",
       "      <th>genres</th>\n",
       "      <th>fm_genr</th>\n",
       "      <th>fm_year</th>\n",
       "    </tr>\n",
       "  </thead>\n",
       "  <tbody>\n",
       "    <tr>\n",
       "      <th>0</th>\n",
       "      <td>326</td>\n",
       "      <td>2012</td>\n",
       "      <td>Ужасы,Триллеры,Драмы,Фантастика,Зарубежные</td>\n",
       "      <td>5668:1 5670:1 5717:1 5718:1 5719:1</td>\n",
       "      <td>5804:1</td>\n",
       "    </tr>\n",
       "    <tr>\n",
       "      <th>1</th>\n",
       "      <td>336</td>\n",
       "      <td>2012</td>\n",
       "      <td>Ужасы,Комедии,Фантастика,Зарубежные</td>\n",
       "      <td>5670:1 5674:1 5718:1 5719:1</td>\n",
       "      <td>5804:1</td>\n",
       "    </tr>\n",
       "    <tr>\n",
       "      <th>2</th>\n",
       "      <td>357</td>\n",
       "      <td>2012</td>\n",
       "      <td>Комедии,Мелодрамы,Наши</td>\n",
       "      <td>5674:1 5681:1 5691:1</td>\n",
       "      <td>5804:1</td>\n",
       "    </tr>\n",
       "    <tr>\n",
       "      <th>3</th>\n",
       "      <td>396</td>\n",
       "      <td>2007</td>\n",
       "      <td>Детективы,Триллеры,Драмы,Фантастика,Зарубежные</td>\n",
       "      <td>5658:1 5668:1 5670:1 5717:1 5719:1</td>\n",
       "      <td>5799:1</td>\n",
       "    </tr>\n",
       "    <tr>\n",
       "      <th>4</th>\n",
       "      <td>400</td>\n",
       "      <td>2010</td>\n",
       "      <td>Фантастика,Боевики,Зарубежные</td>\n",
       "      <td>5653:1 5670:1 5719:1</td>\n",
       "      <td>5802:1</td>\n",
       "    </tr>\n",
       "  </tbody>\n",
       "</table>\n",
       "</div>"
      ],
      "text/plain": [
       "   item_id  year                                          genres  \\\n",
       "0      326  2012      Ужасы,Триллеры,Драмы,Фантастика,Зарубежные   \n",
       "1      336  2012             Ужасы,Комедии,Фантастика,Зарубежные   \n",
       "2      357  2012                          Комедии,Мелодрамы,Наши   \n",
       "3      396  2007  Детективы,Триллеры,Драмы,Фантастика,Зарубежные   \n",
       "4      400  2010                   Фантастика,Боевики,Зарубежные   \n",
       "\n",
       "                              fm_genr fm_year  \n",
       "0  5668:1 5670:1 5717:1 5718:1 5719:1  5804:1  \n",
       "1         5670:1 5674:1 5718:1 5719:1  5804:1  \n",
       "2                5674:1 5681:1 5691:1  5804:1  \n",
       "3  5658:1 5668:1 5670:1 5717:1 5719:1  5799:1  \n",
       "4                5653:1 5670:1 5719:1  5802:1  "
      ]
     },
     "execution_count": 26,
     "metadata": {},
     "output_type": "execute_result"
    }
   ],
   "source": [
    "items.head()"
   ]
  },
  {
   "cell_type": "markdown",
   "metadata": {
    "deletable": true,
    "editable": true
   },
   "source": [
    "Для дальнейшей работы оставим в таблице только поля с номером передачи и закодированными жанром и годом"
   ]
  },
  {
   "cell_type": "code",
   "execution_count": 27,
   "metadata": {
    "collapsed": false,
    "deletable": true,
    "editable": true
   },
   "outputs": [],
   "source": [
    "fm_items = items.drop(['year', 'genres'], axis = 1)"
   ]
  },
  {
   "cell_type": "code",
   "execution_count": 28,
   "metadata": {
    "collapsed": false,
    "deletable": true,
    "editable": true
   },
   "outputs": [
    {
     "data": {
      "text/plain": [
       "5810"
      ]
     },
     "execution_count": 28,
     "metadata": {},
     "output_type": "execute_result"
    }
   ],
   "source": [
    "point4 = point3+len(years)\n",
    "point4"
   ]
  },
  {
   "cell_type": "markdown",
   "metadata": {
    "deletable": true,
    "editable": true
   },
   "source": [
    "### Часть 3. Формирование файлов train и test для libFM"
   ]
  },
  {
   "cell_type": "markdown",
   "metadata": {
    "deletable": true,
    "editable": true
   },
   "source": [
    "Объединяем наш исходный датафрейм full_df с пользователями и передачами с датафреймом fm_items со свойствами телепередач. Выделяем из него train и test, предварительно заполнив нулями поле purchase в test"
   ]
  },
  {
   "cell_type": "code",
   "execution_count": 29,
   "metadata": {
    "collapsed": true,
    "deletable": true,
    "editable": true
   },
   "outputs": [],
   "source": [
    "fm_full = pd.merge(full_df, fm_items, how = 'left', on = 'item_id')\n",
    "\n",
    "fm_train = fm_full.iloc[0:train.shape[0],2:]\n",
    "fm_test = fm_full.iloc[train.shape[0]:,2:]\n",
    "\n",
    "fm_test['purchase'].fillna(0, inplace=True)\n",
    "fm_test['purchase'] = fm_test['purchase'].astype(int)\n",
    "fm_train['purchase'] = fm_train['purchase'].astype(int)"
   ]
  },
  {
   "cell_type": "markdown",
   "metadata": {
    "deletable": true,
    "editable": true
   },
   "source": [
    "Записываем данные в файлы в формате libfm:"
   ]
  },
  {
   "cell_type": "code",
   "execution_count": 30,
   "metadata": {
    "collapsed": true,
    "deletable": true,
    "editable": true
   },
   "outputs": [],
   "source": [
    "fm_train.to_csv('train.libfm', header = None, index = False, sep = ' ')\n",
    "fm_test.to_csv('test.libfm', header = None, index = False, sep = ' ')"
   ]
  },
  {
   "cell_type": "code",
   "execution_count": 31,
   "metadata": {
    "collapsed": false,
    "deletable": true,
    "editable": true
   },
   "outputs": [],
   "source": [
    "#не забываем очистить данные от кавычек, которые достались в наследство при записи строк в файл:\n",
    "!sed -i 's/\"//g' train.libfm \n",
    "!sed -i 's/\"//g' test.libfm "
   ]
  },
  {
   "cell_type": "markdown",
   "metadata": {
    "deletable": true,
    "editable": true
   },
   "source": [
    "### Часть 4. Тренировка модели в libFM"
   ]
  },
  {
   "cell_type": "markdown",
   "metadata": {
    "deletable": true,
    "editable": true
   },
   "source": [
    "Проверим эффективность предсказательной модели каждым из способов оптимизации:"
   ]
  },
  {
   "cell_type": "code",
   "execution_count": 1,
   "metadata": {
    "collapsed": true,
    "deletable": true,
    "editable": true
   },
   "outputs": [],
   "source": [
    "#MCMC\n",
    "# !./libFM -task c -train train.libfm -test test.libfm -dim '1,1,8' -out prob7.txt"
   ]
  },
  {
   "cell_type": "code",
   "execution_count": 2,
   "metadata": {
    "collapsed": true,
    "deletable": true,
    "editable": true
   },
   "outputs": [],
   "source": [
    "#SGD\n",
    "# ./libFM -task c -train train.libfm -test test.libfm -dim '1,1,8' -iter 100 -method sgd -learn_rate 0.01 -regular ’0,0,0.01’ -init_stdev 0.1 -out prob2.txt"
   ]
  },
  {
   "cell_type": "code",
   "execution_count": 3,
   "metadata": {
    "collapsed": true,
    "deletable": true,
    "editable": true
   },
   "outputs": [],
   "source": [
    "#ALS\n",
    "# !./libFM -task c -train train.libfm -test test.libfm -dim '1,1,8' -iter 200 -method als -regular ’0,0,15’ -init_stdev 0.1 -out prob9.txt"
   ]
  },
  {
   "cell_type": "markdown",
   "metadata": {
    "deletable": true,
    "editable": true
   },
   "source": [
    "Записываем полученные предсказанные значения вероятности покупки телепередачи в итоговый файл и отправляем на проверку"
   ]
  },
  {
   "cell_type": "code",
   "execution_count": 68,
   "metadata": {
    "collapsed": true,
    "deletable": true,
    "editable": true
   },
   "outputs": [],
   "source": [
    "prob = pd.read_csv('prob2.txt', header = None)\n",
    "out_test = fm_full.iloc[train.shape[0]:,0:2]\n",
    "out_test.reset_index(drop=True, inplace=True)\n",
    "out_test['purchase'] = prob\n",
    "out_test.to_csv('../lab10.csv', index=False)"
   ]
  },
  {
   "cell_type": "markdown",
   "metadata": {
    "deletable": true,
    "editable": true
   },
   "source": [
    " - MCMC: **ROC AUC: 0.90308**\n",
    " - SGD: **ROC AUC: 0.89347**\n",
    " - ALS: **ROC AUC: 0.93501**\n",
    "\n",
    "Как видим, полученный результат выше, но не сильно"
   ]
  },
  {
   "cell_type": "markdown",
   "metadata": {
    "deletable": true,
    "editable": true
   },
   "source": [
    "### Приложение. Обработка данных по активностям пользователей (просмотр бесплатных телепередач)"
   ]
  },
  {
   "cell_type": "markdown",
   "metadata": {
    "collapsed": true,
    "deletable": true,
    "editable": true
   },
   "source": [
    "Загрузим данные из файла lab10_views_programmes.csv, где отражены просмотры бесплатных телепередач всеми пользователями. Файл содержит почти 21 млн.записей по почти 80 000 уникальных пользователей. Для ускорения обработки данных выделим из файла целевую группу пользователей."
   ]
  },
  {
   "cell_type": "code",
   "execution_count": 30,
   "metadata": {
    "collapsed": false,
    "deletable": true,
    "editable": true
   },
   "outputs": [
    {
     "name": "stdout",
     "output_type": "stream",
     "text": [
      "Num of rows:20845607\n",
      "Num of users:79385\n"
     ]
    }
   ],
   "source": [
    "views = pd.read_csv('data/lab10_views_programmes.csv')\n",
    "\n",
    "print('Num of rows:' + str(views.shape[0]))\n",
    "print('Num of users:' + str(len(views['user_id'].unique())))"
   ]
  },
  {
   "cell_type": "code",
   "execution_count": 31,
   "metadata": {
    "collapsed": false,
    "deletable": true,
    "editable": true
   },
   "outputs": [
    {
     "data": {
      "text/html": [
       "<div>\n",
       "<table border=\"1\" class=\"dataframe\">\n",
       "  <thead>\n",
       "    <tr style=\"text-align: right;\">\n",
       "      <th></th>\n",
       "      <th>user_id</th>\n",
       "      <th>item_id</th>\n",
       "      <th>ts_start</th>\n",
       "      <th>ts_end</th>\n",
       "      <th>item_type</th>\n",
       "    </tr>\n",
       "  </thead>\n",
       "  <tbody>\n",
       "    <tr>\n",
       "      <th>0</th>\n",
       "      <td>1654</td>\n",
       "      <td>7489015.0</td>\n",
       "      <td>1.493435e+09</td>\n",
       "      <td>1.493435e+09</td>\n",
       "      <td>live</td>\n",
       "    </tr>\n",
       "    <tr>\n",
       "      <th>1</th>\n",
       "      <td>1654</td>\n",
       "      <td>7489023.0</td>\n",
       "      <td>1.493444e+09</td>\n",
       "      <td>1.493446e+09</td>\n",
       "      <td>live</td>\n",
       "    </tr>\n",
       "    <tr>\n",
       "      <th>2</th>\n",
       "      <td>1654</td>\n",
       "      <td>6617053.0</td>\n",
       "      <td>1.489186e+09</td>\n",
       "      <td>1.489201e+09</td>\n",
       "      <td>live</td>\n",
       "    </tr>\n",
       "    <tr>\n",
       "      <th>3</th>\n",
       "      <td>1654</td>\n",
       "      <td>6438693.0</td>\n",
       "      <td>1.487840e+09</td>\n",
       "      <td>1.487840e+09</td>\n",
       "      <td>live</td>\n",
       "    </tr>\n",
       "    <tr>\n",
       "      <th>4</th>\n",
       "      <td>1654</td>\n",
       "      <td>6526859.0</td>\n",
       "      <td>1.488705e+09</td>\n",
       "      <td>1.488706e+09</td>\n",
       "      <td>live</td>\n",
       "    </tr>\n",
       "  </tbody>\n",
       "</table>\n",
       "</div>"
      ],
      "text/plain": [
       "   user_id    item_id      ts_start        ts_end item_type\n",
       "0     1654  7489015.0  1.493435e+09  1.493435e+09      live\n",
       "1     1654  7489023.0  1.493444e+09  1.493446e+09      live\n",
       "2     1654  6617053.0  1.489186e+09  1.489201e+09      live\n",
       "3     1654  6438693.0  1.487840e+09  1.487840e+09      live\n",
       "4     1654  6526859.0  1.488705e+09  1.488706e+09      live"
      ]
     },
     "execution_count": 31,
     "metadata": {},
     "output_type": "execute_result"
    }
   ],
   "source": [
    "tr_users = train['user_id'].unique()\n",
    "tr_users.sort()\n",
    "tr_users = pd.DataFrame(tr_users, columns = ['user_id'])\n",
    "users = pd.merge(tr_users, views, how = 'left', on = 'user_id')\n",
    "users.head()"
   ]
  },
  {
   "cell_type": "code",
   "execution_count": 32,
   "metadata": {
    "collapsed": false,
    "deletable": true,
    "editable": true
   },
   "outputs": [],
   "source": [
    "users.drop([369911, 676124, 688378], axis =0, inplace = True)"
   ]
  },
  {
   "cell_type": "markdown",
   "metadata": {
    "deletable": true,
    "editable": true
   },
   "source": [
    "Выделим из этих данных информацию по продолжительности просмотра телепередач, дню недели, перекодируем информацию по полю item_type в формат 1/0."
   ]
  },
  {
   "cell_type": "code",
   "execution_count": 33,
   "metadata": {
    "collapsed": false,
    "deletable": true,
    "editable": true
   },
   "outputs": [
    {
     "name": "stdout",
     "output_type": "stream",
     "text": [
      "CPU times: user 38.3 s, sys: 4.63 s, total: 43 s\n",
      "Wall time: 41.9 s\n"
     ]
    }
   ],
   "source": [
    "%%time\n",
    "#Переведём timestamp-время в стандартный формат:\n",
    "users['start'] = pd.to_datetime(users['ts_start'].apply(lambda x: datetime.fromtimestamp(x).strftime('%Y-%m-%d %H:%M:%S')))\n",
    "users['finish'] = pd.to_datetime(users['ts_end'].apply(lambda x: datetime.fromtimestamp(x).strftime('%Y-%m-%d %H:%M:%S')))\n",
    "#Вычислим продолжительность просмотра телепередачи:\n",
    "users['length'] = users['finish'] - users['start']\n",
    "users['minutes'] = users['length'].apply(lambda x: int(round(x.total_seconds()/60)))\n",
    "#Вычислим день недели:\n",
    "users['weekofday'] = [d.isoweekday() for d in users['start']]\n",
    "#Перекодируем поле item_type:\n",
    "item_type_dic = {'live':1, 'pvr':0}\n",
    "users['item_type'] = users['item_type'].map(item_type_dic)"
   ]
  },
  {
   "cell_type": "code",
   "execution_count": 34,
   "metadata": {
    "collapsed": false,
    "deletable": true,
    "editable": true
   },
   "outputs": [
    {
     "data": {
      "text/html": [
       "<div>\n",
       "<table border=\"1\" class=\"dataframe\">\n",
       "  <thead>\n",
       "    <tr style=\"text-align: right;\">\n",
       "      <th></th>\n",
       "      <th>user_id</th>\n",
       "      <th>item_id</th>\n",
       "      <th>ts_start</th>\n",
       "      <th>ts_end</th>\n",
       "      <th>item_type</th>\n",
       "      <th>start</th>\n",
       "      <th>finish</th>\n",
       "      <th>length</th>\n",
       "      <th>minutes</th>\n",
       "      <th>weekofday</th>\n",
       "    </tr>\n",
       "  </thead>\n",
       "  <tbody>\n",
       "    <tr>\n",
       "      <th>0</th>\n",
       "      <td>1654</td>\n",
       "      <td>7489015.0</td>\n",
       "      <td>1.493435e+09</td>\n",
       "      <td>1.493435e+09</td>\n",
       "      <td>1</td>\n",
       "      <td>2017-04-29 06:00:01</td>\n",
       "      <td>2017-04-29 06:10:01</td>\n",
       "      <td>00:10:00</td>\n",
       "      <td>10</td>\n",
       "      <td>6</td>\n",
       "    </tr>\n",
       "    <tr>\n",
       "      <th>1</th>\n",
       "      <td>1654</td>\n",
       "      <td>7489023.0</td>\n",
       "      <td>1.493444e+09</td>\n",
       "      <td>1.493446e+09</td>\n",
       "      <td>1</td>\n",
       "      <td>2017-04-29 08:35:01</td>\n",
       "      <td>2017-04-29 09:00:01</td>\n",
       "      <td>00:25:00</td>\n",
       "      <td>25</td>\n",
       "      <td>6</td>\n",
       "    </tr>\n",
       "    <tr>\n",
       "      <th>2</th>\n",
       "      <td>1654</td>\n",
       "      <td>6617053.0</td>\n",
       "      <td>1.489186e+09</td>\n",
       "      <td>1.489201e+09</td>\n",
       "      <td>1</td>\n",
       "      <td>2017-03-11 01:49:16</td>\n",
       "      <td>2017-03-11 05:53:54</td>\n",
       "      <td>04:04:38</td>\n",
       "      <td>245</td>\n",
       "      <td>6</td>\n",
       "    </tr>\n",
       "    <tr>\n",
       "      <th>3</th>\n",
       "      <td>1654</td>\n",
       "      <td>6438693.0</td>\n",
       "      <td>1.487840e+09</td>\n",
       "      <td>1.487840e+09</td>\n",
       "      <td>1</td>\n",
       "      <td>2017-02-23 11:54:30</td>\n",
       "      <td>2017-02-23 12:00:33</td>\n",
       "      <td>00:06:03</td>\n",
       "      <td>6</td>\n",
       "      <td>4</td>\n",
       "    </tr>\n",
       "    <tr>\n",
       "      <th>4</th>\n",
       "      <td>1654</td>\n",
       "      <td>6526859.0</td>\n",
       "      <td>1.488705e+09</td>\n",
       "      <td>1.488706e+09</td>\n",
       "      <td>1</td>\n",
       "      <td>2017-03-05 12:17:32</td>\n",
       "      <td>2017-03-05 12:29:14</td>\n",
       "      <td>00:11:42</td>\n",
       "      <td>12</td>\n",
       "      <td>7</td>\n",
       "    </tr>\n",
       "  </tbody>\n",
       "</table>\n",
       "</div>"
      ],
      "text/plain": [
       "   user_id    item_id      ts_start        ts_end  item_type  \\\n",
       "0     1654  7489015.0  1.493435e+09  1.493435e+09          1   \n",
       "1     1654  7489023.0  1.493444e+09  1.493446e+09          1   \n",
       "2     1654  6617053.0  1.489186e+09  1.489201e+09          1   \n",
       "3     1654  6438693.0  1.487840e+09  1.487840e+09          1   \n",
       "4     1654  6526859.0  1.488705e+09  1.488706e+09          1   \n",
       "\n",
       "                start              finish   length  minutes  weekofday  \n",
       "0 2017-04-29 06:00:01 2017-04-29 06:10:01 00:10:00       10          6  \n",
       "1 2017-04-29 08:35:01 2017-04-29 09:00:01 00:25:00       25          6  \n",
       "2 2017-03-11 01:49:16 2017-03-11 05:53:54 04:04:38      245          6  \n",
       "3 2017-02-23 11:54:30 2017-02-23 12:00:33 00:06:03        6          4  \n",
       "4 2017-03-05 12:17:32 2017-03-05 12:29:14 00:11:42       12          7  "
      ]
     },
     "execution_count": 34,
     "metadata": {},
     "output_type": "execute_result"
    }
   ],
   "source": [
    "users.head()"
   ]
  },
  {
   "cell_type": "markdown",
   "metadata": {
    "deletable": true,
    "editable": true
   },
   "source": [
    "Оставим в таблице только итоговые колонки. Преобразуем данные в новую таблицу, в которой рассчитаем среднее кол-во минут просмотра телепередач в зависмости от дня недели. А также посчитаем, сколько \"в среднем\" тратится времени на телевизор"
   ]
  },
  {
   "cell_type": "code",
   "execution_count": 35,
   "metadata": {
    "collapsed": false,
    "deletable": true,
    "editable": true
   },
   "outputs": [],
   "source": [
    "col1 = [u'user_id', u'item_type', u'weekofday', u'minutes']\n",
    "new_views = users[col1]\n",
    "for col in col1:\n",
    "    new_views[col] = new_views[col].astype(int)"
   ]
  },
  {
   "cell_type": "code",
   "execution_count": 36,
   "metadata": {
    "collapsed": false,
    "deletable": true,
    "editable": true
   },
   "outputs": [
    {
     "data": {
      "text/html": [
       "<div>\n",
       "<table border=\"1\" class=\"dataframe\">\n",
       "  <thead>\n",
       "    <tr>\n",
       "      <th></th>\n",
       "      <th>user_id</th>\n",
       "      <th colspan=\"7\" halign=\"left\">minutes</th>\n",
       "    </tr>\n",
       "    <tr>\n",
       "      <th>weekofday</th>\n",
       "      <th></th>\n",
       "      <th>1</th>\n",
       "      <th>2</th>\n",
       "      <th>3</th>\n",
       "      <th>4</th>\n",
       "      <th>5</th>\n",
       "      <th>6</th>\n",
       "      <th>7</th>\n",
       "    </tr>\n",
       "  </thead>\n",
       "  <tbody>\n",
       "    <tr>\n",
       "      <th>0</th>\n",
       "      <td>1654</td>\n",
       "      <td>15.555556</td>\n",
       "      <td>41.136364</td>\n",
       "      <td>27.280000</td>\n",
       "      <td>35.625000</td>\n",
       "      <td>25.978261</td>\n",
       "      <td>33.111111</td>\n",
       "      <td>27.789474</td>\n",
       "    </tr>\n",
       "    <tr>\n",
       "      <th>1</th>\n",
       "      <td>510087</td>\n",
       "      <td>91.754717</td>\n",
       "      <td>77.451220</td>\n",
       "      <td>73.557377</td>\n",
       "      <td>57.606061</td>\n",
       "      <td>71.848101</td>\n",
       "      <td>68.894118</td>\n",
       "      <td>53.265487</td>\n",
       "    </tr>\n",
       "    <tr>\n",
       "      <th>2</th>\n",
       "      <td>517612</td>\n",
       "      <td>60.666667</td>\n",
       "      <td>38.600000</td>\n",
       "      <td>55.111111</td>\n",
       "      <td>56.181818</td>\n",
       "      <td>27.142857</td>\n",
       "      <td>71.888889</td>\n",
       "      <td>67.166667</td>\n",
       "    </tr>\n",
       "    <tr>\n",
       "      <th>3</th>\n",
       "      <td>520446</td>\n",
       "      <td>76.800000</td>\n",
       "      <td>63.135135</td>\n",
       "      <td>59.033333</td>\n",
       "      <td>65.976190</td>\n",
       "      <td>63.045455</td>\n",
       "      <td>63.516129</td>\n",
       "      <td>51.083333</td>\n",
       "    </tr>\n",
       "    <tr>\n",
       "      <th>4</th>\n",
       "      <td>522798</td>\n",
       "      <td>49.572165</td>\n",
       "      <td>69.318627</td>\n",
       "      <td>61.846154</td>\n",
       "      <td>64.309322</td>\n",
       "      <td>61.789700</td>\n",
       "      <td>60.452107</td>\n",
       "      <td>72.521401</td>\n",
       "    </tr>\n",
       "  </tbody>\n",
       "</table>\n",
       "</div>"
      ],
      "text/plain": [
       "          user_id    minutes                                              \\\n",
       "weekofday                  1          2          3          4          5   \n",
       "0            1654  15.555556  41.136364  27.280000  35.625000  25.978261   \n",
       "1          510087  91.754717  77.451220  73.557377  57.606061  71.848101   \n",
       "2          517612  60.666667  38.600000  55.111111  56.181818  27.142857   \n",
       "3          520446  76.800000  63.135135  59.033333  65.976190  63.045455   \n",
       "4          522798  49.572165  69.318627  61.846154  64.309322  61.789700   \n",
       "\n",
       "                                 \n",
       "weekofday          6          7  \n",
       "0          33.111111  27.789474  \n",
       "1          68.894118  53.265487  \n",
       "2          71.888889  67.166667  \n",
       "3          63.516129  51.083333  \n",
       "4          60.452107  72.521401  "
      ]
     },
     "execution_count": 36,
     "metadata": {},
     "output_type": "execute_result"
    }
   ],
   "source": [
    "weeks = new_views.pivot_table(values = ['minutes'], index = ['user_id'], columns =['weekofday'], aggfunc=np.mean)\n",
    "weeks.reset_index(inplace = True)\n",
    "for col in weeks.columns:\n",
    "    weeks[col].fillna(0, inplace = True)\n",
    "weeks.head()"
   ]
  },
  {
   "cell_type": "code",
   "execution_count": null,
   "metadata": {
    "collapsed": true,
    "deletable": true,
    "editable": true
   },
   "outputs": [],
   "source": [
    "#new_views.groupby(['user_id'])['item_type'].mean()"
   ]
  },
  {
   "cell_type": "markdown",
   "metadata": {
    "deletable": true,
    "editable": true
   },
   "source": [
    "Нормализуем среднее суммарное время, и рассчитаем распределение времени по дням недели в долях (в сумме = 1)"
   ]
  },
  {
   "cell_type": "code",
   "execution_count": 37,
   "metadata": {
    "collapsed": true,
    "deletable": true,
    "editable": true
   },
   "outputs": [],
   "source": [
    "weeks['sum_min'] = weeks.apply(np.sum, axis =1) - weeks['user_id']\n",
    "weeks['sum_fit'] = MinMaxScaler().fit_transform(weeks['sum_min'])\n",
    "col_week = ['Mo', 'Tu', 'We', 'Th', 'Fr', 'Sa', 'Su']\n",
    "for i in range(7):\n",
    "    weeks[col_week[i]] = weeks['minutes'][i+1]/weeks['sum_min']"
   ]
  },
  {
   "cell_type": "markdown",
   "metadata": {
    "deletable": true,
    "editable": true
   },
   "source": [
    "Выделим из получившейся таблицы интересующие нас столбцы и строки"
   ]
  },
  {
   "cell_type": "code",
   "execution_count": 38,
   "metadata": {
    "collapsed": false,
    "deletable": true,
    "editable": true
   },
   "outputs": [
    {
     "data": {
      "text/html": [
       "<div>\n",
       "<table border=\"1\" class=\"dataframe\">\n",
       "  <thead>\n",
       "    <tr style=\"text-align: right;\">\n",
       "      <th></th>\n",
       "      <th>sum_fit</th>\n",
       "      <th>Mo</th>\n",
       "      <th>Tu</th>\n",
       "      <th>We</th>\n",
       "      <th>Th</th>\n",
       "      <th>Fr</th>\n",
       "      <th>Sa</th>\n",
       "      <th>Su</th>\n",
       "      <th>user_id</th>\n",
       "    </tr>\n",
       "  </thead>\n",
       "  <tbody>\n",
       "    <tr>\n",
       "      <th>0</th>\n",
       "      <td>0.070537</td>\n",
       "      <td>0.075338</td>\n",
       "      <td>0.199231</td>\n",
       "      <td>0.132122</td>\n",
       "      <td>0.172538</td>\n",
       "      <td>0.125817</td>\n",
       "      <td>0.160363</td>\n",
       "      <td>0.134590</td>\n",
       "      <td>1654</td>\n",
       "    </tr>\n",
       "    <tr>\n",
       "      <th>1</th>\n",
       "      <td>0.172343</td>\n",
       "      <td>0.185597</td>\n",
       "      <td>0.156664</td>\n",
       "      <td>0.148788</td>\n",
       "      <td>0.116523</td>\n",
       "      <td>0.145331</td>\n",
       "      <td>0.139355</td>\n",
       "      <td>0.107743</td>\n",
       "      <td>510087</td>\n",
       "    </tr>\n",
       "    <tr>\n",
       "      <th>2</th>\n",
       "      <td>0.130752</td>\n",
       "      <td>0.161023</td>\n",
       "      <td>0.102453</td>\n",
       "      <td>0.146277</td>\n",
       "      <td>0.149119</td>\n",
       "      <td>0.072043</td>\n",
       "      <td>0.190809</td>\n",
       "      <td>0.178275</td>\n",
       "      <td>517612</td>\n",
       "    </tr>\n",
       "    <tr>\n",
       "      <th>3</th>\n",
       "      <td>0.154030</td>\n",
       "      <td>0.173524</td>\n",
       "      <td>0.142649</td>\n",
       "      <td>0.133382</td>\n",
       "      <td>0.149069</td>\n",
       "      <td>0.142447</td>\n",
       "      <td>0.143510</td>\n",
       "      <td>0.115419</td>\n",
       "      <td>520446</td>\n",
       "    </tr>\n",
       "    <tr>\n",
       "      <th>4</th>\n",
       "      <td>0.153047</td>\n",
       "      <td>0.112713</td>\n",
       "      <td>0.157611</td>\n",
       "      <td>0.140620</td>\n",
       "      <td>0.146221</td>\n",
       "      <td>0.140492</td>\n",
       "      <td>0.137451</td>\n",
       "      <td>0.164893</td>\n",
       "      <td>522798</td>\n",
       "    </tr>\n",
       "  </tbody>\n",
       "</table>\n",
       "</div>"
      ],
      "text/plain": [
       "    sum_fit        Mo        Tu        We        Th        Fr        Sa  \\\n",
       "0  0.070537  0.075338  0.199231  0.132122  0.172538  0.125817  0.160363   \n",
       "1  0.172343  0.185597  0.156664  0.148788  0.116523  0.145331  0.139355   \n",
       "2  0.130752  0.161023  0.102453  0.146277  0.149119  0.072043  0.190809   \n",
       "3  0.154030  0.173524  0.142649  0.133382  0.149069  0.142447  0.143510   \n",
       "4  0.153047  0.112713  0.157611  0.140620  0.146221  0.140492  0.137451   \n",
       "\n",
       "         Su  user_id  \n",
       "0  0.134590     1654  \n",
       "1  0.107743   510087  \n",
       "2  0.178275   517612  \n",
       "3  0.115419   520446  \n",
       "4  0.164893   522798  "
      ]
     },
     "execution_count": 38,
     "metadata": {},
     "output_type": "execute_result"
    }
   ],
   "source": [
    "new_weeks = weeks.iloc[:,9:]\n",
    "new_weeks.columns = new_weeks.columns.droplevel(1)\n",
    "new_weeks['user_id'] = weeks['user_id']\n",
    "new_weeks.head()"
   ]
  },
  {
   "cell_type": "markdown",
   "metadata": {
    "deletable": true,
    "editable": true
   },
   "source": [
    "Перекодируем данные в формат libFM:"
   ]
  },
  {
   "cell_type": "code",
   "execution_count": 39,
   "metadata": {
    "collapsed": false,
    "deletable": true,
    "editable": true
   },
   "outputs": [
    {
     "data": {
      "text/html": [
       "<div>\n",
       "<table border=\"1\" class=\"dataframe\">\n",
       "  <thead>\n",
       "    <tr style=\"text-align: right;\">\n",
       "      <th></th>\n",
       "      <th>user_id</th>\n",
       "      <th>sum_fit_fm</th>\n",
       "      <th>Mo_fm</th>\n",
       "      <th>Tu_fm</th>\n",
       "      <th>We_fm</th>\n",
       "      <th>Th_fm</th>\n",
       "      <th>Fr_fm</th>\n",
       "      <th>Sa_fm</th>\n",
       "      <th>Su_fm</th>\n",
       "    </tr>\n",
       "  </thead>\n",
       "  <tbody>\n",
       "    <tr>\n",
       "      <th>0</th>\n",
       "      <td>1654</td>\n",
       "      <td>5810:0.0705373704383</td>\n",
       "      <td>5811:0.0753384086812</td>\n",
       "      <td>5812:0.199230954126</td>\n",
       "      <td>5813:0.132122043567</td>\n",
       "      <td>5814:0.172538409167</td>\n",
       "      <td>5815:0.1258174822</td>\n",
       "      <td>5816:0.160363184193</td>\n",
       "      <td>5817:0.134589518065</td>\n",
       "    </tr>\n",
       "    <tr>\n",
       "      <th>1</th>\n",
       "      <td>510087</td>\n",
       "      <td>5810:0.17234322999</td>\n",
       "      <td>5811:0.185596623979</td>\n",
       "      <td>5812:0.156664260296</td>\n",
       "      <td>5813:0.148788000206</td>\n",
       "      <td>5814:0.11652251482</td>\n",
       "      <td>5815:0.145330566896</td>\n",
       "      <td>5816:0.139355403929</td>\n",
       "      <td>5817:0.107742629874</td>\n",
       "    </tr>\n",
       "    <tr>\n",
       "      <th>2</th>\n",
       "      <td>517612</td>\n",
       "      <td>5810:0.130751510831</td>\n",
       "      <td>5811:0.161022898711</td>\n",
       "      <td>5812:0.102453031158</td>\n",
       "      <td>5813:0.146277212016</td>\n",
       "      <td>5814:0.149119107997</td>\n",
       "      <td>5815:0.0720432121391</td>\n",
       "      <td>5816:0.190809185835</td>\n",
       "      <td>5817:0.178275352144</td>\n",
       "    </tr>\n",
       "    <tr>\n",
       "      <th>3</th>\n",
       "      <td>520446</td>\n",
       "      <td>5810:0.15403045725</td>\n",
       "      <td>5811:0.173524195303</td>\n",
       "      <td>5812:0.142649394788</td>\n",
       "      <td>5813:0.133381662275</td>\n",
       "      <td>5814:0.149068559395</td>\n",
       "      <td>5815:0.142446767806</td>\n",
       "      <td>5816:0.143510223686</td>\n",
       "      <td>5817:0.115419196746</td>\n",
       "    </tr>\n",
       "    <tr>\n",
       "      <th>4</th>\n",
       "      <td>522798</td>\n",
       "      <td>5810:0.153047375721</td>\n",
       "      <td>5811:0.112712816944</td>\n",
       "      <td>5812:0.157610581964</td>\n",
       "      <td>5813:0.14062033047</td>\n",
       "      <td>5814:0.146220865071</td>\n",
       "      <td>5815:0.140491969718</td>\n",
       "      <td>5816:0.137450670327</td>\n",
       "      <td>5817:0.164892765506</td>\n",
       "    </tr>\n",
       "  </tbody>\n",
       "</table>\n",
       "</div>"
      ],
      "text/plain": [
       "   user_id            sum_fit_fm                 Mo_fm                Tu_fm  \\\n",
       "0     1654  5810:0.0705373704383  5811:0.0753384086812  5812:0.199230954126   \n",
       "1   510087    5810:0.17234322999   5811:0.185596623979  5812:0.156664260296   \n",
       "2   517612   5810:0.130751510831   5811:0.161022898711  5812:0.102453031158   \n",
       "3   520446    5810:0.15403045725   5811:0.173524195303  5812:0.142649394788   \n",
       "4   522798   5810:0.153047375721   5811:0.112712816944  5812:0.157610581964   \n",
       "\n",
       "                 We_fm                Th_fm                 Fr_fm  \\\n",
       "0  5813:0.132122043567  5814:0.172538409167     5815:0.1258174822   \n",
       "1  5813:0.148788000206   5814:0.11652251482   5815:0.145330566896   \n",
       "2  5813:0.146277212016  5814:0.149119107997  5815:0.0720432121391   \n",
       "3  5813:0.133381662275  5814:0.149068559395   5815:0.142446767806   \n",
       "4   5813:0.14062033047  5814:0.146220865071   5815:0.140491969718   \n",
       "\n",
       "                 Sa_fm                Su_fm  \n",
       "0  5816:0.160363184193  5817:0.134589518065  \n",
       "1  5816:0.139355403929  5817:0.107742629874  \n",
       "2  5816:0.190809185835  5817:0.178275352144  \n",
       "3  5816:0.143510223686  5817:0.115419196746  \n",
       "4  5816:0.137450670327  5817:0.164892765506  "
      ]
     },
     "execution_count": 39,
     "metadata": {},
     "output_type": "execute_result"
    }
   ],
   "source": [
    "col3 = []\n",
    "for col in new_weeks.columns:\n",
    "    col3.append(col+'_fm')\n",
    "col3.remove('user_id_fm')\n",
    "\n",
    "fm_weeks = pd.DataFrame()\n",
    "fm_weeks['user_id'] = new_weeks['user_id']\n",
    "for idx,col in enumerate(col3):\n",
    "    fm_weeks[col] = new_weeks[new_weeks.columns[idx]].apply(lambda x: str(idx+point4)+':'+str(x))\n",
    "    \n",
    "fm_weeks.head()"
   ]
  },
  {
   "cell_type": "markdown",
   "metadata": {
    "collapsed": false,
    "deletable": true,
    "editable": true
   },
   "source": [
    "Добавим эти знания о поведении пользователя в сводный датасет"
   ]
  },
  {
   "cell_type": "code",
   "execution_count": 40,
   "metadata": {
    "collapsed": true,
    "deletable": true,
    "editable": true
   },
   "outputs": [],
   "source": [
    "fm_full_2 = pd.merge(fm_full, fm_weeks, how = 'left', on = 'user_id')\n",
    "\n",
    "fm_train = fm_full_2.iloc[0:train.shape[0],2:]\n",
    "fm_test = fm_full_2.iloc[train.shape[0]:,2:]\n",
    "\n",
    "fm_test['purchase'].fillna(0, inplace=True)\n",
    "fm_test['purchase'] = fm_test['purchase'].astype(int)\n",
    "fm_train['purchase'] = fm_train['purchase'].astype(int)"
   ]
  },
  {
   "cell_type": "code",
   "execution_count": 41,
   "metadata": {
    "collapsed": false,
    "deletable": true,
    "editable": true
   },
   "outputs": [],
   "source": [
    "fm_train.to_csv('train_2.libfm', header = None, index = False, sep = ' ')\n",
    "fm_test.to_csv('test_2.libfm', header = None, index = False, sep = ' ')"
   ]
  },
  {
   "cell_type": "code",
   "execution_count": 42,
   "metadata": {
    "collapsed": true,
    "deletable": true,
    "editable": true
   },
   "outputs": [],
   "source": [
    "!sed -i 's/\"//g' train_2.libfm \n",
    "!sed -i 's/\"//g' test_2.libfm "
   ]
  },
  {
   "cell_type": "code",
   "execution_count": 43,
   "metadata": {
    "collapsed": true
   },
   "outputs": [],
   "source": [
    "prob = pd.read_csv('prob_2.txt', header = None)\n",
    "out_test = fm_full_2.iloc[train.shape[0]:,0:2]\n",
    "out_test.reset_index(drop=True, inplace=True)\n",
    "out_test['purchase'] = prob\n",
    "out_test.to_csv('../lab10.csv', index=False)"
   ]
  },
  {
   "cell_type": "markdown",
   "metadata": {
    "collapsed": true,
    "deletable": true,
    "editable": true
   },
   "source": [
    "На выходе, получаем улучшение модели: **ROC AUC: 0.935881754064**"
   ]
  },
  {
   "cell_type": "code",
   "execution_count": null,
   "metadata": {
    "collapsed": true,
    "deletable": true,
    "editable": true
   },
   "outputs": [],
   "source": []
  },
  {
   "cell_type": "code",
   "execution_count": null,
   "metadata": {
    "collapsed": true,
    "deletable": true,
    "editable": true
   },
   "outputs": [],
   "source": []
  }
 ],
 "metadata": {
  "kernelspec": {
   "display_name": "Python 2",
   "language": "python",
   "name": "python2"
  },
  "language_info": {
   "codemirror_mode": {
    "name": "ipython",
    "version": 2
   },
   "file_extension": ".py",
   "mimetype": "text/x-python",
   "name": "python",
   "nbconvert_exporter": "python",
   "pygments_lexer": "ipython2",
   "version": "2.7.6"
  }
 },
 "nbformat": 4,
 "nbformat_minor": 2
}
