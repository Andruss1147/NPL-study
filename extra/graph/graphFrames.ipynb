{
 "cells": [
  {
   "cell_type": "code",
   "execution_count": 1,
   "metadata": {
    "collapsed": false
   },
   "outputs": [
    {
     "name": "stdout",
     "output_type": "stream",
     "text": [
      "Welcome to\n",
      "      ____              __\n",
      "     / __/__  ___ _____/ /__\n",
      "    _\\ \\/ _ \\/ _ `/ __/  '_/\n",
      "   /__ / .__/\\_,_/_/ /_/\\_\\   version 2.1.1\n",
      "      /_/\n",
      "\n",
      "Using Python version 2.7.13 (default, Dec 20 2016 23:05:08)\n",
      "SparkSession available as 'spark'.\n"
     ]
    }
   ],
   "source": [
    "import os\n",
    "execfile(os.path.join(os.environ[\"SPARK_HOME\"], 'python/pyspark/shell.py'))"
   ]
  },
  {
   "cell_type": "code",
   "execution_count": 2,
   "metadata": {
    "collapsed": true
   },
   "outputs": [],
   "source": [
    "from graphframes import * \n",
    "\n",
    "vertices = spark.createDataFrame([\n",
    "  (\"1\", \"Alex\", 28, \"M\", \"MIPT\"),\n",
    "  (\"2\", \"Emeli\", 28, \"F\", \"MIPT\"),\n",
    "  (\"3\", \"Natasha\", 27, \"F\", \"SPbSU\"),\n",
    "  (\"4\", \"Pavel\", 30, \"M\", \"MIPT\"),\n",
    "  (\"5\", \"Oleg\", 35, \"M\", \"MIPT\"),\n",
    "  (\"6\", \"Ivan\", 30, \"M\", \"MSU\"),\n",
    "  (\"7\", \"Ilya\", 29, \"M\", \"MSU\")], [\"id\", \"name\", \"age\", \"gender\", \"university\"])\n",
    "\n",
    "edges = sqlCtx.createDataFrame([\n",
    "  (\"1\", \"2\", \"friend\"),\n",
    "  (\"2\", \"1\", \"friend\"),\n",
    "  (\"1\", \"3\", \"friend\"),\n",
    "  (\"3\", \"1\", \"friend\"),\n",
    "  (\"1\", \"4\", \"friend\"),\n",
    "  (\"4\", \"1\", \"friend\"),\n",
    "  (\"2\", \"3\", \"friend\"), \n",
    "  (\"3\", \"2\", \"friend\"),\n",
    "  (\"2\", \"5\", \"friend\"),\n",
    "  (\"5\", \"2\", \"friend\"),\n",
    "  (\"3\", \"4\", \"friend\"),\n",
    "  (\"4\", \"3\", \"friend\"),\n",
    "  (\"3\", \"5\", \"friend\"),\n",
    "  (\"5\", \"3\", \"friend\"),\n",
    "  (\"3\", \"6\", \"friend\"),\n",
    "  (\"6\", \"3\", \"friend\"),\n",
    "  (\"3\", \"7\", \"friend\"),\n",
    "  (\"7\", \"3\", \"friend\")\n",
    "], [\"src\", \"dst\", \"relationship\"])\n",
    "\n",
    "gf = GraphFrame(vertices, edges)\n"
   ]
  },
  {
   "cell_type": "code",
   "execution_count": 4,
   "metadata": {
    "collapsed": false
   },
   "outputs": [
    {
     "name": "stdout",
     "output_type": "stream",
     "text": [
      "+---+----+---+------+----------+\n",
      "| id|name|age|gender|university|\n",
      "+---+----+---+------+----------+\n",
      "|  5|Oleg| 35|     M|      MIPT|\n",
      "+---+----+---+------+----------+\n",
      "\n"
     ]
    }
   ],
   "source": [
    "gf.vertices.filter(\"age > 30\").show()"
   ]
  },
  {
   "cell_type": "code",
   "execution_count": 4,
   "metadata": {
    "collapsed": false
   },
   "outputs": [
    {
     "name": "stdout",
     "output_type": "stream",
     "text": [
      "+---+--------+\n",
      "| id|inDegree|\n",
      "+---+--------+\n",
      "|  3|       6|\n",
      "|  1|       3|\n",
      "|  2|       3|\n",
      "+---+--------+\n",
      "\n"
     ]
    }
   ],
   "source": [
    "gf.inDegrees.filter(\"inDegree > 2\").show()"
   ]
  },
  {
   "cell_type": "code",
   "execution_count": 5,
   "metadata": {
    "collapsed": false
   },
   "outputs": [
    {
     "name": "stdout",
     "output_type": "stream",
     "text": [
      "+---+--------+\n",
      "| id|inDegree|\n",
      "+---+--------+\n",
      "|  7|       1|\n",
      "|  3|       6|\n",
      "|  5|       2|\n",
      "|  6|       1|\n",
      "|  1|       3|\n",
      "|  4|       2|\n",
      "|  2|       3|\n",
      "+---+--------+\n",
      "\n"
     ]
    }
   ],
   "source": [
    "gf.inDegrees.show()"
   ]
  },
  {
   "cell_type": "code",
   "execution_count": 6,
   "metadata": {
    "collapsed": false
   },
   "outputs": [
    {
     "name": "stdout",
     "output_type": "stream",
     "text": [
      "+--------------------+------------+--------------------+------------+\n",
      "|                   a|           e|                   b|          e2|\n",
      "+--------------------+------------+--------------------+------------+\n",
      "|  [1,Alex,28,M,MIPT]|[1,4,friend]| [4,Pavel,30,M,MIPT]|[4,1,friend]|\n",
      "| [4,Pavel,30,M,MIPT]|[4,1,friend]|  [1,Alex,28,M,MIPT]|[1,4,friend]|\n",
      "|[3,Natasha,27,F,S...|[3,2,friend]| [2,Emeli,28,F,MIPT]|[2,3,friend]|\n",
      "| [2,Emeli,28,F,MIPT]|[2,1,friend]|  [1,Alex,28,M,MIPT]|[1,2,friend]|\n",
      "| [2,Emeli,28,F,MIPT]|[2,5,friend]|  [5,Oleg,35,M,MIPT]|[5,2,friend]|\n",
      "|[3,Natasha,27,F,S...|[3,5,friend]|  [5,Oleg,35,M,MIPT]|[5,3,friend]|\n",
      "|  [1,Alex,28,M,MIPT]|[1,3,friend]|[3,Natasha,27,F,S...|[3,1,friend]|\n",
      "|[3,Natasha,27,F,S...|[3,1,friend]|  [1,Alex,28,M,MIPT]|[1,3,friend]|\n",
      "|  [5,Oleg,35,M,MIPT]|[5,3,friend]|[3,Natasha,27,F,S...|[3,5,friend]|\n",
      "| [2,Emeli,28,F,MIPT]|[2,3,friend]|[3,Natasha,27,F,S...|[3,2,friend]|\n",
      "|[3,Natasha,27,F,S...|[3,7,friend]|   [7,Ilya,29,M,MSU]|[7,3,friend]|\n",
      "| [4,Pavel,30,M,MIPT]|[4,3,friend]|[3,Natasha,27,F,S...|[3,4,friend]|\n",
      "|   [6,Ivan,30,M,MSU]|[6,3,friend]|[3,Natasha,27,F,S...|[3,6,friend]|\n",
      "|  [1,Alex,28,M,MIPT]|[1,2,friend]| [2,Emeli,28,F,MIPT]|[2,1,friend]|\n",
      "|[3,Natasha,27,F,S...|[3,4,friend]| [4,Pavel,30,M,MIPT]|[4,3,friend]|\n",
      "|[3,Natasha,27,F,S...|[3,6,friend]|   [6,Ivan,30,M,MSU]|[6,3,friend]|\n",
      "|  [5,Oleg,35,M,MIPT]|[5,2,friend]| [2,Emeli,28,F,MIPT]|[2,5,friend]|\n",
      "|   [7,Ilya,29,M,MSU]|[7,3,friend]|[3,Natasha,27,F,S...|[3,7,friend]|\n",
      "+--------------------+------------+--------------------+------------+\n",
      "\n"
     ]
    }
   ],
   "source": [
    "gf.find(\"(a)-[e]->(b); (b)-[e2]->(a)\").show()"
   ]
  },
  {
   "cell_type": "code",
   "execution_count": 7,
   "metadata": {
    "collapsed": false
   },
   "outputs": [
    {
     "name": "stdout",
     "output_type": "stream",
     "text": [
      "+--------------------+--------------------+--------------------+\n",
      "|                   a|                   b|                   c|\n",
      "+--------------------+--------------------+--------------------+\n",
      "|   [7,Ilya,29,M,MSU]|[3,Natasha,27,F,S...|   [7,Ilya,29,M,MSU]|\n",
      "|  [5,Oleg,35,M,MIPT]|[3,Natasha,27,F,S...|   [7,Ilya,29,M,MSU]|\n",
      "|   [6,Ivan,30,M,MSU]|[3,Natasha,27,F,S...|   [7,Ilya,29,M,MSU]|\n",
      "|  [1,Alex,28,M,MIPT]|[3,Natasha,27,F,S...|   [7,Ilya,29,M,MSU]|\n",
      "| [4,Pavel,30,M,MIPT]|[3,Natasha,27,F,S...|   [7,Ilya,29,M,MSU]|\n",
      "| [2,Emeli,28,F,MIPT]|[3,Natasha,27,F,S...|   [7,Ilya,29,M,MSU]|\n",
      "|[3,Natasha,27,F,S...|   [7,Ilya,29,M,MSU]|[3,Natasha,27,F,S...|\n",
      "|[3,Natasha,27,F,S...|  [5,Oleg,35,M,MIPT]|[3,Natasha,27,F,S...|\n",
      "| [2,Emeli,28,F,MIPT]|  [5,Oleg,35,M,MIPT]|[3,Natasha,27,F,S...|\n",
      "|[3,Natasha,27,F,S...|   [6,Ivan,30,M,MSU]|[3,Natasha,27,F,S...|\n",
      "|[3,Natasha,27,F,S...|  [1,Alex,28,M,MIPT]|[3,Natasha,27,F,S...|\n",
      "| [4,Pavel,30,M,MIPT]|  [1,Alex,28,M,MIPT]|[3,Natasha,27,F,S...|\n",
      "| [2,Emeli,28,F,MIPT]|  [1,Alex,28,M,MIPT]|[3,Natasha,27,F,S...|\n",
      "|[3,Natasha,27,F,S...| [4,Pavel,30,M,MIPT]|[3,Natasha,27,F,S...|\n",
      "|  [1,Alex,28,M,MIPT]| [4,Pavel,30,M,MIPT]|[3,Natasha,27,F,S...|\n",
      "|[3,Natasha,27,F,S...| [2,Emeli,28,F,MIPT]|[3,Natasha,27,F,S...|\n",
      "|  [5,Oleg,35,M,MIPT]| [2,Emeli,28,F,MIPT]|[3,Natasha,27,F,S...|\n",
      "|  [1,Alex,28,M,MIPT]| [2,Emeli,28,F,MIPT]|[3,Natasha,27,F,S...|\n",
      "|   [7,Ilya,29,M,MSU]|[3,Natasha,27,F,S...|  [5,Oleg,35,M,MIPT]|\n",
      "|  [5,Oleg,35,M,MIPT]|[3,Natasha,27,F,S...|  [5,Oleg,35,M,MIPT]|\n",
      "+--------------------+--------------------+--------------------+\n",
      "only showing top 20 rows\n",
      "\n"
     ]
    }
   ],
   "source": [
    "motifs = gf.find(\"(a)-[]->(b); (b)-[]->(c)\")\n",
    "motifs.show()"
   ]
  },
  {
   "cell_type": "code",
   "execution_count": 7,
   "metadata": {
    "collapsed": false
   },
   "outputs": [
    {
     "name": "stdout",
     "output_type": "stream",
     "text": [
      "+--------------------+--------------------+--------------------+\n",
      "|                   A|                   B|                   C|\n",
      "+--------------------+--------------------+--------------------+\n",
      "|  [5,Oleg,35,M,MIPT]|[3,Natasha,27,F,S...|   [7,Ilya,29,M,MSU]|\n",
      "|   [6,Ivan,30,M,MSU]|[3,Natasha,27,F,S...|   [7,Ilya,29,M,MSU]|\n",
      "|  [1,Alex,28,M,MIPT]|[3,Natasha,27,F,S...|   [7,Ilya,29,M,MSU]|\n",
      "| [4,Pavel,30,M,MIPT]|[3,Natasha,27,F,S...|   [7,Ilya,29,M,MSU]|\n",
      "| [2,Emeli,28,F,MIPT]|[3,Natasha,27,F,S...|   [7,Ilya,29,M,MSU]|\n",
      "| [2,Emeli,28,F,MIPT]|  [5,Oleg,35,M,MIPT]|[3,Natasha,27,F,S...|\n",
      "| [4,Pavel,30,M,MIPT]|  [1,Alex,28,M,MIPT]|[3,Natasha,27,F,S...|\n",
      "| [2,Emeli,28,F,MIPT]|  [1,Alex,28,M,MIPT]|[3,Natasha,27,F,S...|\n",
      "|  [1,Alex,28,M,MIPT]| [4,Pavel,30,M,MIPT]|[3,Natasha,27,F,S...|\n",
      "|  [5,Oleg,35,M,MIPT]| [2,Emeli,28,F,MIPT]|[3,Natasha,27,F,S...|\n",
      "|  [1,Alex,28,M,MIPT]| [2,Emeli,28,F,MIPT]|[3,Natasha,27,F,S...|\n",
      "|   [7,Ilya,29,M,MSU]|[3,Natasha,27,F,S...|  [5,Oleg,35,M,MIPT]|\n",
      "|   [6,Ivan,30,M,MSU]|[3,Natasha,27,F,S...|  [5,Oleg,35,M,MIPT]|\n",
      "|  [1,Alex,28,M,MIPT]|[3,Natasha,27,F,S...|  [5,Oleg,35,M,MIPT]|\n",
      "| [4,Pavel,30,M,MIPT]|[3,Natasha,27,F,S...|  [5,Oleg,35,M,MIPT]|\n",
      "| [2,Emeli,28,F,MIPT]|[3,Natasha,27,F,S...|  [5,Oleg,35,M,MIPT]|\n",
      "|[3,Natasha,27,F,S...| [2,Emeli,28,F,MIPT]|  [5,Oleg,35,M,MIPT]|\n",
      "|  [1,Alex,28,M,MIPT]| [2,Emeli,28,F,MIPT]|  [5,Oleg,35,M,MIPT]|\n",
      "|   [7,Ilya,29,M,MSU]|[3,Natasha,27,F,S...|   [6,Ivan,30,M,MSU]|\n",
      "|  [5,Oleg,35,M,MIPT]|[3,Natasha,27,F,S...|   [6,Ivan,30,M,MSU]|\n",
      "+--------------------+--------------------+--------------------+\n",
      "only showing top 20 rows\n",
      "\n"
     ]
    }
   ],
   "source": [
    "motifs = gf.find(\"(A)-[]->(B); (B)-[]->(C)\").filter(\"A.id != C.id\")\n",
    "motifs.show()"
   ]
  },
  {
   "cell_type": "code",
   "execution_count": 16,
   "metadata": {
    "collapsed": false
   },
   "outputs": [
    {
     "name": "stdout",
     "output_type": "stream",
     "text": [
      "+---+---+\n",
      "|  A|  C|\n",
      "+---+---+\n",
      "|  3|  1|\n",
      "|  5|  1|\n",
      "|  2|  1|\n",
      "|  4|  1|\n",
      "|  5|  1|\n",
      "|  6|  1|\n",
      "|  7|  1|\n",
      "|  3|  1|\n",
      "|  3|  2|\n",
      "|  4|  2|\n",
      "|  1|  2|\n",
      "|  4|  2|\n",
      "|  5|  2|\n",
      "|  6|  2|\n",
      "|  7|  2|\n",
      "|  3|  2|\n",
      "|  2|  3|\n",
      "|  4|  3|\n",
      "|  1|  3|\n",
      "|  5|  3|\n",
      "+---+---+\n",
      "only showing top 20 rows\n",
      "\n"
     ]
    }
   ],
   "source": [
    "AC = motifs.selectExpr(\"A.id as A\", \"C.id as C\")\n",
    "AC.show()"
   ]
  },
  {
   "cell_type": "code",
   "execution_count": 17,
   "metadata": {
    "collapsed": false
   },
   "outputs": [
    {
     "name": "stdout",
     "output_type": "stream",
     "text": [
      "+---+---+-----+\n",
      "|  A|  C|count|\n",
      "+---+---+-----+\n",
      "|  1|  2|    1|\n",
      "|  1|  3|    2|\n",
      "|  1|  4|    1|\n",
      "|  1|  5|    2|\n",
      "|  1|  6|    1|\n",
      "|  1|  7|    1|\n",
      "+---+---+-----+\n",
      "\n"
     ]
    }
   ],
   "source": [
    "AC.groupBy(\"A\", \"C\").count().filter(\"A = 1\").show()"
   ]
  },
  {
   "cell_type": "code",
   "execution_count": null,
   "metadata": {
    "collapsed": false
   },
   "outputs": [
    {
     "name": "stdout",
     "output_type": "stream",
     "text": [
      "+---+---+-----+\n",
      "|  A|  C|count|\n",
      "+---+---+-----+\n",
      "|  4|  1|    1|\n",
      "|  4|  2|    2|\n",
      "|  4|  3|    1|\n",
      "|  4|  5|    1|\n",
      "|  4|  6|    1|\n",
      "|  4|  7|    1|\n",
      "|  5|  1|    2|\n",
      "|  5|  2|    1|\n",
      "|  5|  3|    1|\n",
      "|  5|  4|    1|\n",
      "|  5|  6|    1|\n",
      "|  5|  7|    1|\n",
      "|  6|  1|    1|\n",
      "|  6|  2|    1|\n",
      "|  6|  4|    1|\n",
      "|  6|  5|    1|\n",
      "|  6|  7|    1|\n",
      "|  1|  2|    1|\n",
      "|  1|  3|    2|\n",
      "|  1|  4|    1|\n",
      "+---+---+-----+\n",
      "only showing top 20 rows\n",
      "\n"
     ]
    }
   ],
   "source": [
    "AC.groupBy(\"A\", \"C\").count().show()"
   ]
  },
  {
   "cell_type": "code",
   "execution_count": 8,
   "metadata": {
    "collapsed": false
   },
   "outputs": [
    {
     "name": "stdout",
     "output_type": "stream",
     "text": [
      "+-----+---+-------+---+------+----------+\n",
      "|count| id|   name|age|gender|university|\n",
      "+-----+---+-------+---+------+----------+\n",
      "|    0|  7|   Ilya| 29|     M|       MSU|\n",
      "|    3|  3|Natasha| 27|     F|     SPbSU|\n",
      "|    1|  5|   Oleg| 35|     M|      MIPT|\n",
      "|    0|  6|   Ivan| 30|     M|       MSU|\n",
      "|    2|  1|   Alex| 28|     M|      MIPT|\n",
      "|    1|  4|  Pavel| 30|     M|      MIPT|\n",
      "|    2|  2|  Emeli| 28|     F|      MIPT|\n",
      "+-----+---+-------+---+------+----------+\n",
      "\n"
     ]
    }
   ],
   "source": [
    "results = gf.triangleCount()\n",
    "results.show()"
   ]
  },
  {
   "cell_type": "markdown",
   "metadata": {},
   "source": [
    "### Page Rank"
   ]
  },
  {
   "cell_type": "code",
   "execution_count": 14,
   "metadata": {
    "collapsed": false
   },
   "outputs": [
    {
     "name": "stdout",
     "output_type": "stream",
     "text": [
      "+---+-------+---+------+----------+------------------+\n",
      "| id|   name|age|gender|university|          pagerank|\n",
      "+---+-------+---+------+----------+------------------+\n",
      "|  1|   Alex| 28|     M|      MIPT| 0.925034321035054|\n",
      "|  3|Natasha| 27|     F|     SPbSU|1.8587232404145666|\n",
      "|  2|  Emeli| 28|     F|      MIPT| 0.925034321035054|\n",
      "|  4|  Pavel| 30|     M|      MIPT|0.6561021410596017|\n",
      "|  7|   Ilya| 29|     M|       MSU|0.4038005647844105|\n",
      "|  6|   Ivan| 30|     M|       MSU|0.4038005647844105|\n",
      "|  5|   Oleg| 35|     M|      MIPT|0.6561021410596017|\n",
      "+---+-------+---+------+----------+------------------+\n",
      "\n"
     ]
    }
   ],
   "source": [
    "results = gf.pageRank(resetProbability=0.15, maxIter=10)\n",
    "results.vertices.show()"
   ]
  },
  {
   "cell_type": "code",
   "execution_count": 16,
   "metadata": {
    "collapsed": false
   },
   "outputs": [
    {
     "name": "stdout",
     "output_type": "stream",
     "text": [
      "+---+-------+---+------+----------+-------------------+\n",
      "| id|   name|age|gender|university|           pagerank|\n",
      "+---+-------+---+------+----------+-------------------+\n",
      "|  1|   Alex| 28|     M|      MIPT|   1.01935961862719|\n",
      "|  3|Natasha| 27|     F|     SPbSU| 2.0084281384336697|\n",
      "|  2|  Emeli| 28|     F|      MIPT|   1.01935961862719|\n",
      "|  4|  Pavel| 30|     M|      MIPT| 0.7202143452359088|\n",
      "|  7|   Ilya| 29|     M|       MSU|0.43337602947710424|\n",
      "|  6|   Ivan| 30|     M|       MSU|0.43337602947710424|\n",
      "|  5|   Oleg| 35|     M|      MIPT| 0.7202143452359088|\n",
      "+---+-------+---+------+----------+-------------------+\n",
      "\n"
     ]
    }
   ],
   "source": [
    "results = gf.pageRank(resetProbability=0.15, tol=0.01)\n",
    "results.vertices.show()"
   ]
  },
  {
   "cell_type": "markdown",
   "metadata": {},
   "source": [
    "### Connected components"
   ]
  },
  {
   "cell_type": "code",
   "execution_count": 15,
   "metadata": {
    "collapsed": false
   },
   "outputs": [],
   "source": [
    "vertices = spark.createDataFrame([\n",
    "  (\"1\", \"Alex\", 28, \"M\", \"MIPT\"),\n",
    "  (\"2\", \"Emeli\", 28, \"F\", \"MIPT\"),\n",
    "  (\"3\", \"Natasha\", 27, \"F\", \"SPbSU\"),\n",
    "  (\"4\", \"Pavel\", 30, \"M\", \"MIPT\"),\n",
    "  (\"5\", \"Oleg\", 35, \"M\", \"MIPT\"),\n",
    "  (\"6\", \"Ivan\", 30, \"M\", \"MSU\"),\n",
    "  (\"7\", \"Ilya\", 29, \"M\", \"MSU\")], [\"id\", \"name\", \"age\", \"gender\", \"university\"])\n",
    "\n",
    "edges = spark.createDataFrame([\n",
    "  (\"1\", \"2\", \"friend\"),\n",
    "  (\"1\", \"4\", \"friend\"),\n",
    "  (\"3\", \"5\", \"friend\"),\n",
    "  (\"3\", \"6\", \"friend\"),\n",
    "  (\"3\", \"7\", \"friend\")\n",
    "], [\"src\", \"dst\", \"type\"])\n",
    "\n",
    "reduced_g = GraphFrame(vertices, edges)"
   ]
  },
  {
   "cell_type": "code",
   "execution_count": 13,
   "metadata": {
    "collapsed": false
   },
   "outputs": [
    {
     "name": "stdout",
     "output_type": "stream",
     "text": [
      "+---+-------------+\n",
      "| id|    component|\n",
      "+---+-------------+\n",
      "|  3|  25769803776|\n",
      "|  7|  25769803776|\n",
      "|  5|  25769803776|\n",
      "|  6|  25769803776|\n",
      "|  2|1236950581248|\n",
      "|  4|1236950581248|\n",
      "|  1|1236950581248|\n",
      "+---+-------------+\n",
      "\n"
     ]
    }
   ],
   "source": [
    "spark.sparkContext.setCheckpointDir(\"/tmp\")\n",
    "result = reduced_g.connectedComponents()\n",
    "result.select(\"id\", \"component\").orderBy(\"component\").show()"
   ]
  },
  {
   "cell_type": "markdown",
   "metadata": {
    "collapsed": true
   },
   "source": [
    "###  People you may know"
   ]
  },
  {
   "cell_type": "code",
   "execution_count": 23,
   "metadata": {
    "collapsed": true
   },
   "outputs": [],
   "source": [
    "from pyspark.sql.functions import abs, col, explode, split\n",
    "from pyspark.sql.types import *"
   ]
  },
  {
   "cell_type": "code",
   "execution_count": 17,
   "metadata": {
    "collapsed": true
   },
   "outputs": [],
   "source": [
    "dataPath = \"/Users/pritykovskaya/Desktop/NewProLab/\"\n",
    "graphPath = dataPath + \"trainGraph/\"\n",
    "usersToPredictPath = dataPath + \"prediction.csv\""
   ]
  },
  {
   "cell_type": "code",
   "execution_count": 21,
   "metadata": {
    "collapsed": true
   },
   "outputs": [],
   "source": [
    "data = spark.read.format(\"csv\").option(\"delimiter\", \"\\t\")\\\n",
    "    .load(graphPath).withColumnRenamed(\"_c0\", \"user\").withColumnRenamed(\"_c1\", \"friendsString\")\n",
    "    "
   ]
  },
  {
   "cell_type": "code",
   "execution_count": 24,
   "metadata": {
    "collapsed": false
   },
   "outputs": [],
   "source": [
    "from pyspark.sql.functions import udf\n",
    "\n",
    "def cutStartEndBrackets(s):\n",
    "    return s[2:-2]\n",
    "\n",
    "cutStartEndBracketsUDF = udf(cutStartEndBrackets, StringType())\n",
    "\n",
    "userFriend = \\\n",
    "    data.select(col(\"user\"), split(cutStartEndBracketsUDF(col(\"friendsString\")), \"\\),\\(\").alias(\"friendsMasks\"))\\\n",
    "    .withColumn(\"friendMask\", explode('friendsMasks'))\\\n",
    "    .withColumn(\"dst\", split(col(\"friendMask\"), \",\")[0])\\\n",
    "    .withColumn(\"src\", col(\"user\"))\\\n",
    "    .select(col(\"src\").cast(\"integer\"), col(\"dst\").cast(\"integer\"))\n",
    "\n",
    "userFriendSymmetric = \\\n",
    "    userFriend\\\n",
    "        .withColumn(\"tmp\", col(\"src\"))\\\n",
    "        .withColumn(\"src\", col(\"dst\"))\\\n",
    "        .withColumn(\"dst\", col(\"tmp\"))\\\n",
    "        .select(\"src\", \"dst\")\n",
    "        \n",
    "edges = userFriend.unionAll(userFriendSymmetric)\n",
    "\n",
    "vertices = edges.select(col(\"src\").alias(\"id\")).distinct()"
   ]
  },
  {
   "cell_type": "code",
   "execution_count": 25,
   "metadata": {
    "collapsed": true
   },
   "outputs": [],
   "source": [
    "usersFriends = GraphFrame(vertices, edges)"
   ]
  },
  {
   "cell_type": "code",
   "execution_count": null,
   "metadata": {
    "collapsed": true
   },
   "outputs": [],
   "source": []
  }
 ],
 "metadata": {
  "kernelspec": {
   "display_name": "Python 2",
   "language": "python",
   "name": "python2"
  },
  "language_info": {
   "codemirror_mode": {
    "name": "ipython",
    "version": 2
   },
   "file_extension": ".py",
   "mimetype": "text/x-python",
   "name": "python",
   "nbconvert_exporter": "python",
   "pygments_lexer": "ipython2",
   "version": "2.7.13"
  }
 },
 "nbformat": 4,
 "nbformat_minor": 2
}
