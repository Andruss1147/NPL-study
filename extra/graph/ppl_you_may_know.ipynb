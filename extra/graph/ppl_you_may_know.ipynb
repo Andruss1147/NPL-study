{
 "cells": [
  {
   "cell_type": "markdown",
   "metadata": {
    "slideshow": {
     "slide_type": "slide"
    }
   },
   "source": [
    "# Принципы обработки больших данных на примере https://mlbootcamp.ru/round/13/sandbox/\n",
    "Притыковская Наташа, Mail.ru"
   ]
  },
  {
   "cell_type": "markdown",
   "metadata": {
    "slideshow": {
     "slide_type": "slide"
    }
   },
   "source": [
    "\n",
    "\n",
    "\n",
    "__Большие данные – это то, что вы не можете втянуть в память на одной машине__"
   ]
  },
  {
   "cell_type": "markdown",
   "metadata": {
    "slideshow": {
     "slide_type": "slide"
    }
   },
   "source": [
    "## Проверяем размеры"
   ]
  },
  {
   "cell_type": "code",
   "execution_count": 1,
   "metadata": {
    "collapsed": false,
    "slideshow": {
     "slide_type": "fragment"
    }
   },
   "outputs": [
    {
     "name": "stdout",
     "output_type": "stream",
     "text": [
      " 36K\t./.ipynb_checkpoints\r\n",
      "152M\t./trainGraph\r\n",
      "157M\t.\r\n"
     ]
    }
   ],
   "source": [
    "!du -h"
   ]
  },
  {
   "cell_type": "markdown",
   "metadata": {
    "slideshow": {
     "slide_type": "fragment"
    }
   },
   "source": [
    "__152 мегабайта - piece of cake!__"
   ]
  },
  {
   "cell_type": "markdown",
   "metadata": {
    "slideshow": {
     "slide_type": "fragment"
    }
   },
   "source": [
    "### Применительно к нашей задаче\n",
    "\n",
    "* Первый прогноз можно построить по счетчику общих друзей\n",
    "* Выданный граф не симетричный (по сути двудольный), чтобы удобно считать общих друзей нужно его развернуть\n",
    "* Имея в памяти основной и развернутый графы задача решается просто"
   ]
  },
  {
   "cell_type": "markdown",
   "metadata": {
    "slideshow": {
     "slide_type": "slide"
    }
   },
   "source": [
    "## Попытка №1\n",
    "\n",
    "Рекомендуем в качестве друзей тех, у кого много общих друзей с нами. Для этого втягиваем в память словарь вида [я->мои друзья], и его же в \"развернутом виде\" [я->те у кого я в друзьях]\n",
    "\n",
    "### Готовим окружение"
   ]
  },
  {
   "cell_type": "code",
   "execution_count": 2,
   "metadata": {
    "collapsed": true,
    "slideshow": {
     "slide_type": "fragment"
    }
   },
   "outputs": [],
   "source": [
    "import csv, gzip, os, psutil, random, numpy, math\n",
    "\n",
    "from collections import defaultdict\n",
    "\n",
    "# Пути к данным\n",
    "dataPath = \"./\"\n",
    "graphPath = os.path.join(dataPath, \"trainGraph\")\n",
    "resultsPath = os.path.join(dataPath, \"results\")\n",
    "\n",
    "# Утилитка для замера памяти\n",
    "def memory_usage():\n",
    "    process = psutil.Process(os.getpid())\n",
    "    print \"Memory usage {0!s} mb.\".format(process.memory_info()[0] / 1024 / 1024)"
   ]
  },
  {
   "cell_type": "markdown",
   "metadata": {
    "slideshow": {
     "slide_type": "slide"
    }
   },
   "source": [
    "## Попытка №1 - читаем данные"
   ]
  },
  {
   "cell_type": "code",
   "execution_count": 3,
   "metadata": {
    "collapsed": false
   },
   "outputs": [
    {
     "name": "stdout",
     "output_type": "stream",
     "text": [
      "CPU times: user 2min 45s, sys: 7.17 s, total: 2min 52s\n",
      "Wall time: 2min 57s\n"
     ]
    }
   ],
   "source": [
    "%%time\n",
    "mineFriends = defaultdict(list)\n",
    "friendsOfMine = defaultdict(list)\n",
    "\n",
    "# Итерируемся по файлам в папке\n",
    "for file in [f for f in os.listdir(graphPath) if f.startswith(\"part\")]:\n",
    "    csvinput = gzip.open(os.path.join(graphPath, file))\n",
    "    csv_reader = csv.reader(csvinput, delimiter='\\t')\n",
    "    # А теперь по строкам в файле\n",
    "    for line in csv_reader:\n",
    "        user = int(line[0]) \n",
    "        # Разбираем идшки и маски друзей\n",
    "        for friendship in line[1].replace(\"{(\", \"\").replace(\")}\", \"\").split(\"),(\"):\n",
    "            parts=friendship.split(\",\")\n",
    "            friend = int(parts[0])\n",
    "            mineFriends[user] += [friend]\n",
    "            friendsOfMine[friend] += [user]"
   ]
  },
  {
   "cell_type": "markdown",
   "metadata": {
    "slideshow": {
     "slide_type": "slide"
    }
   },
   "source": [
    "## Попытка №1 - тревожные сигналы\n",
    "\n",
    "2 минуты на загрузку 152 мегабайт явно долговато, а что по памяти?"
   ]
  },
  {
   "cell_type": "code",
   "execution_count": 4,
   "metadata": {
    "collapsed": false
   },
   "outputs": [
    {
     "name": "stdout",
     "output_type": "stream",
     "text": [
      "Memory usage 2462 mb.\n"
     ]
    }
   ],
   "source": [
    "memory_usage()"
   ]
  },
  {
   "cell_type": "markdown",
   "metadata": {
    "slideshow": {
     "slide_type": "fragment"
    }
   },
   "source": [
    "Все бы ничего, но два словарика в памяти __уже__ заняли больше трех гигабайт и дальше ворочать их будет неудобно. Но поробуем..."
   ]
  },
  {
   "cell_type": "markdown",
   "metadata": {
    "slideshow": {
     "slide_type": "slide"
    }
   },
   "source": [
    "## Попытка №1 - пробуем расчет"
   ]
  },
  {
   "cell_type": "code",
   "execution_count": 5,
   "metadata": {
    "collapsed": false
   },
   "outputs": [
    {
     "name": "stderr",
     "output_type": "stream",
     "text": [
      "ERROR:root:Internal Python error in the inspect module.\n",
      "Below is the traceback from this internal error.\n",
      "\n"
     ]
    },
    {
     "name": "stdout",
     "output_type": "stream",
     "text": [
      "Traceback (most recent call last):\n",
      "  File \"/Users/pritykovskaya/anaconda/lib/python2.7/site-packages/IPython/core/ultratb.py\", line 1132, in get_records\n",
      "    return _fixed_getinnerframes(etb, number_of_lines_of_context, tb_offset)\n",
      "  File \"/Users/pritykovskaya/anaconda/lib/python2.7/site-packages/IPython/core/ultratb.py\", line 313, in wrapped\n",
      "    return f(*args, **kwargs)\n",
      "  File \"/Users/pritykovskaya/anaconda/lib/python2.7/site-packages/IPython/core/ultratb.py\", line 358, in _fixed_getinnerframes\n",
      "    records = fix_frame_records_filenames(inspect.getinnerframes(etb, context))\n",
      "  File \"/Users/pritykovskaya/anaconda/lib/python2.7/inspect.py\", line 1048, in getinnerframes\n",
      "    framelist.append((tb.tb_frame,) + getframeinfo(tb, context))\n",
      "  File \"/Users/pritykovskaya/anaconda/lib/python2.7/inspect.py\", line 1008, in getframeinfo\n",
      "    filename = getsourcefile(frame) or getfile(frame)\n",
      "  File \"/Users/pritykovskaya/anaconda/lib/python2.7/inspect.py\", line 453, in getsourcefile\n",
      "    if hasattr(getmodule(object, filename), '__loader__'):\n",
      "  File \"/Users/pritykovskaya/anaconda/lib/python2.7/inspect.py\", line 489, in getmodule\n",
      "    for modname, module in sys.modules.items():\n",
      "KeyboardInterrupt\n"
     ]
    },
    {
     "ename": "IndexError",
     "evalue": "string index out of range",
     "output_type": "error",
     "traceback": [
      "\u001b[0;31m---------------------------------------------------------------------------\u001b[0m",
      "\u001b[0;31mIndexError\u001b[0m                                Traceback (most recent call last)",
      "\u001b[0;32m/Users/pritykovskaya/anaconda/lib/python2.7/site-packages/IPython/core/interactiveshell.pyc\u001b[0m in \u001b[0;36mrun_code\u001b[0;34m(self, code_obj, result)\u001b[0m\n\u001b[1;32m   2896\u001b[0m             \u001b[0;32mif\u001b[0m \u001b[0mresult\u001b[0m \u001b[0;32mis\u001b[0m \u001b[0;32mnot\u001b[0m \u001b[0mNone\u001b[0m\u001b[0;34m:\u001b[0m\u001b[0;34m\u001b[0m\u001b[0m\n\u001b[1;32m   2897\u001b[0m                 \u001b[0mresult\u001b[0m\u001b[0;34m.\u001b[0m\u001b[0merror_in_exec\u001b[0m \u001b[0;34m=\u001b[0m \u001b[0msys\u001b[0m\u001b[0;34m.\u001b[0m\u001b[0mexc_info\u001b[0m\u001b[0;34m(\u001b[0m\u001b[0;34m)\u001b[0m\u001b[0;34m[\u001b[0m\u001b[0;36m1\u001b[0m\u001b[0;34m]\u001b[0m\u001b[0;34m\u001b[0m\u001b[0m\n\u001b[0;32m-> 2898\u001b[0;31m             \u001b[0mself\u001b[0m\u001b[0;34m.\u001b[0m\u001b[0mshowtraceback\u001b[0m\u001b[0;34m(\u001b[0m\u001b[0;34m)\u001b[0m\u001b[0;34m\u001b[0m\u001b[0m\n\u001b[0m\u001b[1;32m   2899\u001b[0m         \u001b[0;32melse\u001b[0m\u001b[0;34m:\u001b[0m\u001b[0;34m\u001b[0m\u001b[0m\n\u001b[1;32m   2900\u001b[0m             \u001b[0moutflag\u001b[0m \u001b[0;34m=\u001b[0m \u001b[0;36m0\u001b[0m\u001b[0;34m\u001b[0m\u001b[0m\n",
      "\u001b[0;32m/Users/pritykovskaya/anaconda/lib/python2.7/site-packages/IPython/core/interactiveshell.pyc\u001b[0m in \u001b[0;36mshowtraceback\u001b[0;34m(self, exc_tuple, filename, tb_offset, exception_only)\u001b[0m\n\u001b[1;32m   1822\u001b[0m                     \u001b[0;32mexcept\u001b[0m \u001b[0mException\u001b[0m\u001b[0;34m:\u001b[0m\u001b[0;34m\u001b[0m\u001b[0m\n\u001b[1;32m   1823\u001b[0m                         stb = self.InteractiveTB.structured_traceback(etype,\n\u001b[0;32m-> 1824\u001b[0;31m                                             value, tb, tb_offset=tb_offset)\n\u001b[0m\u001b[1;32m   1825\u001b[0m \u001b[0;34m\u001b[0m\u001b[0m\n\u001b[1;32m   1826\u001b[0m                     \u001b[0mself\u001b[0m\u001b[0;34m.\u001b[0m\u001b[0m_showtraceback\u001b[0m\u001b[0;34m(\u001b[0m\u001b[0metype\u001b[0m\u001b[0;34m,\u001b[0m \u001b[0mvalue\u001b[0m\u001b[0;34m,\u001b[0m \u001b[0mstb\u001b[0m\u001b[0;34m)\u001b[0m\u001b[0;34m\u001b[0m\u001b[0m\n",
      "\u001b[0;32m/Users/pritykovskaya/anaconda/lib/python2.7/site-packages/IPython/core/ultratb.pyc\u001b[0m in \u001b[0;36mstructured_traceback\u001b[0;34m(self, etype, value, tb, tb_offset, number_of_lines_of_context)\u001b[0m\n\u001b[1;32m   1404\u001b[0m         \u001b[0mself\u001b[0m\u001b[0;34m.\u001b[0m\u001b[0mtb\u001b[0m \u001b[0;34m=\u001b[0m \u001b[0mtb\u001b[0m\u001b[0;34m\u001b[0m\u001b[0m\n\u001b[1;32m   1405\u001b[0m         return FormattedTB.structured_traceback(\n\u001b[0;32m-> 1406\u001b[0;31m             self, etype, value, tb, tb_offset, number_of_lines_of_context)\n\u001b[0m\u001b[1;32m   1407\u001b[0m \u001b[0;34m\u001b[0m\u001b[0m\n\u001b[1;32m   1408\u001b[0m \u001b[0;34m\u001b[0m\u001b[0m\n",
      "\u001b[0;32m/Users/pritykovskaya/anaconda/lib/python2.7/site-packages/IPython/core/ultratb.pyc\u001b[0m in \u001b[0;36mstructured_traceback\u001b[0;34m(self, etype, value, tb, tb_offset, number_of_lines_of_context)\u001b[0m\n\u001b[1;32m   1312\u001b[0m             \u001b[0;31m# Verbose modes need a full traceback\u001b[0m\u001b[0;34m\u001b[0m\u001b[0;34m\u001b[0m\u001b[0m\n\u001b[1;32m   1313\u001b[0m             return VerboseTB.structured_traceback(\n\u001b[0;32m-> 1314\u001b[0;31m                 \u001b[0mself\u001b[0m\u001b[0;34m,\u001b[0m \u001b[0metype\u001b[0m\u001b[0;34m,\u001b[0m \u001b[0mvalue\u001b[0m\u001b[0;34m,\u001b[0m \u001b[0mtb\u001b[0m\u001b[0;34m,\u001b[0m \u001b[0mtb_offset\u001b[0m\u001b[0;34m,\u001b[0m \u001b[0mnumber_of_lines_of_context\u001b[0m\u001b[0;34m\u001b[0m\u001b[0m\n\u001b[0m\u001b[1;32m   1315\u001b[0m             )\n\u001b[1;32m   1316\u001b[0m         \u001b[0;32melse\u001b[0m\u001b[0;34m:\u001b[0m\u001b[0;34m\u001b[0m\u001b[0m\n",
      "\u001b[0;32m/Users/pritykovskaya/anaconda/lib/python2.7/site-packages/IPython/core/ultratb.pyc\u001b[0m in \u001b[0;36mstructured_traceback\u001b[0;34m(self, etype, evalue, etb, tb_offset, number_of_lines_of_context)\u001b[0m\n\u001b[1;32m   1196\u001b[0m                 \u001b[0mstructured_traceback_parts\u001b[0m \u001b[0;34m+=\u001b[0m \u001b[0mformatted_exception\u001b[0m\u001b[0;34m\u001b[0m\u001b[0m\n\u001b[1;32m   1197\u001b[0m         \u001b[0;32melse\u001b[0m\u001b[0;34m:\u001b[0m\u001b[0;34m\u001b[0m\u001b[0m\n\u001b[0;32m-> 1198\u001b[0;31m             \u001b[0mstructured_traceback_parts\u001b[0m \u001b[0;34m+=\u001b[0m \u001b[0mformatted_exception\u001b[0m\u001b[0;34m[\u001b[0m\u001b[0;36m0\u001b[0m\u001b[0;34m]\u001b[0m\u001b[0;34m\u001b[0m\u001b[0m\n\u001b[0m\u001b[1;32m   1199\u001b[0m \u001b[0;34m\u001b[0m\u001b[0m\n\u001b[1;32m   1200\u001b[0m         \u001b[0;32mreturn\u001b[0m \u001b[0mstructured_traceback_parts\u001b[0m\u001b[0;34m\u001b[0m\u001b[0m\n",
      "\u001b[0;31mIndexError\u001b[0m: string index out of range"
     ]
    }
   ],
   "source": [
    "%%time\n",
    "friendsOfFriends = defaultdict(lambda: defaultdict(int))\n",
    "\n",
    "for (user,friends) in mineFriends.iteritems():\n",
    "    for friend in friends:\n",
    "        for theirFriend in friendsOfMine[friend]:\n",
    "            friendsOfFriends[user][theirFriend] += 1"
   ]
  },
  {
   "cell_type": "markdown",
   "metadata": {
    "slideshow": {
     "slide_type": "slide"
    }
   },
   "source": [
    "## Попытка №1 - работа над ошибками"
   ]
  },
  {
   "cell_type": "code",
   "execution_count": 7,
   "metadata": {
    "collapsed": false
   },
   "outputs": [
    {
     "ename": "NameError",
     "evalue": "name 'friendsOfFriends' is not defined",
     "output_type": "error",
     "traceback": [
      "\u001b[0;31m---------------------------------------------------------------------------\u001b[0m",
      "\u001b[0;31mNameError\u001b[0m                                 Traceback (most recent call last)",
      "\u001b[0;32m<ipython-input-7-22257960968f>\u001b[0m in \u001b[0;36m<module>\u001b[0;34m()\u001b[0m\n\u001b[0;32m----> 1\u001b[0;31m \u001b[0;32mdel\u001b[0m \u001b[0mfriendsOfFriends\u001b[0m\u001b[0;34m\u001b[0m\u001b[0m\n\u001b[0m\u001b[1;32m      2\u001b[0m \u001b[0;32mdel\u001b[0m \u001b[0mmineFriends\u001b[0m\u001b[0;34m\u001b[0m\u001b[0m\n\u001b[1;32m      3\u001b[0m \u001b[0;32mdel\u001b[0m \u001b[0mfriendsOfMine\u001b[0m\u001b[0;34m\u001b[0m\u001b[0m\n",
      "\u001b[0;31mNameError\u001b[0m: name 'friendsOfFriends' is not defined"
     ]
    }
   ],
   "source": [
    "del friendsOfFriends\n",
    "del mineFriends\n",
    "del friendsOfMine"
   ]
  },
  {
   "cell_type": "code",
   "execution_count": 8,
   "metadata": {
    "collapsed": false
   },
   "outputs": [
    {
     "name": "stdout",
     "output_type": "stream",
     "text": [
      "Memory usage 1576 mb.\n"
     ]
    }
   ],
   "source": [
    "memory_usage()"
   ]
  },
  {
   "cell_type": "markdown",
   "metadata": {
    "slideshow": {
     "slide_type": "fragment"
    }
   },
   "source": [
    "### Применительно к нашей задаче\n",
    "\n",
    "* Оценим объем данных\n",
    "* Не забудем о накладных расходах!"
   ]
  },
  {
   "cell_type": "markdown",
   "metadata": {
    "slideshow": {
     "slide_type": "slide"
    }
   },
   "source": [
    "## Разбор полетов - исследуем данные\n",
    "\n",
    "Если с ходу не получилось, значит пришло время задуматся о том, как использовать память эффективнее. Для начала давайте попробуем прикинуть базовые показатели графа с которым работаем."
   ]
  },
  {
   "cell_type": "code",
   "execution_count": 9,
   "metadata": {
    "collapsed": false,
    "slideshow": {
     "slide_type": "slide"
    }
   },
   "outputs": [
    {
     "name": "stdout",
     "output_type": "stream",
     "text": [
      "Num users from 107474, max 16619036, num total 12417564, max 16619131, num links 36192484\n"
     ]
    }
   ],
   "source": [
    "numUsersFrom = 0\n",
    "numLinks = 0\n",
    "maxUserIdFrom = 0\n",
    "maxUserIdTo = 0\n",
    "allIds = set()\n",
    "\n",
    "for file in [f for f in os.listdir(graphPath) if f.startswith(\"part\")]:\n",
    "    csvinput = gzip.open(os.path.join(graphPath, file))\n",
    "    csv_reader = csv.reader(csvinput, delimiter='\\t')\n",
    "    for line in csv_reader:\n",
    "        user = int(line[0])\n",
    "        numUsersFrom += 1\n",
    "        maxUserIdFrom = max(user,maxUserIdFrom)\n",
    "        allIds.add(user)\n",
    "        for friendship in line[1].replace(\"{(\", \"\").replace(\")}\", \"\").split(\"),(\"):\n",
    "            parts=friendship.split(\",\")\n",
    "            friend = int(parts[0])\n",
    "            allIds.add(friend)\n",
    "            numLinks += 1\n",
    "            maxUserIdTo = max(maxUserIdTo,friend)\n",
    "            \n",
    "print(\"Num users from {0}, max {1}, num total {2}, max {3}, num links {4}\".format(\n",
    "        numUsersFrom,maxUserIdFrom,len(allIds),maxUserIdTo,numLinks))"
   ]
  },
  {
   "cell_type": "markdown",
   "metadata": {
    "slideshow": {
     "slide_type": "slide"
    }
   },
   "source": [
    "### Оценим объем нужной памяти\n",
    "\n",
    "На одну связь надо 2 идишки, которые 4-х байтовый инт"
   ]
  },
  {
   "cell_type": "code",
   "execution_count": 10,
   "metadata": {
    "collapsed": false
   },
   "outputs": [
    {
     "data": {
      "text/plain": [
       "276"
      ]
     },
     "execution_count": 10,
     "metadata": {},
     "output_type": "execute_result"
    }
   ],
   "source": [
    "numLinks * (4 + 4) / 1024 / 1024"
   ]
  },
  {
   "cell_type": "markdown",
   "metadata": {
    "slideshow": {
     "slide_type": "fragment"
    }
   },
   "source": [
    "__Почему вместо 300Мб мы получили сразу 3Гб? Почему??!!__"
   ]
  },
  {
   "cell_type": "markdown",
   "metadata": {
    "slideshow": {
     "slide_type": "slide"
    }
   },
   "source": [
    "## Разбор полетов - лезем в код\n",
    "\n",
    "```c\n",
    "#define PyDict_MINSIZE 8\n",
    "typedef struct _dictobject PyDictObject;\n",
    "struct _dictobject {\n",
    "  ...\n",
    "  PyDictEntry *ma_table;\n",
    "  ...\n",
    "};\n",
    "\n",
    "typedef struct {\n",
    "  Py_ssize_t me_hash;\n",
    "  PyObject *me_key;\n",
    "  PyObject *me_value;\n",
    "} PyDictEntry;\n",
    "```"
   ]
  },
  {
   "cell_type": "markdown",
   "metadata": {
    "slideshow": {
     "slide_type": "slide"
    }
   },
   "source": [
    "## Хэш-таблица с открытой адресацией\n",
    "\n",
    "<img src=\"https://upload.wikimedia.org/wikipedia/commons/b/bf/Hash_table_5_0_1_1_1_1_0_SP.svg\" width=\"800\" />"
   ]
  },
  {
   "cell_type": "markdown",
   "metadata": {
    "slideshow": {
     "slide_type": "slide"
    }
   },
   "source": [
    "## Разбор полетов - считаем накладные расходы\n",
    "\n",
    "* На запись\n",
    "  * +8 байт на указатель на запись\n",
    "  * +4 байта на хэш\n",
    "  * +8*2 байтов на указатели на ключ/значение\n",
    "* +30% свободных ячеек\n",
    "* х2 свободных ячеек при копировании"
   ]
  },
  {
   "cell_type": "code",
   "execution_count": 11,
   "metadata": {
    "collapsed": false
   },
   "outputs": [
    {
     "data": {
      "text/plain": [
       "1960.4998504638672"
      ]
     },
     "execution_count": 11,
     "metadata": {},
     "output_type": "execute_result"
    }
   ],
   "source": [
    "(numLinks * ((4 + 4) + (8 + 4 + 16)) + 1.3 * 2 * 8 * numLinks) / 1024 / 1024"
   ]
  },
  {
   "cell_type": "markdown",
   "metadata": {
    "slideshow": {
     "slide_type": "fragment"
    }
   },
   "source": [
    "Становится яснее!"
   ]
  },
  {
   "cell_type": "markdown",
   "metadata": {
    "slideshow": {
     "slide_type": "slide"
    }
   },
   "source": [
    "## А ведь есть еще вопрос локальности данных!\n",
    "\n",
    "<center>\n",
    "<img src=\"https://s3.amazonaws.com/media-p.slid.es/uploads/71982/images/2310246/figure04-caching-pyramid.png\" width=\"600\"/>\n",
    "</center>\n",
    "\n",
    "| Source   | Latency       |\n",
    "| ---------|:-------------:|\n",
    "| L1 Cache |  1-2 ns       |\n",
    "| L2 Cache |  3-5 ns       |\n",
    "| L3 Cache |  10-40 ns     |\n",
    "| DRAM     |  60-100 ns    |\n",
    "\n"
   ]
  },
  {
   "cell_type": "markdown",
   "metadata": {
    "slideshow": {
     "slide_type": "slide"
    }
   },
   "source": [
    "## Чем дальше в лес, тем толще партизаны - боксинг\n",
    "```c\n",
    "#define PyObject_HEAD                   \\\n",
    "    _PyObject_HEAD_EXTRA                \\\n",
    "    Py_ssize_t ob_refcnt;               \\\n",
    "    struct _typeobject *ob_type;\n",
    "\n",
    "typedef struct {\n",
    "    PyObject_HEAD\n",
    "    long ob_ival;\n",
    "} PyIntObject;\n",
    "```"
   ]
  },
  {
   "cell_type": "markdown",
   "metadata": {
    "slideshow": {
     "slide_type": "fragment"
    }
   },
   "source": [
    "Кладя инт в \"коробку\" получаем 20 байт вместо 4-х, итого:"
   ]
  },
  {
   "cell_type": "code",
   "execution_count": null,
   "metadata": {
    "collapsed": false
   },
   "outputs": [],
   "source": [
    "(numLinks * ((20 + 20) + (8 + 4 + 16)) + 1.3 * 2 * 8 * numLinks) / 1024 / 1024"
   ]
  },
  {
   "cell_type": "markdown",
   "metadata": {
    "slideshow": {
     "slide_type": "slide"
    }
   },
   "source": [
    "## Разбор полетов - все проблемы вскрыли?"
   ]
  },
  {
   "cell_type": "markdown",
   "metadata": {
    "slideshow": {
     "slide_type": "fragment"
    }
   },
   "source": [
    "__Проблема заполнености__ - общие друзья есть у гораздо большего числа пар пользователей."
   ]
  },
  {
   "cell_type": "code",
   "execution_count": null,
   "metadata": {
    "collapsed": false
   },
   "outputs": [],
   "source": [
    "numUsersFrom * numUsersFrom * 4 / 1024 / 1024"
   ]
  },
  {
   "cell_type": "markdown",
   "metadata": {
    "slideshow": {
     "slide_type": "fragment"
    }
   },
   "source": [
    "### Применительно к нашей задаче\n",
    "\n",
    "* Считаем общих друзей только там, где это нужно (входят в тестовое множество)"
   ]
  },
  {
   "cell_type": "markdown",
   "metadata": {
    "slideshow": {
     "slide_type": "slide"
    }
   },
   "source": [
    "## Попытка №2\n",
    "\n",
    "* Выбираем структуру данных\n",
    "* Втягиваем правильно\n",
    "* Считаем общих друзей для целевых юзеров\n",
    "* Сабмитим\n",
    "* Профит!"
   ]
  },
  {
   "cell_type": "markdown",
   "metadata": {
    "slideshow": {
     "slide_type": "slide"
    }
   },
   "source": [
    "## Выбираем структуры данных"
   ]
  },
  {
   "cell_type": "markdown",
   "metadata": {
    "slideshow": {
     "slide_type": "subslide"
    }
   },
   "source": [
    "### Словари\n",
    "\n",
    "* Легко пользоватся.\n",
    "* Но _ОЧЕНЬ_ много накладных расходов: указатель на запись, указатель на ключ/значение, объектная обертка для ключа и значения.\n",
    "* Итого: на пару инт-инт _накладных_ расходов 48 байт (facepalm).\n",
    "* Данные размазаны по памяти и фрагментированны - кеш процессора резко терят эффективность."
   ]
  },
  {
   "cell_type": "markdown",
   "metadata": {
    "slideshow": {
     "slide_type": "slide"
    }
   },
   "source": [
    "### Списки\n",
    "\n",
    "* Если ключ инт - можно использовать вместо словаря.\n",
    "* НО! Список в питоне это массив указателей, а значит накладные расходы на указатель и объектную обертку ключа. остаются - 20 байт накладных расходов на запись :(.\n",
    "* Проблема с потерей эффективности кеша сохраняется."
   ]
  },
  {
   "cell_type": "markdown",
   "metadata": {
    "slideshow": {
     "slide_type": "subslide"
    }
   },
   "source": [
    "### Массивы numpy\n",
    "\n",
    "* На пару инт-инт нужно всего 4 байта.\n",
    "* Кеш процессора работает.\n",
    "* Но нужно чтобы ключи шли последовательно (к счастью, в наших даных это так почти так: максимальный ид 16619131 при общем числе 12417564).\n",
    "* Для того чтобы заполнить массив _очень_ желательно знать его размер изначально.\n",
    "* Если делать двумерный массив 100к на 16м - будет очень, очень, очень больно..."
   ]
  },
  {
   "cell_type": "markdown",
   "metadata": {
    "slideshow": {
     "slide_type": "subslide"
    }
   },
   "source": [
    "### Спарс матрицы scipy\n",
    "\n",
    "* Предназначены для хранения двухмерных матриц с очень большим количеством нулей.\n",
    "* Эффективные варианты хранят в виде нескольких массивов numpy.\n",
    "* COO - три массива одинаковой длинны моделируют списов троек [(i,j,v)]. Просто строить, легко интегрировать с пандой.\n",
    "* CSR - один маленьки массив с индексом начала для каждого ряда (монотонно растет), и два массива равно длинны с ид колонки и значением: [{i : [(j,v)]}]. Более компактна в памяти, быстрые опреации.\n",
    "* CSC - тоже самое что CSR, но индексированны колонки."
   ]
  },
  {
   "cell_type": "markdown",
   "metadata": {
    "slideshow": {
     "slide_type": "subslide"
    }
   },
   "source": [
    "#### CSR matrix\n",
    "<img src=\"http://hamukazu.com/wp-content/uploads/2014/12/csr_matrix.png\" width=\"800\"/>\n",
    "\n",
    "#### CSC matrix\n",
    "<img src=\"http://hamukazu.com/wp-content/uploads/2014/12/csc_matrix2.png\" width=\"800\"/>"
   ]
  },
  {
   "cell_type": "markdown",
   "metadata": {
    "slideshow": {
     "slide_type": "slide"
    }
   },
   "source": [
    "## Попытка № 2 - наш выбор\n",
    "\n",
    "* Инициализруем граф в виде COO матрицы, затем переводим в CSR.\n",
    "* Развернутый граф получаем с помощью транспонирования.\n",
    "* Общих друзей считаем умножая матрицы."
   ]
  },
  {
   "cell_type": "markdown",
   "metadata": {
    "slideshow": {
     "slide_type": "fragment"
    }
   },
   "source": [
    "#### Умножение матриц? WTF?\n",
    "\n",
    "<img src=\"https://www.mathsisfun.com/algebra/images/matrix-multiply-a.gif\" width=\"800\"/>"
   ]
  },
  {
   "cell_type": "markdown",
   "metadata": {
    "slideshow": {
     "slide_type": "slide"
    }
   },
   "source": [
    "## Попытка №2 - готовим окружение"
   ]
  },
  {
   "cell_type": "code",
   "execution_count": 12,
   "metadata": {
    "collapsed": true,
    "slideshow": {
     "slide_type": "-"
    }
   },
   "outputs": [],
   "source": [
    "# Почистим шлак и оставим константы чтоб потом не пресчитывать\n",
    "del allIds\n",
    "maxUserId = 16619131\n",
    "numLinks = 36192484"
   ]
  },
  {
   "cell_type": "code",
   "execution_count": 13,
   "metadata": {
    "collapsed": true
   },
   "outputs": [],
   "source": [
    "# Эффективные массивы простых типов\n",
    "import numpy\n",
    "# Работа с матрицами (подсчет общих друзей реализован как умножение матрицы графа самое на себя)\n",
    "import scipy\n",
    "from scipy.sparse import coo_matrix, csr_matrix"
   ]
  },
  {
   "cell_type": "markdown",
   "metadata": {
    "slideshow": {
     "slide_type": "slide"
    }
   },
   "source": [
    "## Попытка №2 - читаем матрицу"
   ]
  },
  {
   "cell_type": "code",
   "execution_count": 14,
   "metadata": {
    "collapsed": true
   },
   "outputs": [],
   "source": [
    "formUser = numpy.zeros( (numLinks), dtype=numpy.int32 ) \n",
    "toUser = numpy.zeros( (numLinks), dtype=numpy.int32 ) \n",
    "data = numpy.ones( (numLinks), dtype=numpy.int16 ) \n",
    "\n",
    "current = 0\n",
    "\n",
    "# Итерируемся по файлам в папке... Да, опять. God bless Cmd+C/Cmd+V\n",
    "for file in [f for f in os.listdir(graphPath) if f.startswith(\"part\")]:\n",
    "    csvinput = gzip.open(os.path.join(graphPath, file))\n",
    "    csv_reader = csv.reader(csvinput, delimiter='\\t')\n",
    "    for line in csv_reader:\n",
    "        user = int(line[0]) \n",
    "        maxUserId = max(user,maxUserId)\n",
    "        # Разбираем идшки и маски друзей\n",
    "        for friendship in line[1].replace(\"{(\", \"\").replace(\")}\", \"\").split(\"),(\"):\n",
    "            parts=friendship.split(\",\")\n",
    "            # Записываем связь в массивы и двигаем указатель\n",
    "            formUser[current] = user\n",
    "            friend = int(parts[0])\n",
    "            toUser[current] = friend\n",
    "            maxUserId = max(friend,maxUserId)\n",
    "            current += 1\n",
    "            \n",
    "    csvinput.close()"
   ]
  },
  {
   "cell_type": "markdown",
   "metadata": {
    "slideshow": {
     "slide_type": "slide"
    }
   },
   "source": [
    "## Попытка №2 - читаем матрицу"
   ]
  },
  {
   "cell_type": "markdown",
   "metadata": {},
   "source": [
    "Собственно из массивов создаем COO матрицу"
   ]
  },
  {
   "cell_type": "code",
   "execution_count": 15,
   "metadata": {
    "collapsed": true,
    "slideshow": {
     "slide_type": "-"
    }
   },
   "outputs": [],
   "source": [
    "fullMatrix = coo_matrix(\n",
    "    (data, (formUser, toUser)),\n",
    "    shape=(maxUserId + 1, maxUserId + 1)).tocsr()"
   ]
  },
  {
   "cell_type": "markdown",
   "metadata": {
    "slideshow": {
     "slide_type": "fragment"
    }
   },
   "source": [
    "В матрице три массива, соответственно легко померять сколько памяти она занимает"
   ]
  },
  {
   "cell_type": "code",
   "execution_count": 16,
   "metadata": {
    "collapsed": false
   },
   "outputs": [
    {
     "name": "stdout",
     "output_type": "stream",
     "text": [
      "283631436\n"
     ]
    }
   ],
   "source": [
    "print fullMatrix.data.nbytes + fullMatrix.indptr.nbytes + fullMatrix.indices.nbytes"
   ]
  },
  {
   "cell_type": "markdown",
   "metadata": {
    "slideshow": {
     "slide_type": "fragment"
    }
   },
   "source": [
    "Теперь аккуратно вычистим ненужное"
   ]
  },
  {
   "cell_type": "code",
   "execution_count": 17,
   "metadata": {
    "collapsed": true
   },
   "outputs": [],
   "source": [
    "del formUser\n",
    "del toUser\n",
    "del data  "
   ]
  },
  {
   "cell_type": "markdown",
   "metadata": {
    "slideshow": {
     "slide_type": "slide"
    }
   },
   "source": [
    "## Попытка №2 - разворачиваем матрицу"
   ]
  },
  {
   "cell_type": "code",
   "execution_count": 19,
   "metadata": {
    "collapsed": true
   },
   "outputs": [],
   "source": [
    "reversedMatrix = scipy.transpose(fullMatrix).tocsr()"
   ]
  },
  {
   "cell_type": "markdown",
   "metadata": {},
   "source": [
    "Есть развернутая матрица, проверим сколько занимает"
   ]
  },
  {
   "cell_type": "code",
   "execution_count": null,
   "metadata": {
    "collapsed": false
   },
   "outputs": [],
   "source": [
    "print reversedMatrix.data.nbytes + reversedMatrix.indptr.nbytes + reversedMatrix.indices.nbytes"
   ]
  },
  {
   "cell_type": "markdown",
   "metadata": {
    "slideshow": {
     "slide_type": "fragment"
    }
   },
   "source": [
    "Итого - две матрицу в сумме 540Мб в памяти :). Пора считать общих друзей?"
   ]
  },
  {
   "cell_type": "markdown",
   "metadata": {
    "slideshow": {
     "slide_type": "slide"
    }
   },
   "source": [
    "\n",
    "* Сохраним полученные результаты (граф и развернутый граф) в бинарном формате, чтобы не тратить время на чтение текстов.\n",
    "* Далее будем сохранять все сложновычисляемые результаты."
   ]
  },
  {
   "cell_type": "markdown",
   "metadata": {
    "slideshow": {
     "slide_type": "slide"
    }
   },
   "source": [
    "## Определим функции для сохранения и загрузки матриц"
   ]
  },
  {
   "cell_type": "code",
   "execution_count": 20,
   "metadata": {
    "collapsed": true
   },
   "outputs": [],
   "source": [
    "def save_csr(matrix, path):\n",
    "    numpy.savez(os.path.join(resultsPath, path),\n",
    "            data=matrix.data,\n",
    "            indices=matrix.indices,\n",
    "            indptr=matrix.indptr,\n",
    "            shape=matrix.shape)\n",
    "\n",
    "def load_csr(path):\n",
    "    loaded = numpy.load(os.path.join(resultsPath, path + \".npz\"))\n",
    "    return csr_matrix(\n",
    "        (loaded['data'], loaded['indices'], loaded['indptr']), \n",
    "        shape=loaded['shape'])"
   ]
  },
  {
   "cell_type": "markdown",
   "metadata": {
    "slideshow": {
     "slide_type": "slide"
    }
   },
   "source": [
    "## Сохраняем и тестируем загрузку"
   ]
  },
  {
   "cell_type": "code",
   "execution_count": 22,
   "metadata": {
    "collapsed": false
   },
   "outputs": [
    {
     "name": "stdout",
     "output_type": "stream",
     "text": [
      "CPU times: user 2.09 s, sys: 2.97 s, total: 5.05 s\n",
      "Wall time: 6.14 s\n"
     ]
    }
   ],
   "source": [
    "%%time\n",
    "save_csr(fullMatrix, \"fullMatrix\")\n",
    "save_csr(reversedMatrix, \"reversedMatrix\")"
   ]
  },
  {
   "cell_type": "code",
   "execution_count": 23,
   "metadata": {
    "collapsed": false
   },
   "outputs": [
    {
     "name": "stdout",
     "output_type": "stream",
     "text": [
      "CPU times: user 1.51 s, sys: 483 ms, total: 1.99 s\n",
      "Wall time: 2.13 s\n"
     ]
    }
   ],
   "source": [
    "%%time\n",
    "fullMatrix = load_csr(\"fullMatrix\")\n",
    "reversedMatrix = load_csr(\"reversedMatrix\")"
   ]
  },
  {
   "cell_type": "markdown",
   "metadata": {
    "slideshow": {
     "slide_type": "slide"
    }
   },
   "source": [
    "## Попытка №2 - готовимся считать только для нужных юзеров"
   ]
  },
  {
   "cell_type": "markdown",
   "metadata": {},
   "source": [
    "Читаем ид тех, для кого нужен прогноз"
   ]
  },
  {
   "cell_type": "code",
   "execution_count": null,
   "metadata": {
    "collapsed": false
   },
   "outputs": [],
   "source": [
    "validationUsers = set()\n",
    "csv_reader = csv.reader(open(os.path.join(dataPath, \"prediction.csv\")))\n",
    "for line in csv_reader: validationUsers.add(int(line[0]))"
   ]
  },
  {
   "cell_type": "markdown",
   "metadata": {},
   "source": [
    "Занулим чужих пользователей"
   ]
  },
  {
   "cell_type": "code",
   "execution_count": null,
   "metadata": {
    "collapsed": false
   },
   "outputs": [],
   "source": [
    "for i in range(maxUserId + 1):\n",
    "    if i not in validationUsers:\n",
    "        ptr = fullMatrix.indptr[i]\n",
    "        ptr_next = fullMatrix.indptr[i+1]\n",
    "        if ptr != ptr_next:\n",
    "            fullMatrix.data[ptr:ptr_next].fill(0)\n",
    "            "
   ]
  },
  {
   "cell_type": "markdown",
   "metadata": {},
   "source": [
    "Вычистим нули"
   ]
  },
  {
   "cell_type": "code",
   "execution_count": null,
   "metadata": {
    "collapsed": true
   },
   "outputs": [],
   "source": [
    "fullMatrix.eliminate_zeros()"
   ]
  },
  {
   "cell_type": "markdown",
   "metadata": {
    "slideshow": {
     "slide_type": "slide"
    }
   },
   "source": [
    "## Не забываем сохранить"
   ]
  },
  {
   "cell_type": "code",
   "execution_count": null,
   "metadata": {
    "collapsed": true
   },
   "outputs": [],
   "source": [
    "save_csr(fullMatrix, \"validationUsersGraph\")"
   ]
  },
  {
   "cell_type": "code",
   "execution_count": null,
   "metadata": {
    "collapsed": false
   },
   "outputs": [],
   "source": [
    "validationUsersGraph = load_csr(\"validationUsersGraph\")"
   ]
  },
  {
   "cell_type": "code",
   "execution_count": null,
   "metadata": {
    "collapsed": false
   },
   "outputs": [],
   "source": [
    "print validationUsersGraph.data.nbytes + validationUsersGraph.indptr.nbytes + validationUsersGraph.indices.nbytes"
   ]
  },
  {
   "cell_type": "markdown",
   "metadata": {
    "slideshow": {
     "slide_type": "slide"
    }
   },
   "source": [
    "## Попытка №2 - считаем общих друзей"
   ]
  },
  {
   "cell_type": "code",
   "execution_count": null,
   "metadata": {
    "collapsed": false,
    "slideshow": {
     "slide_type": "-"
    }
   },
   "outputs": [],
   "source": [
    "%%time\n",
    "commonFriends = validationUsersGraph.dot(reversedMatrix)"
   ]
  },
  {
   "cell_type": "markdown",
   "metadata": {
    "slideshow": {
     "slide_type": "fragment"
    }
   },
   "source": [
    "Интересно, сколько получилось в памяти?"
   ]
  },
  {
   "cell_type": "code",
   "execution_count": null,
   "metadata": {
    "collapsed": false
   },
   "outputs": [],
   "source": [
    "print commonFriends.data.nbytes + commonFriends.indptr.nbytes + commonFriends.indices.nbytes"
   ]
  },
  {
   "cell_type": "markdown",
   "metadata": {
    "slideshow": {
     "slide_type": "fragment"
    }
   },
   "source": [
    "Не забыть сохранить!"
   ]
  },
  {
   "cell_type": "code",
   "execution_count": null,
   "metadata": {
    "collapsed": true
   },
   "outputs": [],
   "source": [
    "save_csr(commonFriends, \"validation_commonFriends\")"
   ]
  },
  {
   "cell_type": "markdown",
   "metadata": {
    "slideshow": {
     "slide_type": "slide"
    }
   },
   "source": [
    "## Попытка №2 - генерируем прогноз"
   ]
  },
  {
   "cell_type": "code",
   "execution_count": null,
   "metadata": {
    "collapsed": false
   },
   "outputs": [],
   "source": [
    "%%time\n",
    "output = open( os.path.join(resultsPath, \"prediction.csv\"), \"w\")\n",
    "\n",
    "for i in validationUsers:\n",
    "    ptr = commonFriends.indptr[i]\n",
    "    ptr_next = commonFriends.indptr[i+1] \n",
    "    if ptr != ptr_next:\n",
    "        counts = commonFriends.data[ptr:ptr_next]\n",
    "        order = numpy.argsort(-counts)\n",
    "        \n",
    "        # Не забываем что из прогноза надо убрать себя и своих известных друзей\n",
    "        mineFriends = set(fullMatrix.indices[fullMatrix.indptr[i]:fullMatrix.indptr[i+1]])\n",
    "        mineFriends.add(i)\n",
    "        \n",
    "        ids = commonFriends.indices[ptr:ptr_next]\n",
    "        prediction = filter(lambda x: x not in mineFriends, ids[order])\n",
    "        output.write(str(i) + \",\\\"\" + \" \".join(map(str, prediction)) + \"\\\"\\n\")      \n",
    "        \n",
    "# Не забываем закрыть файл\n",
    "output.close()        "
   ]
  },
  {
   "cell_type": "markdown",
   "metadata": {
    "slideshow": {
     "slide_type": "slide"
    }
   },
   "source": [
    "## Хм, как долго-то... И сколько получилось в итоге?"
   ]
  },
  {
   "cell_type": "code",
   "execution_count": null,
   "metadata": {
    "collapsed": false
   },
   "outputs": [],
   "source": [
    "print os.path.getsize(os.path.join(resultsPath, \"prediction.csv\")) / 1024 / 1024"
   ]
  },
  {
   "cell_type": "markdown",
   "metadata": {
    "slideshow": {
     "slide_type": "fragment"
    }
   },
   "source": [
    "Мда, 340Мб, не влезет ни в какие лимиты. Снова применим _4-й принцип_ - надо рубить хвосты!"
   ]
  },
  {
   "cell_type": "markdown",
   "metadata": {
    "slideshow": {
     "slide_type": "slide"
    }
   },
   "source": [
    "## Попытка № 3 - уменьшаем объем результата"
   ]
  },
  {
   "cell_type": "code",
   "execution_count": null,
   "metadata": {
    "collapsed": false,
    "scrolled": true
   },
   "outputs": [],
   "source": [
    "%%time\n",
    "output = open( os.path.join(resultsPath, \"prediction_short.csv\"), \"w\")\n",
    "\n",
    "for i in validationUsers:\n",
    "    ptr = commonFriends.indptr[i]\n",
    "    ptr_next = commonFriends.indptr[i+1] \n",
    "    if ptr != ptr_next:\n",
    "        counts = commonFriends.data[ptr:ptr_next]\n",
    "        order = numpy.argsort(-counts)\n",
    "        mineFriends = set(fullMatrix.indices[fullMatrix.indptr[i]:fullMatrix.indptr[i+1]])\n",
    "        mineFriends.add(i)   \n",
    "        ids = commonFriends.indices[ptr:ptr_next]\n",
    "        # И собственно фильтр. 42\n",
    "        prediction = filter(lambda x: x not in mineFriends, ids[order])[:42]\n",
    "        output.write(str(i) + \",\\\"\" + \" \".join(map(str, prediction)) + \"\\\"\\n\")\n",
    "    else:\n",
    "        output.write(str(i) + \",\\\"1447358 665059 4554374\\\"\\n\")\n",
    "\n",
    "# Не забываем закрыть файл\n",
    "output.close() "
   ]
  },
  {
   "cell_type": "markdown",
   "metadata": {
    "slideshow": {
     "slide_type": "fragment"
    }
   },
   "source": [
    "Гораздо быстрее! И сколько же там?"
   ]
  },
  {
   "cell_type": "code",
   "execution_count": null,
   "metadata": {
    "collapsed": false
   },
   "outputs": [],
   "source": [
    "print os.path.getsize(os.path.join(resultsPath,\"prediction_short.gz\"))"
   ]
  }
 ],
 "metadata": {
  "anaconda-cloud": {},
  "celltoolbar": "Slideshow",
  "kernelspec": {
   "display_name": "Python 2",
   "language": "python",
   "name": "python2"
  },
  "language_info": {
   "codemirror_mode": {
    "name": "ipython",
    "version": 2
   },
   "file_extension": ".py",
   "mimetype": "text/x-python",
   "name": "python",
   "nbconvert_exporter": "python",
   "pygments_lexer": "ipython2",
   "version": "2.7.13"
  }
 },
 "nbformat": 4,
 "nbformat_minor": 0
}
