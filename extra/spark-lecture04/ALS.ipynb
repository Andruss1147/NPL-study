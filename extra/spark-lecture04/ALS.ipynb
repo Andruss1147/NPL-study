{
 "cells": [
  {
   "cell_type": "code",
   "execution_count": 1,
   "metadata": {
    "collapsed": false
   },
   "outputs": [
    {
     "name": "stdout",
     "output_type": "stream",
     "text": [
      "Welcome to\n",
      "      ____              __\n",
      "     / __/__  ___ _____/ /__\n",
      "    _\\ \\/ _ \\/ _ `/ __/  '_/\n",
      "   /__ / .__/\\_,_/_/ /_/\\_\\   version 2.3.0\n",
      "      /_/\n",
      "\n",
      "Using Python version 3.6.4 (default, Jan 28 2018 00:00:00)\n",
      "SparkSession available as 'spark'.\n"
     ]
    }
   ],
   "source": [
    "import os\n",
    "import sys\n",
    "os.environ[\"PYSPARK_SUBMIT_ARGS\"]='pyspark-shell'\n",
    "os.environ[\"PYSPARK_PYTHON\"]='python3'\n",
    "os.environ[\"SPARK_HOME\"]='/usr/hdp/current/spark2-client'\n",
    "\n",
    "spark_home = os.environ.get('SPARK_HOME', None)\n",
    "if not spark_home:\n",
    "    raise ValueError('SPARK_HOME environment variable is not set')\n",
    "sys.path.insert(0, os.path.join(spark_home, 'python'))\n",
    "sys.path.insert(0, os.path.join(spark_home, 'python/lib/py4j-0.10.4-src.zip'))\n",
    "os.environ[\"PYSPARK_PYTHON\"] = 'python3'\n",
    "exec(open(os.path.join(spark_home, 'python/pyspark/shell.py')).read())"
   ]
  },
  {
   "cell_type": "code",
   "execution_count": 2,
   "metadata": {
    "collapsed": false
   },
   "outputs": [
    {
     "data": {
      "text/html": [
       "\n",
       "            <div>\n",
       "                <p><b>SparkSession - hive</b></p>\n",
       "                \n",
       "        <div>\n",
       "            <p><b>SparkContext</b></p>\n",
       "\n",
       "            <p><a href=\"http://master.nplcloud.com:4046\">Spark UI</a></p>\n",
       "\n",
       "            <dl>\n",
       "              <dt>Version</dt>\n",
       "                <dd><code>v2.3.0</code></dd>\n",
       "              <dt>Master</dt>\n",
       "                <dd><code>yarn</code></dd>\n",
       "              <dt>AppName</dt>\n",
       "                <dd><code>pyspark-shell</code></dd>\n",
       "            </dl>\n",
       "        </div>\n",
       "        \n",
       "            </div>\n",
       "        "
      ],
      "text/plain": [
       "<pyspark.sql.session.SparkSession at 0x7f0263f8ddd8>"
      ]
     },
     "execution_count": 2,
     "metadata": {},
     "output_type": "execute_result"
    }
   ],
   "source": [
    "spark"
   ]
  },
  {
   "cell_type": "markdown",
   "metadata": {},
   "source": [
    "![ALS](pics/mf.png)"
   ]
  },
  {
   "cell_type": "markdown",
   "metadata": {},
   "source": [
    "## Our goal is to represent the matrix of user-item ratings as the product of two LOW RANK matrices \n",
    "## $$R = U \\times P^\\top $$ \n",
    "## where \n",
    "## $$U \\in \\mathbb{R}^{n \\times k}, k \\ll n$$\n",
    "## and \n",
    "## $$P \\in \\mathbb{R}^{m \\times k}, k \\ll m$$"
   ]
  },
  {
   "cell_type": "markdown",
   "metadata": {},
   "source": [
    "## This means that\n",
    "## $$R_{i,j} = u_i \\bullet p_j$$\n",
    "## recalling\n",
    "## $$\\cos(\\theta) = \\frac{a \\bullet b}{\\|a\\|\\|b\\|}$$"
   ]
  },
  {
   "cell_type": "markdown",
   "metadata": {},
   "source": [
    "## How do we find a solution? By minimizing the cost function!\n",
    "## $$J = \\|R - U \\times P^\\top\\|_2 + \\lambda(\\|U\\|_2 + \\|P\\|_2)$$"
   ]
  },
  {
   "cell_type": "markdown",
   "metadata": {},
   "source": [
    "## How do we optimize this?\n",
    "![GD](pics/gradient_descent.jpeg)"
   ]
  },
  {
   "cell_type": "markdown",
   "metadata": {},
   "source": [
    "## There are two problems here though:\n",
    "+ the number of parameters is $n \\times k + m \\times k$\n",
    "+ the loss is non-convex (https://www.quora.com/Why-is-the-matrix-factorization-optimization-function-in-recommender-systems-not-convex)"
   ]
  },
  {
   "cell_type": "markdown",
   "metadata": {},
   "source": [
    "## So what do we do? ALS (alternating least squares)\n",
    "## Recall Ordinary Least Squares\n",
    "## $$J(\\beta) = \\|y - X\\beta\\|_2$$\n",
    "## $$\\beta = (X^\\top X)^{-1}X^\\top y$$"
   ]
  },
  {
   "cell_type": "markdown",
   "metadata": {},
   "source": [
    "## ALS is a two-step iterative optimization process\n",
    "## $$ \\forall u_i : J(u_i) = \\|R_i - u_i \\times P^\\top\\|_2 + \\lambda\\|u_i\\|_2$$\n",
    "## $$ \\forall p_j : J(p_j) = \\|R_i - U \\times p^{\\top}_{j}\\|_2 + \\lambda\\|p_j\\|_2$$\n",
    "## The solution is\n",
    "## $$u_i = (P^\\top \\times P + \\lambda I)^{-1} \\times P^\\top \\times R_i$$\n",
    "## $$p_j = (U^\\top \\times U + \\lambda I)^{-1} \\times U^\\top \\times R_j$$"
   ]
  },
  {
   "cell_type": "code",
   "execution_count": 12,
   "metadata": {
    "collapsed": true
   },
   "outputs": [],
   "source": [
    "from pyspark.sql.types import *"
   ]
  },
  {
   "cell_type": "code",
   "execution_count": 27,
   "metadata": {
    "collapsed": true
   },
   "outputs": [],
   "source": [
    "schema = StructType([\n",
    "    StructField(\"user\", IntegerType()),\n",
    "    StructField(\"item\", IntegerType()),\n",
    "    StructField(\"rating\", IntegerType()),\n",
    "    StructField(\"timestamp\", LongType())\n",
    "])"
   ]
  },
  {
   "cell_type": "code",
   "execution_count": 28,
   "metadata": {
    "collapsed": false
   },
   "outputs": [],
   "source": [
    "dataset = spark.read.csv(\"/share/ml-100k/ua.base\", sep=\"\\t\", schema=schema).drop(\"timestamp\").repartition(20).cache()"
   ]
  },
  {
   "cell_type": "code",
   "execution_count": 29,
   "metadata": {
    "collapsed": false
   },
   "outputs": [
    {
     "data": {
      "text/plain": [
       "[Row(user=297, item=1, rating=3),\n",
       " Row(user=119, item=924, rating=4),\n",
       " Row(user=373, item=230, rating=4),\n",
       " Row(user=900, item=508, rating=3),\n",
       " Row(user=13, item=828, rating=1)]"
      ]
     },
     "execution_count": 29,
     "metadata": {},
     "output_type": "execute_result"
    }
   ],
   "source": [
    "dataset.take(5)"
   ]
  },
  {
   "cell_type": "code",
   "execution_count": 30,
   "metadata": {
    "collapsed": false
   },
   "outputs": [
    {
     "data": {
      "text/plain": [
       "20"
      ]
     },
     "execution_count": 30,
     "metadata": {},
     "output_type": "execute_result"
    }
   ],
   "source": [
    "dataset.rdd.getNumPartitions()"
   ]
  },
  {
   "cell_type": "code",
   "execution_count": 20,
   "metadata": {
    "collapsed": true
   },
   "outputs": [],
   "source": [
    "from pyspark.ml.recommendation import ALS"
   ]
  },
  {
   "cell_type": "code",
   "execution_count": 21,
   "metadata": {
    "collapsed": true
   },
   "outputs": [],
   "source": [
    "als = ALS(rank=10, maxIter=5, seed=5757)"
   ]
  },
  {
   "cell_type": "code",
   "execution_count": 31,
   "metadata": {
    "collapsed": false
   },
   "outputs": [],
   "source": [
    "model = als.fit(dataset)"
   ]
  },
  {
   "cell_type": "code",
   "execution_count": 32,
   "metadata": {
    "collapsed": false
   },
   "outputs": [
    {
     "data": {
      "text/plain": [
       "10"
      ]
     },
     "execution_count": 32,
     "metadata": {},
     "output_type": "execute_result"
    }
   ],
   "source": [
    "model.rank"
   ]
  },
  {
   "cell_type": "code",
   "execution_count": 33,
   "metadata": {
    "collapsed": true
   },
   "outputs": [],
   "source": [
    "test = spark.read.csv(\"/share/ml-100k/ua.test\", sep=\"\\t\", schema=schema).drop(\"timestamp\").repartition(4).cache()"
   ]
  },
  {
   "cell_type": "code",
   "execution_count": 35,
   "metadata": {
    "collapsed": true
   },
   "outputs": [],
   "source": [
    "predictions = model.transform(test)"
   ]
  },
  {
   "cell_type": "code",
   "execution_count": 41,
   "metadata": {
    "collapsed": false
   },
   "outputs": [
    {
     "data": {
      "text/plain": [
       "[Row(user=602, item=148, rating=4, prediction=3.5022647380828857),\n",
       " Row(user=447, item=148, rating=4, prediction=2.770799398422241),\n",
       " Row(user=396, item=148, rating=4, prediction=3.548232078552246),\n",
       " Row(user=203, item=148, rating=3, prediction=3.0412800312042236),\n",
       " Row(user=251, item=148, rating=2, prediction=3.0381240844726562)]"
      ]
     },
     "execution_count": 41,
     "metadata": {},
     "output_type": "execute_result"
    }
   ],
   "source": [
    "predictions.take(5)"
   ]
  },
  {
   "cell_type": "code",
   "execution_count": 46,
   "metadata": {
    "collapsed": true
   },
   "outputs": [],
   "source": [
    "from pyspark.ml.evaluation import RegressionEvaluator"
   ]
  },
  {
   "cell_type": "code",
   "execution_count": 47,
   "metadata": {
    "collapsed": true
   },
   "outputs": [],
   "source": [
    "evaluator = RegressionEvaluator(labelCol=\"rating\", metricName=\"rmse\")"
   ]
  },
  {
   "cell_type": "code",
   "execution_count": 48,
   "metadata": {
    "collapsed": false
   },
   "outputs": [
    {
     "data": {
      "text/plain": [
       "nan"
      ]
     },
     "execution_count": 48,
     "metadata": {},
     "output_type": "execute_result"
    }
   ],
   "source": [
    "evaluator.evaluate(predictions)"
   ]
  },
  {
   "cell_type": "markdown",
   "metadata": {},
   "source": [
    "![wtf](pics/Jackie-Chan-WTF.jpg)"
   ]
  },
  {
   "cell_type": "code",
   "execution_count": 49,
   "metadata": {
    "collapsed": false
   },
   "outputs": [
    {
     "data": {
      "text/plain": [
       "[Row(rating=1, count=542),\n",
       " Row(rating=3, count=2424),\n",
       " Row(rating=5, count=2153),\n",
       " Row(rating=4, count=3316),\n",
       " Row(rating=2, count=995)]"
      ]
     },
     "execution_count": 49,
     "metadata": {},
     "output_type": "execute_result"
    }
   ],
   "source": [
    "predictions.groupBy(\"rating\").count().collect()"
   ]
  },
  {
   "cell_type": "code",
   "execution_count": 50,
   "metadata": {
    "collapsed": true
   },
   "outputs": [],
   "source": [
    "import pyspark.sql.functions as f"
   ]
  },
  {
   "cell_type": "code",
   "execution_count": 54,
   "metadata": {
    "collapsed": false
   },
   "outputs": [
    {
     "data": {
      "text/plain": [
       "2"
      ]
     },
     "execution_count": 54,
     "metadata": {},
     "output_type": "execute_result"
    }
   ],
   "source": [
    "predictions.filter(f.isnan(\"prediction\")).count()"
   ]
  },
  {
   "cell_type": "code",
   "execution_count": 55,
   "metadata": {
    "collapsed": false
   },
   "outputs": [
    {
     "data": {
      "text/plain": [
       "[Row(user=675, item=1653, rating=5, prediction=nan),\n",
       " Row(user=405, item=1582, rating=1, prediction=nan)]"
      ]
     },
     "execution_count": 55,
     "metadata": {},
     "output_type": "execute_result"
    }
   ],
   "source": [
    "predictions.filter(f.isnan(\"prediction\")).collect()"
   ]
  },
  {
   "cell_type": "code",
   "execution_count": 61,
   "metadata": {
    "collapsed": false
   },
   "outputs": [
    {
     "data": {
      "text/plain": [
       "[Row(user=675, item=235, rating=1),\n",
       " Row(user=675, item=311, rating=3),\n",
       " Row(user=675, item=937, rating=1),\n",
       " Row(user=675, item=258, rating=3),\n",
       " Row(user=675, item=900, rating=4),\n",
       " Row(user=675, item=242, rating=4),\n",
       " Row(user=675, item=750, rating=4),\n",
       " Row(user=675, item=86, rating=4),\n",
       " Row(user=675, item=272, rating=3),\n",
       " Row(user=675, item=244, rating=3),\n",
       " Row(user=675, item=318, rating=5),\n",
       " Row(user=675, item=891, rating=2),\n",
       " Row(user=675, item=344, rating=4),\n",
       " Row(user=675, item=1628, rating=5),\n",
       " Row(user=675, item=1007, rating=4),\n",
       " Row(user=675, item=303, rating=5),\n",
       " Row(user=675, item=223, rating=1),\n",
       " Row(user=675, item=427, rating=5),\n",
       " Row(user=675, item=286, rating=4),\n",
       " Row(user=675, item=896, rating=5),\n",
       " Row(user=675, item=269, rating=5),\n",
       " Row(user=675, item=312, rating=2),\n",
       " Row(user=675, item=321, rating=2),\n",
       " Row(user=675, item=463, rating=5)]"
      ]
     },
     "execution_count": 61,
     "metadata": {},
     "output_type": "execute_result"
    }
   ],
   "source": [
    "dataset.filter(dataset.user == 675).collect()"
   ]
  },
  {
   "cell_type": "code",
   "execution_count": 62,
   "metadata": {
    "collapsed": false
   },
   "outputs": [
    {
     "data": {
      "text/plain": [
       "[]"
      ]
     },
     "execution_count": 62,
     "metadata": {},
     "output_type": "execute_result"
    }
   ],
   "source": [
    "dataset.filter(dataset.item == 1653).collect()"
   ]
  },
  {
   "cell_type": "code",
   "execution_count": 58,
   "metadata": {
    "collapsed": false,
    "deletable": true,
    "editable": true
   },
   "outputs": [
    {
     "data": {
      "text/plain": [
       "[]"
      ]
     },
     "execution_count": 58,
     "metadata": {},
     "output_type": "execute_result"
    }
   ],
   "source": [
    "dataset.filter((dataset.user == 675) & (dataset.item == 1582)).collect()"
   ]
  },
  {
   "cell_type": "code",
   "execution_count": 59,
   "metadata": {
    "collapsed": true
   },
   "outputs": [],
   "source": [
    "predictions = predictions.dropna()"
   ]
  },
  {
   "cell_type": "code",
   "execution_count": 60,
   "metadata": {
    "collapsed": false
   },
   "outputs": [
    {
     "data": {
      "text/plain": [
       "0.9590533627741923"
      ]
     },
     "execution_count": 60,
     "metadata": {},
     "output_type": "execute_result"
    }
   ],
   "source": [
    "evaluator.evaluate(predictions)"
   ]
  },
  {
   "cell_type": "markdown",
   "metadata": {},
   "source": [
    "## But how do we deal with the cold start in Spark?!"
   ]
  },
  {
   "cell_type": "code",
   "execution_count": 65,
   "metadata": {
    "collapsed": true
   },
   "outputs": [],
   "source": [
    "model = als.fit(dataset, params={als.coldStartStrategy: \"drop\"})"
   ]
  },
  {
   "cell_type": "code",
   "execution_count": 69,
   "metadata": {
    "collapsed": false
   },
   "outputs": [
    {
     "data": {
      "text/plain": [
       "'drop'"
      ]
     },
     "execution_count": 69,
     "metadata": {},
     "output_type": "execute_result"
    }
   ],
   "source": [
    "model.getOrDefault(\"coldStartStrategy\")"
   ]
  },
  {
   "cell_type": "code",
   "execution_count": 70,
   "metadata": {
    "collapsed": true
   },
   "outputs": [],
   "source": [
    "predictions = model.transform(test)"
   ]
  },
  {
   "cell_type": "code",
   "execution_count": 71,
   "metadata": {
    "collapsed": false
   },
   "outputs": [
    {
     "data": {
      "text/plain": [
       "0.9590533627741922"
      ]
     },
     "execution_count": 71,
     "metadata": {},
     "output_type": "execute_result"
    }
   ],
   "source": [
    "evaluator.evaluate(predictions)"
   ]
  },
  {
   "cell_type": "markdown",
   "metadata": {},
   "source": [
    "## Can we do better?"
   ]
  },
  {
   "cell_type": "code",
   "execution_count": 93,
   "metadata": {
    "collapsed": false
   },
   "outputs": [],
   "source": [
    "model = als.fit(dataset, params={als.coldStartStrategy: \"drop\", als.maxIter: 20})"
   ]
  },
  {
   "cell_type": "code",
   "execution_count": 94,
   "metadata": {
    "collapsed": true
   },
   "outputs": [],
   "source": [
    "predictions = model.transform(test)"
   ]
  },
  {
   "cell_type": "code",
   "execution_count": 95,
   "metadata": {
    "collapsed": false
   },
   "outputs": [
    {
     "data": {
      "text/plain": [
       "0.9558872242636991"
      ]
     },
     "execution_count": 95,
     "metadata": {},
     "output_type": "execute_result"
    }
   ],
   "source": [
    "evaluator.evaluate(predictions)"
   ]
  },
  {
   "cell_type": "markdown",
   "metadata": {},
   "source": [
    "## Or even better?"
   ]
  },
  {
   "cell_type": "code",
   "execution_count": 97,
   "metadata": {
    "collapsed": true
   },
   "outputs": [],
   "source": [
    "model = als.fit(dataset, params={als.coldStartStrategy: \"drop\", als.maxIter: 20, als.rank: 100})"
   ]
  },
  {
   "cell_type": "code",
   "execution_count": 98,
   "metadata": {
    "collapsed": true
   },
   "outputs": [],
   "source": [
    "predictions = model.transform(test)"
   ]
  },
  {
   "cell_type": "code",
   "execution_count": 99,
   "metadata": {
    "collapsed": false
   },
   "outputs": [
    {
     "data": {
      "text/plain": [
       "0.9475039684939921"
      ]
     },
     "execution_count": 99,
     "metadata": {},
     "output_type": "execute_result"
    }
   ],
   "source": [
    "evaluator.evaluate(predictions)"
   ]
  },
  {
   "cell_type": "markdown",
   "metadata": {},
   "source": [
    "## What else do we have here?"
   ]
  },
  {
   "cell_type": "code",
   "execution_count": 106,
   "metadata": {
    "collapsed": false
   },
   "outputs": [
    {
     "data": {
      "text/plain": [
       "[Row(item=1342, recommendations=[Row(user=662, rating=3.8292653560638428), Row(user=849, rating=3.3050215244293213), Row(user=212, rating=3.2683603763580322), Row(user=369, rating=3.1982271671295166), Row(user=157, rating=3.150738000869751)]),\n",
       " Row(item=148, recommendations=[Row(user=507, rating=4.532631874084473), Row(user=907, rating=4.493520259857178), Row(user=849, rating=4.490138053894043), Row(user=164, rating=4.4547929763793945), Row(user=438, rating=4.371801376342773)]),\n",
       " Row(item=1088, recommendations=[Row(user=279, rating=3.4358346462249756), Row(user=223, rating=3.288766384124756), Row(user=644, rating=3.0603246688842773), Row(user=642, rating=3.019566059112549), Row(user=688, rating=2.9346206188201904)]),\n",
       " Row(item=1238, recommendations=[Row(user=519, rating=4.759654521942139), Row(user=36, rating=3.95890474319458), Row(user=341, rating=3.7593958377838135), Row(user=507, rating=3.7583060264587402), Row(user=512, rating=3.724473237991333)]),\n",
       " Row(item=471, recommendations=[Row(user=939, rating=4.705004692077637), Row(user=907, rating=4.694290637969971), Row(user=357, rating=4.665385723114014), Row(user=849, rating=4.568941116333008), Row(user=532, rating=4.490878582000732)])]"
      ]
     },
     "execution_count": 106,
     "metadata": {},
     "output_type": "execute_result"
    }
   ],
   "source": [
    "model.recommendForAllItems(5).take(5)"
   ]
  },
  {
   "cell_type": "code",
   "execution_count": 107,
   "metadata": {
    "collapsed": false
   },
   "outputs": [
    {
     "data": {
      "text/plain": [
       "[Row(user=471, recommendations=[Row(item=932, rating=4.59334659576416), Row(item=8, rating=4.515803337097168), Row(item=422, rating=4.430621147155762), Row(item=102, rating=4.418323040008545), Row(item=465, rating=4.4073286056518555)]),\n",
       " Row(user=463, recommendations=[Row(item=19, rating=4.3579511642456055), Row(item=887, rating=4.278357982635498), Row(item=1449, rating=4.222947597503662), Row(item=221, rating=4.208576679229736), Row(item=253, rating=4.199032783508301)]),\n",
       " Row(user=833, recommendations=[Row(item=1597, rating=4.580961227416992), Row(item=1019, rating=4.381778240203857), Row(item=1187, rating=4.379821300506592), Row(item=589, rating=4.34868049621582), Row(item=488, rating=4.308185577392578)]),\n",
       " Row(user=496, recommendations=[Row(item=56, rating=4.302997589111328), Row(item=320, rating=4.296531677246094), Row(item=42, rating=4.181881427764893), Row(item=921, rating=4.170877456665039), Row(item=1240, rating=4.105301856994629)]),\n",
       " Row(user=148, recommendations=[Row(item=169, rating=4.889651298522949), Row(item=1463, rating=4.748968601226807), Row(item=199, rating=4.743557929992676), Row(item=50, rating=4.7148895263671875), Row(item=647, rating=4.702552318572998)])]"
      ]
     },
     "execution_count": 107,
     "metadata": {},
     "output_type": "execute_result"
    }
   ],
   "source": [
    "model.recommendForAllUsers(5).take(5)"
   ]
  },
  {
   "cell_type": "code",
   "execution_count": null,
   "metadata": {
    "collapsed": true
   },
   "outputs": [],
   "source": []
  }
 ],
 "metadata": {
  "kernelspec": {
   "display_name": "Python 3",
   "language": "python",
   "name": "python3"
  },
  "language_info": {
   "codemirror_mode": {
    "name": "ipython",
    "version": 3
   },
   "file_extension": ".py",
   "mimetype": "text/x-python",
   "name": "python",
   "nbconvert_exporter": "python",
   "pygments_lexer": "ipython3",
   "version": "3.6.4"
  }
 },
 "nbformat": 4,
 "nbformat_minor": 2
}
