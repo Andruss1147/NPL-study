{
 "cells": [
  {
   "cell_type": "code",
   "execution_count": 160,
   "metadata": {
    "collapsed": false,
    "deletable": true,
    "editable": true
   },
   "outputs": [
    {
     "name": "stdout",
     "output_type": "stream",
     "text": [
      "Welcome to\n",
      "      ____              __\n",
      "     / __/__  ___ _____/ /__\n",
      "    _\\ \\/ _ \\/ _ `/ __/  '_/\n",
      "   /__ / .__/\\_,_/_/ /_/\\_\\   version 2.3.0\n",
      "      /_/\n",
      "\n",
      "Using Python version 3.6.4 (default, Jan 28 2018 00:00:00)\n",
      "SparkSession available as 'spark'.\n"
     ]
    }
   ],
   "source": [
    "import os\n",
    "import sys\n",
    "os.environ[\"PYSPARK_SUBMIT_ARGS\"]='pyspark-shell'\n",
    "os.environ[\"PYSPARK_PYTHON\"]='python3'\n",
    "os.environ[\"SPARK_HOME\"]='/usr/hdp/current/spark2-client'\n",
    "\n",
    "spark_home = os.environ.get('SPARK_HOME', None)\n",
    "if not spark_home:\n",
    "    raise ValueError('SPARK_HOME environment variable is not set')\n",
    "sys.path.insert(0, os.path.join(spark_home, 'python'))\n",
    "sys.path.insert(0, os.path.join(spark_home, 'python/lib/py4j-0.10.4-src.zip'))\n",
    "os.environ[\"PYSPARK_PYTHON\"] = 'python3'\n",
    "exec(open(os.path.join(spark_home, 'python/pyspark/shell.py')).read())"
   ]
  },
  {
   "cell_type": "markdown",
   "metadata": {
    "deletable": true,
    "editable": true
   },
   "source": [
    "![kmeans](pics/kmeans.svg)"
   ]
  },
  {
   "cell_type": "markdown",
   "metadata": {
    "deletable": true,
    "editable": true
   },
   "source": [
    "![kmeans_algo](pics/kmeans_algo.png)"
   ]
  },
  {
   "cell_type": "code",
   "execution_count": 162,
   "metadata": {
    "collapsed": false,
    "deletable": true,
    "editable": true
   },
   "outputs": [
    {
     "data": {
      "text/html": [
       "\n",
       "            <div>\n",
       "                <p><b>SparkSession - hive</b></p>\n",
       "                \n",
       "        <div>\n",
       "            <p><b>SparkContext</b></p>\n",
       "\n",
       "            <p><a href=\"http://master.nplcloud.com:4053\">Spark UI</a></p>\n",
       "\n",
       "            <dl>\n",
       "              <dt>Version</dt>\n",
       "                <dd><code>v2.3.0</code></dd>\n",
       "              <dt>Master</dt>\n",
       "                <dd><code>yarn</code></dd>\n",
       "              <dt>AppName</dt>\n",
       "                <dd><code>pyspark-shell</code></dd>\n",
       "            </dl>\n",
       "        </div>\n",
       "        \n",
       "            </div>\n",
       "        "
      ],
      "text/plain": [
       "<pyspark.sql.session.SparkSession at 0x7f1d6a960ac8>"
      ]
     },
     "execution_count": 162,
     "metadata": {},
     "output_type": "execute_result"
    }
   ],
   "source": [
    "spark"
   ]
  },
  {
   "cell_type": "code",
   "execution_count": 163,
   "metadata": {
    "collapsed": true,
    "deletable": true,
    "editable": true
   },
   "outputs": [],
   "source": [
    "from pyspark.sql.types import *"
   ]
  },
  {
   "cell_type": "code",
   "execution_count": 164,
   "metadata": {
    "collapsed": true,
    "deletable": true,
    "editable": true
   },
   "outputs": [],
   "source": [
    "import pandas as pd"
   ]
  },
  {
   "cell_type": "code",
   "execution_count": 165,
   "metadata": {
    "collapsed": true,
    "deletable": true,
    "editable": true
   },
   "outputs": [],
   "source": [
    "df = pd.read_csv(\"/data/home/pavel.klemenkov/lectures/lecture03/toxic_comment/train.csv\")\n",
    "df.fillna(\"\", inplace=True)"
   ]
  },
  {
   "cell_type": "code",
   "execution_count": 166,
   "metadata": {
    "collapsed": true,
    "deletable": true,
    "editable": true
   },
   "outputs": [],
   "source": [
    "schema = StructType([\n",
    "    StructField(\"id\", StringType()),\n",
    "    StructField(\"comment_text\", StringType()),\n",
    "    StructField(\"toxic\", IntegerType()),\n",
    "    StructField(\"severe_toxic\", IntegerType()),\n",
    "    StructField(\"obscene\", IntegerType()),\n",
    "    StructField(\"threat\", IntegerType()),\n",
    "    StructField(\"insult\", IntegerType()),\n",
    "    StructField(\"identity_hate\", IntegerType())\n",
    "])"
   ]
  },
  {
   "cell_type": "code",
   "execution_count": 167,
   "metadata": {
    "collapsed": true,
    "deletable": true,
    "editable": true
   },
   "outputs": [],
   "source": [
    "dataset = spark.createDataFrame(df, schema=schema)"
   ]
  },
  {
   "cell_type": "code",
   "execution_count": 168,
   "metadata": {
    "collapsed": false,
    "deletable": true,
    "editable": true
   },
   "outputs": [
    {
     "data": {
      "text/plain": [
       "2"
      ]
     },
     "execution_count": 168,
     "metadata": {},
     "output_type": "execute_result"
    }
   ],
   "source": [
    "dataset.rdd.getNumPartitions()"
   ]
  },
  {
   "cell_type": "code",
   "execution_count": 169,
   "metadata": {
    "collapsed": true,
    "deletable": true,
    "editable": true
   },
   "outputs": [],
   "source": [
    "dataset = dataset.repartition(4).cache()"
   ]
  },
  {
   "cell_type": "code",
   "execution_count": 170,
   "metadata": {
    "collapsed": false,
    "deletable": true,
    "editable": true
   },
   "outputs": [
    {
     "data": {
      "text/plain": [
       "DataFrame[id: string, comment_text: string, toxic: int, severe_toxic: int, obscene: int, threat: int, insult: int, identity_hate: int]"
      ]
     },
     "execution_count": 170,
     "metadata": {},
     "output_type": "execute_result"
    }
   ],
   "source": [
    "dataset"
   ]
  },
  {
   "cell_type": "code",
   "execution_count": 171,
   "metadata": {
    "collapsed": true,
    "deletable": true,
    "editable": true
   },
   "outputs": [],
   "source": [
    "from pyspark.ml.feature import *"
   ]
  },
  {
   "cell_type": "code",
   "execution_count": 172,
   "metadata": {
    "collapsed": true,
    "deletable": true,
    "editable": true
   },
   "outputs": [],
   "source": [
    "tokenizer = Tokenizer(inputCol=\"comment_text\", outputCol=\"words\")"
   ]
  },
  {
   "cell_type": "code",
   "execution_count": 173,
   "metadata": {
    "collapsed": true,
    "deletable": true,
    "editable": true
   },
   "outputs": [],
   "source": [
    "stop_words = StopWordsRemover.loadDefaultStopWords(\"english\")"
   ]
  },
  {
   "cell_type": "code",
   "execution_count": 174,
   "metadata": {
    "collapsed": true,
    "deletable": true,
    "editable": true
   },
   "outputs": [],
   "source": [
    "swr = StopWordsRemover(inputCol=tokenizer.getOutputCol(), outputCol=\"words_filtered\", stopWords=stop_words)"
   ]
  },
  {
   "cell_type": "code",
   "execution_count": 175,
   "metadata": {
    "collapsed": true,
    "deletable": true,
    "editable": true
   },
   "outputs": [],
   "source": [
    "count_vectorizer = CountVectorizer(inputCol=swr.getOutputCol(), outputCol=\"word_vector\", vocabSize=200)"
   ]
  },
  {
   "cell_type": "code",
   "execution_count": 176,
   "metadata": {
    "collapsed": true,
    "deletable": true,
    "editable": true
   },
   "outputs": [],
   "source": [
    "from pyspark.ml import Pipeline"
   ]
  },
  {
   "cell_type": "code",
   "execution_count": 177,
   "metadata": {
    "collapsed": true,
    "deletable": true,
    "editable": true
   },
   "outputs": [],
   "source": [
    "preprocessing = Pipeline(stages=[\n",
    "    tokenizer,\n",
    "    swr,\n",
    "    count_vectorizer\n",
    "])"
   ]
  },
  {
   "cell_type": "code",
   "execution_count": 178,
   "metadata": {
    "collapsed": true,
    "deletable": true,
    "editable": true
   },
   "outputs": [],
   "source": [
    "preprocessing_model = preprocessing.fit(dataset)"
   ]
  },
  {
   "cell_type": "code",
   "execution_count": 179,
   "metadata": {
    "collapsed": false,
    "deletable": true,
    "editable": true
   },
   "outputs": [],
   "source": [
    "preprocessed_dataset = preprocessing_model.transform(dataset)"
   ]
  },
  {
   "cell_type": "code",
   "execution_count": 180,
   "metadata": {
    "collapsed": false,
    "deletable": true,
    "editable": true
   },
   "outputs": [
    {
     "data": {
      "text/plain": [
       "[Row(word_vector=SparseVector(200, {0: 6.0, 1: 1.0, 70: 1.0, 78: 1.0, 101: 1.0, 179: 1.0})),\n",
       " Row(word_vector=SparseVector(200, {0: 2.0, 2: 1.0, 6: 1.0, 15: 1.0, 19: 2.0, 20: 1.0, 22: 1.0, 33: 1.0, 64: 1.0, 66: 1.0, 69: 1.0, 80: 1.0, 89: 1.0, 108: 1.0, 109: 1.0, 114: 1.0, 128: 1.0, 133: 1.0, 152: 1.0, 157: 1.0})),\n",
       " Row(word_vector=SparseVector(200, {0: 5.0, 1: 2.0, 59: 1.0, 69: 1.0, 87: 1.0, 100: 1.0, 194: 3.0, 198: 2.0})),\n",
       " Row(word_vector=SparseVector(200, {0: 3.0, 4: 1.0, 66: 1.0, 67: 1.0, 83: 1.0, 90: 1.0, 151: 1.0})),\n",
       " Row(word_vector=SparseVector(200, {0: 8.0, 1: 2.0, 2: 5.0, 3: 1.0, 4: 2.0, 9: 1.0, 10: 1.0, 11: 1.0, 14: 3.0, 21: 1.0, 31: 1.0, 46: 1.0, 55: 1.0, 59: 4.0, 63: 1.0, 65: 1.0, 67: 1.0, 69: 3.0, 100: 1.0, 106: 1.0, 108: 1.0, 121: 6.0, 160: 2.0, 168: 2.0, 171: 2.0}))]"
      ]
     },
     "execution_count": 180,
     "metadata": {},
     "output_type": "execute_result"
    }
   ],
   "source": [
    "preprocessed_dataset.select([\"word_vector\"]).take(5)"
   ]
  },
  {
   "cell_type": "code",
   "execution_count": 181,
   "metadata": {
    "collapsed": false,
    "deletable": true,
    "editable": true
   },
   "outputs": [
    {
     "data": {
      "text/plain": [
       "DataFrame[id: string, comment_text: string, toxic: int, severe_toxic: int, obscene: int, threat: int, insult: int, identity_hate: int]"
      ]
     },
     "execution_count": 181,
     "metadata": {},
     "output_type": "execute_result"
    }
   ],
   "source": [
    "dataset"
   ]
  },
  {
   "cell_type": "code",
   "execution_count": 182,
   "metadata": {
    "collapsed": true,
    "deletable": true,
    "editable": true
   },
   "outputs": [],
   "source": [
    "from pyspark.ml.clustering import KMeans"
   ]
  },
  {
   "cell_type": "code",
   "execution_count": 183,
   "metadata": {
    "collapsed": true,
    "deletable": true,
    "editable": true
   },
   "outputs": [],
   "source": [
    "kmeans = KMeans(featuresCol=\"word_vector\", k=6, seed=5757)"
   ]
  },
  {
   "cell_type": "code",
   "execution_count": 184,
   "metadata": {
    "collapsed": true,
    "deletable": true,
    "editable": true
   },
   "outputs": [],
   "source": [
    "kmeans_model = kmeans.fit(preprocessed_dataset)"
   ]
  },
  {
   "cell_type": "code",
   "execution_count": 52,
   "metadata": {
    "collapsed": true,
    "deletable": true,
    "editable": true
   },
   "outputs": [],
   "source": [
    "clustering = kmeans_model.transform(preprocessed_dataset)"
   ]
  },
  {
   "cell_type": "code",
   "execution_count": 58,
   "metadata": {
    "collapsed": false,
    "deletable": true,
    "editable": true
   },
   "outputs": [
    {
     "data": {
      "text/plain": [
       "[Row(toxic=0, severe_toxic=0, obscene=0, threat=0, insult=0, identity_hate=0, prediction=0),\n",
       " Row(toxic=0, severe_toxic=0, obscene=0, threat=0, insult=0, identity_hate=0, prediction=0),\n",
       " Row(toxic=0, severe_toxic=0, obscene=0, threat=0, insult=0, identity_hate=0, prediction=0),\n",
       " Row(toxic=0, severe_toxic=0, obscene=0, threat=0, insult=0, identity_hate=0, prediction=0),\n",
       " Row(toxic=1, severe_toxic=1, obscene=1, threat=0, insult=1, identity_hate=1, prediction=0),\n",
       " Row(toxic=1, severe_toxic=0, obscene=0, threat=0, insult=0, identity_hate=0, prediction=0),\n",
       " Row(toxic=0, severe_toxic=0, obscene=0, threat=0, insult=0, identity_hate=0, prediction=0),\n",
       " Row(toxic=0, severe_toxic=0, obscene=1, threat=0, insult=1, identity_hate=0, prediction=0),\n",
       " Row(toxic=0, severe_toxic=0, obscene=0, threat=0, insult=0, identity_hate=0, prediction=0),\n",
       " Row(toxic=0, severe_toxic=0, obscene=0, threat=0, insult=0, identity_hate=0, prediction=0)]"
      ]
     },
     "execution_count": 58,
     "metadata": {},
     "output_type": "execute_result"
    }
   ],
   "source": [
    "clustering[clustering.columns[2:8] + [\"prediction\"]].take(10)"
   ]
  },
  {
   "cell_type": "code",
   "execution_count": 59,
   "metadata": {
    "collapsed": true,
    "deletable": true,
    "editable": true
   },
   "outputs": [],
   "source": [
    "from pyspark.ml.evaluation import ClusteringEvaluator"
   ]
  },
  {
   "cell_type": "code",
   "execution_count": 60,
   "metadata": {
    "collapsed": true,
    "deletable": true,
    "editable": true
   },
   "outputs": [],
   "source": [
    "evaluator = ClusteringEvaluator(featuresCol=\"word_vector\")"
   ]
  },
  {
   "cell_type": "code",
   "execution_count": 61,
   "metadata": {
    "collapsed": false,
    "deletable": true,
    "editable": true
   },
   "outputs": [
    {
     "data": {
      "text/plain": [
       "0.5840461751006454"
      ]
     },
     "execution_count": 61,
     "metadata": {},
     "output_type": "execute_result"
    }
   ],
   "source": [
    "evaluator.evaluate(clustering)"
   ]
  },
  {
   "cell_type": "code",
   "execution_count": 63,
   "metadata": {
    "collapsed": false,
    "deletable": true,
    "editable": true
   },
   "outputs": [
    {
     "data": {
      "text/plain": [
       "[Row(comment_text='\"Contents of the library (objects and functions to be used outside, situation\\nlate August 2004)\\n\\nClasses:\\nPage: A MediaWiki page\\n    __init__               Page(Site, Title) - the page with title Title on wikimedia site Site\\n    title                  The name of the page, in a form suitable for an interwiki link\\n    urlname                The name of the page, in a form suitable for a URL\\n    titleWithoutNamespace  The name of the page, with the namespace part removed\\n    section                The section of the page (the part of the name after \\'#\\')\\n    sectionFreeTitle       The name without the section part\\n    aslink                 The name of the page in the form Title or lang:Title\\n    site                   The wiki this page is in\\n    encoding               The encoding of the page\\n    isAutoTitle            If the title is a well known, auto-translatable title\\n    autoFormat             Returns (dictName, value), where value can be a year, date, etc.,\\n                            and dictName is \\'YearBC\\', \\'December\\', etc.\\n    isCategory             True if the page is a category, false otherwise\\n    isImage                True if the page is an image, false otherwise\\n\\n    get (*)                The text of the page\\n    exists (*)             True if the page actually exists, false otherwise\\n    isRedirectPage (*)     True if the page is a redirect, false otherwise\\n    isEmpty (*)            True if the page has 4 characters or less content, not\\n                            counting interwiki and category links\\n    botMayEdit (*)         True if bot is allowed to edit page\\n    interwiki (*)          The interwiki links from the page (list of Pages)\\n    categories (*)         The categories the page is in (list of Pages)\\n    linkedPages (*)        The normal pages linked from the page (list of Pages)\\n    imagelinks (*)         The pictures on the page (list of ImagePages)\\n    templates (*)          All templates referenced on the page (list of strings)\\n    getRedirectTarget (*)  The page the page redirects to\\n    isDisambig (*)         True if the page is a disambiguation page\\n    getReferences          List of pages linking to the page\\n    namespace              The namespace in which the page is\\n    permalink (*)          The url of the permalink of the current version\\n    move                   Move the page to another title\\n    put(newtext)           Saves the page\\n    put_async(newtext)     Queues the page to be saved asynchronously\\n    delete                 Deletes the page (requires being logged in)\\n\\n    (*)  This loads the page if it has not been loaded before; permalink might\\n          even reload it if it has been loaded before\\n\\nSite: a MediaWiki site\\n    messages               There are new messages on the site\\n    forceLogin()           Does not continue until the user has logged in to\\n                            the site\\n    getUrl()               Retrieve an URL from the site\\n    mediawiki_message(key): Retrieve the text of the MediaWiki message with\\n                            the key \"\"key\"\"\\n    has_mediawiki_message(key)  True if this site defines a MediaWiki message\\n                                 with the key \"\"key\"\"\\n    Special pages:\\n        Dynamic pages:\\n            allpages(): Special:Allpages\\n            newpages(): Special:Newpages\\n            longpages(): Special:Longpages\\n            shortpages(): Special:Shortpages\\n            categories(): Special:Categories\\n\\n        Cached pages:\\n            deadendpages(): Special:Deadendpages\\n            ancientpages(): Special:Ancientpages\\n            lonelypages(): Special:Lonelypages\\n            uncategorizedcategories(): Special:Uncategorizedcategories\\n            uncategorizedpages(): Special:Uncategorizedpages\\n            unusedcategories(): Special:Unusuedcategories\\n\\nOther functions:\\ngetall(): Load pages via Special:Export\\nsetAction(text): Use \\'text\\' instead of \"\"Wikipedia python library\"\" in\\n    editsummaries\\nhandleArgs(): Checks whether text is an argument defined on wikipedia.py\\n    (these are -family, -lang, -log and others)\\ntranslate(xx, dict): dict is a dictionary, giving text depending on language,\\n    xx is a language. Returns the text in the most applicable language for\\n    the xx: wiki\\nsetUserAgent(text): Sets the string being passed to the HTTP server as\\n    the User-agent: header. Defaults to \\'Pywikipediabot/1.0\\'.\\n\\noutput(text): Prints the text \\'text\\' in the encoding of the user\\'s console.NEWL'),\n",
       " Row(comment_text='Lots More Abstracts\\nSmithsonian/NASA Astrophysics Data System (ADS)\\nQuery Results from the Instrumentation Database\\nRetrieved 100 abstracts, starting with number 1. Total number selected: 637550.\\n-\\n Bibcode \\n Score Date List of Links \\n Authors \\n Title \\n Access Control Help \\n\\n \\n1  1977OSAJ...67..399G \\n 1.000 03/1977 A                                              C                      U       \\n Grosso, R. P.; Yellin, M. \\n The membrane mirror as an adaptive optical element \\n\\n \\n2  1976SPIE...75...97Y \\n 0.456 00/1976 A                                  T  M                                       \\n Yellin, M. \\n Using membrane mirrors in adaptive optics \\n\\n \\n3  1993SPIE.1945..421M \\n 0.367 11/1993 A                                  T  M                              U       \\n Miller, Linda M.; Agronin, Michael L.; Bartman, Randall K.; Kaiser, William J.; Kenny, Thomas W.; Norton, Robert L.; Vote, Erika C. \\n Fabrication and characterization of a micromachined deformable mirror for adaptive optics applications \\n\\n \\n4  1991SPIE.1542..165C \\n 0.331 12/1991 A                                  T  M      C                               \\n Clampin, M.; Durrance, S. T.; Golimowski, D. A.; Barkhouser, R. H. \\n The Johns Hopkins Adaptive Optics Coronagraph \\n\\n \\n5  2000SPIE.4091...83Y \\n 0.322 10/2000 A                                  T  M                              U       \\n Yang, Eui-Hyeok; Wiberg, Dean V.; Dekany, Richard G. \\n Design and fabrication of electrostatic actuators with corrugated membranes for MEMS deformable mirror in space \\n\\n \\n6  2000SPIE.4075...41R \\n 0.321 09/2000 A                                  T  M                              U       \\n Ross, Alan W.; Graham, Stephen C.; Gundlach, Alan M.; Stevenson, J. Tom M.; Hossack, William J.; Vass, David G.; Bodammer, Georg; Smith, Euan; Ward, Kevin \\n Microfabrication and packaging of deformable mirror devices \\n\\n \\n7  1994SPIE.2201..762T \\n 0.315 05/1994 A                                  T  M      C                      U       \\n Takami, Hideki; Iye, Masanori \\n Membrane deformable mirror for SUBARU adaptive optics \\n\\n \\n8  1999SPIE.3785..160W \\n 0.315 10/1999 A                                  T  M                                       \\n Winsor, Robert S.; Sivaramakrishnan, Anand; Makidon, Russell B. \\n Finite element analysis of low-cost membrane deformable mirrors for high-order adaptive optics \\n\\n \\n9  2000SPIE.4348..348B \\n 0.302 02/2000 A                                  T  M                                       \\n Borovkov, Alexei I.; Pyatishev, Evgenij N.; Lurie, Mihail S.; Korshunov, Andrey V.; Akulshin, Y. D.; Dolganov, A. G.; Sabadash, V. O. \\n Micronozzles: 3D numerical structural and gas dynamics modeling, fabrication, and preliminary experimental results \\n\\n \\n10  1999SPIE.3591..137Z \\n 0.298 06/1999 A                                  T  M                                       \\n Zhu, Lijun; Sun, Pang Chen; Bartsch, Dirk-Uwe G.; Freeman, William R.; Fainman, Yeshaiahu \\n Adaptive fundus imaging using a micromachined membrane deformable mirror \\n\\n \\n11  2001SPIE.4327...13W \\n 0.297 08/2001 A                                  T  M      C                               \\n Wagner, John W.; Agnes, Gregory S. \\n Optical metrology of adaptive membrane mirrors \\n\\n \\n12  2002OptEn..41..561P \\n 0.297 03/2002 A      E  F                              R                          U       \\n Perreault, Julie A.; Bifano, Thomas G.; Levine, Bruce M.; Horenstein, Mark N. \\n Adaptive optic'),\n",
       " Row(comment_text='I am a bad egg      I am a bad egg      I am a bad egg      I am a bad egg      I am a bad egg      I am a bad egg      I am a bad egg      I am a bad egg      I am a bad egg      I am a bad egg      I am a bad egg      I am a bad egg      I am a bad egg      I am a bad egg      I am a bad egg      I am a bad egg      I am a bad egg      I am a bad egg      I am a bad egg      I am a bad egg      I am a bad egg      I am a bad egg      I am a bad egg      I am a bad egg      I am a bad egg      I am a bad egg      I am a bad egg      I am a bad egg      I am a bad egg      I am a bad egg      I am a bad egg      I am a bad egg      I am a bad egg      I am a bad egg      I am a bad egg      I am a bad egg      I am a bad egg      I am a bad egg      I am a bad egg      I am a bad egg      I am a bad egg      I am a bad egg      I am a bad egg      I am a bad egg      I am a bad egg      I am a bad egg      I am a bad egg      I am a bad egg      I am a bad egg      I am a bad egg      I am a bad egg      I am a bad egg      I am a bad egg      I am a bad egg      I am a bad egg      I am a bad egg      I am a bad egg      I am a bad egg      I am a bad egg      I am a bad egg      I am a bad egg      I am a bad egg      I am a bad egg      I am a bad egg      I am a bad egg      I am a bad egg      I am a bad egg      I am a bad egg      I am a bad egg      I am a bad egg      I am a bad egg      I am a bad egg      I am a bad egg      I am a bad egg      I am a bad egg      I am a bad egg      I am a bad egg      I am a bad egg      I am a bad egg      I am a bad egg      I am a bad egg      I am a bad egg      I am a bad egg      I am a bad egg      I am a bad egg      I am a bad egg      I am a bad egg      I am a bad egg      I am a bad egg      I am a bad egg      I am a bad egg      I am a bad egg      I am a bad egg      I am a bad egg      I am a bad egg      I am a bad egg      I am a bad egg      I am a bad egg      I am a bad egg      I am a bad egg      I am a bad egg      I am a bad egg      I am a bad egg      I am a bad egg      I am a bad egg      I am a bad egg      I am a bad egg      I am a bad egg      I am a bad egg      I am a bad egg      I am a bad egg      I am a bad egg      I am a bad egg      I am a bad egg      I am a bad egg      I am a bad egg      I am a bad egg      I am a bad egg      I am a bad egg      I am a bad egg      I am a bad egg      I am a bad egg      I am a bad egg      I am a bad egg      I am a bad egg      I am a bad egg      I am a bad egg      I am a bad egg      I am a bad egg      I am a bad egg      I am a bad egg      I am a bad egg      I am a bad egg      I am a bad egg      I am a bad egg      I am a bad egg      I am a bad egg      I am a bad egg      I am a bad egg      I am a bad egg      I am a bad egg      I am a bad egg      I am a bad egg      I am a bad egg      I am a bad egg      I am a bad egg      I am a bad egg      I am a bad egg      I am a bad egg      I am a bad egg      I am a bad egg      I am a bad egg      I am a bad egg      I am a bad egg      I am a bad egg      I am a bad egg      I am a bad egg      I am a bad egg      I am a bad egg      I am a bad egg      I am a bad egg      I am a bad egg      I am a bad egg      I am a bad egg      I am a bad egg      I am a bad egg      I am a bad egg      I am a bad egg      I am a bad egg      I am a bad egg      I am a bad egg      I am a bad egg      I am a bad egg      I am a bad egg      I am a bad egg      I am a bad egg      I am a bad egg      I am a bad egg      I am a bad egg      I am a bad egg      I am a bad egg      I am a bad egg      I am a bad egg      I am a bad egg      I am a bad egg      I am a bad egg      I am a bad egg      I am a bad egg      I am a bad egg      I am a bad egg      I am a bad egg      I am a bad egg      I am a bad egg      I am a bad egg      I am a bad egg      I am a bad egg      I am a bad egg      I am a bad egg      I am a bad egg      I am a bad egg      I am a bad egg'),\n",
       " Row(comment_text='ANAL RAPE     ANAL RAPE     ANAL RAPE     ANAL RAPE     ANAL RAPE     ANAL RAPE     ANAL RAPE     ANAL RAPE     ANAL RAPE     ANAL RAPE     \\nANAL RAPE     ANAL RAPE     ANAL RAPE     ANAL RAPE     ANAL RAPE     ANAL RAPE     ANAL RAPE     ANAL RAPE     ANAL RAPE     ANAL RAPE     \\nANAL RAPE     ANAL RAPE     ANAL RAPE     ANAL RAPE     ANAL RAPE     ANAL RAPE     ANAL RAPE     ANAL RAPE     ANAL RAPE     ANAL RAPE     \\nANAL RAPE     ANAL RAPE     ANAL RAPE     ANAL RAPE     ANAL RAPE     ANAL RAPE     ANAL RAPE     ANAL RAPE     ANAL RAPE     ANAL RAPE     \\nANAL RAPE     ANAL RAPE     ANAL RAPE     ANAL RAPE     ANAL RAPE     ANAL RAPE     ANAL RAPE     ANAL RAPE     ANAL RAPE     ANAL RAPE     \\nANAL RAPE     ANAL RAPE     ANAL RAPE     ANAL RAPE     ANAL RAPE     ANAL RAPE     ANAL RAPE     ANAL RAPE     ANAL RAPE     ANAL RAPE     \\nANAL RAPE     ANAL RAPE     ANAL RAPE     ANAL RAPE     ANAL RAPE     ANAL RAPE     ANAL RAPE     ANAL RAPE     ANAL RAPE     ANAL RAPE     \\nANAL RAPE     ANAL RAPE     ANAL RAPE     ANAL RAPE     ANAL RAPE     ANAL RAPE     ANAL RAPE     ANAL RAPE     ANAL RAPE     ANAL RAPE     \\nANAL RAPE     ANAL RAPE     ANAL RAPE     ANAL RAPE     ANAL RAPE     ANAL RAPE     ANAL RAPE     ANAL RAPE     ANAL RAPE     ANAL RAPE     \\nANAL RAPE     ANAL RAPE     ANAL RAPE     ANAL RAPE     ANAL RAPE     ANAL RAPE     ANAL RAPE     ANAL RAPE     ANAL RAPE     ANAL RAPE     \\nANAL RAPE     ANAL RAPE     ANAL RAPE     ANAL RAPE     ANAL RAPE     ANAL RAPE     ANAL RAPE     ANAL RAPE     ANAL RAPE     ANAL RAPE     \\nANAL RAPE     ANAL RAPE     ANAL RAPE     ANAL RAPE     ANAL RAPE     ANAL RAPE     ANAL RAPE     ANAL RAPE     ANAL RAPE     ANAL RAPE     \\nANAL RAPE     ANAL RAPE     ANAL RAPE     ANAL RAPE     ANAL RAPE     ANAL RAPE     ANAL RAPE     ANAL RAPE     ANAL RAPE     ANAL RAPE     \\nANAL RAPE     ANAL RAPE     ANAL RAPE     ANAL RAPE     ANAL RAPE     ANAL RAPE     ANAL RAPE     ANAL RAPE     ANAL RAPE     ANAL RAPE     \\nANAL RAPE     ANAL RAPE     ANAL RAPE     ANAL RAPE     ANAL RAPE     ANAL RAPE     ANAL RAPE     ANAL RAPE     ANAL RAPE     ANAL RAPE     \\nANAL RAPE     ANAL RAPE     ANAL RAPE     ANAL RAPE     ANAL RAPE     ANAL RAPE     ANAL RAPE     ANAL RAPE     ANAL RAPE     ANAL RAPE     \\nANAL RAPE     ANAL RAPE     ANAL RAPE     ANAL RAPE     ANAL RAPE     ANAL RAPE     ANAL RAPE     ANAL RAPE     ANAL RAPE     ANAL RAPE     \\nANAL RAPE     ANAL RAPE     ANAL RAPE     ANAL RAPE     ANAL RAPE     ANAL RAPE     ANAL RAPE     ANAL RAPE     ANAL RAPE     ANAL RAPE     \\nANAL RAPE     ANAL RAPE     ANAL RAPE     ANAL RAPE     ANAL RAPE     ANAL RAPE     ANAL RAPE     ANAL RAPE     ANAL RAPE     ANAL RAPE     \\nANAL RAPE     ANAL RAPE     ANAL RAPE     ANAL RAPE     ANAL RAPE     ANAL RAPE     ANAL RAPE     ANAL RAPE     ANAL RAPE     ANAL RAPE     \\nANAL RAPE     ANAL RAPE     ANAL RAPE     ANAL RAPE     ANAL RAPE     ANAL RAPE     ANAL RAPE     ANAL RAPE     ANAL RAPE     ANAL RAPE     \\nANAL RAPE     ANAL RAPE     ANAL RAPE     ANAL RAPE     ANAL RAPE     ANAL RAPE     ANAL RAPE     ANAL RAPE     ANAL RAPE     ANAL RAPE     \\nANAL RAPE     ANAL RAPE     ANAL RAPE     ANAL RAPE     ANAL RAPE     ANAL RAPE     ANAL RAPE     ANAL RAPE     ANAL RAPE     ANAL RAPE     \\nANAL RAPE     ANAL RAPE     ANAL RAPE     ANAL RAPE     ANAL RAPE     ANAL RAPE     ANAL RAPE     ANAL RAPE     ANAL RAPE     ANAL RAPE     \\nANAL RAPE     ANAL RAPE     ANAL RAPE     ANAL RAPE     ANAL RAPE     ANAL RAPE     ANAL RAPE     ANAL RAPE     ANAL RAPE     ANAL RAPE     \\nANAL RAPE     ANAL RAPE     ANAL RAPE     ANAL RAPE     ANAL RAPE     ANAL RAPE     ANAL RAPE     ANAL RAPE     ANAL RAPE     ANAL RAPE     \\nANAL RAPE     ANAL RAPE     ANAL RAPE     ANAL RAPE     ANAL RAPE     ANAL RAPE     ANAL RAPE     ANAL RAPE     ANAL RAPE     ANAL RAPE     \\nANAL RAPE     ANAL RAPE     ANAL RAPE     ANAL RAPE     ANAL RAPE     ANAL RAPE     ANAL RAPE     ANAL RAPE     ANAL RAPE     ANAL RAPE     \\nANAL RAPE     ANAL RAPE     ANAL RAPE     ANAL RAPE     ANAL RAPE     ANAL RAPE     ANAL RAPE     ANAL RAPE     ANAL RAPE     ANAL RAPE     \\nANAL RAPE     ANAL RAPE     ANAL RAPE     ANAL RAPE     ANAL RAPE     ANAL RAPE     ANAL RAPE     ANAL RAPE     ANAL RAPE     ANAL RAPE     \\nANAL RAPE     ANAL RAPE     ANAL RAPE     ANAL RAPE     ANAL RAPE     ANAL RAPE     ANAL RAPE     ANAL RAPE     ANAL RAPE     ANAL RAPE     \\nANAL RAPE     ANAL RAPE     ANAL RAPE     ANAL RAPE     ANAL RAPE     ANAL RAPE     ANAL RAPE     ANAL RAPE     ANAL RAPE     ANAL RAPE     \\nANAL RAPE     ANAL RAPE     ANAL RAPE     ANAL RAPE     ANAL RAPE     ANAL RAPE     ANAL RAPE     ANAL RAPE     ANAL RAPE     ANAL RAPE     \\nANAL RAPE     ANAL RAPE     ANAL RAPE     ANAL RAPE     ANAL RAPE     ANAL RAPE     ANAL RAPE     ANAL RAPE     ANAL RAPE     ANAL RAPE     \\nAN'),\n",
       " Row(comment_text='....... \\nnow that i think about it, luna means moon and satin means devil!\\nso that means you are the moon devil who else would be the moon devil\\nbut the person who disabled my ACCOUNT!!! ( if trevor is reading this \\nthen i want to say that i love that snowman, i tred to make one but it\\ndidnt work(scroll down))\\n\\nfurther\\n\\neven further\\n\\nalmost there....\\n\\n __\\n(**)\\n( .)\\n(. )\\n                          O   \\n                         O O                  \\n                        O   O                        \\n                       O     O                            \\n                      O       O                      \\n                     O         O                       \\n                    O           O                     \\n                   O             O               \\n                  O               O                                                             \\n                 O                 O          \\n                O                   O       \\n               O                     O         \\n              O                       O         \\n             O                         O\\n            OOOOOOOOOOOOOOOOOOOOOOOOOOOO                               \\n           O  O                      O  O                             \\n          O    O                    O    O                    \\n         O      O                  O      O                        \\n        O        O                O        O                         \\n       O          O              O          O               \\n      O            O            O            O              \\n     O              O          O              O     \\n    O                O        O                O                     \\n   O                  O      O                  O                                    \\n  O                    O    O                    O                                               \\n O                      O  O                      O                          \\nO                        OO                        O \\nOOOOOOOOOOOOOOOOOOOOOOOOOOOOOOOOOOOOOOOOOOOOOOOOOOOOO  SKILLS! IT TOOK 20 MINUTES TOO MAKE')]"
      ]
     },
     "execution_count": 63,
     "metadata": {},
     "output_type": "execute_result"
    }
   ],
   "source": [
    "clustering.filter(clustering.prediction == 1)[[\"comment_text\"]].take(5)"
   ]
  },
  {
   "cell_type": "code",
   "execution_count": 64,
   "metadata": {
    "collapsed": true,
    "deletable": true,
    "editable": true
   },
   "outputs": [],
   "source": [
    "kmeans = KMeans(featuresCol=\"word_vector\", k=2)"
   ]
  },
  {
   "cell_type": "code",
   "execution_count": 65,
   "metadata": {
    "collapsed": true,
    "deletable": true,
    "editable": true
   },
   "outputs": [],
   "source": [
    "kmeans_model = kmeans.fit(preprocessed_dataset)"
   ]
  },
  {
   "cell_type": "code",
   "execution_count": 66,
   "metadata": {
    "collapsed": true,
    "deletable": true,
    "editable": true
   },
   "outputs": [],
   "source": [
    "clustering = kmeans_model.transform(preprocessed_dataset)"
   ]
  },
  {
   "cell_type": "code",
   "execution_count": 67,
   "metadata": {
    "collapsed": false,
    "deletable": true,
    "editable": true
   },
   "outputs": [
    {
     "data": {
      "text/plain": [
       "0.9994404484935098"
      ]
     },
     "execution_count": 67,
     "metadata": {},
     "output_type": "execute_result"
    }
   ],
   "source": [
    "evaluator.evaluate(clustering)"
   ]
  },
  {
   "cell_type": "code",
   "execution_count": 76,
   "metadata": {
    "collapsed": false,
    "deletable": true,
    "editable": true
   },
   "outputs": [
    {
     "data": {
      "text/plain": [
       "[array([3.0109565 , 0.51180268, 0.24449041, 0.17984831, 0.17243325,\n",
       "        0.16500564, 0.15431867, 0.14628306, 0.14062304, 0.14034725,\n",
       "        0.11886674, 0.11762567, 0.10255735, 0.10247587, 0.09564999,\n",
       "        0.09480381, 0.0941394 , 0.09082362, 0.08216748, 0.08130876,\n",
       "        0.07923405, 0.07139275, 0.07050896, 0.06879153, 0.06503071,\n",
       "        0.06314404, 0.06249216, 0.06222264, 0.06039865, 0.05926413,\n",
       "        0.05809828, 0.05765325, 0.05692616, 0.0554093 , 0.05474489,\n",
       "        0.0546446 , 0.05430613, 0.05344114, 0.05312147, 0.05280807,\n",
       "        0.05084618, 0.05274539, 0.05250094, 0.05196816, 0.0514103 ,\n",
       "        0.05116585, 0.05008148, 0.04925411, 0.04914128, 0.04869625,\n",
       "        0.04811959, 0.0476871 , 0.04764949, 0.04752413, 0.04740504,\n",
       "        0.04605115, 0.04578789, 0.04533659, 0.04526138, 0.0452175 ,\n",
       "        0.0446095 , 0.04420835, 0.04403284, 0.04393882, 0.04333709,\n",
       "        0.04328695, 0.0428858 , 0.04227153, 0.04097405, 0.04091764,\n",
       "        0.04075467, 0.04058543, 0.04028457, 0.04006519, 0.03988341,\n",
       "        0.03876144, 0.03849191, 0.03846684, 0.0379654 , 0.03737621,\n",
       "        0.03730099, 0.03717563, 0.03703147, 0.03688103, 0.03677448,\n",
       "        0.03660524, 0.03647988, 0.03649868, 0.03646108, 0.03640466,\n",
       "        0.03622289, 0.03616021, 0.03586561, 0.03553341, 0.03550207,\n",
       "        0.0354958 , 0.0350445 , 0.03480632, 0.03406042, 0.03391626,\n",
       "        0.03329573, 0.03284443, 0.03223016, 0.03187288, 0.03176006,\n",
       "        0.0314592 , 0.03125235, 0.03120221, 0.03099536, 0.03095149,\n",
       "        0.03080105, 0.0307321 , 0.03059421, 0.0305378 , 0.03037483,\n",
       "        0.03031215, 0.0302432 , 0.03018679, 0.03013664, 0.02984205,\n",
       "        0.02966027, 0.02955372, 0.0294973 , 0.02942209, 0.02926539,\n",
       "        0.02927792, 0.02915883, 0.02911496, 0.02892065, 0.02891438,\n",
       "        0.02858217, 0.02845681, 0.02816848, 0.02811834, 0.02808073,\n",
       "        0.02802432, 0.02787389, 0.02788016, 0.02778614, 0.02776733,\n",
       "        0.02762943, 0.02745393, 0.02725962, 0.02718441, 0.02696502,\n",
       "        0.02667043, 0.02657641, 0.02651373, 0.0264009 , 0.02620659,\n",
       "        0.02618779, 0.02613765, 0.02603736, 0.02517237, 0.02570515,\n",
       "        0.02554218, 0.02543563, 0.02542309, 0.02539175, 0.02519117,\n",
       "        0.02512849, 0.02494045, 0.024696  , 0.02458944, 0.02430112,\n",
       "        0.02409427, 0.02369939, 0.02365551, 0.02356149, 0.02354269,\n",
       "        0.02324182, 0.02322928, 0.02293469, 0.02290962, 0.02265889,\n",
       "        0.02270277, 0.02262129, 0.02247712, 0.02244578, 0.02243325,\n",
       "        0.02232669, 0.02228908, 0.02226401, 0.0222076 , 0.02202582,\n",
       "        0.02201329, 0.02196941, 0.02184405, 0.02170616, 0.02165601,\n",
       "        0.02156826, 0.02152438, 0.02145543, 0.02139902, 0.02129873,\n",
       "        0.021305  , 0.02119218, 0.02113577, 0.02109816, 0.02105428]),\n",
       " array([6.00322581e+02, 5.48387097e-01, 3.22580645e-01, 1.09677419e+00,\n",
       "        6.45161290e-02, 3.87096774e-01, 4.51612903e-01, 1.03225806e+00,\n",
       "        9.67741935e-02, 3.22580645e-02, 1.93548387e-01, 1.29032258e-01,\n",
       "        2.58064516e-01, 5.16129032e-01, 9.67741935e-02, 2.25806452e-01,\n",
       "        2.25806452e-01, 1.29032258e-01, 5.16129032e-01, 1.29032258e-01,\n",
       "        2.25806452e-01, 0.00000000e+00, 1.61290323e-01, 1.93548387e-01,\n",
       "        9.67741935e-02, 3.22580645e-02, 1.93548387e-01, 1.29032258e-01,\n",
       "        0.00000000e+00, 1.93548387e-01, 9.67741935e-02, 6.45161290e-02,\n",
       "        3.22580645e-02, 6.45161290e-02, 9.67741935e-02, 9.67741935e-02,\n",
       "        3.22580645e-01, 3.22580645e-02, 3.22580645e-02, 9.67741935e-02,\n",
       "        1.01290323e+01, 1.29032258e-01, 1.29032258e-01, 6.45161290e-02,\n",
       "        9.67741935e-02, 6.45161290e-02, 6.45161290e-02, 2.90322581e-01,\n",
       "        2.25806452e-01, 1.29032258e-01, 1.29032258e-01, 6.45161290e-02,\n",
       "        3.22580645e-02, 1.61290323e-01, 9.67741935e-02, 2.90322581e-01,\n",
       "        1.61290323e-01, 3.22580645e-02, 1.93548387e-01, 3.22580645e-02,\n",
       "        9.67741935e-02, 9.67741935e-02, 6.45161290e-02, 6.45161290e-02,\n",
       "        3.22580645e-02, 6.45161290e-02, 6.45161290e-02, 6.45161290e-02,\n",
       "        6.45161290e-02, 3.22580645e-02, 3.22580645e-02, 3.22580645e-02,\n",
       "        3.22580645e-02, 6.45161290e-02, 3.22580645e-02, 6.45161290e-02,\n",
       "        0.00000000e+00, 3.22580645e-02, 6.45161290e-02, 6.45161290e-02,\n",
       "        6.45161290e-02, 9.67741935e-02, 6.45161290e-02, 0.00000000e+00,\n",
       "        0.00000000e+00, 9.67741935e-02, 1.29032258e-01, 0.00000000e+00,\n",
       "        1.29032258e-01, 0.00000000e+00, 0.00000000e+00, 1.29032258e-01,\n",
       "        3.22580645e-02, 6.45161290e-02, 0.00000000e+00, 0.00000000e+00,\n",
       "        1.61290323e-01, 1.29032258e-01, 3.22580645e-02, 1.29032258e-01,\n",
       "        0.00000000e+00, 3.22580645e-02, 0.00000000e+00, 0.00000000e+00,\n",
       "        9.67741935e-02, 0.00000000e+00, 6.45161290e-02, 1.29032258e-01,\n",
       "        0.00000000e+00, 9.67741935e-02, 3.22580645e-02, 3.22580645e-02,\n",
       "        0.00000000e+00, 6.45161290e-02, 3.22580645e-02, 1.29032258e-01,\n",
       "        0.00000000e+00, 9.67741935e-02, 3.22580645e-02, 3.22580645e-02,\n",
       "        0.00000000e+00, 0.00000000e+00, 3.22580645e-02, 0.00000000e+00,\n",
       "        1.29032258e-01, 0.00000000e+00, 0.00000000e+00, 0.00000000e+00,\n",
       "        1.29032258e-01, 3.22580645e-02, 3.22580645e-02, 0.00000000e+00,\n",
       "        0.00000000e+00, 6.45161290e-02, 9.67741935e-02, 9.67741935e-02,\n",
       "        3.22580645e-02, 0.00000000e+00, 9.67741935e-02, 0.00000000e+00,\n",
       "        2.25806452e-01, 3.22580645e-02, 1.61290323e-01, 6.45161290e-02,\n",
       "        0.00000000e+00, 0.00000000e+00, 3.22580645e-02, 0.00000000e+00,\n",
       "        3.22580645e-02, 0.00000000e+00, 0.00000000e+00, 3.22580645e-02,\n",
       "        3.22580645e-02, 4.03225806e+00, 0.00000000e+00, 3.22580645e-02,\n",
       "        9.67741935e-02, 3.22580645e-02, 3.22580645e-02, 3.87096774e-01,\n",
       "        0.00000000e+00, 3.22580645e-02, 3.22580645e-02, 0.00000000e+00,\n",
       "        1.29032258e-01, 3.22580645e-02, 6.45161290e-02, 3.22580645e-02,\n",
       "        0.00000000e+00, 0.00000000e+00, 0.00000000e+00, 3.22580645e-02,\n",
       "        0.00000000e+00, 3.22580645e-02, 2.25806452e-01, 0.00000000e+00,\n",
       "        0.00000000e+00, 6.45161290e-02, 0.00000000e+00, 0.00000000e+00,\n",
       "        3.22580645e-02, 3.22580645e-02, 0.00000000e+00, 0.00000000e+00,\n",
       "        0.00000000e+00, 0.00000000e+00, 6.45161290e-02, 0.00000000e+00,\n",
       "        3.22580645e-02, 0.00000000e+00, 3.22580645e-02, 0.00000000e+00,\n",
       "        6.45161290e-02, 3.22580645e-02, 1.93548387e-01, 0.00000000e+00,\n",
       "        3.22580645e-02, 0.00000000e+00, 0.00000000e+00, 3.22580645e-02])]"
      ]
     },
     "execution_count": 76,
     "metadata": {},
     "output_type": "execute_result"
    }
   ],
   "source": [
    "kmeans_model.clusterCenters()"
   ]
  },
  {
   "cell_type": "code",
   "execution_count": 77,
   "metadata": {
    "collapsed": true,
    "deletable": true,
    "editable": true
   },
   "outputs": [],
   "source": [
    "import numpy as np"
   ]
  },
  {
   "cell_type": "code",
   "execution_count": 82,
   "metadata": {
    "collapsed": false,
    "deletable": true,
    "editable": true
   },
   "outputs": [
    {
     "data": {
      "text/plain": [
       "3.0109564999373197"
      ]
     },
     "execution_count": 82,
     "metadata": {},
     "output_type": "execute_result"
    }
   ],
   "source": [
    "np.max(kmeans_model.clusterCenters()[0])"
   ]
  },
  {
   "cell_type": "code",
   "execution_count": 86,
   "metadata": {
    "collapsed": false,
    "deletable": true,
    "editable": true
   },
   "outputs": [
    {
     "data": {
      "text/plain": [
       "array([  0,   1,   2,   3,   4,   5,   6,   7,   8,   9,  10,  11,  12,\n",
       "        13,  14,  15,  16,  17,  18,  19,  20,  21,  22,  23,  24,  25,\n",
       "        26,  27,  28,  29,  30,  31,  32,  33,  34,  35,  36,  37,  38,\n",
       "        39,  41,  42,  43,  44,  45,  40,  46,  47,  48,  49,  50,  51,\n",
       "        52,  53,  54,  55,  56,  57,  58,  59,  60,  61,  62,  63,  64,\n",
       "        65,  66,  67,  68,  69,  70,  71,  72,  73,  74,  75,  76,  77,\n",
       "        78,  79,  80,  81,  82,  83,  84,  85,  87,  86,  88,  89,  90,\n",
       "        91,  92,  93,  94,  95,  96,  97,  98,  99, 100, 101, 102, 103,\n",
       "       104, 105, 106, 107, 108, 109, 110, 111, 112, 113, 114, 115, 116,\n",
       "       117, 118, 119, 120, 121, 122, 123, 125, 124, 126, 127, 128, 129,\n",
       "       130, 131, 132, 133, 134, 135, 137, 136, 138, 139, 140, 141, 142,\n",
       "       143, 144, 145, 146, 147, 148, 149, 150, 151, 152, 154, 155, 156,\n",
       "       157, 158, 159, 153, 160, 161, 162, 163, 164, 165, 166, 167, 168,\n",
       "       169, 170, 171, 172, 173, 175, 174, 176, 177, 178, 179, 180, 181,\n",
       "       182, 183, 184, 185, 186, 187, 188, 189, 190, 191, 192, 193, 195,\n",
       "       194, 196, 197, 198, 199])"
      ]
     },
     "execution_count": 86,
     "metadata": {},
     "output_type": "execute_result"
    }
   ],
   "source": [
    "np.argsort(-kmeans_model.clusterCenters()[0])"
   ]
  },
  {
   "cell_type": "code",
   "execution_count": 87,
   "metadata": {
    "collapsed": false,
    "deletable": true,
    "editable": true
   },
   "outputs": [
    {
     "data": {
      "text/plain": [
       "array([  0,  40, 153,   3,   7,   1,  18,  13,   6,   5, 159,   2,  36,\n",
       "        55,  47,  12,  15,  16, 174, 140,  20,  48, 194,  58,  26,  29,\n",
       "        23,  10,  22, 142,  96,  53,  56,  49,  50, 164, 124,  86,  88,\n",
       "        91,  97, 107, 115, 128,  99,  17,  42,  41,  11,  27,  19,  24,\n",
       "        85,   8,  30, 156,  14, 104,  61,  60,  44,  34, 117,  39, 134,\n",
       "       109, 135,  81, 138,  35,  54, 113, 143, 106,  31,  33,  82, 166,\n",
       "       133,  93,  45,  79,  63,  62,  80,  67,  68, 186, 192,  66, 177,\n",
       "         4,  51,  43,  46,  73,  75,  78,  65, 136, 193, 141, 190, 130,\n",
       "       129, 196, 151, 146, 148, 152, 155, 157, 158, 181, 180, 161, 162,\n",
       "         9, 165, 173, 171, 188, 167, 122, 199,  98,  71,  70,  74,  32,\n",
       "        69, 110, 111,  92, 101,  77,  64,  25,  59, 118,  57, 119,  37,\n",
       "        38,  52, 114,  72, 170, 172,  76, 169, 168, 175, 184, 178, 179,\n",
       "       182, 183, 185, 187, 189, 191, 195, 197, 176,  83, 121,  87, 125,\n",
       "       126, 127,  21, 120, 131, 132, 116, 137, 112, 139, 108, 105, 144,\n",
       "        84, 145, 147, 102, 149, 150, 100, 198, 154,  28,  95,  94, 160,\n",
       "       123,  89, 163, 103,  90])"
      ]
     },
     "execution_count": 87,
     "metadata": {},
     "output_type": "execute_result"
    }
   ],
   "source": [
    "np.argsort(-kmeans_model.clusterCenters()[1])"
   ]
  },
  {
   "cell_type": "code",
   "execution_count": 91,
   "metadata": {
    "collapsed": false,
    "deletable": true,
    "editable": true
   },
   "outputs": [
    {
     "data": {
      "text/plain": [
       "['',\n",
       " '\"',\n",
       " 'article',\n",
       " 'page',\n",
       " 'please',\n",
       " 'like',\n",
       " 'one',\n",
       " '-',\n",
       " 'wikipedia',\n",
       " 'talk',\n",
       " 'think',\n",
       " 'see',\n",
       " 'also',\n",
       " 'know',\n",
       " 'may',\n",
       " 'edit',\n",
       " 'people',\n",
       " 'use',\n",
       " 'get',\n",
       " 'even',\n",
       " 'make',\n",
       " 'articles',\n",
       " 'good',\n",
       " 'want',\n",
       " 'time',\n",
       " 'it.',\n",
       " 'need',\n",
       " 'new',\n",
       " 'thank',\n",
       " 'go',\n",
       " 'first',\n",
       " 'information',\n",
       " 'many',\n",
       " 'made',\n",
       " 'find',\n",
       " 'page.',\n",
       " 'name',\n",
       " 'really',\n",
       " 'thanks',\n",
       " 'say',\n",
       " 'fuck',\n",
       " 'much',\n",
       " 'used',\n",
       " 'since',\n",
       " 'article.',\n",
       " 'user',\n",
       " 'add',\n",
       " 'way',\n",
       " 'take',\n",
       " 'help',\n",
       " 'sources',\n",
       " 'look',\n",
       " 'someone',\n",
       " 'still',\n",
       " 'read',\n",
       " 'section',\n",
       " 'pages',\n",
       " 'going',\n",
       " 'two',\n",
       " 'deletion',\n",
       " 'you.',\n",
       " 'source',\n",
       " 'edits',\n",
       " 'without',\n",
       " 'discussion',\n",
       " 'well',\n",
       " 'editing',\n",
       " 'wikipedia.',\n",
       " 'point',\n",
       " 'deleted',\n",
       " 'back',\n",
       " 'might',\n",
       " 'work',\n",
       " 'something',\n",
       " 'image',\n",
       " 'another',\n",
       " 'added',\n",
       " 'never',\n",
       " 'put',\n",
       " 'link',\n",
       " 'seems',\n",
       " 'stop',\n",
       " ',',\n",
       " 'blocked',\n",
       " 'feel',\n",
       " '.',\n",
       " 'list',\n",
       " 'block',\n",
       " 'right',\n",
       " 'said',\n",
       " '(utc)',\n",
       " 'using',\n",
       " 'ask',\n",
       " 'personal',\n",
       " 'fact',\n",
       " 'sure',\n",
       " 'article,',\n",
       " 'believe',\n",
       " 'hope',\n",
       " 'page,',\n",
       " 'note',\n",
       " 'actually',\n",
       " 'editors',\n",
       " 'keep',\n",
       " 'place',\n",
       " '•',\n",
       " 'remove',\n",
       " 'better',\n",
       " 'done',\n",
       " 'part',\n",
       " 'free',\n",
       " 'trying',\n",
       " 'reason',\n",
       " 'comment',\n",
       " 'it,',\n",
       " 'little',\n",
       " 'must',\n",
       " 'links',\n",
       " 'content',\n",
       " 'best',\n",
       " 'history',\n",
       " 'speedy',\n",
       " 'already',\n",
       " 'anything',\n",
       " 'give',\n",
       " 'nothing',\n",
       " 'copyright',\n",
       " 'us',\n",
       " 'let',\n",
       " 'removed',\n",
       " 'things',\n",
       " 'hi',\n",
       " 'however,',\n",
       " 'comments',\n",
       " 'last',\n",
       " 'wiki',\n",
       " 'rather',\n",
       " 'making',\n",
       " 'change',\n",
       " 'me.',\n",
       " 'come',\n",
       " 'welcome',\n",
       " 'person',\n",
       " 'anyone',\n",
       " 'question',\n",
       " 'try',\n",
       " 'understand',\n",
       " 'different',\n",
       " 'here.',\n",
       " 'got',\n",
       " 'leave',\n",
       " 'continue',\n",
       " 'every',\n",
       " '|',\n",
       " 'simply',\n",
       " 'long',\n",
       " 'found',\n",
       " 'probably',\n",
       " 'reliable',\n",
       " '(talk)',\n",
       " 'adding',\n",
       " 'you,',\n",
       " 'original',\n",
       " 'agree',\n",
       " ')',\n",
       " 'check',\n",
       " 'case',\n",
       " 'delete',\n",
       " 'tag',\n",
       " 'great',\n",
       " 'fair',\n",
       " 'subject',\n",
       " 'thing',\n",
       " 'mean',\n",
       " 'u',\n",
       " 'seem',\n",
       " 'reference',\n",
       " 'least',\n",
       " 'says',\n",
       " 'needs',\n",
       " 'problem',\n",
       " 'ip',\n",
       " 'write',\n",
       " 'show',\n",
       " 'given',\n",
       " 'editor',\n",
       " 'called',\n",
       " 'clearly',\n",
       " 'word',\n",
       " 'thought',\n",
       " 'quite',\n",
       " 'policy',\n",
       " 'tell',\n",
       " 'lot',\n",
       " 'text',\n",
       " 'far',\n",
       " 'always',\n",
       " 'also,',\n",
       " '—',\n",
       " 'whether']"
      ]
     },
     "execution_count": 91,
     "metadata": {},
     "output_type": "execute_result"
    }
   ],
   "source": [
    "preprocessing_model.stages[2].vocabulary"
   ]
  },
  {
   "cell_type": "code",
   "execution_count": 96,
   "metadata": {
    "collapsed": false,
    "deletable": true,
    "editable": true
   },
   "outputs": [
    {
     "name": "stdout",
     "output_type": "stream",
     "text": [
      "\n",
      "fuck\n",
      "|\n",
      "page\n",
      "-\n",
      "\"\n",
      "get\n",
      "know\n",
      "one\n",
      "like\n"
     ]
    }
   ],
   "source": [
    "for i in np.argsort(-kmeans_model.clusterCenters()[1])[:10]:\n",
    "    print(preprocessing_model.stages[2].vocabulary[i])"
   ]
  },
  {
   "cell_type": "code",
   "execution_count": 97,
   "metadata": {
    "collapsed": false,
    "deletable": true,
    "editable": true
   },
   "outputs": [
    {
     "name": "stdout",
     "output_type": "stream",
     "text": [
      "\n",
      "\"\n",
      "article\n",
      "page\n",
      "please\n",
      "like\n",
      "one\n",
      "-\n",
      "wikipedia\n",
      "talk\n"
     ]
    }
   ],
   "source": [
    "for i in np.argsort(-kmeans_model.clusterCenters()[0])[:10]:\n",
    "    print(preprocessing_model.stages[2].vocabulary[i])"
   ]
  },
  {
   "cell_type": "markdown",
   "metadata": {
    "deletable": true,
    "editable": true
   },
   "source": [
    "## The curse of dimensionality\n",
    "![curse](pics/dimensionality_vs_performance.png)"
   ]
  },
  {
   "cell_type": "markdown",
   "metadata": {
    "deletable": true,
    "editable": true
   },
   "source": [
    "## Why is that?\n",
    "![curse](pics/curseofdimensionality.png)"
   ]
  },
  {
   "cell_type": "markdown",
   "metadata": {
    "deletable": true,
    "editable": true
   },
   "source": [
    "## LDA"
   ]
  },
  {
   "cell_type": "code",
   "execution_count": 118,
   "metadata": {
    "collapsed": true,
    "deletable": true,
    "editable": true
   },
   "outputs": [],
   "source": [
    "from pyspark.ml.clustering import LDA"
   ]
  },
  {
   "cell_type": "code",
   "execution_count": 119,
   "metadata": {
    "collapsed": true,
    "deletable": true,
    "editable": true
   },
   "outputs": [],
   "source": [
    "lda = LDA(featuresCol=\"word_vector\", seed=5757, k=6)"
   ]
  },
  {
   "cell_type": "code",
   "execution_count": 120,
   "metadata": {
    "collapsed": true,
    "deletable": true,
    "editable": true
   },
   "outputs": [],
   "source": [
    "lda_model = lda.fit(preprocessed_dataset)"
   ]
  },
  {
   "cell_type": "code",
   "execution_count": 121,
   "metadata": {
    "collapsed": true,
    "deletable": true,
    "editable": true
   },
   "outputs": [],
   "source": [
    "topics = lda_model.transform(preprocessed_dataset)"
   ]
  },
  {
   "cell_type": "code",
   "execution_count": 122,
   "metadata": {
    "collapsed": false,
    "deletable": true,
    "editable": true
   },
   "outputs": [
    {
     "data": {
      "text/plain": [
       "[Row(id='26e1b63617df36b1', comment_text='\"\\n\\n charlie wilson \\n\\ni didnt notice the music genres that were reverted. However my intention was to revert his alias that you deleted.  His alias a.k.a is actually \"\"Uncle Charlie\"\" and needs to be put back and shouldn\\'t  have been removed.\"', toxic=0, severe_toxic=0, obscene=0, threat=0, insult=0, identity_hate=0, words=['\"', '', '', 'charlie', 'wilson', '', '', 'i', 'didnt', 'notice', 'the', 'music', 'genres', 'that', 'were', 'reverted.', 'however', 'my', 'intention', 'was', 'to', 'revert', 'his', 'alias', 'that', 'you', 'deleted.', '', 'his', 'alias', 'a.k.a', 'is', 'actually', '\"\"uncle', 'charlie\"\"', 'and', 'needs', 'to', 'be', 'put', 'back', 'and', \"shouldn't\", '', 'have', 'been', 'removed.\"'], words_filtered=['\"', '', '', 'charlie', 'wilson', '', '', 'didnt', 'notice', 'music', 'genres', 'reverted.', 'however', 'intention', 'revert', 'alias', 'deleted.', '', 'alias', 'a.k.a', 'actually', '\"\"uncle', 'charlie\"\"', 'needs', 'put', 'back', '', 'removed.\"'], word_vector=SparseVector(10000, {0: 6.0, 1: 1.0, 70: 1.0, 78: 1.0, 101: 1.0, 179: 1.0, 269: 1.0, 296: 1.0, 491: 1.0, 542: 1.0, 651: 1.0, 1993: 1.0, 2259: 1.0, 2336: 1.0, 6296: 1.0, 6806: 1.0, 9221: 1.0}), topicDistribution=DenseVector([0.0055, 0.0069, 0.0055, 0.9697, 0.0058, 0.0066])),\n",
       " Row(id='11c54b3a528e642a', comment_text=\"I haven't even edited it \\n\\nGreetings. The said cabal (of which Drimes seems to be a part of, for he stalks every post I make and is the one that closed the mediation, the administration notice, the post in the discussion page) has made the Battle of Ilovaisk a semi-protected article so I have not even been able to edit it, they have instead deleted my and other peoples comments on the talk-page. As I have exhausted all options I will from now on only insult or ignore Iryna Harpy. Good game, let the propaganda flow free. I am probably done with editing for a while again. 78.68.210.173\", toxic=0, severe_toxic=0, obscene=0, threat=0, insult=0, identity_hate=0, words=['i', \"haven't\", 'even', 'edited', 'it', '', '', 'greetings.', 'the', 'said', 'cabal', '(of', 'which', 'drimes', 'seems', 'to', 'be', 'a', 'part', 'of,', 'for', 'he', 'stalks', 'every', 'post', 'i', 'make', 'and', 'is', 'the', 'one', 'that', 'closed', 'the', 'mediation,', 'the', 'administration', 'notice,', 'the', 'post', 'in', 'the', 'discussion', 'page)', 'has', 'made', 'the', 'battle', 'of', 'ilovaisk', 'a', 'semi-protected', 'article', 'so', 'i', 'have', 'not', 'even', 'been', 'able', 'to', 'edit', 'it,', 'they', 'have', 'instead', 'deleted', 'my', 'and', 'other', 'peoples', 'comments', 'on', 'the', 'talk-page.', 'as', 'i', 'have', 'exhausted', 'all', 'options', 'i', 'will', 'from', 'now', 'on', 'only', 'insult', 'or', 'ignore', 'iryna', 'harpy.', 'good', 'game,', 'let', 'the', 'propaganda', 'flow', 'free.', 'i', 'am', 'probably', 'done', 'with', 'editing', 'for', 'a', 'while', 'again.', '78.68.210.173'], words_filtered=['even', 'edited', '', '', 'greetings.', 'said', 'cabal', '(of', 'drimes', 'seems', 'part', 'of,', 'stalks', 'every', 'post', 'make', 'one', 'closed', 'mediation,', 'administration', 'notice,', 'post', 'discussion', 'page)', 'made', 'battle', 'ilovaisk', 'semi-protected', 'article', 'even', 'able', 'edit', 'it,', 'instead', 'deleted', 'peoples', 'comments', 'talk-page.', 'exhausted', 'options', 'insult', 'ignore', 'iryna', 'harpy.', 'good', 'game,', 'let', 'propaganda', 'flow', 'free.', 'probably', 'done', 'editing', 'again.', '78.68.210.173'], word_vector=SparseVector(10000, {0: 2.0, 2: 1.0, 6: 1.0, 15: 1.0, 19: 2.0, 20: 1.0, 22: 1.0, 33: 1.0, 64: 1.0, 66: 1.0, 69: 1.0, 80: 1.0, 89: 1.0, 108: 1.0, 109: 1.0, 114: 1.0, 128: 1.0, 133: 1.0, 152: 1.0, 157: 1.0, 216: 2.0, 265: 1.0, 330: 1.0, 407: 1.0, 421: 1.0, 1003: 1.0, 1330: 1.0, 1415: 1.0, 1766: 1.0, 2132: 1.0, 2474: 1.0, 3061: 1.0, 3092: 1.0, 3351: 1.0, 3564: 1.0, 3812: 1.0, 4044: 1.0, 4050: 1.0, 4190: 1.0, 4516: 1.0, 5724: 1.0, 6584: 1.0, 9655: 1.0}), topicDistribution=DenseVector([0.0027, 0.2493, 0.0027, 0.7393, 0.0028, 0.0032])),\n",
       " Row(id='dba3274cda45bacb', comment_text='\"\\n\\n Deleted text \\nI note the previous deletion of the following text from the Shootdown section:\\n\"\"Earlier in the day, the Vincennes — along with Iranian gunboats — had similarly violated Omani waters until challenged by an Omani warship.\"\"\\nThe BBC documentary The Other Lockerbie (17 April 2000) covers this and includes actual video footage shot on the bridge of the Vincennes as it was challenged by the Omani vessel. I will therefore reinstate the text when the current block is lifted.   \"', toxic=0, severe_toxic=0, obscene=0, threat=0, insult=0, identity_hate=0, words=['\"', '', '', 'deleted', 'text', '', 'i', 'note', 'the', 'previous', 'deletion', 'of', 'the', 'following', 'text', 'from', 'the', 'shootdown', 'section:', '\"\"earlier', 'in', 'the', 'day,', 'the', 'vincennes', '—', 'along', 'with', 'iranian', 'gunboats', '—', 'had', 'similarly', 'violated', 'omani', 'waters', 'until', 'challenged', 'by', 'an', 'omani', 'warship.\"\"', 'the', 'bbc', 'documentary', 'the', 'other', 'lockerbie', '(17', 'april', '2000)', 'covers', 'this', 'and', 'includes', 'actual', 'video', 'footage', 'shot', 'on', 'the', 'bridge', 'of', 'the', 'vincennes', 'as', 'it', 'was', 'challenged', 'by', 'the', 'omani', 'vessel.', 'i', 'will', 'therefore', 'reinstate', 'the', 'text', 'when', 'the', 'current', 'block', 'is', 'lifted.', '', '', '\"'], words_filtered=['\"', '', '', 'deleted', 'text', '', 'note', 'previous', 'deletion', 'following', 'text', 'shootdown', 'section:', '\"\"earlier', 'day,', 'vincennes', '—', 'along', 'iranian', 'gunboats', '—', 'similarly', 'violated', 'omani', 'waters', 'challenged', 'omani', 'warship.\"\"', 'bbc', 'documentary', 'lockerbie', '(17', 'april', '2000)', 'covers', 'includes', 'actual', 'video', 'footage', 'shot', 'bridge', 'vincennes', 'challenged', 'omani', 'vessel.', 'therefore', 'reinstate', 'text', 'current', 'block', 'lifted.', '', '', '\"'], word_vector=SparseVector(10000, {0: 5.0, 1: 2.0, 59: 1.0, 69: 1.0, 87: 1.0, 100: 1.0, 194: 3.0, 198: 2.0, 252: 1.0, 268: 1.0, 501: 1.0, 512: 1.0, 526: 1.0, 534: 1.0, 726: 1.0, 888: 1.0, 1190: 1.0, 1765: 1.0, 1843: 1.0, 2582: 1.0, 2673: 1.0, 2705: 1.0, 2856: 1.0, 3596: 1.0, 4135: 2.0, 4556: 1.0, 4856: 1.0, 7163: 1.0, 8033: 1.0, 8458: 1.0}), topicDistribution=DenseVector([0.0031, 0.4126, 0.0032, 0.3063, 0.0033, 0.2713])),\n",
       " Row(id='5a500de632d70d5a', comment_text='Please stop.  If you continue to vandalize pages, you will be blocked from editing Wikipedia.   05:45, Jun 21, 2005 (UTC)', toxic=0, severe_toxic=0, obscene=0, threat=0, insult=0, identity_hate=0, words=['please', 'stop.', '', 'if', 'you', 'continue', 'to', 'vandalize', 'pages,', 'you', 'will', 'be', 'blocked', 'from', 'editing', 'wikipedia.', '', '', '05:45,', 'jun', '21,', '2005', '(utc)'], words_filtered=['please', 'stop.', '', 'continue', 'vandalize', 'pages,', 'blocked', 'editing', 'wikipedia.', '', '', '05:45,', 'jun', '21,', '2005', '(utc)'], word_vector=SparseVector(10000, {0: 3.0, 4: 1.0, 66: 1.0, 67: 1.0, 83: 1.0, 90: 1.0, 151: 1.0, 360: 1.0, 450: 1.0, 469: 1.0, 880: 1.0, 1734: 1.0, 6637: 1.0}), topicDistribution=DenseVector([0.0079, 0.0099, 0.008, 0.9565, 0.0084, 0.0094])),\n",
       " Row(id='fbe92b17128e0dee', comment_text='\"\\n\\nSpeedy deletion of 3spectra\\n A tag has been placed on 3spectra requesting that it be speedily deleted from Wikipedia. This has been done under section A7 of the criteria for speedy deletion, because the article appears to be about a company or corporation, but it does not indicate how or why the subject is notable: that is, why an article about that subject should be included in an encyclopedia. Under the criteria for speedy deletion, articles that do not assert the subject\\'s importance or significance may be deleted at any time. Please see the guidelines for what is generally accepted as notable, as well as our subject-specific notability guideline for companies and corporations. \\n\\nIf you think that this notice was placed here in error, you may contest the deletion by adding  to the top of the article (just below the existing speedy deletion or \"\"db\"\" tag), coupled with adding a note on the article\\'s talk page explaining your position, but be aware that once tagged for speedy deletion, if the article meets the criterion it may be deleted without delay. Please do not remove the speedy deletion tag yourself, but don\\'t hesitate to add information to the article that would would render it more in conformance with Wikipedia\\'s policies and guidelines.    \"', toxic=0, severe_toxic=0, obscene=0, threat=0, insult=0, identity_hate=0, words=['\"', '', 'speedy', 'deletion', 'of', '3spectra', '', 'a', 'tag', 'has', 'been', 'placed', 'on', '3spectra', 'requesting', 'that', 'it', 'be', 'speedily', 'deleted', 'from', 'wikipedia.', 'this', 'has', 'been', 'done', 'under', 'section', 'a7', 'of', 'the', 'criteria', 'for', 'speedy', 'deletion,', 'because', 'the', 'article', 'appears', 'to', 'be', 'about', 'a', 'company', 'or', 'corporation,', 'but', 'it', 'does', 'not', 'indicate', 'how', 'or', 'why', 'the', 'subject', 'is', 'notable:', 'that', 'is,', 'why', 'an', 'article', 'about', 'that', 'subject', 'should', 'be', 'included', 'in', 'an', 'encyclopedia.', 'under', 'the', 'criteria', 'for', 'speedy', 'deletion,', 'articles', 'that', 'do', 'not', 'assert', 'the', \"subject's\", 'importance', 'or', 'significance', 'may', 'be', 'deleted', 'at', 'any', 'time.', 'please', 'see', 'the', 'guidelines', 'for', 'what', 'is', 'generally', 'accepted', 'as', 'notable,', 'as', 'well', 'as', 'our', 'subject-specific', 'notability', 'guideline', 'for', 'companies', 'and', 'corporations.', '', '', 'if', 'you', 'think', 'that', 'this', 'notice', 'was', 'placed', 'here', 'in', 'error,', 'you', 'may', 'contest', 'the', 'deletion', 'by', 'adding', '', 'to', 'the', 'top', 'of', 'the', 'article', '(just', 'below', 'the', 'existing', 'speedy', 'deletion', 'or', '\"\"db\"\"', 'tag),', 'coupled', 'with', 'adding', 'a', 'note', 'on', 'the', \"article's\", 'talk', 'page', 'explaining', 'your', 'position,', 'but', 'be', 'aware', 'that', 'once', 'tagged', 'for', 'speedy', 'deletion,', 'if', 'the', 'article', 'meets', 'the', 'criterion', 'it', 'may', 'be', 'deleted', 'without', 'delay.', 'please', 'do', 'not', 'remove', 'the', 'speedy', 'deletion', 'tag', 'yourself,', 'but', \"don't\", 'hesitate', 'to', 'add', 'information', 'to', 'the', 'article', 'that', 'would', 'would', 'render', 'it', 'more', 'in', 'conformance', 'with', \"wikipedia's\", 'policies', 'and', 'guidelines.', '', '', '', '\"'], words_filtered=['\"', '', 'speedy', 'deletion', '3spectra', '', 'tag', 'placed', '3spectra', 'requesting', 'speedily', 'deleted', 'wikipedia.', 'done', 'section', 'a7', 'criteria', 'speedy', 'deletion,', 'article', 'appears', 'company', 'corporation,', 'indicate', 'subject', 'notable:', 'is,', 'article', 'subject', 'included', 'encyclopedia.', 'criteria', 'speedy', 'deletion,', 'articles', 'assert', \"subject's\", 'importance', 'significance', 'may', 'deleted', 'time.', 'please', 'see', 'guidelines', 'generally', 'accepted', 'notable,', 'well', 'subject-specific', 'notability', 'guideline', 'companies', 'corporations.', '', '', 'think', 'notice', 'placed', 'error,', 'may', 'contest', 'deletion', 'adding', '', 'top', 'article', '(just', 'existing', 'speedy', 'deletion', '\"\"db\"\"', 'tag),', 'coupled', 'adding', 'note', \"article's\", 'talk', 'page', 'explaining', 'position,', 'aware', 'tagged', 'speedy', 'deletion,', 'article', 'meets', 'criterion', 'may', 'deleted', 'without', 'delay.', 'please', 'remove', 'speedy', 'deletion', 'tag', 'yourself,', 'hesitate', 'add', 'information', 'article', 'render', 'conformance', \"wikipedia's\", 'policies', 'guidelines.', '', '', '', '\"'], word_vector=SparseVector(10000, {0: 8.0, 1: 2.0, 2: 5.0, 3: 1.0, 4: 2.0, 9: 1.0, 10: 1.0, 11: 1.0, 14: 3.0, 21: 1.0, 31: 1.0, 46: 1.0, 55: 1.0, 59: 4.0, 63: 1.0, 65: 1.0, 67: 1.0, 69: 3.0, 100: 1.0, 106: 1.0, 108: 1.0, 121: 6.0, 160: 2.0, 168: 2.0, 171: 2.0, 251: 2.0, 273: 1.0, 289: 1.0, 295: 1.0, 296: 1.0, 323: 1.0, 347: 1.0, 374: 1.0, 388: 1.0, 403: 2.0, 408: 1.0, 437: 3.0, 485: 1.0, 499: 1.0, 509: 1.0, 520: 1.0, 521: 1.0, 583: 1.0, 625: 1.0, 650: 1.0, 673: 1.0, 692: 1.0, 724: 1.0, 784: 1.0, 819: 1.0, 856: 1.0, 886: 1.0, 915: 1.0, 948: 1.0, 1022: 1.0, 1073: 1.0, 1223: 1.0, 1245: 1.0, 1299: 1.0, 1366: 1.0, 1465: 1.0, 1488: 1.0, 1633: 1.0, 1678: 1.0, 1830: 1.0, 1837: 1.0, 2024: 1.0, 2083: 1.0, 2216: 1.0, 2415: 1.0, 2490: 1.0, 2967: 1.0, 3086: 1.0, 4343: 1.0, 6339: 1.0}), topicDistribution=DenseVector([0.0012, 0.9933, 0.0012, 0.0018, 0.0012, 0.0014]))]"
      ]
     },
     "execution_count": 122,
     "metadata": {},
     "output_type": "execute_result"
    }
   ],
   "source": [
    "topics.take(5)"
   ]
  },
  {
   "cell_type": "code",
   "execution_count": 124,
   "metadata": {
    "collapsed": false,
    "deletable": true,
    "editable": true
   },
   "outputs": [
    {
     "data": {
      "text/plain": [
       "10000"
      ]
     },
     "execution_count": 124,
     "metadata": {},
     "output_type": "execute_result"
    }
   ],
   "source": [
    "lda_model.vocabSize()"
   ]
  },
  {
   "cell_type": "code",
   "execution_count": 127,
   "metadata": {
    "collapsed": false,
    "deletable": true,
    "editable": true
   },
   "outputs": [
    {
     "data": {
      "text/plain": [
       "[Row(topic=0, termIndices=[214, 211, 5, 463, 582, 334, 131, 751, 700, 1355], termWeights=[0.043883763487320766, 0.021283578796324473, 0.020836523084179093, 0.019396636625816983, 0.019349235472007363, 0.018801192071946627, 0.015804631416439487, 0.014914671745475647, 0.01359265539904886, 0.013339323640011343]),\n",
       " Row(topic=1, termIndices=[0, 2, 1, 3, 4, 10, 7, 14, 8, 11], termWeights=[0.03964717773128192, 0.01759147883131059, 0.01027451466047655, 0.008121462633726536, 0.00781864276000534, 0.005940282263819784, 0.005706721848796293, 0.005682362549471249, 0.005398311182518471, 0.00521945071304873]),\n",
       " Row(topic=2, termIndices=[40, 0, 379, 257, 249, 29, 359, 567, 474, 153], termWeights=[0.0686108578826063, 0.026297949145799134, 0.022451048433182883, 0.01996391934306116, 0.019469845828923173, 0.019217280267994158, 0.01706127934740466, 0.01622127296048629, 0.01471626906998474, 0.013436059956307917]),\n",
       " Row(topic=3, termIndices=[0, 1, 4, 3, 9, 5, 8, 2, 15, 6], termWeights=[0.17251287835326581, 0.025884954194718254, 0.007211503510720161, 0.0069947148550913, 0.00627037093128082, 0.0058491284059337435, 0.005483140137318198, 0.005284833171068423, 0.0047230158849338125, 0.004597408121325559]),\n",
       " Row(topic=4, termIndices=[0, 105, 1107, 175, 13, 18, 36, 57, 8, 1], termWeights=[0.0651584392435045, 0.017917379339885898, 0.01641580909911344, 0.013900158569445984, 0.010314294309642438, 0.009307150698662366, 0.006894317712061119, 0.006760274255442519, 0.00651413426574839, 0.006399179706681887]),\n",
       " Row(topic=5, termIndices=[0, 1, 6, 12, 5, 16, 7, 19, 2, 10], termWeights=[0.04498025621523681, 0.007498864584006415, 0.0070814812071861395, 0.0050421108235714955, 0.004934061327821643, 0.004321282800862546, 0.004251657063963877, 0.004143763658313575, 0.003964281210988315, 0.003770595001867791])]"
      ]
     },
     "execution_count": 127,
     "metadata": {},
     "output_type": "execute_result"
    }
   ],
   "source": [
    "lda_model.describeTopics().collect()"
   ]
  },
  {
   "cell_type": "code",
   "execution_count": 130,
   "metadata": {
    "collapsed": false,
    "deletable": true,
    "editable": true
   },
   "outputs": [
    {
     "name": "stdout",
     "output_type": "stream",
     "text": [
      "nigger\n",
      "fucking\n",
      "like\n",
      "moron\n",
      "sucks\n",
      "redirect\n",
      "hi\n",
      "dick\n",
      "jews\n",
      "fucksex\n"
     ]
    }
   ],
   "source": [
    "for i in [214, 211, 5, 463, 582, 334, 131, 751, 700, 1355]:\n",
    "    print(preprocessing_model.stages[-1].vocabulary[i])"
   ]
  },
  {
   "cell_type": "code",
   "execution_count": 131,
   "metadata": {
    "collapsed": false,
    "deletable": true,
    "editable": true
   },
   "outputs": [
    {
     "name": "stdout",
     "output_type": "stream",
     "text": [
      "\n",
      "article\n",
      "\"\n",
      "page\n",
      "please\n",
      "think\n",
      "-\n",
      "may\n",
      "wikipedia\n",
      "see\n"
     ]
    }
   ],
   "source": [
    "for i in [0, 2, 1, 3, 4, 10, 7, 14, 8, 11]:\n",
    "    print(preprocessing_model.stages[-1].vocabulary[i])"
   ]
  },
  {
   "cell_type": "code",
   "execution_count": 132,
   "metadata": {
    "collapsed": false,
    "deletable": true,
    "editable": true
   },
   "outputs": [
    {
     "name": "stdout",
     "output_type": "stream",
     "text": [
      "fuck\n",
      "\n",
      "fat\n",
      "shit\n",
      "suck\n",
      "go\n",
      "gay\n",
      "jew\n",
      "ass\n",
      "|\n"
     ]
    }
   ],
   "source": [
    "for i in [40, 0, 379, 257, 249, 29, 359, 567, 474, 153]:\n",
    "    print(preprocessing_model.stages[-1].vocabulary[i])"
   ]
  },
  {
   "cell_type": "code",
   "execution_count": 133,
   "metadata": {
    "collapsed": false,
    "deletable": true,
    "editable": true
   },
   "outputs": [
    {
     "name": "stdout",
     "output_type": "stream",
     "text": [
      "\n",
      "•\n",
      "tacos\n",
      "u\n",
      "know\n",
      "get\n",
      "name\n",
      "going\n",
      "wikipedia\n",
      "\"\n"
     ]
    }
   ],
   "source": [
    "for i in [0, 105, 1107, 175, 13, 18, 36, 57, 8, 1]:\n",
    "    print(preprocessing_model.stages[-1].vocabulary[i])"
   ]
  },
  {
   "cell_type": "markdown",
   "metadata": {
    "deletable": true,
    "editable": true
   },
   "source": [
    "## Clustering is a good dimensionality reduction technique"
   ]
  },
  {
   "cell_type": "code",
   "execution_count": 137,
   "metadata": {
    "collapsed": false,
    "deletable": true,
    "editable": true
   },
   "outputs": [
    {
     "data": {
      "text/plain": [
       "DataFrame[id: string, comment_text: string, toxic: int, severe_toxic: int, obscene: int, threat: int, insult: int, identity_hate: int, words: array<string>, words_filtered: array<string>, word_vector: vector, topicDistribution: vector]"
      ]
     },
     "execution_count": 137,
     "metadata": {},
     "output_type": "execute_result"
    }
   ],
   "source": [
    "topics"
   ]
  },
  {
   "cell_type": "code",
   "execution_count": 139,
   "metadata": {
    "collapsed": true,
    "deletable": true,
    "editable": true
   },
   "outputs": [],
   "source": [
    "from pyspark.sql import functions as f"
   ]
  },
  {
   "cell_type": "code",
   "execution_count": 140,
   "metadata": {
    "collapsed": false,
    "deletable": true,
    "editable": true
   },
   "outputs": [],
   "source": [
    "target = f.when(\n",
    "    (topics.toxic == 0) &\n",
    "    (topics.severe_toxic == 0) &\n",
    "    (topics.obscene == 0) &\n",
    "    (topics.threat == 0) &\n",
    "    (topics.insult == 0) &\n",
    "    (topics.identity_hate == 0),\n",
    "    0\n",
    ").otherwise(1)"
   ]
  },
  {
   "cell_type": "code",
   "execution_count": 144,
   "metadata": {
    "collapsed": true,
    "deletable": true,
    "editable": true
   },
   "outputs": [],
   "source": [
    "new_dataset = topics.withColumn(\"target\", target)[[\"id\", \"target\", \"topicDistribution\"]].cache()"
   ]
  },
  {
   "cell_type": "code",
   "execution_count": 145,
   "metadata": {
    "collapsed": false,
    "deletable": true,
    "editable": true
   },
   "outputs": [
    {
     "data": {
      "text/plain": [
       "[Row(id='6fdb7b6734f8bf40', target=0, topicDistribution=DenseVector([0.0052, 0.9694, 0.0053, 0.0082, 0.0056, 0.0063])),\n",
       " Row(id='39b742437bd11ec9', target=0, topicDistribution=DenseVector([0.0025, 0.0031, 0.0025, 0.0039, 0.0027, 0.9853])),\n",
       " Row(id='9bbb8e1922fe1efb', target=0, topicDistribution=DenseVector([0.0665, 0.0836, 0.0674, 0.1029, 0.0708, 0.6088])),\n",
       " Row(id='54f9e59924682c6e', target=0, topicDistribution=DenseVector([0.009, 0.0113, 0.0091, 0.9501, 0.0096, 0.0108])),\n",
       " Row(id='62e38775721eb79e', target=1, topicDistribution=DenseVector([0.0127, 0.0159, 0.4886, 0.0196, 0.0135, 0.4497]))]"
      ]
     },
     "execution_count": 145,
     "metadata": {},
     "output_type": "execute_result"
    }
   ],
   "source": [
    "new_dataset.take(5)"
   ]
  },
  {
   "cell_type": "code",
   "execution_count": 146,
   "metadata": {
    "collapsed": true,
    "deletable": true,
    "editable": true
   },
   "outputs": [],
   "source": [
    "from pyspark.ml.classification import LogisticRegression"
   ]
  },
  {
   "cell_type": "code",
   "execution_count": 147,
   "metadata": {
    "collapsed": true,
    "deletable": true,
    "editable": true
   },
   "outputs": [],
   "source": [
    "lr = LogisticRegression(featuresCol=\"topicDistribution\", labelCol=\"target\")"
   ]
  },
  {
   "cell_type": "code",
   "execution_count": 150,
   "metadata": {
    "collapsed": true,
    "deletable": true,
    "editable": true
   },
   "outputs": [],
   "source": [
    "train = new_dataset.sampleBy(\"target\", fractions={0: 0.8, 1: 0.8}, seed=5757).cache()"
   ]
  },
  {
   "cell_type": "code",
   "execution_count": 151,
   "metadata": {
    "collapsed": true,
    "deletable": true,
    "editable": true
   },
   "outputs": [],
   "source": [
    "test = new_dataset.join(train, on=\"id\", how=\"leftanti\").cache()"
   ]
  },
  {
   "cell_type": "code",
   "execution_count": 153,
   "metadata": {
    "collapsed": true,
    "deletable": true,
    "editable": true
   },
   "outputs": [],
   "source": [
    "lr_model = lr.fit(train)"
   ]
  },
  {
   "cell_type": "code",
   "execution_count": 154,
   "metadata": {
    "collapsed": true,
    "deletable": true,
    "editable": true
   },
   "outputs": [],
   "source": [
    "predictions = lr_model.transform(test)"
   ]
  },
  {
   "cell_type": "code",
   "execution_count": 155,
   "metadata": {
    "collapsed": true,
    "deletable": true,
    "editable": true
   },
   "outputs": [],
   "source": [
    "from pyspark.ml.evaluation import BinaryClassificationEvaluator"
   ]
  },
  {
   "cell_type": "code",
   "execution_count": 156,
   "metadata": {
    "collapsed": true,
    "deletable": true,
    "editable": true
   },
   "outputs": [],
   "source": [
    "evaluator = BinaryClassificationEvaluator(labelCol=\"target\")"
   ]
  },
  {
   "cell_type": "code",
   "execution_count": 157,
   "metadata": {
    "collapsed": false,
    "deletable": true,
    "editable": true
   },
   "outputs": [
    {
     "data": {
      "text/plain": [
       "0.8381544862513701"
      ]
     },
     "execution_count": 157,
     "metadata": {},
     "output_type": "execute_result"
    }
   ],
   "source": [
    "evaluator.evaluate(predictions)"
   ]
  },
  {
   "cell_type": "markdown",
   "metadata": {
    "deletable": true,
    "editable": true
   },
   "source": [
    "## Last time with CountVectorizer with 20k words in vocabulary we got 0.8275751487175559"
   ]
  },
  {
   "cell_type": "code",
   "execution_count": null,
   "metadata": {
    "collapsed": true,
    "deletable": true,
    "editable": true
   },
   "outputs": [],
   "source": []
  }
 ],
 "metadata": {
  "kernelspec": {
   "display_name": "Python 3",
   "language": "python",
   "name": "python3"
  },
  "language_info": {
   "codemirror_mode": {
    "name": "ipython",
    "version": 3
   },
   "file_extension": ".py",
   "mimetype": "text/x-python",
   "name": "python",
   "nbconvert_exporter": "python",
   "pygments_lexer": "ipython3",
   "version": "3.6.4"
  }
 },
 "nbformat": 4,
 "nbformat_minor": 2
}
