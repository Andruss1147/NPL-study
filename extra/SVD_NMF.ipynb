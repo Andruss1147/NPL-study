{
 "cells": [
  {
   "cell_type": "code",
   "execution_count": 27,
   "metadata": {},
   "outputs": [],
   "source": [
    "import numpy as np"
   ]
  },
  {
   "cell_type": "code",
   "execution_count": 28,
   "metadata": {},
   "outputs": [],
   "source": [
    "#создаем матрицу оценок фильмов\n",
    "X=np.zeros((6, 7))\n",
    "X = np.array([[4,4,5,0,0,0,0], [5,5,3,4,3,0,0], [0,0,0,4,4,0,0], [0,0,0,5,4,5,3], [0,0,0,0,0,5,5], [0,0,0,0,0,4,4]])"
   ]
  },
  {
   "cell_type": "code",
   "execution_count": 29,
   "metadata": {},
   "outputs": [],
   "source": [
    "#находим сингулярное разложение\n",
    "U, s, V = np.linalg.svd(X, full_matrices=True)"
   ]
  },
  {
   "cell_type": "code",
   "execution_count": 30,
   "metadata": {},
   "outputs": [
    {
     "data": {
      "text/plain": [
       "array([[  3.12588157e-01,   4.88299765e-01,  -4.97486928e-01,\n",
       "         -6.42399264e-01,  -6.06788790e-02,  -8.21965453e-17],\n",
       "       [  5.81592898e-01,   5.04410043e-01,   3.39133215e-02,\n",
       "          6.34303396e-01,   6.18813194e-02,   8.51855106e-17],\n",
       "       [  2.91075769e-01,   7.31204099e-03,   5.79298849e-01,\n",
       "         -2.32962739e-01,  -7.24819038e-01,  -5.55172221e-17],\n",
       "       [  5.77180773e-01,  -3.75701377e-01,   3.15581314e-01,\n",
       "         -3.03696910e-01,   5.77829951e-01,  -3.37590837e-17],\n",
       "       [  2.98548926e-01,  -4.72363581e-01,  -4.39080193e-01,\n",
       "          1.53175607e-01,  -2.85031755e-01,  -6.24695048e-01],\n",
       "       [  2.38839141e-01,  -3.77890864e-01,  -3.51264154e-01,\n",
       "          1.22540486e-01,  -2.28025404e-01,   7.80868809e-01]])"
      ]
     },
     "execution_count": 30,
     "metadata": {},
     "output_type": "execute_result"
    }
   ],
   "source": [
    "U\n"
   ]
  },
  {
   "cell_type": "code",
   "execution_count": 31,
   "metadata": {},
   "outputs": [
    {
     "data": {
      "text/plain": [
       "array([  1.26226575e+01,   1.06683922e+01,   7.29730704e+00,\n",
       "         1.64107896e+00,   9.53988881e-01,   3.30004874e-17])"
      ]
     },
     "execution_count": 31,
     "metadata": {},
     "output_type": "execute_result"
    }
   ],
   "source": [
    "#вектор весов факторов\n",
    "s"
   ]
  },
  {
   "cell_type": "code",
   "execution_count": 32,
   "metadata": {},
   "outputs": [
    {
     "data": {
      "text/plain": [
       "array([[ 0.32943278,  0.32943278,  0.2620462 ,  0.50516926,  0.41336817,\n",
       "         0.42257386,  0.33112231],\n",
       "       [ 0.41948676,  0.41948676,  0.37069587,  0.01578321,  0.00371872,\n",
       "        -0.5391523 , -0.46871969],\n",
       "       [-0.2494593 , -0.2494593 , -0.32692809,  0.55236202,  0.50446837,\n",
       "        -0.27716403, -0.36365657],\n",
       "       [ 0.36678304,  0.36678304, -0.79769844,  0.05293961, -0.14851717,\n",
       "        -0.15992196,  0.21019662],\n",
       "       [ 0.06990761,  0.06990761, -0.12342957,  0.24884869, -0.42171601,\n",
       "         0.57850712, -0.63289054],\n",
       "       [-0.71329073,  0.69789665,  0.01231527,  0.04002461, -0.04002461,\n",
       "        -0.02001231,  0.02001231],\n",
       "       [-0.07123497, -0.16370203,  0.1879496 ,  0.6108362 , -0.6108362 ,\n",
       "        -0.3054181 ,  0.3054181 ]])"
      ]
     },
     "execution_count": 32,
     "metadata": {},
     "output_type": "execute_result"
    }
   ],
   "source": [
    "V"
   ]
  },
  {
   "cell_type": "code",
   "execution_count": 33,
   "metadata": {
    "collapsed": true
   },
   "outputs": [],
   "source": [
    "#превращаем вектор весов матрицу весов\n",
    "S = np.zeros((6, 7))"
   ]
  },
  {
   "cell_type": "code",
   "execution_count": 34,
   "metadata": {},
   "outputs": [
    {
     "data": {
      "text/plain": [
       "array([[  1.26226575e+01,   0.00000000e+00,   0.00000000e+00,\n",
       "          0.00000000e+00,   0.00000000e+00,   0.00000000e+00,\n",
       "          0.00000000e+00],\n",
       "       [  0.00000000e+00,   1.06683922e+01,   0.00000000e+00,\n",
       "          0.00000000e+00,   0.00000000e+00,   0.00000000e+00,\n",
       "          0.00000000e+00],\n",
       "       [  0.00000000e+00,   0.00000000e+00,   7.29730704e+00,\n",
       "          0.00000000e+00,   0.00000000e+00,   0.00000000e+00,\n",
       "          0.00000000e+00],\n",
       "       [  0.00000000e+00,   0.00000000e+00,   0.00000000e+00,\n",
       "          1.64107896e+00,   0.00000000e+00,   0.00000000e+00,\n",
       "          0.00000000e+00],\n",
       "       [  0.00000000e+00,   0.00000000e+00,   0.00000000e+00,\n",
       "          0.00000000e+00,   9.53988881e-01,   0.00000000e+00,\n",
       "          0.00000000e+00],\n",
       "       [  0.00000000e+00,   0.00000000e+00,   0.00000000e+00,\n",
       "          0.00000000e+00,   0.00000000e+00,   3.30004874e-17,\n",
       "          0.00000000e+00]])"
      ]
     },
     "execution_count": 34,
     "metadata": {},
     "output_type": "execute_result"
    }
   ],
   "source": [
    "S[:6,:6]=np.diag(s)\n",
    "S"
   ]
  },
  {
   "cell_type": "code",
   "execution_count": 35,
   "metadata": {},
   "outputs": [
    {
     "data": {
      "text/plain": [
       "array([[  4.00000000e+00,   4.00000000e+00,   5.00000000e+00,\n",
       "          9.04398596e-16,   9.20373504e-16,   5.87028089e-16,\n",
       "          5.95694946e-16],\n",
       "       [  5.00000000e+00,   5.00000000e+00,   3.00000000e+00,\n",
       "          4.00000000e+00,   3.00000000e+00,  -6.02155430e-16,\n",
       "         -2.84405778e-16],\n",
       "       [  3.57220994e-16,   7.13285194e-17,   4.31472232e-16,\n",
       "          4.00000000e+00,   4.00000000e+00,  -1.87363603e-15,\n",
       "         -1.32959913e-15],\n",
       "       [  1.47433400e-15,   9.91229891e-16,   2.29874676e-15,\n",
       "          5.00000000e+00,   4.00000000e+00,   5.00000000e+00,\n",
       "          3.00000000e+00],\n",
       "       [  7.09455292e-16,   3.63118858e-16,   6.09097584e-16,\n",
       "         -1.14174352e-15,  -1.38769170e-15,   5.00000000e+00,\n",
       "          5.00000000e+00],\n",
       "       [  6.07200061e-16,   3.49176919e-16,   8.32138391e-16,\n",
       "         -8.10873899e-16,  -8.13583095e-16,   4.00000000e+00,\n",
       "          4.00000000e+00]])"
      ]
     },
     "execution_count": 35,
     "metadata": {},
     "output_type": "execute_result"
    }
   ],
   "source": [
    "#пробуем восстанавливать исходную матрицу\n",
    "np.dot(U, np.dot(S, V))"
   ]
  },
  {
   "cell_type": "code",
   "execution_count": 36,
   "metadata": {
    "collapsed": true
   },
   "outputs": [],
   "source": [
    "Y=np.dot(U, np.dot(S, V))"
   ]
  },
  {
   "cell_type": "code",
   "execution_count": 37,
   "metadata": {},
   "outputs": [
    {
     "data": {
      "text/plain": [
       "1.3677535415069609e-14"
      ]
     },
     "execution_count": 37,
     "metadata": {},
     "output_type": "execute_result"
    }
   ],
   "source": [
    "#вычисляем ошибку приближения со всеми факторами\n",
    "np.linalg.norm(X-Y)"
   ]
  },
  {
   "cell_type": "code",
   "execution_count": 38,
   "metadata": {
    "collapsed": true
   },
   "outputs": [],
   "source": [
    "#обнуляем 5-ый фактор\n",
    "S[4,4]=0"
   ]
  },
  {
   "cell_type": "code",
   "execution_count": 39,
   "metadata": {
    "collapsed": true
   },
   "outputs": [],
   "source": [
    "Y=np.dot(U, np.dot(S, V))"
   ]
  },
  {
   "cell_type": "code",
   "execution_count": 40,
   "metadata": {},
   "outputs": [
    {
     "data": {
      "text/plain": [
       "0.95398888134339599"
      ]
     },
     "execution_count": 40,
     "metadata": {},
     "output_type": "execute_result"
    }
   ],
   "source": [
    "np.linalg.norm(X-Y)"
   ]
  },
  {
   "cell_type": "code",
   "execution_count": 44,
   "metadata": {},
   "outputs": [
    {
     "data": {
      "text/plain": [
       "array([[-0.00404674, -0.00404674,  0.00714496, -0.0144051 ,  0.02441186,\n",
       "        -0.03348803,  0.03663612],\n",
       "       [ 0.00412693,  0.00412693, -0.00728655,  0.01469056, -0.02489562,\n",
       "         0.03415164, -0.03736212],\n",
       "       [-0.04833897, -0.04833897,  0.08534776, -0.17207123,  0.29160368,\n",
       "        -0.40001991,  0.43762438],\n",
       "       [ 0.0385361 ,  0.0385361 , -0.06803973,  0.13717618, -0.23246815,\n",
       "         0.3188982 , -0.3488767 ],\n",
       "       [-0.01900908, -0.01900908,  0.03356261, -0.06766622,  0.11467181,\n",
       "        -0.15730599,  0.17209378],\n",
       "       [-0.01520726, -0.01520726,  0.02685009, -0.05413298,  0.09173745,\n",
       "        -0.12584479,  0.13767502]])"
      ]
     },
     "execution_count": 44,
     "metadata": {},
     "output_type": "execute_result"
    }
   ],
   "source": [
    "X-Y"
   ]
  },
  {
   "cell_type": "code",
   "execution_count": 26,
   "metadata": {},
   "outputs": [
    {
     "data": {
      "text/plain": [
       "0.045195687823748068"
      ]
     },
     "execution_count": 26,
     "metadata": {},
     "output_type": "execute_result"
    }
   ],
   "source": [
    "#обнуляем 4-ый фактор\n",
    "S[3,3]=0\n",
    "Y=np.dot(U, np.dot(S, V))\n",
    "np.linalg.norm(X-Y)/(6*7)"
   ]
  },
  {
   "cell_type": "code",
   "execution_count": 16,
   "metadata": {
    "collapsed": true
   },
   "outputs": [],
   "source": [
    "from sklearn.decomposition import NMF"
   ]
  },
  {
   "cell_type": "code",
   "execution_count": 17,
   "metadata": {
    "collapsed": true
   },
   "outputs": [],
   "source": [
    "#инициализируем праметры неотрицательной матричной факторизации с тремя факторами\n",
    "model = NMF(n_components=3, init='random', random_state=0)\n"
   ]
  },
  {
   "cell_type": "code",
   "execution_count": 18,
   "metadata": {},
   "outputs": [
    {
     "data": {
      "text/plain": [
       "NMF(alpha=0.0, beta_loss='frobenius', init='random', l1_ratio=0.0,\n",
       "  max_iter=200, n_components=3, random_state=0, shuffle=False, solver='cd',\n",
       "  tol=0.0001, verbose=0)"
      ]
     },
     "execution_count": 18,
     "metadata": {},
     "output_type": "execute_result"
    }
   ],
   "source": [
    "#применяем модель к матрице оценок фильмов\n",
    "model.fit(X) \n"
   ]
  },
  {
   "cell_type": "code",
   "execution_count": 19,
   "metadata": {},
   "outputs": [],
   "source": [
    "#извлекаем компоненты \n",
    "W = model.fit_transform(X);\n",
    "H = model.components_;"
   ]
  },
  {
   "cell_type": "code",
   "execution_count": 20,
   "metadata": {},
   "outputs": [
    {
     "data": {
      "text/plain": [
       "array([[ 2.24793179,  0.        ,  0.        ],\n",
       "       [ 2.23118348,  1.66417342,  0.        ],\n",
       "       [ 0.        ,  1.91022987,  0.        ],\n",
       "       [ 0.        ,  2.17779586,  1.98547926],\n",
       "       [ 0.        ,  0.        ,  2.58505415],\n",
       "       [ 0.        ,  0.        ,  2.06804332]])"
      ]
     },
     "execution_count": 20,
     "metadata": {},
     "output_type": "execute_result"
    }
   ],
   "source": [
    "#зрители-факторы\n",
    "W\n"
   ]
  },
  {
   "cell_type": "code",
   "execution_count": 21,
   "metadata": {},
   "outputs": [
    {
     "data": {
      "text/plain": [
       "array([[ 1.97582315,  1.97582315,  1.78771163,  0.06530907,  0.        ,\n",
       "         0.        ,  0.        ],\n",
       "       [ 0.08820566,  0.08820566,  0.        ,  2.22716484,  1.91238711,\n",
       "         0.18750422,  0.        ],\n",
       "       [ 0.        ,  0.        ,  0.        ,  0.01994477,  0.        ,\n",
       "         2.03430582,  1.82223255]])"
      ]
     },
     "execution_count": 21,
     "metadata": {},
     "output_type": "execute_result"
    }
   ],
   "source": [
    "#факторы-фильмы\n",
    "H"
   ]
  },
  {
   "cell_type": "code",
   "execution_count": 22,
   "metadata": {},
   "outputs": [
    {
     "data": {
      "text/plain": [
       "array([[ 4.44151567,  4.44151567,  4.0186538 ,  0.14681033,  0.        ,\n",
       "         0.        ,  0.        ],\n",
       "       [ 4.55521349,  4.55521349,  3.98871265,  3.85210505,  3.18254379,\n",
       "         0.31203953,  0.        ],\n",
       "       [ 0.16849309,  0.16849309,  0.        ,  4.2543968 ,  3.65309897,\n",
       "         0.35817615,  0.        ],\n",
       "       [ 0.19209393,  0.19209393,  0.        ,  4.88991029,  4.16478872,\n",
       "         4.44741791,  3.61800494],\n",
       "       [ 0.        ,  0.        ,  0.        ,  0.0515583 ,  0.        ,\n",
       "         5.2587907 ,  4.71056983],\n",
       "       [ 0.        ,  0.        ,  0.        ,  0.04124664,  0.        ,\n",
       "         4.20703256,  3.76845586]])"
      ]
     },
     "execution_count": 22,
     "metadata": {},
     "output_type": "execute_result"
    }
   ],
   "source": [
    "#восстанавливаем исходную матрицу\n",
    "Y=np.dot(W,H)\n",
    "Y"
   ]
  },
  {
   "cell_type": "code",
   "execution_count": 45,
   "metadata": {},
   "outputs": [
    {
     "data": {
      "text/plain": [
       "0.95398888134339599"
      ]
     },
     "execution_count": 45,
     "metadata": {},
     "output_type": "execute_result"
    }
   ],
   "source": [
    "#находим суммарную ошибку\n",
    "np.linalg.norm(X-Y)"
   ]
  },
  {
   "cell_type": "code",
   "execution_count": 24,
   "metadata": {},
   "outputs": [
    {
     "data": {
      "text/plain": [
       "array([[-0.44151567, -0.44151567,  0.9813462 , -0.14681033,  0.        ,\n",
       "         0.        ,  0.        ],\n",
       "       [ 0.44478651,  0.44478651, -0.98871265,  0.14789495, -0.18254379,\n",
       "        -0.31203953,  0.        ],\n",
       "       [-0.16849309, -0.16849309,  0.        , -0.2543968 ,  0.34690103,\n",
       "        -0.35817615,  0.        ],\n",
       "       [-0.19209393, -0.19209393,  0.        ,  0.11008971, -0.16478872,\n",
       "         0.55258209, -0.61800494],\n",
       "       [ 0.        ,  0.        ,  0.        , -0.0515583 ,  0.        ,\n",
       "        -0.2587907 ,  0.28943017],\n",
       "       [ 0.        ,  0.        ,  0.        , -0.04124664,  0.        ,\n",
       "        -0.20703256,  0.23154414]])"
      ]
     },
     "execution_count": 24,
     "metadata": {},
     "output_type": "execute_result"
    }
   ],
   "source": [
    "X-Y"
   ]
  },
  {
   "cell_type": "code",
   "execution_count": 25,
   "metadata": {},
   "outputs": [],
   "source": [
    "# на точность приближения влияют параметры модели (например, можно увеличить число факторов)"
   ]
  },
  {
   "cell_type": "code",
   "execution_count": null,
   "metadata": {
    "collapsed": true
   },
   "outputs": [],
   "source": []
  },
  {
   "cell_type": "code",
   "execution_count": null,
   "metadata": {
    "collapsed": true
   },
   "outputs": [],
   "source": []
  }
 ],
 "metadata": {
  "kernelspec": {
   "display_name": "Python 3",
   "language": "python",
   "name": "python3"
  },
  "language_info": {
   "codemirror_mode": {
    "name": "ipython",
    "version": 3
   },
   "file_extension": ".py",
   "mimetype": "text/x-python",
   "name": "python",
   "nbconvert_exporter": "python",
   "pygments_lexer": "ipython3",
   "version": "3.6.3"
  }
 },
 "nbformat": 4,
 "nbformat_minor": 1
}
