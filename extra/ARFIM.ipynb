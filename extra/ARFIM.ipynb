{
 "cells": [
  {
   "cell_type": "markdown",
   "metadata": {},
   "source": [
    "Пример взят с http://orange.biolab.si/docs/latest/reference/rst/Orange.associate.html"
   ]
  },
  {
   "cell_type": "code",
   "execution_count": 11,
   "metadata": {
    "collapsed": true
   },
   "outputs": [],
   "source": [
    "import Orange"
   ]
  },
  {
   "cell_type": "code",
   "execution_count": 12,
   "metadata": {
    "collapsed": false
   },
   "outputs": [],
   "source": [
    "data = Orange.data.Table(\"market-basket.basket\")\n",
    "# загружаем данные из набора c покупками"
   ]
  },
  {
   "cell_type": "code",
   "execution_count": 13,
   "metadata": {
    "collapsed": false
   },
   "outputs": [
    {
     "data": {
      "text/plain": [
       "[[], {\"Bread\":1.000, \"Milk\":1.000},\n",
       " [], {\"Bread\":1.000, \"Diapers\":1.000, \"Beer\":1.000, \"Eggs\":1.000},\n",
       " [], {\"Milk\":1.000, \"Diapers\":1.000, \"Beer\":1.000, \"Cola\":1.000},\n",
       " [], {\"Bread\":1.000, \"Milk\":1.000, \"Diapers\":1.000, \"Beer\":1.000},\n",
       " [], {\"Bread\":1.000, \"Milk\":1.000, \"Diapers\":1.000, \"Cola\":1.000}]"
      ]
     },
     "execution_count": 13,
     "metadata": {},
     "output_type": "execute_result"
    }
   ],
   "source": [
    "data[:]"
   ]
  },
  {
   "cell_type": "code",
   "execution_count": 14,
   "metadata": {
    "collapsed": false
   },
   "outputs": [
    {
     "name": "stdout",
     "output_type": "stream",
     "text": [
      "Supp Conf  Rule\n",
      " 0.4  1.0  Cola -> Diapers\n",
      " 0.4  0.5  Diapers -> Cola\n",
      " 0.4  1.0  Cola -> Diapers Milk\n",
      " 0.4  1.0  Cola Diapers -> Milk\n",
      " 0.4  1.0  Cola Milk -> Diapers\n"
     ]
    }
   ],
   "source": [
    "rules = Orange.associate.AssociationRulesSparseInducer(data, support=0.3)\n",
    "# находим все ассоциативные правила с поддержкой 0.3\n",
    "print \"%4s %4s  %s\" % (\"Supp\", \"Conf\", \"Rule\")\n",
    "for r in rules[:5]:\n",
    "    print \"%4.1f %4.1f  %s\" % (r.support, r.confidence, r)\n",
    "#выводим пять правил и значения поддержки и достоверности"
   ]
  },
  {
   "cell_type": "code",
   "execution_count": 15,
   "metadata": {
    "collapsed": false
   },
   "outputs": [
    {
     "name": "stdout",
     "output_type": "stream",
     "text": [
      "(0.40) Cola\n",
      "(0.40) Cola Diapers\n",
      "(0.40) Cola Diapers Milk\n",
      "(0.40) Cola Milk\n",
      "(0.60) Beer\n"
     ]
    }
   ],
   "source": [
    "data = Orange.data.Table(\"market-basket.basket\")\n",
    "\n",
    "ind = Orange.associate.AssociationRulesSparseInducer(support=0.4, storeExamples = True)\n",
    "itemsets = ind.get_itemsets(data)\n",
    "for itemset, tids in itemsets[:5]:\n",
    "    print \"(%4.2f) %s\" % (len(tids)/float(len(data)),\n",
    "                          \" \".join(data.domain[item].name for item in itemset))\n",
    "# относительная поддержка и частые множества"
   ]
  },
  {
   "cell_type": "code",
   "execution_count": null,
   "metadata": {
    "collapsed": true
   },
   "outputs": [],
   "source": []
  }
 ],
 "metadata": {
  "kernelspec": {
   "display_name": "Python 2",
   "language": "python",
   "name": "python2"
  },
  "language_info": {
   "codemirror_mode": {
    "name": "ipython",
    "version": 2
   },
   "file_extension": ".py",
   "mimetype": "text/x-python",
   "name": "python",
   "nbconvert_exporter": "python",
   "pygments_lexer": "ipython2",
   "version": "2.7.11"
  }
 },
 "nbformat": 4,
 "nbformat_minor": 0
}
