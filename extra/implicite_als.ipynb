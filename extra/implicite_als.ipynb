{
 "cells": [
  {
   "cell_type": "markdown",
   "metadata": {},
   "source": [
    "#### Основной источник кода: https://github.com/MrChrisJohnson/implicit-mf\n",
    "#### Теория  - http://activisiongamescience.github.io/2016/01/11/Implicit-Recommender-Systems-Biased-Matrix-Factorization/"
   ]
  },
  {
   "cell_type": "code",
   "execution_count": null,
   "metadata": {
    "collapsed": true
   },
   "outputs": [],
   "source": []
  },
  {
   "cell_type": "code",
   "execution_count": 13,
   "metadata": {
    "collapsed": true
   },
   "outputs": [],
   "source": [
    "import numpy as np\n",
    "import pandas as pd\n",
    "\n",
    "from scipy import sparse\n",
    "\n",
    "np.random.seed(0)"
   ]
  },
  {
   "cell_type": "markdown",
   "metadata": {},
   "source": [
    "### Загружаем оценки и собираем из них матрицу оценок $r_{ij}$ "
   ]
  },
  {
   "cell_type": "code",
   "execution_count": 2,
   "metadata": {
    "collapsed": true
   },
   "outputs": [],
   "source": [
    "df = pd.read_csv('a.txt', sep='\\t')"
   ]
  },
  {
   "cell_type": "code",
   "execution_count": 3,
   "metadata": {},
   "outputs": [
    {
     "data": {
      "text/html": [
       "<div>\n",
       "<style>\n",
       "    .dataframe thead tr:only-child th {\n",
       "        text-align: right;\n",
       "    }\n",
       "\n",
       "    .dataframe thead th {\n",
       "        text-align: left;\n",
       "    }\n",
       "\n",
       "    .dataframe tbody tr th {\n",
       "        vertical-align: top;\n",
       "    }\n",
       "</style>\n",
       "<table border=\"1\" class=\"dataframe\">\n",
       "  <thead>\n",
       "    <tr style=\"text-align: right;\">\n",
       "      <th></th>\n",
       "      <th>12a1970 lexmark</th>\n",
       "      <th>2 stacker</th>\n",
       "      <th>21 black jack</th>\n",
       "      <th>2nd mortgage</th>\n",
       "      <th>acapulco hotel</th>\n",
       "      <th>accept account card credit merchant</th>\n",
       "      <th>accept card credit</th>\n",
       "      <th>accept card credit online</th>\n",
       "      <th>accessory computer</th>\n",
       "      <th>accessory desk</th>\n",
       "      <th>...</th>\n",
       "      <th>woman</th>\n",
       "      <th>work home</th>\n",
       "      <th>xenadrine</th>\n",
       "      <th>xenical</th>\n",
       "      <th>xenical on line</th>\n",
       "      <th>xxx</th>\n",
       "      <th>yohimbe</th>\n",
       "      <th>yukon</th>\n",
       "      <th>zinc</th>\n",
       "      <th>zyban</th>\n",
       "    </tr>\n",
       "  </thead>\n",
       "  <tbody>\n",
       "    <tr>\n",
       "      <th>0</th>\n",
       "      <td>0</td>\n",
       "      <td>0</td>\n",
       "      <td>0</td>\n",
       "      <td>0</td>\n",
       "      <td>0</td>\n",
       "      <td>0</td>\n",
       "      <td>0</td>\n",
       "      <td>0</td>\n",
       "      <td>0</td>\n",
       "      <td>0</td>\n",
       "      <td>...</td>\n",
       "      <td>0</td>\n",
       "      <td>1</td>\n",
       "      <td>0</td>\n",
       "      <td>0</td>\n",
       "      <td>0</td>\n",
       "      <td>0</td>\n",
       "      <td>0</td>\n",
       "      <td>0</td>\n",
       "      <td>0</td>\n",
       "      <td>0</td>\n",
       "    </tr>\n",
       "    <tr>\n",
       "      <th>1</th>\n",
       "      <td>0</td>\n",
       "      <td>0</td>\n",
       "      <td>0</td>\n",
       "      <td>0</td>\n",
       "      <td>0</td>\n",
       "      <td>0</td>\n",
       "      <td>0</td>\n",
       "      <td>0</td>\n",
       "      <td>0</td>\n",
       "      <td>0</td>\n",
       "      <td>...</td>\n",
       "      <td>0</td>\n",
       "      <td>0</td>\n",
       "      <td>0</td>\n",
       "      <td>0</td>\n",
       "      <td>0</td>\n",
       "      <td>0</td>\n",
       "      <td>0</td>\n",
       "      <td>0</td>\n",
       "      <td>0</td>\n",
       "      <td>0</td>\n",
       "    </tr>\n",
       "  </tbody>\n",
       "</table>\n",
       "<p>2 rows × 3000 columns</p>\n",
       "</div>"
      ],
      "text/plain": [
       "   12a1970 lexmark  2 stacker  21 black jack  2nd mortgage  acapulco hotel  \\\n",
       "0                0          0              0             0               0   \n",
       "1                0          0              0             0               0   \n",
       "\n",
       "   accept account card credit merchant  accept card credit  \\\n",
       "0                                    0                   0   \n",
       "1                                    0                   0   \n",
       "\n",
       "   accept card credit online  accessory computer  accessory desk  ...    \\\n",
       "0                          0                   0               0  ...     \n",
       "1                          0                   0               0  ...     \n",
       "\n",
       "   woman  work home  xenadrine  xenical  xenical on line  xxx  yohimbe  yukon  \\\n",
       "0      0          1          0        0                0    0        0      0   \n",
       "1      0          0          0        0                0    0        0      0   \n",
       "\n",
       "   zinc  zyban  \n",
       "0     0      0  \n",
       "1     0      0  \n",
       "\n",
       "[2 rows x 3000 columns]"
      ]
     },
     "execution_count": 3,
     "metadata": {},
     "output_type": "execute_result"
    }
   ],
   "source": [
    "df.head(2)"
   ]
  },
  {
   "cell_type": "code",
   "execution_count": 4,
   "metadata": {
    "collapsed": true
   },
   "outputs": [],
   "source": []
  },
  {
   "cell_type": "markdown",
   "metadata": {},
   "source": [
    "### Функция, которая делит множество оценок на test и train"
   ]
  },
  {
   "cell_type": "code",
   "execution_count": 5,
   "metadata": {
    "collapsed": true
   },
   "outputs": [],
   "source": [
    "# Делим данные на train и test \n",
    "# Для каждого пользователя 10 случайных \"оценок\" отправляем в test\n",
    "def train_test_split(ratings):\n",
    "    test = np.zeros(ratings.shape)\n",
    "    train = ratings.copy()\n",
    "    for user in np.arange(ratings.shape[0]):\n",
    "        test_ratings = np.random.choice(ratings[user, :].nonzero()[0], \n",
    "                                        size=10, \n",
    "                                        replace=False)\n",
    "        train[user, test_ratings] = 0.\n",
    "        test[user, test_ratings] = ratings[user, test_ratings]\n",
    "        \n",
    "    # Проверяем, что   t est и train не пересекаются\n",
    "    assert(np.all((train * test) == 0)) \n",
    "    return train, test"
   ]
  },
  {
   "cell_type": "markdown",
   "metadata": {},
   "source": [
    "### Метрика качества"
   ]
  },
  {
   "cell_type": "code",
   "execution_count": 6,
   "metadata": {
    "collapsed": true
   },
   "outputs": [],
   "source": [
    "from sklearn.metrics import mean_squared_error\n",
    "\n",
    "# лучше попробовать ранговую метрику Mean Avarage Precision@K, например\n",
    "def get_mse(pred, actual):\n",
    "    pred = pred[actual.nonzero()].flatten()\n",
    "    actual = actual[actual.nonzero()].flatten()\n",
    "    return mean_squared_error(pred, actual)"
   ]
  },
  {
   "cell_type": "code",
   "execution_count": 7,
   "metadata": {
    "collapsed": true
   },
   "outputs": [],
   "source": [
    "%matplotlib inline\n",
    "import matplotlib.pyplot as plt\n",
    "import seaborn as sns\n",
    "sns.set()\n",
    "\n",
    "def plot_learning_curve(iter_array, model):\n",
    "    plt.plot(iter_array, model.train_mse, \\\n",
    "             label='Training', linewidth=3)\n",
    "    plt.plot(iter_array, model.test_mse, \\\n",
    "             label='Test', linewidth=3)\n",
    "\n",
    "\n",
    "    plt.xticks(fontsize=16);\n",
    "    plt.yticks(fontsize=16);\n",
    "    plt.xlabel('Iterations', fontsize=25);\n",
    "    plt.ylabel('MSE', fontsize=25);\n",
    "    plt.legend(loc='best', fontsize=20);"
   ]
  },
  {
   "cell_type": "code",
   "execution_count": null,
   "metadata": {
    "collapsed": true
   },
   "outputs": [],
   "source": []
  },
  {
   "cell_type": "markdown",
   "metadata": {},
   "source": [
    "# Implicit matrix factorization"
   ]
  },
  {
   "cell_type": "code",
   "execution_count": 18,
   "metadata": {
    "collapsed": true
   },
   "outputs": [],
   "source": [
    "import numpy as np\n",
    "import scipy.sparse as sparse\n",
    "from scipy.sparse.linalg import spsolve\n",
    "import time\n",
    "\n",
    "class ImplicitMF():\n",
    "\n",
    "    def __init__(self, ratings, num_factors=40, reg_param=0.8):\n",
    "        self.counts = sparse.csr_matrix(ratings)\n",
    "        self.ratings = ratings\n",
    "        self.num_users = self.counts.shape[0]\n",
    "        self.num_items = self.counts.shape[1]\n",
    "        self.num_factors = num_factors\n",
    "        self.reg_param = reg_param\n",
    "        self.num_iterations=0\n",
    "        \n",
    "        self.user_vectors = np.random.normal(size=(self.num_users,\n",
    "                                                   self.num_factors))\n",
    "        self.item_vectors = np.random.normal(size=(self.num_items,\n",
    "                                                   self.num_factors))\n",
    "        \n",
    "    def train_model(self, num_iterations):\n",
    "        \n",
    "        for i in np.arange(num_iterations):\n",
    "            t0 = time.time()\n",
    "            # print ('Solving for user vectors...')\n",
    "            self.user_vectors = self.iteration(True, sparse.csr_matrix(self.item_vectors))\n",
    "            # print ('Solving for item vectors...')\n",
    "            self.item_vectors = self.iteration(False, sparse.csr_matrix(self.user_vectors))\n",
    "            t1 = time.time()\n",
    "            #print ('iteration %i finished in %f seconds' % (i + 1, t1 - t0))\n",
    "\n",
    "    def iteration(self, user, fixed_vecs):\n",
    "        num_solve = self.num_users if user else self.num_items\n",
    "        num_fixed = fixed_vecs.shape[0]\n",
    "        YTY = fixed_vecs.T.dot(fixed_vecs)\n",
    "        eye = sparse.eye(num_fixed)\n",
    "        lambda_eye = self.reg_param * sparse.eye(self.num_factors)\n",
    "        solve_vecs = np.zeros((num_solve, self.num_factors))\n",
    "\n",
    "        for i in np.arange(num_solve):\n",
    "            if user:\n",
    "                counts_i = self.counts[i].toarray()\n",
    "            else:\n",
    "                counts_i = self.counts[:, i].T.toarray()\n",
    "            CuI = sparse.diags(counts_i, [0])\n",
    "            pu = counts_i.copy()\n",
    "            pu[np.where(pu != 0)] = 1.0\n",
    "            YTCuIY = fixed_vecs.T.dot(CuI).dot(fixed_vecs)\n",
    "            YTCupu = fixed_vecs.T.dot(CuI + eye).dot(sparse.csr_matrix(pu).T)\n",
    "            xu = spsolve(YTY + YTCuIY + lambda_eye, YTCupu)\n",
    "            solve_vecs[i] = xu\n",
    "            \n",
    "\n",
    "        return solve_vecs\n",
    "    \n",
    "    def predict(self, u, i):\n",
    "        \"\"\" Single user and item prediction.\"\"\"\n",
    "        return self.user_vectors[u, :].dot(self.item_vectors[i, :].T)\n",
    "    \n",
    "    def predict_all(self):\n",
    "        \"\"\" Predict ratings for every user and item.\"\"\"\n",
    "        predictions = np.zeros((self.user_vectors.shape[0], \n",
    "                                self.item_vectors.shape[0]))\n",
    "        for u in range(self.user_vectors.shape[0]):\n",
    "            for i in range(self.item_vectors.shape[0]):\n",
    "                predictions[u, i] = self.predict(u, i)\n",
    "        \n",
    "        return predictions\n",
    "    \n",
    "    def calculate_learning_curve(self, iter_array, test):\n",
    "        \"\"\"\n",
    "        \"\"\"\n",
    "        iter_array.sort()\n",
    "        self.train_mse =[]\n",
    "        self.test_mse = []\n",
    "        iter_diff = 0\n",
    "        for (i, n_iter) in enumerate(iter_array):\n",
    "            \n",
    "            print (f'Iteration: {n_iter}')\n",
    "            \n",
    "            if i == 0:\n",
    "                print(n_iter)\n",
    "                self.train_model(n_iter)\n",
    "            else:\n",
    "                self.train_model(n_iter - iter_diff)\n",
    "\n",
    "            predictions = self.predict_all()\n",
    "\n",
    "            self.train_mse += [get_mse(predictions, self.ratings)]\n",
    "            self.test_mse += [get_mse(predictions, test)]\n",
    "            \n",
    "            print (f'MSE train:test: {round(self.train_mse[-1],2)} : {round(self.test_mse[-1],2)}\\n')\n",
    "            iter_diff = n_iter"
   ]
  },
  {
   "cell_type": "code",
   "execution_count": 19,
   "metadata": {
    "collapsed": true
   },
   "outputs": [],
   "source": [
    "train, test = train_test_split(pd.DataFrame.as_matrix(df))\n",
    "\n",
    "mf = ImplicitMF(ratings=train)"
   ]
  },
  {
   "cell_type": "code",
   "execution_count": 21,
   "metadata": {},
   "outputs": [
    {
     "name": "stdout",
     "output_type": "stream",
     "text": [
      "Iteration: 1\n",
      "1\n",
      "MSE train:test: 0.93 : 0.97\n",
      "\n",
      "Iteration: 2\n",
      "MSE train:test: 0.28 : 0.56\n",
      "\n",
      "Iteration: 5\n",
      "MSE train:test: 0.26 : 0.52\n",
      "\n",
      "Iteration: 10\n",
      "MSE train:test: 0.26 : 0.52\n",
      "\n",
      "Iteration: 25\n",
      "MSE train:test: 0.26 : 0.52\n",
      "\n",
      "Iteration: 50\n",
      "MSE train:test: 0.26 : 0.52\n",
      "\n"
     ]
    }
   ],
   "source": [
    "iter_array = [1, 2, 5, 10, 25, 50]\n",
    "mf.calculate_learning_curve(iter_array, sparse.csr_matrix(test))"
   ]
  },
  {
   "cell_type": "code",
   "execution_count": 22,
   "metadata": {},
   "outputs": [
    {
     "data": {
      "image/png": "[encoded data removed]",
      "text/plain": [
       "<matplotlib.figure.Figure at 0x11af32be0>"
      ]
     },
     "metadata": {},
     "output_type": "display_data"
    }
   ],
   "source": [
    "plot_learning_curve(iter_array, mf)"
   ]
  }
 ],
 "metadata": {
  "kernelspec": {
   "display_name": "Python 3",
   "language": "python",
   "name": "python3"
  },
  "language_info": {
   "codemirror_mode": {
    "name": "ipython",
    "version": 3
   },
   "file_extension": ".py",
   "mimetype": "text/x-python",
   "name": "python",
   "nbconvert_exporter": "python",
   "pygments_lexer": "ipython3",
   "version": "3.6.1"
  }
 },
 "nbformat": 4,
 "nbformat_minor": 2
}
