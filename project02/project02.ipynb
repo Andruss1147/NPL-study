{
 "cells": [
  {
   "cell_type": "markdown",
   "metadata": {
    "deletable": true,
    "editable": true
   },
   "source": [
    "<img width=\"50px\" align=\"left\" style=\"margin-right:20px\" src=\"http://data.newprolab.com/public-newprolab-com/npl_logo.png\"> <b>New Professions Lab</b> <br /> Специалист по большим данным"
   ]
  },
  {
   "cell_type": "markdown",
   "metadata": {
    "deletable": true,
    "editable": true
   },
   "source": [
    "# Проект 2"
   ]
  },
  {
   "cell_type": "markdown",
   "metadata": {
    "deletable": true,
    "editable": true
   },
   "source": [
    "# Построить content-based рекомендательную систему товаров интернет-магазина ozon.ru"
   ]
  },
  {
   "cell_type": "markdown",
   "metadata": {
    "deletable": true,
    "editable": true
   },
   "source": [
    "<img width=\"200px\" align=\"left\" src=\"http://data.newprolab.com/public-newprolab-com/ozon.png\">"
   ]
  },
  {
   "cell_type": "markdown",
   "metadata": {
    "deletable": true,
    "editable": true
   },
   "source": [
    "<a href=\"https://github.com/newprolab/content_bigdata7\"><img align=\"left\" src=\"http://data.newprolab.com/public-newprolab-com/npl7.svg\"></a>"
   ]
  },
  {
   "cell_type": "markdown",
   "metadata": {
    "deletable": true,
    "editable": true
   },
   "source": [
    "### Задача"
   ]
  },
  {
   "cell_type": "markdown",
   "metadata": {
    "deletable": true,
    "editable": true
   },
   "source": [
    "Нужно построить рекомендательный алгоритм наилучшей предсказательной точности по метрике NDCG@100.\n",
    "\n",
    "<!-- Подробнее о метрике: https://www.kaggle.com/wiki/NormalizedDiscountedCumulativeGain -->\n",
    "\n",
    "Можно прочесть качественный пост на FastML: http://fastml.com/evaluating-recommender-systems/\n",
    "\n",
    "Или на русском https://habr.com/company/econtenta/blog/303458/\n",
    "\n",
    "Как и в первом проекте, мы рекомендуем сделать всё решение в этом ноутбуке. Но, в отличие от первого проекта, где всё-таки были очерчены примерные способы решения, в данном случае вам предоставляется полная свобода для трактования, исследования и выбора подходов к задаче. Более того, нет гарантий, что задача вообще решаема с необходимой точностью.\n",
    "\n",
    "⏰ **Дедлайн: Вторник, 12 июня 2018, 23:59 по Москве**"
   ]
  },
  {
   "cell_type": "markdown",
   "metadata": {
    "deletable": true,
    "editable": true
   },
   "source": [
    "### Обработка данных на вход"
   ]
  },
  {
   "cell_type": "markdown",
   "metadata": {
    "deletable": true,
    "editable": true
   },
   "source": [
    "Для выполнения работы вам следует взять данные из HDFS:"
   ]
  },
  {
   "cell_type": "markdown",
   "metadata": {
    "deletable": true,
    "editable": true
   },
   "source": [
    "```bash\n",
    "$ hadoop fs -ls /labs/project02 \n",
    "Found 6 items\n",
    "-rw-r--r--   3 hdfs hdfs   13550896 2017-04-22 15:04 /labs/project02/catalog_path\n",
    "-rw-r--r--   3 hdfs hdfs  453269519 2017-04-22 15:04 /labs/project02/catalogs\n",
    "-rw-r--r--   3 hdfs hdfs 8726734647 2017-04-22 15:05 /labs/project02/item_details_full\n",
    "-rw-r--r--   3 hdfs hdfs    2240879 2017-04-22 15:05 /labs/project02/ozon_test.txt\n",
    "-rw-r--r--   3 hdfs hdfs   19097164 2017-04-22 15:05 /labs/project02/ozon_train.txt\n",
    "-rw-r--r--   3 hdfs hdfs   12906349 2017-04-22 15:05 /labs/project02/ratings\n",
    "```"
   ]
  },
  {
   "cell_type": "markdown",
   "metadata": {
    "deletable": true,
    "editable": true
   },
   "source": [
    "Итак, давайте разберёмся, какие входные данные мы имеем:\n",
    "\n",
    "#### `ozon_train.txt`\n",
    "\n",
    "Обучающая выборка строчки в json, где для товара `item` мы предоставляем наиболее популярные рекомендации в `true_recoms` (здесь словарь из id рекомендуемого товара и веса — чем больше, тем лучше). Веса означают клики. Текущая рекомендательная система Ozon.ru — это смесь content-based и коллаборативной фильтрации.\n",
    "\n",
    "Пример:\n",
    "\n",
    "```\n",
    "{\"item\":\"24798277\",\"true_recoms\":{\"24798314\":1,\"24798279\":2,\"24798276\":4,\"24798277\":1,\"24798280\":2}}\n",
    "```\n",
    "\n",
    "❗️ В файле есть строчка с 40 000 рекомендаций — это мусор.\n",
    "\n",
    "#### `ozon_test.txt`\n",
    "\n",
    "Тестовая выборка.\n",
    "\n",
    "Пример:\n",
    "\n",
    "```\n",
    "{\"item\": \"28759795\",\"recoms\": null}\n",
    "```\n",
    "\n",
    "#### `item_details_full`\n",
    "\n",
    "Атрибуты товаров.\n",
    "\n",
    "Пример:\n",
    "\n",
    "```\n",
    "{\"id\":\"4381194\",\"name\":\"Графиня де Монсоро - В двух томах - Номерованный экземпляр № 84 (подарочное издание)\",\"annotation\":\"Настоящее издание отпечатано в количестве тысячи пятисот экземпляров, сто из которых изготовлены в переплетах из черной кожи с золотыми обрезами и пронумерованы.  Номер настоящего экземпляра 84.<br>\\r\\n\\\"Графиня де Монсоро\\\" (1846) - одно из самых значительных произведений Александра Дюма. В этом увлекательном авантюрно-историческом романе писатель с замечательным мастерством воскрешает события второй половины XVI века - эпохи религиозных войн и правления Генриха III, последнего короля династии Валуа. История трагической любви благородного графа де Бюсси и прекрасной Дианы де Монсоро развертывается на фоне придворных интриг, политических заговоров и религиозных раздоров. <br>\\r\\nВ настоящем издании впервые публикуются все 245 иллюстраций выдающегося французского художника Мориса Лелуара, выполненные им для парижского издания 1903 года. Книга дополнена очерком А. И. Куприна \\\"Дюма-отец\\\" и обстоятельными комментариями.\",\"parent_id\":\"18255189\"}\n",
    "```\n",
    "\n",
    "❗️Под `parent_id` объединяются модификации одного товара (например, разные айфоны).\n",
    "\n",
    "\n",
    "#### `catalogs`\n",
    "\n",
    "В каких каталогах лежит товар (может быть несколько записей). \n",
    "\n",
    "Пример:\n",
    "\n",
    "```\n",
    "{\"itemid\":\"29040016\",\"catalogid\":\"1179259\"}\n",
    "```\n",
    "\n",
    "#### `catalog_path`\n",
    "\n",
    "Пути для каталогов нижнего уровня (в которых лежат товары) в дереве каталогов. Для каждого каталога отдаётся полный путь до корня. \n",
    "\n",
    "Пример:\n",
    "\n",
    "```\n",
    "{\"catalogid\":1125630,\"catalogpath\":[{\"1125630\":\"Изысканные напитки. Сигары\"},{\"1125623\":\"Книга - лучший подарок!\"},{\"1112250\":\"Архив раздела (Нехудож.лит-ра)\"},{\"1095865\":\"Нехудожественная литература\"}]}\n",
    "```\n",
    "\n",
    "#### `ratings`\n",
    "\n",
    "Средний рейтинг `itemid` (звёздочки). \n",
    "\n",
    "Пример:\n",
    "\n",
    "```\n",
    "{“itemid”: 2658646, “rating”:4.0}\n",
    "```"
   ]
  },
  {
   "cell_type": "markdown",
   "metadata": {
    "deletable": true,
    "editable": true
   },
   "source": [
    "### Обработка данных на выход\n",
    "\n",
    "Выходной файл должен иметь следующий формат (пример для одной строчки). Вес товара тем выше, чем выше его близость:\n",
    "\n",
    "```\n",
    "{\"item\": \"28759795\", \"recoms\": {\"28759801\": 1, \"28759817\": 2, \"28759803\": 13}}\n",
    "```\n",
    "\n",
    "Вы можете использовать любые алгоритмы и их смеси для предсказания рейтингов. Мы будем оценивать точность работы вашего алгоритма, рассчитывая средний NDCG@100 по всем товарам. Это означает, что для каждого `item` в тестовой выборке вы рекомендуете 100 товаров.\n",
    "\n",
    "Чекер выглядит следующим образом:"
   ]
  },
  {
   "cell_type": "markdown",
   "metadata": {
    "deletable": true,
    "editable": true
   },
   "source": [
    "```python\n",
    "lines_number_ok = False\n",
    "score = 0.0\n",
    "\n",
    "file_exists = False\n",
    "test_passed = False\n",
    "true_recs = {}\n",
    "lines_number = 0\n",
    "lines_number_hidden = 0\n",
    "\n",
    "\n",
    "try:\n",
    "    if not cli.startcheck():\n",
    "        exit(-1)\n",
    "\n",
    "    file_exists = cli.checkfileexists(filename)\n",
    "\n",
    "    if file_exists:\n",
    "        with open(cli.getans('test_file_path')) as f:\n",
    "            for line in f:\n",
    "                data = json.loads(line)\n",
    "                true_recs[data['item']] = data['true_recoms']\n",
    "        lines_number_hidden = len(true_recs.keys())\n",
    "        \n",
    "        ndcg_sum = 0\n",
    "        with open(cli.getfilepath(filename)) as f:\n",
    "            for line in f:\n",
    "                lines_number += 1\n",
    "        \n",
    "        if lines_number == len(true_recs.keys()):\n",
    "            lines_number_ok = True\n",
    "            with open(cli.getfilepath(filename)) as f:\n",
    "                for line in f:                     \n",
    "                    data = json.loads(line)     \n",
    "                    trs = true_recs[data['item']]\n",
    "                    tmrs = data['recoms']    \n",
    "\n",
    "                    sorted_trs = sorted(trs.items(), key = lambda x: float(x[1]), reverse = True)\n",
    "                    sorted_tmrs = sorted(tmrs.items(), key = lambda x: float(x[1]), reverse = True)\n",
    "                    dcg = 0\n",
    "                    idcg = 0\n",
    "\n",
    "                    for i in range(len(trs)):\n",
    "                        delta = sorted_trs[i][1]\n",
    "                        if i + 1 != 1:\n",
    "                            delta = delta / float(math.log(i + 1, 2))\n",
    "                        idcg += delta\n",
    "\n",
    "                    for i in range(len(tmrs)):\n",
    "                        if sorted_tmrs[i][0] in trs:                    \n",
    "                            delta = trs[sorted_tmrs[i][0]]\n",
    "                            if i + 1 != 1:\n",
    "                                delta = delta / float(math.log(i + 1, 2))\n",
    "                            dcg += delta\n",
    "\n",
    "                    ndcg_sum += dcg / idcg\n",
    "            score = ndcg_sum / lines_number\n",
    "\n",
    "            if score > 0.1:\n",
    "                test_passed = True\n",
    "\n",
    "```"
   ]
  },
  {
   "cell_type": "markdown",
   "metadata": {
    "deletable": true,
    "editable": true
   },
   "source": [
    "Ваши результаты будут заноситься на обновляемую доску лидеров на [странице Проекта 2](http://lk.newprolab.com/lab/project02)."
   ]
  },
  {
   "cell_type": "markdown",
   "metadata": {
    "deletable": true,
    "editable": true
   },
   "source": [
    "### Проверка"
   ]
  },
  {
   "cell_type": "markdown",
   "metadata": {
    "deletable": true,
    "editable": true
   },
   "source": [
    "Для автоматической проверки необходимо сохранить заполненный предсказанными вами рейтингами файл `ozon_test.txt` в вашей домашней директории под именем `project02.txt`.\n",
    "\n",
    "**ВАЖНО: Для точной проверки сохраняйте порядок и количество строк исходного файла.**\n",
    "\n",
    "<p style=\"color:DarkRed\"><b>✅ Проект будет засчитан, если вы преодолеете порог 0.1.</b></p>"
   ]
  },
  {
   "cell_type": "markdown",
   "metadata": {
    "deletable": true,
    "editable": true
   },
   "source": [
    "### Подсказки\n",
    "\n",
    "1. Обратите внимание на размер датасета.\n",
    "\n",
    "2. Не забывайте мониторить свои ресурсы: если выполняете long-running jobs, сохраняйте результаты в конце и освобождайте память. Помните, что простаивающие процессы, держащие в памяти гигабайты данных, могут отстреливаться.\n",
    "\n",
    "3. “Когда в руках молоток, все начинает напоминать гвоздь”. Думайте outside of the box."
   ]
  },
  {
   "cell_type": "markdown",
   "metadata": {
    "deletable": true,
    "editable": true
   },
   "source": [
    "\n",
    "<img width=\"60px\" align=\"left\" style=\"margin-right:20px\" src=\"http://data.newprolab.com/public-newprolab-com/npl_logo.png\"> <br /><b>Желаем вам удачи и успехов!</b>"
   ]
  },
  {
   "cell_type": "markdown",
   "metadata": {
    "collapsed": true,
    "deletable": true,
    "editable": true
   },
   "source": [
    "## Ваше решение здесь"
   ]
  },
  {
   "cell_type": "code",
   "execution_count": null,
   "metadata": {
    "collapsed": true,
    "deletable": true,
    "editable": true
   },
   "outputs": [],
   "source": []
  },
  {
   "cell_type": "code",
   "execution_count": null,
   "metadata": {
    "collapsed": true,
    "deletable": true,
    "editable": true
   },
   "outputs": [],
   "source": []
  },
  {
   "cell_type": "code",
   "execution_count": null,
   "metadata": {
    "collapsed": true,
    "deletable": true,
    "editable": true
   },
   "outputs": [],
   "source": []
  },
  {
   "cell_type": "code",
   "execution_count": null,
   "metadata": {
    "collapsed": true,
    "deletable": true,
    "editable": true
   },
   "outputs": [],
   "source": []
  },
  {
   "cell_type": "code",
   "execution_count": null,
   "metadata": {
    "collapsed": true,
    "deletable": true,
    "editable": true
   },
   "outputs": [],
   "source": []
  },
  {
   "cell_type": "code",
   "execution_count": null,
   "metadata": {
    "collapsed": true,
    "deletable": true,
    "editable": true
   },
   "outputs": [],
   "source": []
  },
  {
   "cell_type": "code",
   "execution_count": null,
   "metadata": {
    "collapsed": true,
    "deletable": true,
    "editable": true
   },
   "outputs": [],
   "source": []
  },
  {
   "cell_type": "code",
   "execution_count": null,
   "metadata": {
    "collapsed": true,
    "deletable": true,
    "editable": true
   },
   "outputs": [],
   "source": []
  },
  {
   "cell_type": "code",
   "execution_count": null,
   "metadata": {
    "collapsed": true,
    "deletable": true,
    "editable": true
   },
   "outputs": [],
   "source": []
  },
  {
   "cell_type": "code",
   "execution_count": null,
   "metadata": {
    "collapsed": true,
    "deletable": true,
    "editable": true
   },
   "outputs": [],
   "source": []
  },
  {
   "cell_type": "code",
   "execution_count": null,
   "metadata": {
    "collapsed": true,
    "deletable": true,
    "editable": true
   },
   "outputs": [],
   "source": []
  }
 ],
 "metadata": {
  "kernelspec": {
   "display_name": "Python 3",
   "language": "python",
   "name": "python3"
  },
  "language_info": {
   "codemirror_mode": {
    "name": "ipython",
    "version": 3
   },
   "file_extension": ".py",
   "mimetype": "text/x-python",
   "name": "python",
   "nbconvert_exporter": "python",
   "pygments_lexer": "ipython3",
   "version": "3.6.4"
  }
 },
 "nbformat": 4,
 "nbformat_minor": 2
}
